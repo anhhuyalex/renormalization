{
 "cells": [
  {
   "cell_type": "code",
   "execution_count": 1,
   "metadata": {
    "colab": {
     "base_uri": "https://localhost:8080/",
     "height": 1000
    },
    "colab_type": "code",
    "executionInfo": {
     "elapsed": 273179,
     "status": "ok",
     "timestamp": 1567051603659,
     "user": {
      "displayName": "Huy Nguyen",
      "photoUrl": "",
      "userId": "05352249580863404953"
     },
     "user_tz": -420
    },
    "id": "jymXhF9qsym5",
    "outputId": "a9bf86e1-d7a1-49d5-f26f-8a83f34af2bd"
   },
   "outputs": [
    {
     "name": "stdout",
     "output_type": "stream",
     "text": [
      "\u001b[K     |████████████████████████████████| 748.9MB 19kB/s \n",
      "\u001b[K     |████████████████████████████████| 8.8MB 30.2MB/s \n",
      "\u001b[?25hRequirement already up-to-date: scikit-learn in /usr/local/lib/python3.6/dist-packages (0.21.3)\n",
      "Requirement already satisfied, skipping upgrade: numpy>=1.11.0 in /usr/local/lib/python3.6/dist-packages (from scikit-learn) (1.16.4)\n",
      "Requirement already satisfied, skipping upgrade: scipy>=0.17.0 in /usr/local/lib/python3.6/dist-packages (from scikit-learn) (1.3.1)\n",
      "Requirement already satisfied, skipping upgrade: joblib>=0.11 in /usr/local/lib/python3.6/dist-packages (from scikit-learn) (0.13.2)\n",
      "Collecting git+https://github.com/anhhuyalex/Ax.git\n",
      "  Cloning https://github.com/anhhuyalex/Ax.git to /tmp/pip-req-build-i9qnzrup\n",
      "  Running command git clone -q https://github.com/anhhuyalex/Ax.git /tmp/pip-req-build-i9qnzrup\n",
      "Collecting botorch>=0.1.3 (from ax-platform==0.1.4)\n",
      "\u001b[?25l  Downloading https://files.pythonhosted.org/packages/9d/94/15177eb5675109ebf63f18047371320dde678648bb5cd5761325c772269f/botorch-0.1.3-py3-none-any.whl (169kB)\n",
      "\u001b[K     |████████████████████████████████| 174kB 2.6MB/s \n",
      "\u001b[?25hCollecting jinja2 (from ax-platform==0.1.4)\n",
      "\u001b[?25l  Downloading https://files.pythonhosted.org/packages/1d/e7/fd8b501e7a6dfe492a433deb7b9d833d39ca74916fa8bc63dd1a4947a671/Jinja2-2.10.1-py2.py3-none-any.whl (124kB)\n",
      "\u001b[K     |████████████████████████████████| 133kB 47.5MB/s \n",
      "\u001b[?25hCollecting pandas (from ax-platform==0.1.4)\n",
      "\u001b[?25l  Downloading https://files.pythonhosted.org/packages/73/9b/52e228545d14f14bb2a1622e225f38463c8726645165e1cb7dde95bfe6d4/pandas-0.25.1-cp36-cp36m-manylinux1_x86_64.whl (10.5MB)\n",
      "\u001b[K     |████████████████████████████████| 10.5MB 50.0MB/s \n",
      "\u001b[?25hCollecting scipy (from ax-platform==0.1.4)\n",
      "\u001b[?25l  Downloading https://files.pythonhosted.org/packages/29/50/a552a5aff252ae915f522e44642bb49a7b7b31677f9580cfd11bcc869976/scipy-1.3.1-cp36-cp36m-manylinux1_x86_64.whl (25.2MB)\n",
      "\u001b[K     |████████████████████████████████| 25.2MB 37.1MB/s \n",
      "\u001b[?25hCollecting sklearn (from ax-platform==0.1.4)\n",
      "  Downloading https://files.pythonhosted.org/packages/1e/7a/dbb3be0ce9bd5c8b7e3d87328e79063f8b263b2b1bfa4774cb1147bfcd3f/sklearn-0.0.tar.gz\n",
      "Collecting plotly (from ax-platform==0.1.4)\n",
      "\u001b[?25l  Downloading https://files.pythonhosted.org/packages/63/2b/4ca10995bfbdefd65c4238f9a2d3fde33705d18dd50914dd13302ec1daf1/plotly-4.1.0-py2.py3-none-any.whl (7.1MB)\n",
      "\u001b[K     |████████████████████████████████| 7.1MB 26.8MB/s \n",
      "\u001b[?25hCollecting torch>=1.2 (from botorch>=0.1.3->ax-platform==0.1.4)\n",
      "  Using cached https://files.pythonhosted.org/packages/30/57/d5cceb0799c06733eefce80c395459f28970ebb9e896846ce96ab579a3f1/torch-1.2.0-cp36-cp36m-manylinux1_x86_64.whl\n",
      "Collecting gpytorch>=0.3.5 (from botorch>=0.1.3->ax-platform==0.1.4)\n",
      "\u001b[?25l  Downloading https://files.pythonhosted.org/packages/a7/e4/e74dc12c6d07a5d8628dfb573b01297f7c2b44eec524be4b401c0782d39c/gpytorch-0.3.5.tar.gz (211kB)\n",
      "\u001b[K     |████████████████████████████████| 215kB 48.4MB/s \n",
      "\u001b[?25hCollecting MarkupSafe>=0.23 (from jinja2->ax-platform==0.1.4)\n",
      "  Downloading https://files.pythonhosted.org/packages/b2/5f/23e0023be6bb885d00ffbefad2942bc51a620328ee910f64abe5a8d18dd1/MarkupSafe-1.1.1-cp36-cp36m-manylinux1_x86_64.whl\n",
      "Collecting numpy>=1.13.3 (from pandas->ax-platform==0.1.4)\n",
      "\u001b[?25l  Downloading https://files.pythonhosted.org/packages/75/92/57179ed45307ec6179e344231c47da7f3f3da9e2eee5c8ab506bd279ce4e/numpy-1.17.1-cp36-cp36m-manylinux1_x86_64.whl (20.4MB)\n",
      "\u001b[K     |████████████████████████████████| 20.4MB 1.2MB/s \n",
      "\u001b[?25hCollecting python-dateutil>=2.6.1 (from pandas->ax-platform==0.1.4)\n",
      "\u001b[?25l  Downloading https://files.pythonhosted.org/packages/41/17/c62faccbfbd163c7f57f3844689e3a78bae1f403648a6afb1d0866d87fbb/python_dateutil-2.8.0-py2.py3-none-any.whl (226kB)\n",
      "\u001b[K     |████████████████████████████████| 235kB 49.7MB/s \n",
      "\u001b[?25hCollecting pytz>=2017.2 (from pandas->ax-platform==0.1.4)\n",
      "\u001b[?25l  Downloading https://files.pythonhosted.org/packages/87/76/46d697698a143e05f77bec5a526bf4e56a0be61d63425b68f4ba553b51f2/pytz-2019.2-py2.py3-none-any.whl (508kB)\n",
      "\u001b[K     |████████████████████████████████| 512kB 38.3MB/s \n",
      "\u001b[?25hCollecting scikit-learn (from sklearn->ax-platform==0.1.4)\n",
      "\u001b[?25l  Downloading https://files.pythonhosted.org/packages/a0/c5/d2238762d780dde84a20b8c761f563fe882b88c5a5fb03c056547c442a19/scikit_learn-0.21.3-cp36-cp36m-manylinux1_x86_64.whl (6.7MB)\n",
      "\u001b[K     |████████████████████████████████| 6.7MB 29.5MB/s \n",
      "\u001b[?25hCollecting retrying>=1.3.3 (from plotly->ax-platform==0.1.4)\n",
      "  Downloading https://files.pythonhosted.org/packages/44/ef/beae4b4ef80902f22e3af073397f079c96969c69b2c7d52a57ea9ae61c9d/retrying-1.3.3.tar.gz\n",
      "Collecting six (from plotly->ax-platform==0.1.4)\n",
      "  Downloading https://files.pythonhosted.org/packages/73/fb/00a976f728d0d1fecfe898238ce23f502a721c0ac0ecfedb80e0d88c64e9/six-1.12.0-py2.py3-none-any.whl\n",
      "Collecting joblib>=0.11 (from scikit-learn->sklearn->ax-platform==0.1.4)\n",
      "\u001b[?25l  Downloading https://files.pythonhosted.org/packages/cd/c1/50a758e8247561e58cb87305b1e90b171b8c767b15b12a1734001f41d356/joblib-0.13.2-py2.py3-none-any.whl (278kB)\n",
      "\u001b[K     |████████████████████████████████| 286kB 44.5MB/s \n",
      "\u001b[?25hBuilding wheels for collected packages: ax-platform, sklearn, gpytorch, retrying\n",
      "  Building wheel for ax-platform (setup.py) ... \u001b[?25l\u001b[?25hdone\n",
      "  Created wheel for ax-platform: filename=ax_platform-0.1.4-cp36-cp36m-linux_x86_64.whl size=918252 sha256=0ca21f5f43520dded6ca944cacd50c7610b8ff5a0f022597f266f9249b4a3bbe\n",
      "  Stored in directory: /tmp/pip-ephem-wheel-cache-tzu86igr/wheels/cf/31/a7/531e4606a720574d740203ff00855672549f50a7d1b9bc736e\n",
      "  Building wheel for sklearn (setup.py) ... \u001b[?25l\u001b[?25hdone\n",
      "  Created wheel for sklearn: filename=sklearn-0.0-py2.py3-none-any.whl size=1316 sha256=385cee9e04d0d9c0c11ff145685fb0fbb525f0c2238cce02cec67d75ac8314eb\n",
      "  Stored in directory: /root/.cache/pip/wheels/76/03/bb/589d421d27431bcd2c6da284d5f2286c8e3b2ea3cf1594c074\n",
      "  Building wheel for gpytorch (setup.py) ... \u001b[?25l\u001b[?25hdone\n",
      "  Created wheel for gpytorch: filename=gpytorch-0.3.5-py2.py3-none-any.whl size=349719 sha256=328f7e6f472716eefd2f8b7a6c79466fbfdb3e85ea4b3f6f3a47e337725fb555\n",
      "  Stored in directory: /root/.cache/pip/wheels/d6/31/88/c43a94e0073a54056ac663366f2195de36535b38a81a378196\n",
      "  Building wheel for retrying (setup.py) ... \u001b[?25l\u001b[?25hdone\n",
      "  Created wheel for retrying: filename=retrying-1.3.3-cp36-none-any.whl size=11432 sha256=6314e09c1fdbe1c96f2d395cef67a72c70fc6013ae11f5c09c5cb4c2fcba4f13\n",
      "  Stored in directory: /root/.cache/pip/wheels/d7/a9/33/acc7b709e2a35caa7d4cae442f6fe6fbf2c43f80823d46460c\n",
      "Successfully built ax-platform sklearn gpytorch retrying\n",
      "\u001b[31mERROR: google-colab 1.0.0 has requirement pandas~=0.24.0, but you'll have pandas 0.25.1 which is incompatible.\u001b[0m\n",
      "\u001b[31mERROR: datascience 0.10.6 has requirement folium==0.2.1, but you'll have folium 0.8.3 which is incompatible.\u001b[0m\n",
      "\u001b[31mERROR: albumentations 0.1.12 has requirement imgaug<0.2.7,>=0.2.5, but you'll have imgaug 0.2.9 which is incompatible.\u001b[0m\n",
      "Installing collected packages: numpy, scipy, torch, gpytorch, botorch, MarkupSafe, jinja2, six, python-dateutil, pytz, pandas, joblib, scikit-learn, sklearn, retrying, plotly, ax-platform\n",
      "Successfully installed MarkupSafe-1.1.1 ax-platform-0.1.4 botorch-0.1.3 gpytorch-0.3.5 jinja2-2.10.1 joblib-0.13.2 numpy-1.17.1 pandas-0.25.1 plotly-4.1.0 python-dateutil-2.8.0 pytz-2019.2 retrying-1.3.3 scikit-learn-0.21.3 scipy-1.3.1 six-1.12.0 sklearn-0.0 torch-1.2.0\n"
     ]
    },
    {
     "data": {
      "application/vnd.colab-display-data+json": {
       "pip_warning": {
        "packages": [
         "dateutil",
         "numpy",
         "pandas",
         "pytz",
         "six"
        ]
       }
      }
     },
     "metadata": {
      "tags": []
     },
     "output_type": "display_data"
    },
    {
     "name": "stdout",
     "output_type": "stream",
     "text": [
      "/content\n",
      "/content\n",
      "Cloning into 'botorch'...\n",
      "remote: Enumerating objects: 230, done.\u001b[K\n",
      "remote: Counting objects: 100% (230/230), done.\u001b[K\n",
      "remote: Compressing objects: 100% (158/158), done.\u001b[K\n",
      "remote: Total 5926 (delta 87), reused 112 (delta 34), pack-reused 5696\u001b[K\n",
      "Receiving objects: 100% (5926/5926), 10.52 MiB | 6.87 MiB/s, done.\n",
      "Resolving deltas: 100% (3785/3785), done.\n",
      "/content/botorch\n",
      "Obtaining file:///content/botorch\n",
      "Collecting torch>=1.2 (from botorch==0.1.3)\n",
      "  Using cached https://files.pythonhosted.org/packages/30/57/d5cceb0799c06733eefce80c395459f28970ebb9e896846ce96ab579a3f1/torch-1.2.0-cp36-cp36m-manylinux1_x86_64.whl\n",
      "Collecting gpytorch>=0.3.5 (from botorch==0.1.3)\n",
      "Collecting scipy (from botorch==0.1.3)\n",
      "  Using cached https://files.pythonhosted.org/packages/29/50/a552a5aff252ae915f522e44642bb49a7b7b31677f9580cfd11bcc869976/scipy-1.3.1-cp36-cp36m-manylinux1_x86_64.whl\n",
      "Collecting numpy (from torch>=1.2->botorch==0.1.3)\n",
      "  Using cached https://files.pythonhosted.org/packages/75/92/57179ed45307ec6179e344231c47da7f3f3da9e2eee5c8ab506bd279ce4e/numpy-1.17.1-cp36-cp36m-manylinux1_x86_64.whl\n",
      "\u001b[31mERROR: google-colab 1.0.0 has requirement pandas~=0.24.0, but you'll have pandas 0.25.1 which is incompatible.\u001b[0m\n",
      "\u001b[31mERROR: datascience 0.10.6 has requirement folium==0.2.1, but you'll have folium 0.8.3 which is incompatible.\u001b[0m\n",
      "\u001b[31mERROR: albumentations 0.1.12 has requirement imgaug<0.2.7,>=0.2.5, but you'll have imgaug 0.2.9 which is incompatible.\u001b[0m\n",
      "Installing collected packages: numpy, torch, gpytorch, scipy, botorch\n",
      "  Found existing installation: botorch 0.1.3\n",
      "    Uninstalling botorch-0.1.3:\n",
      "      Successfully uninstalled botorch-0.1.3\n",
      "  Running setup.py develop for botorch\n",
      "  Rolling back uninstall of botorch\n",
      "  Moving to /usr/local/lib/python3.6/dist-packages/botorch-0.1.3.dist-info/\n",
      "   from /usr/local/lib/python3.6/dist-packages/~otorch-0.1.3.dist-info\n",
      "  Moving to /usr/local/lib/python3.6/dist-packages/botorch/\n",
      "   from /usr/local/lib/python3.6/dist-packages/~otorch\n",
      "  Moving to /usr/local/lib/python3.6/dist-packages/test/__init__.py\n",
      "   from /tmp/pip-uninstall-38ehvjd7/__init__.py\n",
      "  Moving to /usr/local/lib/python3.6/dist-packages/test/__pycache__/\n",
      "   from /usr/local/lib/python3.6/dist-packages/test/~_pycache__\n",
      "  Moving to /usr/local/lib/python3.6/dist-packages/test/acquisition/\n",
      "   from /usr/local/lib/python3.6/dist-packages/test/~cquisition\n",
      "  Moving to /usr/local/lib/python3.6/dist-packages/test/exceptions/\n",
      "   from /usr/local/lib/python3.6/dist-packages/test/~xceptions\n",
      "  Moving to /usr/local/lib/python3.6/dist-packages/test/models/__init__.py\n",
      "   from /tmp/pip-uninstall-38ehvjd7/models/__init__.py\n",
      "  Moving to /usr/local/lib/python3.6/dist-packages/test/models/__pycache__/__init__.cpython-36.pyc\n",
      "   from /tmp/pip-uninstall-38ehvjd7/models/__pycache__/__init__.cpython-36.pyc\n",
      "  Moving to /usr/local/lib/python3.6/dist-packages/test/models/__pycache__/test_converter.cpython-36.pyc\n",
      "   from /tmp/pip-uninstall-38ehvjd7/models/__pycache__/test_converter.cpython-36.pyc\n",
      "  Moving to /usr/local/lib/python3.6/dist-packages/test/models/__pycache__/test_gp_regression.cpython-36.pyc\n",
      "   from /tmp/pip-uninstall-38ehvjd7/models/__pycache__/test_gp_regression.cpython-36.pyc\n",
      "  Moving to /usr/local/lib/python3.6/dist-packages/test/models/__pycache__/test_gpytorch.cpython-36.pyc\n",
      "   from /tmp/pip-uninstall-38ehvjd7/models/__pycache__/test_gpytorch.cpython-36.pyc\n",
      "  Moving to /usr/local/lib/python3.6/dist-packages/test/models/__pycache__/test_model.cpython-36.pyc\n",
      "   from /tmp/pip-uninstall-38ehvjd7/models/__pycache__/test_model.cpython-36.pyc\n",
      "  Moving to /usr/local/lib/python3.6/dist-packages/test/models/__pycache__/test_model_list_gp_regression.cpython-36.pyc\n",
      "   from /tmp/pip-uninstall-38ehvjd7/models/__pycache__/test_model_list_gp_regression.cpython-36.pyc\n",
      "  Moving to /usr/local/lib/python3.6/dist-packages/test/models/__pycache__/test_multitask.cpython-36.pyc\n",
      "   from /tmp/pip-uninstall-38ehvjd7/models/__pycache__/test_multitask.cpython-36.pyc\n",
      "  Moving to /usr/local/lib/python3.6/dist-packages/test/models/__pycache__/test_utils.cpython-36.pyc\n",
      "   from /tmp/pip-uninstall-38ehvjd7/models/__pycache__/test_utils.cpython-36.pyc\n",
      "  Moving to /usr/local/lib/python3.6/dist-packages/test/models/fidelity/\n",
      "   from /usr/local/lib/python3.6/dist-packages/test/models/~idelity\n",
      "  Moving to /usr/local/lib/python3.6/dist-packages/test/models/fidelity_kernels/\n",
      "   from /usr/local/lib/python3.6/dist-packages/test/models/~idelity_kernels\n",
      "  Moving to /usr/local/lib/python3.6/dist-packages/test/models/test_converter.py\n",
      "   from /tmp/pip-uninstall-38ehvjd7/models/test_converter.py\n",
      "  Moving to /usr/local/lib/python3.6/dist-packages/test/models/test_gp_regression.py\n",
      "   from /tmp/pip-uninstall-38ehvjd7/models/test_gp_regression.py\n",
      "  Moving to /usr/local/lib/python3.6/dist-packages/test/models/test_gpytorch.py\n",
      "   from /tmp/pip-uninstall-38ehvjd7/models/test_gpytorch.py\n",
      "  Moving to /usr/local/lib/python3.6/dist-packages/test/models/test_model.py\n",
      "   from /tmp/pip-uninstall-38ehvjd7/models/test_model.py\n",
      "  Moving to /usr/local/lib/python3.6/dist-packages/test/models/test_model_list_gp_regression.py\n",
      "   from /tmp/pip-uninstall-38ehvjd7/models/test_model_list_gp_regression.py\n",
      "  Moving to /usr/local/lib/python3.6/dist-packages/test/models/test_multitask.py\n",
      "   from /tmp/pip-uninstall-38ehvjd7/models/test_multitask.py\n",
      "  Moving to /usr/local/lib/python3.6/dist-packages/test/models/test_utils.py\n",
      "   from /tmp/pip-uninstall-38ehvjd7/models/test_utils.py\n",
      "  Moving to /usr/local/lib/python3.6/dist-packages/test/optim/\n",
      "   from /usr/local/lib/python3.6/dist-packages/test/~ptim\n",
      "  Moving to /usr/local/lib/python3.6/dist-packages/test/posteriors/\n",
      "   from /usr/local/lib/python3.6/dist-packages/test/~osteriors\n",
      "  Moving to /usr/local/lib/python3.6/dist-packages/test/sampling/\n",
      "   from /usr/local/lib/python3.6/dist-packages/test/~ampling\n",
      "  Moving to /usr/local/lib/python3.6/dist-packages/test/test_cross_validation.py\n",
      "   from /tmp/pip-uninstall-38ehvjd7/test_cross_validation.py\n",
      "  Moving to /usr/local/lib/python3.6/dist-packages/test/test_end_to_end.py\n",
      "   from /tmp/pip-uninstall-38ehvjd7/test_end_to_end.py\n",
      "  Moving to /usr/local/lib/python3.6/dist-packages/test/test_fit.py\n",
      "   from /tmp/pip-uninstall-38ehvjd7/test_fit.py\n",
      "  Moving to /usr/local/lib/python3.6/dist-packages/test/test_functions/\n",
      "   from /usr/local/lib/python3.6/dist-packages/test/~est_functions\n",
      "  Moving to /usr/local/lib/python3.6/dist-packages/test/test_gen.py\n",
      "   from /tmp/pip-uninstall-38ehvjd7/test_gen.py\n",
      "  Moving to /usr/local/lib/python3.6/dist-packages/test/test_settings.py\n",
      "   from /tmp/pip-uninstall-38ehvjd7/test_settings.py\n",
      "  Moving to /usr/local/lib/python3.6/dist-packages/test/utils/__init__.py\n",
      "   from /tmp/pip-uninstall-38ehvjd7/utils/__init__.py\n",
      "  Moving to /usr/local/lib/python3.6/dist-packages/test/utils/__pycache__/__init__.cpython-36.pyc\n",
      "   from /tmp/pip-uninstall-38ehvjd7/utils/__pycache__/__init__.cpython-36.pyc\n",
      "  Moving to /usr/local/lib/python3.6/dist-packages/test/utils/__pycache__/test_constraints.cpython-36.pyc\n",
      "   from /tmp/pip-uninstall-38ehvjd7/utils/__pycache__/test_constraints.cpython-36.pyc\n",
      "  Moving to /usr/local/lib/python3.6/dist-packages/test/utils/__pycache__/test_mock.cpython-36.pyc\n",
      "   from /tmp/pip-uninstall-38ehvjd7/utils/__pycache__/test_mock.cpython-36.pyc\n",
      "  Moving to /usr/local/lib/python3.6/dist-packages/test/utils/__pycache__/test_objective.cpython-36.pyc\n",
      "   from /tmp/pip-uninstall-38ehvjd7/utils/__pycache__/test_objective.cpython-36.pyc\n",
      "  Moving to /usr/local/lib/python3.6/dist-packages/test/utils/__pycache__/test_sampling.cpython-36.pyc\n",
      "   from /tmp/pip-uninstall-38ehvjd7/utils/__pycache__/test_sampling.cpython-36.pyc\n",
      "  Moving to /usr/local/lib/python3.6/dist-packages/test/utils/__pycache__/test_transforms.cpython-36.pyc\n",
      "   from /tmp/pip-uninstall-38ehvjd7/utils/__pycache__/test_transforms.cpython-36.pyc\n",
      "  Moving to /usr/local/lib/python3.6/dist-packages/test/utils/test_constraints.py\n",
      "   from /tmp/pip-uninstall-38ehvjd7/utils/test_constraints.py\n",
      "  Moving to /usr/local/lib/python3.6/dist-packages/test/utils/test_mock.py\n",
      "   from /tmp/pip-uninstall-38ehvjd7/utils/test_mock.py\n",
      "  Moving to /usr/local/lib/python3.6/dist-packages/test/utils/test_objective.py\n",
      "   from /tmp/pip-uninstall-38ehvjd7/utils/test_objective.py\n",
      "  Moving to /usr/local/lib/python3.6/dist-packages/test/utils/test_sampling.py\n",
      "   from /tmp/pip-uninstall-38ehvjd7/utils/test_sampling.py\n",
      "  Moving to /usr/local/lib/python3.6/dist-packages/test/utils/test_transforms.py\n",
      "   from /tmp/pip-uninstall-38ehvjd7/utils/test_transforms.py\n",
      "\u001b[31mERROR: Command errored out with exit status 1: /usr/bin/python3 -c 'import sys, setuptools, tokenize; sys.argv[0] = '\"'\"'/content/botorch/setup.py'\"'\"'; __file__='\"'\"'/content/botorch/setup.py'\"'\"';f=getattr(tokenize, '\"'\"'open'\"'\"', open)(__file__);code=f.read().replace('\"'\"'\\r\\n'\"'\"', '\"'\"'\\n'\"'\"');f.close();exec(compile(code, __file__, '\"'\"'exec'\"'\"'))' develop --no-deps --home=/tmp/pip-target-k6wia4n8 Check the logs for full command output.\u001b[0m\n"
     ]
    }
   ],
   "source": [
    "!pip install --upgrade -q torch==1.2.0 torchvision\n",
    "\n",
    "!pip install -U scikit-learn\n",
    "!pip install -U --target=/usr/local/lib/python3.6/dist-packages git+https://github.com/anhhuyalex/Ax.git\n",
    "  \n",
    "%cd /content\n",
    "# %cd /usr/local/lib/python3.6/dist-packages\n",
    "!rm -rf botorch\n",
    "%cd /content\n",
    "!git clone https://github.com/pytorch/botorch.git\n",
    "%cd botorch\n",
    "!pip install -U --target=/usr/local/lib/python3.6/dist-packages -e . \n",
    "\n"
   ]
  },
  {
   "cell_type": "code",
   "execution_count": 0,
   "metadata": {
    "colab": {},
    "colab_type": "code",
    "id": "A_wAj6vUdOya"
   },
   "outputs": [],
   "source": [
    "%cd /content/\n",
    "!apt-get install -y -qq software-properties-common python-software-properties module-init-tools\n",
    "!add-apt-repository -y ppa:alessandro-strada/ppa 2>&1 > /dev/null\n",
    "!apt-get update -qq 2>&1 > /dev/null\n",
    "!apt-get -y install -qq google-drive-ocamlfuse fuse\n",
    "from google.colab import auth\n",
    "auth.authenticate_user()\n",
    "from oauth2client.client import GoogleCredentials\n",
    "creds = GoogleCredentials.get_application_default()\n",
    "import getpass\n",
    "!google-drive-ocamlfuse -headless -id={creds.client_id} -secret={creds.client_secret} < /dev/null 2>&1 | grep URL\n",
    "vcode = getpass.getpass()\n",
    "!echo {vcode} | google-drive-ocamlfuse -headless -id={creds.client_id} -secret={creds.client_secret}"
   ]
  },
  {
   "cell_type": "code",
   "execution_count": 2,
   "metadata": {
    "colab": {
     "base_uri": "https://localhost:8080/",
     "height": 54
    },
    "colab_type": "code",
    "executionInfo": {
     "elapsed": 10837,
     "status": "ok",
     "timestamp": 1567049133532,
     "user": {
      "displayName": "Huy Nguyen",
      "photoUrl": "",
      "userId": "05352249580863404953"
     },
     "user_tz": -420
    },
    "id": "o2AjMK7Oxq4X",
    "outputId": "e24fd253-ea4d-48ad-b34a-4895c839fd0b"
   },
   "outputs": [
    {
     "name": "stdout",
     "output_type": "stream",
     "text": [
      "/content/drive/Year 4: Synthesis/NS162: Statistical Mechanics/Renormalization Research Project/renormalization/supervised_convnet/t_2.269/3x3\n"
     ]
    }
   ],
   "source": [
    "!mkdir -p drive\n",
    "!google-drive-ocamlfuse drive\n",
    "%cd /content/drive/Year\\ 4\\:\\ Synthesis/NS162\\:\\ Statistical\\ Mechanics/Renormalization\\ Research\\ Project/renormalization/supervised_convnet/t_2.269/3x3\n"
   ]
  },
  {
   "cell_type": "code",
   "execution_count": 6,
   "metadata": {
    "colab": {
     "base_uri": "https://localhost:8080/",
     "height": 1000
    },
    "colab_type": "code",
    "executionInfo": {
     "elapsed": 124127,
     "status": "ok",
     "timestamp": 1567049778960,
     "user": {
      "displayName": "Huy Nguyen",
      "photoUrl": "",
      "userId": "05352249580863404953"
     },
     "user_tz": -420
    },
    "id": "eabf-IYmb3Vm",
    "outputId": "bf842066-8abb-4d86-8f0b-407a7101600f"
   },
   "outputs": [
    {
     "name": "stdout",
     "output_type": "stream",
     "text": [
      "Collecting git+https://github.com/anhhuyalex/Ax.git\n",
      "  Cloning https://github.com/anhhuyalex/Ax.git to /tmp/pip-req-build-764o_okx\n",
      "  Running command git clone -q https://github.com/anhhuyalex/Ax.git /tmp/pip-req-build-764o_okx\n",
      "Collecting botorch>=0.1.3 (from ax-platform==0.1.4)\n",
      "  Using cached https://files.pythonhosted.org/packages/9d/94/15177eb5675109ebf63f18047371320dde678648bb5cd5761325c772269f/botorch-0.1.3-py3-none-any.whl\n",
      "Collecting jinja2 (from ax-platform==0.1.4)\n",
      "\u001b[?25l  Downloading https://files.pythonhosted.org/packages/1d/e7/fd8b501e7a6dfe492a433deb7b9d833d39ca74916fa8bc63dd1a4947a671/Jinja2-2.10.1-py2.py3-none-any.whl (124kB)\n",
      "\u001b[K     |████████████████████████████████| 133kB 3.5MB/s \n",
      "\u001b[?25hCollecting pandas (from ax-platform==0.1.4)\n",
      "\u001b[?25l  Downloading https://files.pythonhosted.org/packages/73/9b/52e228545d14f14bb2a1622e225f38463c8726645165e1cb7dde95bfe6d4/pandas-0.25.1-cp36-cp36m-manylinux1_x86_64.whl (10.5MB)\n",
      "\u001b[K     |████████████████████████████████| 10.5MB 44.5MB/s \n",
      "\u001b[?25hCollecting scipy (from ax-platform==0.1.4)\n",
      "  Using cached https://files.pythonhosted.org/packages/29/50/a552a5aff252ae915f522e44642bb49a7b7b31677f9580cfd11bcc869976/scipy-1.3.1-cp36-cp36m-manylinux1_x86_64.whl\n",
      "Collecting sklearn (from ax-platform==0.1.4)\n",
      "  Downloading https://files.pythonhosted.org/packages/1e/7a/dbb3be0ce9bd5c8b7e3d87328e79063f8b263b2b1bfa4774cb1147bfcd3f/sklearn-0.0.tar.gz\n",
      "Collecting plotly (from ax-platform==0.1.4)\n",
      "\u001b[?25l  Downloading https://files.pythonhosted.org/packages/63/2b/4ca10995bfbdefd65c4238f9a2d3fde33705d18dd50914dd13302ec1daf1/plotly-4.1.0-py2.py3-none-any.whl (7.1MB)\n",
      "\u001b[K     |████████████████████████████████| 7.1MB 28.5MB/s \n",
      "\u001b[?25hCollecting torch>=1.2 (from botorch>=0.1.3->ax-platform==0.1.4)\n",
      "  Using cached https://files.pythonhosted.org/packages/30/57/d5cceb0799c06733eefce80c395459f28970ebb9e896846ce96ab579a3f1/torch-1.2.0-cp36-cp36m-manylinux1_x86_64.whl\n",
      "Collecting gpytorch>=0.3.5 (from botorch>=0.1.3->ax-platform==0.1.4)\n",
      "Collecting MarkupSafe>=0.23 (from jinja2->ax-platform==0.1.4)\n",
      "  Downloading https://files.pythonhosted.org/packages/b2/5f/23e0023be6bb885d00ffbefad2942bc51a620328ee910f64abe5a8d18dd1/MarkupSafe-1.1.1-cp36-cp36m-manylinux1_x86_64.whl\n",
      "Collecting pytz>=2017.2 (from pandas->ax-platform==0.1.4)\n",
      "\u001b[?25l  Downloading https://files.pythonhosted.org/packages/87/76/46d697698a143e05f77bec5a526bf4e56a0be61d63425b68f4ba553b51f2/pytz-2019.2-py2.py3-none-any.whl (508kB)\n",
      "\u001b[K     |████████████████████████████████| 512kB 36.8MB/s \n",
      "\u001b[?25hCollecting python-dateutil>=2.6.1 (from pandas->ax-platform==0.1.4)\n",
      "\u001b[?25l  Downloading https://files.pythonhosted.org/packages/41/17/c62faccbfbd163c7f57f3844689e3a78bae1f403648a6afb1d0866d87fbb/python_dateutil-2.8.0-py2.py3-none-any.whl (226kB)\n",
      "\u001b[K     |████████████████████████████████| 235kB 19.6MB/s \n",
      "\u001b[?25hCollecting numpy>=1.13.3 (from pandas->ax-platform==0.1.4)\n",
      "  Using cached https://files.pythonhosted.org/packages/75/92/57179ed45307ec6179e344231c47da7f3f3da9e2eee5c8ab506bd279ce4e/numpy-1.17.1-cp36-cp36m-manylinux1_x86_64.whl\n",
      "Collecting scikit-learn (from sklearn->ax-platform==0.1.4)\n",
      "\u001b[?25l  Downloading https://files.pythonhosted.org/packages/a0/c5/d2238762d780dde84a20b8c761f563fe882b88c5a5fb03c056547c442a19/scikit_learn-0.21.3-cp36-cp36m-manylinux1_x86_64.whl (6.7MB)\n",
      "\u001b[K     |████████████████████████████████| 6.7MB 16.4MB/s \n",
      "\u001b[?25hCollecting six (from plotly->ax-platform==0.1.4)\n",
      "  Downloading https://files.pythonhosted.org/packages/73/fb/00a976f728d0d1fecfe898238ce23f502a721c0ac0ecfedb80e0d88c64e9/six-1.12.0-py2.py3-none-any.whl\n",
      "Collecting retrying>=1.3.3 (from plotly->ax-platform==0.1.4)\n",
      "  Downloading https://files.pythonhosted.org/packages/44/ef/beae4b4ef80902f22e3af073397f079c96969c69b2c7d52a57ea9ae61c9d/retrying-1.3.3.tar.gz\n",
      "Collecting joblib>=0.11 (from scikit-learn->sklearn->ax-platform==0.1.4)\n",
      "\u001b[?25l  Downloading https://files.pythonhosted.org/packages/cd/c1/50a758e8247561e58cb87305b1e90b171b8c767b15b12a1734001f41d356/joblib-0.13.2-py2.py3-none-any.whl (278kB)\n",
      "\u001b[K     |████████████████████████████████| 286kB 44.2MB/s \n",
      "\u001b[?25hBuilding wheels for collected packages: ax-platform, sklearn, retrying\n",
      "  Building wheel for ax-platform (setup.py) ... \u001b[?25l\u001b[?25hdone\n",
      "  Created wheel for ax-platform: filename=ax_platform-0.1.4-cp36-cp36m-linux_x86_64.whl size=918238 sha256=4b0f934fd9dc709fda15ab27d41c7d14ab5951dac4202f4ee7f63b224ab61b25\n",
      "  Stored in directory: /tmp/pip-ephem-wheel-cache-2pnse48e/wheels/cf/31/a7/531e4606a720574d740203ff00855672549f50a7d1b9bc736e\n",
      "  Building wheel for sklearn (setup.py) ... \u001b[?25l\u001b[?25hdone\n",
      "  Created wheel for sklearn: filename=sklearn-0.0-py2.py3-none-any.whl size=1316 sha256=d958da0837c253c56ece242131ecb0ff34c34d4f5d4311e23af242696e68b5e9\n",
      "  Stored in directory: /root/.cache/pip/wheels/76/03/bb/589d421d27431bcd2c6da284d5f2286c8e3b2ea3cf1594c074\n",
      "  Building wheel for retrying (setup.py) ... \u001b[?25l\u001b[?25hdone\n",
      "  Created wheel for retrying: filename=retrying-1.3.3-cp36-none-any.whl size=11432 sha256=dc4be06b9c7709567a6481810d6e8a9fc023f7268017305960ffc335692b608a\n",
      "  Stored in directory: /root/.cache/pip/wheels/d7/a9/33/acc7b709e2a35caa7d4cae442f6fe6fbf2c43f80823d46460c\n",
      "Successfully built ax-platform sklearn retrying\n",
      "\u001b[31mERROR: google-colab 1.0.0 has requirement pandas~=0.24.0, but you'll have pandas 0.25.1 which is incompatible.\u001b[0m\n",
      "\u001b[31mERROR: datascience 0.10.6 has requirement folium==0.2.1, but you'll have folium 0.8.3 which is incompatible.\u001b[0m\n",
      "\u001b[31mERROR: albumentations 0.1.12 has requirement imgaug<0.2.7,>=0.2.5, but you'll have imgaug 0.2.9 which is incompatible.\u001b[0m\n",
      "Installing collected packages: numpy, torch, scipy, gpytorch, botorch, MarkupSafe, jinja2, pytz, six, python-dateutil, pandas, joblib, scikit-learn, sklearn, retrying, plotly, ax-platform\n",
      "Successfully installed MarkupSafe-1.1.1 ax-platform-0.1.4 botorch-0.1.3 gpytorch-0.3.5 jinja2-2.10.1 joblib-0.13.2 numpy-1.17.1 pandas-0.25.1 plotly-4.1.0 python-dateutil-2.8.0 pytz-2019.2 retrying-1.3.3 scikit-learn-0.21.3 scipy-1.3.1 six-1.12.0 sklearn-0.0 torch-1.2.0\n",
      "\u001b[33mWARNING: Target directory /usr/local/lib/python3.6/dist-packages/gpytorch already exists. Specify --upgrade to force replacement.\u001b[0m\n",
      "\u001b[33mWARNING: Target directory /usr/local/lib/python3.6/dist-packages/__pycache__ already exists. Specify --upgrade to force replacement.\u001b[0m\n",
      "\u001b[33mWARNING: Target directory /usr/local/lib/python3.6/dist-packages/ax already exists. Specify --upgrade to force replacement.\u001b[0m\n",
      "\u001b[33mWARNING: Target directory /usr/local/lib/python3.6/dist-packages/markupsafe already exists. Specify --upgrade to force replacement.\u001b[0m\n",
      "\u001b[33mWARNING: Target directory /usr/local/lib/python3.6/dist-packages/retrying-1.3.3.dist-info already exists. Specify --upgrade to force replacement.\u001b[0m\n",
      "\u001b[33mWARNING: Target directory /usr/local/lib/python3.6/dist-packages/numpy already exists. Specify --upgrade to force replacement.\u001b[0m\n",
      "\u001b[33mWARNING: Target directory /usr/local/lib/python3.6/dist-packages/retrying.py already exists. Specify --upgrade to force replacement.\u001b[0m\n",
      "\u001b[33mWARNING: Target directory /usr/local/lib/python3.6/dist-packages/scipy already exists. Specify --upgrade to force replacement.\u001b[0m\n",
      "\u001b[33mWARNING: Target directory /usr/local/lib/python3.6/dist-packages/pytz already exists. Specify --upgrade to force replacement.\u001b[0m\n",
      "\u001b[33mWARNING: Target directory /usr/local/lib/python3.6/dist-packages/jinja2 already exists. Specify --upgrade to force replacement.\u001b[0m\n",
      "\u001b[33mWARNING: Target directory /usr/local/lib/python3.6/dist-packages/dateutil already exists. Specify --upgrade to force replacement.\u001b[0m\n",
      "\u001b[33mWARNING: Target directory /usr/local/lib/python3.6/dist-packages/Jinja2-2.10.1.dist-info already exists. Specify --upgrade to force replacement.\u001b[0m\n",
      "\u001b[33mWARNING: Target directory /usr/local/lib/python3.6/dist-packages/joblib already exists. Specify --upgrade to force replacement.\u001b[0m\n",
      "\u001b[33mWARNING: Target directory /usr/local/lib/python3.6/dist-packages/gpytorch-0.3.5.dist-info already exists. Specify --upgrade to force replacement.\u001b[0m\n",
      "\u001b[33mWARNING: Target directory /usr/local/lib/python3.6/dist-packages/_plotly_utils already exists. Specify --upgrade to force replacement.\u001b[0m\n",
      "\u001b[33mWARNING: Target directory /usr/local/lib/python3.6/dist-packages/scipy-1.3.1.dist-info already exists. Specify --upgrade to force replacement.\u001b[0m\n",
      "\u001b[33mWARNING: Target directory /usr/local/lib/python3.6/dist-packages/plotlywidget already exists. Specify --upgrade to force replacement.\u001b[0m\n",
      "\u001b[33mWARNING: Target directory /usr/local/lib/python3.6/dist-packages/torch already exists. Specify --upgrade to force replacement.\u001b[0m\n",
      "\u001b[33mWARNING: Target directory /usr/local/lib/python3.6/dist-packages/caffe2 already exists. Specify --upgrade to force replacement.\u001b[0m\n",
      "\u001b[33mWARNING: Target directory /usr/local/lib/python3.6/dist-packages/sklearn already exists. Specify --upgrade to force replacement.\u001b[0m\n",
      "\u001b[33mWARNING: Target directory /usr/local/lib/python3.6/dist-packages/pandas already exists. Specify --upgrade to force replacement.\u001b[0m\n",
      "\u001b[33mWARNING: Target directory /usr/local/lib/python3.6/dist-packages/six-1.12.0.dist-info already exists. Specify --upgrade to force replacement.\u001b[0m\n",
      "\u001b[33mWARNING: Target directory /usr/local/lib/python3.6/dist-packages/test already exists. Specify --upgrade to force replacement.\u001b[0m\n",
      "\u001b[33mWARNING: Target directory /usr/local/lib/python3.6/dist-packages/botorch already exists. Specify --upgrade to force replacement.\u001b[0m\n",
      "\u001b[33mWARNING: Target directory /usr/local/lib/python3.6/dist-packages/six.py already exists. Specify --upgrade to force replacement.\u001b[0m\n",
      "\u001b[33mWARNING: Target directory /usr/local/lib/python3.6/dist-packages/MarkupSafe-1.1.1.dist-info already exists. Specify --upgrade to force replacement.\u001b[0m\n",
      "\u001b[33mWARNING: Target directory /usr/local/lib/python3.6/dist-packages/botorch-0.1.3.dist-info already exists. Specify --upgrade to force replacement.\u001b[0m\n",
      "\u001b[33mWARNING: Target directory /usr/local/lib/python3.6/dist-packages/torch-1.2.0.dist-info already exists. Specify --upgrade to force replacement.\u001b[0m\n",
      "\u001b[33mWARNING: Target directory /usr/local/lib/python3.6/dist-packages/joblib-0.13.2.dist-info already exists. Specify --upgrade to force replacement.\u001b[0m\n",
      "\u001b[33mWARNING: Target directory /usr/local/lib/python3.6/dist-packages/plotly already exists. Specify --upgrade to force replacement.\u001b[0m\n",
      "\u001b[33mWARNING: Target directory /usr/local/lib/python3.6/dist-packages/sklearn-0.0.dist-info already exists. Specify --upgrade to force replacement.\u001b[0m\n",
      "\u001b[33mWARNING: Target directory /usr/local/lib/python3.6/dist-packages/scikit_learn-0.21.3.dist-info already exists. Specify --upgrade to force replacement.\u001b[0m\n",
      "\u001b[33mWARNING: Target directory /usr/local/lib/python3.6/dist-packages/bin already exists. Specify --upgrade to force replacement.\u001b[0m\n"
     ]
    },
    {
     "data": {
      "application/vnd.colab-display-data+json": {
       "pip_warning": {
        "packages": [
         "_plotly_utils",
         "ax",
         "botorch",
         "caffe2",
         "dateutil",
         "gpytorch",
         "jinja2",
         "joblib",
         "markupsafe",
         "numpy",
         "pandas",
         "plotly",
         "pytz",
         "retrying",
         "scipy",
         "six",
         "sklearn",
         "torch"
        ]
       }
      }
     },
     "metadata": {
      "tags": []
     },
     "output_type": "display_data"
    }
   ],
   "source": []
  },
  {
   "cell_type": "code",
   "execution_count": 1,
   "metadata": {
    "colab": {
     "base_uri": "https://localhost:8080/",
     "height": 368
    },
    "colab_type": "code",
    "executionInfo": {
     "elapsed": 3687,
     "status": "error",
     "timestamp": 1567049941037,
     "user": {
      "displayName": "Huy Nguyen",
      "photoUrl": "",
      "userId": "05352249580863404953"
     },
     "user_tz": -420
    },
    "id": "4RQS6gpLaAL3",
    "outputId": "29a11a53-8d72-4891-849d-ff600c81fd20"
   },
   "outputs": [
    {
     "ename": "ModuleNotFoundError",
     "evalue": "ignored",
     "output_type": "error",
     "traceback": [
      "\u001b[0;31m---------------------------------------------------------------------------\u001b[0m",
      "\u001b[0;31mModuleNotFoundError\u001b[0m                       Traceback (most recent call last)",
      "\u001b[0;32m<ipython-input-1-c7a758d857bb>\u001b[0m in \u001b[0;36m<module>\u001b[0;34m()\u001b[0m\n\u001b[1;32m     11\u001b[0m \u001b[0;32mimport\u001b[0m \u001b[0mtime\u001b[0m\u001b[0;34m\u001b[0m\u001b[0;34m\u001b[0m\u001b[0m\n\u001b[1;32m     12\u001b[0m \u001b[0msys\u001b[0m\u001b[0;34m.\u001b[0m\u001b[0mpath\u001b[0m\u001b[0;34m.\u001b[0m\u001b[0minsert\u001b[0m\u001b[0;34m(\u001b[0m\u001b[0;36m0\u001b[0m\u001b[0;34m,\u001b[0m \u001b[0;34m\"../../\"\u001b[0m\u001b[0;34m)\u001b[0m\u001b[0;34m\u001b[0m\u001b[0;34m\u001b[0m\u001b[0m\n\u001b[0;32m---> 13\u001b[0;31m \u001b[0;32mimport\u001b[0m \u001b[0msupervised_convnet\u001b[0m\u001b[0;34m\u001b[0m\u001b[0;34m\u001b[0m\u001b[0m\n\u001b[0m\u001b[1;32m     14\u001b[0m \u001b[0;32mimport\u001b[0m \u001b[0mtrain\u001b[0m\u001b[0;34m,\u001b[0m \u001b[0mfrozen\u001b[0m\u001b[0;34m\u001b[0m\u001b[0;34m\u001b[0m\u001b[0m\n\u001b[1;32m     15\u001b[0m \u001b[0;34m\u001b[0m\u001b[0m\n",
      "\u001b[0;31mModuleNotFoundError\u001b[0m: No module named 'supervised_convnet'",
      "",
      "\u001b[0;31m---------------------------------------------------------------------------\u001b[0;32m\nNOTE: If your import is failing due to a missing package, you can\nmanually install dependencies using either !pip or !apt.\n\nTo view examples of installing some common dependencies, click the\n\"Open Examples\" button below.\n\u001b[0;31m---------------------------------------------------------------------------\u001b[0m\n"
     ]
    }
   ],
   "source": [
    "import torch\n",
    "import numpy as np\n",
    "\n",
    "from ax import RangeParameter, ParameterType\n",
    "from ax.plot.contour import plot_contour\n",
    "from ax.plot.trace import optimization_trace_single_method\n",
    "from ax.service.managed_loop import optimize\n",
    "from ax.utils.notebook.plotting import render, init_notebook_plotting\n",
    "\n",
    "import sys\n",
    "import time\n",
    "sys.path.insert(0, \"../../\")\n",
    "import supervised_convnet\n",
    "import train, frozen\n",
    "\n"
   ]
  },
  {
   "cell_type": "code",
   "execution_count": 5,
   "metadata": {
    "colab": {
     "base_uri": "https://localhost:8080/",
     "height": 375
    },
    "colab_type": "code",
    "executionInfo": {
     "elapsed": 756,
     "status": "error",
     "timestamp": 1567049222946,
     "user": {
      "displayName": "Huy Nguyen",
      "photoUrl": "",
      "userId": "05352249580863404953"
     },
     "user_tz": -420
    },
    "id": "1xWt_dQhaDc6",
    "outputId": "a952378b-9bc6-4c88-bb73-3143ba08f1fb"
   },
   "outputs": [
    {
     "ename": "AssertionError",
     "evalue": "ignored",
     "output_type": "error",
     "traceback": [
      "\u001b[0;31m---------------------------------------------------------------------------\u001b[0m",
      "\u001b[0;31mAssertionError\u001b[0m                            Traceback (most recent call last)",
      "\u001b[0;32m<ipython-input-5-84d0403a7084>\u001b[0m in \u001b[0;36m<module>\u001b[0;34m()\u001b[0m\n\u001b[1;32m     79\u001b[0m     \u001b[0mtotal_trials\u001b[0m\u001b[0;34m=\u001b[0m\u001b[0;36m20\u001b[0m\u001b[0;34m,\u001b[0m\u001b[0;34m\u001b[0m\u001b[0;34m\u001b[0m\u001b[0m\n\u001b[1;32m     80\u001b[0m     \u001b[0moutcome_constraints\u001b[0m\u001b[0;34m=\u001b[0m\u001b[0;32mNone\u001b[0m\u001b[0;34m,\u001b[0m\u001b[0;34m\u001b[0m\u001b[0;34m\u001b[0m\u001b[0m\n\u001b[0;32m---> 81\u001b[0;31m     \u001b[0mexperiment_name\u001b[0m\u001b[0;34m=\u001b[0m\u001b[0;34m\"Test\"\u001b[0m\u001b[0;34m\u001b[0m\u001b[0;34m\u001b[0m\u001b[0m\n\u001b[0m\u001b[1;32m     82\u001b[0m )\n\u001b[1;32m     83\u001b[0m \u001b[0;34m\u001b[0m\u001b[0m\n",
      "\u001b[0;32m/usr/local/lib/python3.6/dist-packages/ax/service/managed_loop.py\u001b[0m in \u001b[0;36moptimize\u001b[0;34m(parameters, evaluation_function, experiment_name, objective_name, minimize, parameter_constraints, outcome_constraints, total_trials, arms_per_trial, wait_time)\u001b[0m\n\u001b[1;32m    202\u001b[0m         \u001b[0mtotal_trials\u001b[0m\u001b[0;34m=\u001b[0m\u001b[0mtotal_trials\u001b[0m\u001b[0;34m,\u001b[0m\u001b[0;34m\u001b[0m\u001b[0;34m\u001b[0m\u001b[0m\n\u001b[1;32m    203\u001b[0m         \u001b[0marms_per_trial\u001b[0m\u001b[0;34m=\u001b[0m\u001b[0marms_per_trial\u001b[0m\u001b[0;34m,\u001b[0m\u001b[0;34m\u001b[0m\u001b[0;34m\u001b[0m\u001b[0m\n\u001b[0;32m--> 204\u001b[0;31m         \u001b[0mwait_time\u001b[0m\u001b[0;34m=\u001b[0m\u001b[0mwait_time\u001b[0m\u001b[0;34m,\u001b[0m\u001b[0;34m\u001b[0m\u001b[0;34m\u001b[0m\u001b[0m\n\u001b[0m\u001b[1;32m    205\u001b[0m     )\n\u001b[1;32m    206\u001b[0m     \u001b[0mloop\u001b[0m\u001b[0;34m.\u001b[0m\u001b[0mfull_run\u001b[0m\u001b[0;34m(\u001b[0m\u001b[0;34m)\u001b[0m\u001b[0;34m\u001b[0m\u001b[0;34m\u001b[0m\u001b[0m\n",
      "\u001b[0;32m/usr/local/lib/python3.6/dist-packages/ax/service/managed_loop.py\u001b[0m in \u001b[0;36mwith_evaluation_function\u001b[0;34m(parameters, evaluation_function, experiment_name, objective_name, minimize, parameter_constraints, outcome_constraints, total_trials, arms_per_trial, wait_time)\u001b[0m\n\u001b[1;32m     77\u001b[0m                 \u001b[0;32mif\u001b[0m \u001b[0mparameter_constraints\u001b[0m \u001b[0;32mis\u001b[0m \u001b[0;32mNone\u001b[0m\u001b[0;34m\u001b[0m\u001b[0;34m\u001b[0m\u001b[0m\n\u001b[1;32m     78\u001b[0m                 else [\n\u001b[0;32m---> 79\u001b[0;31m                     \u001b[0mconstraint_from_str\u001b[0m\u001b[0;34m(\u001b[0m\u001b[0mc\u001b[0m\u001b[0;34m,\u001b[0m \u001b[0mparameter_map\u001b[0m\u001b[0;34m)\u001b[0m \u001b[0;32mfor\u001b[0m \u001b[0mc\u001b[0m \u001b[0;32min\u001b[0m \u001b[0mparameter_constraints\u001b[0m\u001b[0;34m\u001b[0m\u001b[0;34m\u001b[0m\u001b[0m\n\u001b[0m\u001b[1;32m     80\u001b[0m                 ],\n\u001b[1;32m     81\u001b[0m             ),\n",
      "\u001b[0;32m/usr/local/lib/python3.6/dist-packages/ax/service/managed_loop.py\u001b[0m in \u001b[0;36m<listcomp>\u001b[0;34m(.0)\u001b[0m\n\u001b[1;32m     77\u001b[0m                 \u001b[0;32mif\u001b[0m \u001b[0mparameter_constraints\u001b[0m \u001b[0;32mis\u001b[0m \u001b[0;32mNone\u001b[0m\u001b[0;34m\u001b[0m\u001b[0;34m\u001b[0m\u001b[0m\n\u001b[1;32m     78\u001b[0m                 else [\n\u001b[0;32m---> 79\u001b[0;31m                     \u001b[0mconstraint_from_str\u001b[0m\u001b[0;34m(\u001b[0m\u001b[0mc\u001b[0m\u001b[0;34m,\u001b[0m \u001b[0mparameter_map\u001b[0m\u001b[0;34m)\u001b[0m \u001b[0;32mfor\u001b[0m \u001b[0mc\u001b[0m \u001b[0;32min\u001b[0m \u001b[0mparameter_constraints\u001b[0m\u001b[0;34m\u001b[0m\u001b[0;34m\u001b[0m\u001b[0m\n\u001b[0m\u001b[1;32m     80\u001b[0m                 ],\n\u001b[1;32m     81\u001b[0m             ),\n",
      "\u001b[0;32m/usr/local/lib/python3.6/dist-packages/ax/service/utils/instantiation.py\u001b[0m in \u001b[0;36mconstraint_from_str\u001b[0;34m(representation, parameters)\u001b[0m\n\u001b[1;32m    201\u001b[0m             assert (\n\u001b[1;32m    202\u001b[0m                 \u001b[0mtoken\u001b[0m \u001b[0;32min\u001b[0m \u001b[0mparameter_names\u001b[0m\u001b[0;34m\u001b[0m\u001b[0;34m\u001b[0m\u001b[0m\n\u001b[0;32m--> 203\u001b[0;31m             ), f\"Parameter {token} not in {parameter_names}.\"\n\u001b[0m\u001b[1;32m    204\u001b[0m             \u001b[0mused_parameters\u001b[0m\u001b[0;34m.\u001b[0m\u001b[0mappend\u001b[0m\u001b[0;34m(\u001b[0m\u001b[0mtoken\u001b[0m\u001b[0;34m)\u001b[0m\u001b[0;34m\u001b[0m\u001b[0;34m\u001b[0m\u001b[0m\n\u001b[1;32m    205\u001b[0m         \u001b[0;32melse\u001b[0m\u001b[0;34m:\u001b[0m\u001b[0;34m\u001b[0m\u001b[0;34m\u001b[0m\u001b[0m\n",
      "\u001b[0;31mAssertionError\u001b[0m: Parameter 0.02 not in dict_keys(['batch_size', 'train_size', 'n_epochs', 'lr', 'weight_decay', 'betas0', 'betas1'])."
     ]
    }
   ],
   "source": [
    "num_hidden_layers = 1\n",
    "out_channels = 1\n",
    "weight = 0.02\n",
    "\n",
    "def train_evaluate(parameterization):\n",
    "    # parameters\n",
    "    batch_size = parameterization[\"batch_size\"]\n",
    "    train_size = parameterization[\"train_size\"]\n",
    "    n_epochs = parameterization[\"n_epochs\"]\n",
    "    lr = parameterization[\"lr\"]\n",
    "    weight_decay = parameterization[\"weight_decay\"]\n",
    "    betas0 = parameterization[\"betas0\"]\n",
    "    hidden_size = 10\n",
    "\n",
    "\n",
    "    model = supervised_convnet.SupervisedConvNet(filter_size = 3, square_size = 3, \\\n",
    "            hidden_size = hidden_size, out_channels = out_channels,\n",
    "            first_activation = \"tanh\", activation_func = \"relu\",\n",
    "            num_hidden_layers = num_hidden_layers)\n",
    "    tic = time.time()\n",
    "    accuracy = train.trainer(model = model, batch_size = batch_size, train_size = train_size, n_epochs = n_epochs, lr = lr,\n",
    "                weight_decay = weight_decay,\n",
    "                betas0 = 1-betas0, betas1 = 0.99)[0]\n",
    "    toc = time.time()\n",
    "    return accuracy\n",
    "\n",
    "optim_result = optimize(\n",
    "    parameters=[\n",
    "        {\n",
    "          \"name\": \"batch_size\",\n",
    "          \"type\": \"range\",\n",
    "          \"bounds\": [1, 5000],\n",
    "          \"value_type\": \"int\"\n",
    "        },\n",
    "        {\n",
    "          \"name\": \"train_size\",\n",
    "          \"type\": \"range\",\n",
    "          \"bounds\": [100, 5000],\n",
    "          \"value_type\": \"int\"\n",
    "        },\n",
    "        {\n",
    "          \"name\": \"n_epochs\",\n",
    "          \"type\": \"range\",\n",
    "          \"bounds\": [50, 250],\n",
    "          \"value_type\": \"int\"\n",
    "        },\n",
    "        {\n",
    "          \"name\": \"lr\",\n",
    "          \"type\": \"range\",\n",
    "          \"bounds\": [1e-4, 1],\n",
    "          \"value_type\": \"float\",\n",
    "          \"log_scale\": True\n",
    "        },\n",
    "        {\n",
    "          \"name\": \"weight_decay\",\n",
    "          \"type\": \"range\",\n",
    "          \"bounds\": [1e-5, 2e-1],\n",
    "          \"value_type\": \"float\",\n",
    "          \"log_scale\": True\n",
    "        },\n",
    "        {\n",
    "          \"name\": \"betas0\",\n",
    "          \"type\": \"range\",\n",
    "          \"bounds\": [1e-5, 2e-1],\n",
    "          \"value_type\": \"float\",\n",
    "          \"log_scale\": True\n",
    "        },\n",
    "        {\n",
    "          \"name\": \"betas1\",\n",
    "          \"type\": \"range\",\n",
    "          \"bounds\": [1e-5, 2e-1],\n",
    "          \"value_type\": \"float\",\n",
    "          \"log_scale\": True\n",
    "        }\n",
    "    ],\n",
    "    parameter_constraints=[\"0.02 * n_epochs + -1 * batch_size <= 0\"],\n",
    "    evaluation_function=train_evaluate,\n",
    "    minimize=False,\n",
    "    arms_per_trial=5,\n",
    "    total_trials=20,\n",
    "    outcome_constraints=None,\n",
    "    experiment_name=\"Test\"\n",
    ")\n",
    "\n",
    "with open(\"hyperparameters.pl\", \"wb\") as handle:\n",
    "    pickle.dump(optim_result, handle, protocol = pickle.HIGHEST_PROTOCOL)\n"
   ]
  },
  {
   "cell_type": "code",
   "execution_count": 0,
   "metadata": {
    "colab": {},
    "colab_type": "code",
    "id": "Cup0cjvgaYfJ"
   },
   "outputs": [],
   "source": []
  }
 ],
 "metadata": {
  "accelerator": "GPU",
  "colab": {
   "name": "Untitled0.ipynb",
   "provenance": [],
   "version": "0.3.2"
  },
  "kernelspec": {
   "display_name": "Python 3",
   "language": "python",
   "name": "python3"
  },
  "language_info": {
   "codemirror_mode": {
    "name": "ipython",
    "version": 3
   },
   "file_extension": ".py",
   "mimetype": "text/x-python",
   "name": "python",
   "nbconvert_exporter": "python",
   "pygments_lexer": "ipython3",
   "version": "3.6.8"
  }
 },
 "nbformat": 4,
 "nbformat_minor": 1
}
