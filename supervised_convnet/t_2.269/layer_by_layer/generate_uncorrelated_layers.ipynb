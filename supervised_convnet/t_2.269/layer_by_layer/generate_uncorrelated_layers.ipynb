{
 "cells": [
  {
   "cell_type": "code",
   "execution_count": 2,
   "metadata": {},
   "outputs": [],
   "source": [
    "import torch\n",
    "import torch.nn as nn\n",
    "import torch.utils.data\n",
    "import numpy as np\n",
    "from torch.utils.tensorboard import SummaryWriter\n",
    "import sys\n",
    "sys.path.append(\"../\")\n",
    "import x3x3.frozen as frozen\n",
    "\n",
    "data = np.load(\"../ising81x81_temp2.269.npy\")\n",
    "\n",
    "# Batch size, channels, height, width\n",
    "\n",
    "# train on 3 x 3\n",
    "class SupervisedConvNet(nn.Module):\n",
    "    def __init__(self, filter_size, square_size, hidden_size, num_hidden_layers, center,\n",
    "                first_activation = \"tanh\", activation_func = \"sigmoid\",\n",
    "                out_channels = 1):\n",
    "        \"\"\"\n",
    "        Arguments:\n",
    "        filter_size ~ size of the convolution kernel (3 x 3)\n",
    "        square size ~ how many strides of convolution in the input\n",
    "        \"\"\"\n",
    "        super(SupervisedConvNet, self).__init__()\n",
    "        self.filter_size = filter_size\n",
    "        self.square_size = square_size\n",
    "        self.hidden_size = hidden_size\n",
    "        self.out_channels = out_channels\n",
    "        if first_activation == \"tanh\":\n",
    "            self.first_activation = torch.tanh\n",
    "        elif first_activation == \"relu\":\n",
    "            self.first_activation = torch.nn.LeakyReLU(0.1)\n",
    "        if activation_func == \"sigmoid\":\n",
    "            self.activation_func = torch.sigmoid\n",
    "        elif activation_func == \"relu\":\n",
    "            self.activation_func = torch.nn.LeakyReLU(0.1)\n",
    "\n",
    "        self.conv1 = nn.Conv2d(1, out_channels, filter_size, padding=0, stride = filter_size)\n",
    "        # parameters\n",
    "        param = {}\n",
    "        if center == \"keep\":\n",
    "            param['conv2d.weight'] = torch.tensor([[[[1.0, 1.0, 1.0],\n",
    "                      [1.0, 1.0, 1.0],\n",
    "                      [1.0, 1.0, 1.0]]]])/9\n",
    "            param['conv2d.bias'] = torch.tensor([0.0])\n",
    "            self.conv1.bias = torch.nn.Parameter(param['conv2d.bias'], requires_grad=False)\n",
    "        elif center == \"omit\":\n",
    "            param['conv2d.weight'] = torch.tensor([[[[1.0, 1.0, 1.0],\n",
    "                      [1.0, 0.0, 1.0],\n",
    "                      [1.0, 1.0, 1.0]]]])/8\n",
    "            # param['conv2d.bias'] = torch.tensor([0.0])\n",
    "        elif center == \"pre_trained\":\n",
    "            param['conv2d.weight'] = torch.tensor([[[[-0.0900, -0.0407, -0.0965],\n",
    "          [-0.0413, -0.0011, -0.0363],\n",
    "          [-0.0906, -0.0344, -0.0908]]]])\n",
    "            param['conv2d.bias'] = torch.tensor([-0.0345])\n",
    "            self.conv1.bias = torch.nn.Parameter(param['conv2d.bias'], requires_grad=False)\n",
    "        self.conv1.weight = torch.nn.Parameter(param['conv2d.weight'], requires_grad=False)\n",
    "\n",
    "\n",
    "        self.first_linear = nn.Linear(self.out_channels * square_size ** 2, hidden_size)\n",
    "        hidden_layer = [nn.Linear(hidden_size, hidden_size) for _ in range(num_hidden_layers)]\n",
    "        self.linear_hidden = nn.ModuleList(hidden_layer)\n",
    "        self.linear_output = nn.Linear(hidden_size, 1)\n",
    "\n",
    "\n",
    "\n",
    "    def forward(self, x):\n",
    "        x = self.first_activation(self.conv1(x))#.view(-1, 1, self.out_channels * self.square_size**2)\n",
    "#         x = self.activation_func(self.first_linear(x))\n",
    "#         for linear in self.linear_hidden:\n",
    "#             x = self.activation_func(linear(x))\n",
    "#         x = torch.sigmoid(self.linear_output(x))\n",
    "#         x = x.squeeze(1)\n",
    "\n",
    "        return x\n",
    "\n",
    "\n",
    "def coarse_grain_frozen_conv(correlated_data = data):\n",
    "    run_mode = \"frozen_convolution_pretrained_relu\"\n",
    "    mode = \"run\"\n",
    "    if mode == \"run\":\n",
    "        hidden_size = 10\n",
    "        out_channels = 1\n",
    "        num_hidden_layers = 1\n",
    "\n",
    "\n",
    "        if run_mode == \"frozen_convolution_pretrained_relu\":\n",
    "            \"\"\"\n",
    "            \"\"\"\n",
    "            run_num = 1\n",
    "            filename = f\"frozen_convolution_pretrained_relu_{run_num}.pl\"\n",
    "            out_channels = 1\n",
    "            try:\n",
    "                with open(filename, \"rb\") as handle:\n",
    "                    results = pickle.load(handle)\n",
    "            except:\n",
    "                results = []\n",
    "            results = []\n",
    "            model = SupervisedConvNet(filter_size = 3, square_size = 27, \\\n",
    "                    hidden_size = hidden_size, out_channels = out_channels,\n",
    "                    center = \"pre_trained\", first_activation = \"tanh\",\n",
    "                    activation_func = \"relu\", num_hidden_layers = num_hidden_layers)\n",
    "            data = torch.tensor(correlated_data).unsqueeze(1).type('torch.FloatTensor')\n",
    "            out = model(data)\n",
    "\n",
    "    return out\n"
   ]
  },
  {
   "cell_type": "code",
   "execution_count": 3,
   "metadata": {},
   "outputs": [],
   "source": [
    "out = coarse_grain_frozen_conv()\n"
   ]
  },
  {
   "cell_type": "code",
   "execution_count": 4,
   "metadata": {},
   "outputs": [
    {
     "data": {
      "text/plain": [
       "array([[ 1,  1, -1,  1, -1, -1, -1, -1,  1, -1],\n",
       "       [ 1,  1, -1, -1, -1, -1, -1, -1, -1, -1],\n",
       "       [ 1,  1, -1, -1, -1,  1,  1,  1,  1, -1],\n",
       "       [-1, -1, -1, -1, -1, -1,  1,  1,  1, -1],\n",
       "       [ 1, -1, -1, -1, -1,  1,  1,  1,  1, -1],\n",
       "       [-1, -1, -1, -1, -1,  1,  1,  1,  1, -1],\n",
       "       [-1, -1, -1, -1, -1,  1,  1, -1, -1, -1],\n",
       "       [-1, -1, -1, -1, -1, -1,  1,  1,  1,  1],\n",
       "       [-1, -1,  1, -1, -1, -1, -1, -1,  1,  1],\n",
       "       [ 1,  1,  1,  1, -1, -1, -1, -1,  1,  1]])"
      ]
     },
     "execution_count": 4,
     "metadata": {},
     "output_type": "execute_result"
    }
   ],
   "source": [
    "data[0, :10, :10]"
   ]
  },
  {
   "cell_type": "code",
   "execution_count": 5,
   "metadata": {},
   "outputs": [
    {
     "data": {
      "text/plain": [
       "tensor([[-0.1086,  0.1249, -0.1365,  0.4520,  0.2860,  0.4502,  0.3924,  0.4520,\n",
       "          0.2217,  0.4520],\n",
       "        [ 0.3839,  0.2289, -0.5052,  0.4520,  0.3924,  0.1422,  0.4520,  0.3924,\n",
       "          0.1401,  0.4520],\n",
       "        [ 0.2964,  0.2860, -0.0318,  0.0709,  0.4520,  0.3956,  0.2328,  0.4520,\n",
       "          0.4520,  0.4520],\n",
       "        [-0.0382,  0.2979,  0.0400, -0.2911,  0.2209,  0.4502,  0.4520,  0.4520,\n",
       "         -0.1003,  0.4520],\n",
       "        [ 0.3849,  0.3937,  0.4520,  0.0418,  0.4520,  0.2180,  0.4520,  0.4520,\n",
       "          0.3849,  0.4520],\n",
       "        [ 0.3228,  0.1393,  0.4520,  0.2979,  0.4520,  0.2860,  0.2209,  0.2328,\n",
       "          0.2325,  0.2964],\n",
       "        [-0.0170,  0.4520,  0.3956,  0.4520,  0.4520,  0.4520,  0.3830, -0.1086,\n",
       "          0.2096,  0.2979],\n",
       "        [ 0.2979,  0.2948,  0.4520,  0.4520,  0.4520,  0.4520,  0.2860,  0.2979,\n",
       "          0.4520,  0.4520],\n",
       "        [ 0.4520,  0.1389,  0.4520,  0.4520,  0.2979,  0.4520,  0.4520,  0.4520,\n",
       "          0.4520,  0.4520],\n",
       "        [ 0.4520,  0.2964,  0.2198,  0.4520, -0.2725,  0.4520,  0.4520,  0.3924,\n",
       "          0.2289,  0.4520]])"
      ]
     },
     "execution_count": 5,
     "metadata": {},
     "output_type": "execute_result"
    }
   ],
   "source": [
    "out[0, 0, :10, :10]"
   ]
  },
  {
   "cell_type": "code",
   "execution_count": 6,
   "metadata": {},
   "outputs": [
    {
     "data": {
      "text/plain": [
       "(10000, 27, 27)"
      ]
     },
     "execution_count": 6,
     "metadata": {},
     "output_type": "execute_result"
    }
   ],
   "source": [
    "out.squeeze(1).numpy().shape"
   ]
  },
  {
   "cell_type": "code",
   "execution_count": 7,
   "metadata": {},
   "outputs": [],
   "source": [
    "def generate_uncorrelated_data(data):\n",
    "    # data expects an array of shape [10000, 27, 27]\n",
    "    uncorrelated_data = []\n",
    "    for _ in range(10000):\n",
    "        sample = np.random.randint(0, 10000, (9, 9))\n",
    "        horizontal, vertical = np.random.randint(0, 25, (2, 9, 9))\n",
    "        uncorrelated = []\n",
    "        for i in range(9):\n",
    "            tile = []\n",
    "            for j in range(9):\n",
    "                tile.append(data[sample[i, j], horizontal[i, j]:(horizontal[i, j] + 3), \\\n",
    "                        vertical[i, j]:(vertical[i, j] + 3)])\n",
    "            uncorrelated.append(np.hstack(tile))\n",
    "        uncorrelated_data.append(np.vstack(uncorrelated))\n",
    "\n",
    "    uncorrelated_data = np.array(uncorrelated_data)\n",
    "    return uncorrelated_data\n",
    "\n",
    "uncorrelated_data = generate_uncorrelated_data(out.squeeze(1).numpy())"
   ]
  },
  {
   "cell_type": "code",
   "execution_count": 8,
   "metadata": {},
   "outputs": [
    {
     "data": {
      "text/plain": [
       "array([[-0.5051525 , -0.44206944, -0.5051525 ,  0.2967938 ,  0.45199126,\n",
       "         0.45199126,  0.45199126,  0.38387796,  0.04417124, -0.34802958],\n",
       "       [-0.21956593, -0.5035121 ,  0.12533742,  0.2328493 ,  0.45199126,\n",
       "         0.45199126,  0.45199126,  0.45199126,  0.2328493 , -0.04975887],\n",
       "       [-0.04017835,  0.22203915,  0.22716673, -0.21632744,  0.15337996,\n",
       "         0.45199126,  0.45199126,  0.45199126,  0.45199126,  0.45199126],\n",
       "       [-0.5051525 , -0.5051525 , -0.5051525 , -0.5051525 , -0.5051525 ,\n",
       "        -0.4521504 , -0.03019083, -0.2745702 , -0.5035121 ,  0.22203915],\n",
       "       [-0.5051525 , -0.5035121 , -0.44206944, -0.29697618, -0.3580087 ,\n",
       "        -0.19102426, -0.20792347, -0.5051525 , -0.5051525 ,  0.45199126],\n",
       "       [-0.5051525 , -0.5051525 , -0.5051525 , -0.2845261 , -0.5051525 ,\n",
       "        -0.28544486, -0.22697704, -0.13909245, -0.5051525 ,  0.45199126],\n",
       "       [ 0.03997869,  0.04337278,  0.45199126,  0.15123099, -0.2069665 ,\n",
       "        -0.5051525 ,  0.22089803,  0.45199126,  0.29642898, -0.44110343],\n",
       "       [-0.5051525 , -0.5051525 , -0.44912207, -0.5051525 , -0.5051525 ,\n",
       "        -0.5051525 ,  0.15084009,  0.04197532,  0.2978877 , -0.5051525 ],\n",
       "       [-0.34802958, -0.5051525 , -0.5051525 , -0.34802958, -0.01699837,\n",
       "        -0.3594028 , -0.3580087 ,  0.03278825,  0.2978877 , -0.44206944],\n",
       "       [-0.5051525 , -0.2159461 , -0.12395918, -0.5051525 , -0.2931418 ,\n",
       "        -0.3580087 , -0.5051525 , -0.5051525 , -0.5051525 , -0.2931418 ]],\n",
       "      dtype=float32)"
      ]
     },
     "execution_count": 8,
     "metadata": {},
     "output_type": "execute_result"
    }
   ],
   "source": [
    "uncorrelated_data[0, :10, :10]"
   ]
  },
  {
   "cell_type": "code",
   "execution_count": 12,
   "metadata": {},
   "outputs": [
    {
     "data": {
      "text/plain": [
       "torch.Size([10000, 1, 27, 27])"
      ]
     },
     "execution_count": 12,
     "metadata": {},
     "output_type": "execute_result"
    }
   ],
   "source": [
    "out.shape"
   ]
  },
  {
   "cell_type": "code",
   "execution_count": 13,
   "metadata": {},
   "outputs": [],
   "source": [
    "# save files\n",
    "np.save(\"ising27x27coarsegrained_temp2.269.npy\", out.squeeze(1).numpy())\n",
    "np.save(\"ising27x27coarsegrained_temp2.269_uncorrelated.npy\", uncorrelated_data)"
   ]
  },
  {
   "cell_type": "code",
   "execution_count": null,
   "metadata": {},
   "outputs": [],
   "source": []
  }
 ],
 "metadata": {
  "kernelspec": {
   "display_name": "Renormalization",
   "language": "python",
   "name": "renormalization"
  },
  "language_info": {
   "codemirror_mode": {
    "name": "ipython",
    "version": 3
   },
   "file_extension": ".py",
   "mimetype": "text/x-python",
   "name": "python",
   "nbconvert_exporter": "python",
   "pygments_lexer": "ipython3",
   "version": "3.7.3"
  }
 },
 "nbformat": 4,
 "nbformat_minor": 2
}
