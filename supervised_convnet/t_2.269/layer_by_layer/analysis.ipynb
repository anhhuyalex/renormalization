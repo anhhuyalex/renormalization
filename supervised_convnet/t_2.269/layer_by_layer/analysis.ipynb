{
 "cells": [
  {
   "cell_type": "code",
   "execution_count": null,
   "metadata": {
    "colab": {
     "base_uri": "https://localhost:8080/",
     "height": 1000
    },
    "colab_type": "code",
    "executionInfo": {
     "elapsed": 77527,
     "status": "ok",
     "timestamp": 1568651365164,
     "user": {
      "displayName": "Huy Nguyen",
      "photoUrl": "",
      "userId": "05352249580863404953"
     },
     "user_tz": -420
    },
    "id": "gFbSg3DYPksR",
    "outputId": "34a78c2c-91cb-4968-aa95-3b45142105d4"
   },
   "outputs": [],
   "source": [
    "# Install latex for the plots\n",
    "! sudo apt-get update\n",
    "! sudo apt-get install texlive-latex-recommended #1\n",
    "! sudo apt-get install dvipng texlive-fonts-recommended #2\n",
    "! wget http://mirrors.ctan.org/macros/latex/contrib/type1cm.zip #3\n",
    "! unzip type1cm.zip -d /tmp/type1cm #4\n",
    "! cd /tmp/type1cm/type1cm/ && sudo latex type1cm.ins  #5\n",
    "! sudo mkdir /usr/share/texmf/tex/latex/type1cm #6\n",
    "! sudo cp /tmp/type1cm/type1cm/type1cm.sty /usr/share/texmf/tex/latex/type1cm #7\n",
    "! sudo texhash #8"
   ]
  },
  {
   "cell_type": "code",
   "execution_count": null,
   "metadata": {
    "colab": {
     "base_uri": "https://localhost:8080/",
     "height": 52
    },
    "colab_type": "code",
    "executionInfo": {
     "elapsed": 21716,
     "status": "ok",
     "timestamp": 1568651762962,
     "user": {
      "displayName": "Huy Nguyen",
      "photoUrl": "",
      "userId": "05352249580863404953"
     },
     "user_tz": -420
    },
    "id": "gGlAF6KyQlD5",
    "outputId": "a2e8a44e-38cf-42bc-9c6f-5ec3d2c97d1b"
   },
   "outputs": [],
   "source": [
    "# Google Drive stuff for colab\n",
    "from google.colab import drive\n",
    "drive.mount('/content/drive', force_remount=True)\n",
    "%cd  /content/drive/My\\ Drive/Year\\ 4\\:\\ Synthesis/NS162\\:\\ Statistical\\ Mechanics/Renormalization\\ Research\\ Project/renormalization/supervised_convnet/t_2.269/3x3/"
   ]
  },
  {
   "cell_type": "code",
   "execution_count": 1,
   "metadata": {
    "colab": {
     "base_uri": "https://localhost:8080/",
     "height": 336
    },
    "colab_type": "code",
    "executionInfo": {
     "elapsed": 2371,
     "status": "ok",
     "timestamp": 1568651790693,
     "user": {
      "displayName": "Huy Nguyen",
      "photoUrl": "",
      "userId": "05352249580863404953"
     },
     "user_tz": -420
    },
    "id": "64V0xC5zEmWW",
    "outputId": "396f5b30-8d19-404b-f666-a5b573fd8cea"
   },
   "outputs": [
    {
     "name": "stderr",
     "output_type": "stream",
     "text": [
      "WARNING:root:This caffe2 python run does not have GPU support. Will run in CPU only mode.\n"
     ]
    },
    {
     "name": "stdout",
     "output_type": "stream",
     "text": [
      "Uncorrelated [[ 0.45  0.3   0.45  0.45  0.45  0.45  0.45  0.45  0.45]\n",
      " [ 0.45  0.45  0.45  0.15  0.45  0.23  0.45  0.45  0.45]\n",
      " [ 0.3   0.38  0.45 -0.35  0.38  0.07  0.45  0.45  0.45]\n",
      " [ 0.45  0.39  0.38 -0.35 -0.03 -0.11  0.45  0.45  0.3 ]\n",
      " [ 0.3   0.45  0.45 -0.12 -0.04 -0.51  0.3   0.16  0.22]\n",
      " [ 0.22  0.45  0.22 -0.11  0.45 -0.36  0.22 -0.19  0.06]\n",
      " [ 0.29  0.45  0.3  -0.51 -0.51 -0.45  0.45 -0.29 -0.51]\n",
      " [ 0.45  0.45  0.21 -0.51 -0.36 -0.51 -0.18 -0.51 -0.5 ]\n",
      " [ 0.3   0.39  0.45 -0.51 -0.51 -0.44 -0.51 -0.51 -0.51]]\n",
      "Correlated [[-0.11  0.12 -0.14  0.45  0.29  0.45  0.39  0.45  0.22]\n",
      " [ 0.38  0.23 -0.51  0.45  0.39  0.14  0.45  0.39  0.14]\n",
      " [ 0.3   0.29 -0.03  0.07  0.45  0.4   0.23  0.45  0.45]\n",
      " [-0.04  0.3   0.04 -0.29  0.22  0.45  0.45  0.45 -0.1 ]\n",
      " [ 0.38  0.39  0.45  0.04  0.45  0.22  0.45  0.45  0.38]\n",
      " [ 0.32  0.14  0.45  0.3   0.45  0.29  0.22  0.23  0.23]\n",
      " [-0.02  0.45  0.4   0.45  0.45  0.45  0.38 -0.11  0.21]\n",
      " [ 0.3   0.29  0.45  0.45  0.45  0.45  0.29  0.3   0.45]\n",
      " [ 0.45  0.14  0.45  0.45  0.3   0.45  0.45  0.45  0.45]]\n"
     ]
    }
   ],
   "source": [
    "# import stuff\n",
    "import matplotlib.pyplot as plt\n",
    "import train#, frozen\n",
    "import sys\n",
    "# sys.path.insert(0, \"../../\")\n",
    "import supervised_convnet\n",
    "import pickle\n",
    "from collections import defaultdict\n",
    "import numpy as np\n",
    "from matplotlib import rc\n",
    "# rc('font',**{'size': 25})\n",
    "## for Palatino and other serif fonts use:\n",
    "#rc('font',**{'family':'serif','serif':['Palatino']})\n",
    "# rc('text', usetex=True)"
   ]
  },
  {
   "cell_type": "markdown",
   "metadata": {
    "colab_type": "text",
    "id": "XUX2fmQTjos9"
   },
   "source": [
    "# Histogram of unfrozen vs. frozen"
   ]
  },
  {
   "cell_type": "code",
   "execution_count": 30,
   "metadata": {
    "scrolled": false
   },
   "outputs": [
    {
     "data": {
      "text/plain": [
       "([<matplotlib.axis.YTick at 0x1a2b0ed668>,\n",
       "  <matplotlib.axis.YTick at 0x1a2b0e37b8>,\n",
       "  <matplotlib.axis.YTick at 0x1a2b22b8d0>,\n",
       "  <matplotlib.axis.YTick at 0x1a2b6bc240>,\n",
       "  <matplotlib.axis.YTick at 0x1a2b6bc128>,\n",
       "  <matplotlib.axis.YTick at 0x1a29de5438>],\n",
       " <a list of 6 Text yticklabel objects>)"
      ]
     },
     "execution_count": 30,
     "metadata": {},
     "output_type": "execute_result"
    },
    {
     "data": {
      "image/png": "[encoded data removed]",
      "text/plain": [
       "<Figure size 1080x720 with 1 Axes>"
      ]
     },
     "metadata": {
      "needs_background": "light"
     },
     "output_type": "display_data"
    }
   ],
   "source": [
    "prefix = \"\"\n",
    "filename = \"unfrozen_convolution_relu.pl\"\n",
    "with open(prefix + filename, \"rb\") as handle:\n",
    "    results = pickle.load(handle)\n",
    "b = np.array(results[\"best_val_acc_hist\"])\n",
    "b = (b[b > 0.87])\n",
    "plt.figure(figsize=(15,10))\n",
    "plt.hist(b, 30, alpha = 0.9, label = \"unfrozen\", density=True)\n",
    "plt.xticks(np.arange(0.87, 0.92, 0.01), fontsize = 20)\n",
    "plt.yticks(np.arange(0, 60, 10), fontsize = 20)"
   ]
  },
  {
   "cell_type": "code",
   "execution_count": 31,
   "metadata": {},
   "outputs": [
    {
     "data": {
      "text/plain": [
       "29"
      ]
     },
     "execution_count": 31,
     "metadata": {},
     "output_type": "execute_result"
    }
   ],
   "source": [
    "len(b)"
   ]
  },
  {
   "cell_type": "code",
   "execution_count": 13,
   "metadata": {},
   "outputs": [
    {
     "data": {
      "text/plain": [
       "0.9155"
      ]
     },
     "execution_count": 13,
     "metadata": {},
     "output_type": "execute_result"
    }
   ],
   "source": [
    "b[82]"
   ]
  },
  {
   "cell_type": "code",
   "execution_count": 16,
   "metadata": {},
   "outputs": [
    {
     "data": {
      "text/plain": [
       "tensor([[[[-0.3833, -0.0056, -0.4275],\n",
       "          [-0.0172,  0.1212, -0.0063],\n",
       "          [-0.4010, -0.0461, -0.3762]]]])"
      ]
     },
     "execution_count": 16,
     "metadata": {},
     "output_type": "execute_result"
    }
   ],
   "source": [
    "results[\"conv_params\"][\"weight\"][82]"
   ]
  },
  {
   "cell_type": "code",
   "execution_count": null,
   "metadata": {
    "colab": {
     "base_uri": "https://localhost:8080/",
     "height": 782
    },
    "colab_type": "code",
    "executionInfo": {
     "elapsed": 1399,
     "status": "ok",
     "timestamp": 1568607631098,
     "user": {
      "displayName": "Huy Nguyen",
      "photoUrl": "",
      "userId": "05352249580863404953"
     },
     "user_tz": -420
    },
    "id": "KloKOPGEEmWf",
    "outputId": "b088f917-6c7a-49f5-8fee-7e8019cb6a72"
   },
   "outputs": [],
   "source": [
    "import subprocess\n",
    "# subprocess.check_call([\"latex\"])\n",
    "import os \n",
    "os.environ[\"PATH\"] += os.pathsep + '/usr/bin'\n",
    "prefix = \"\"\n",
    "# filenames = [\"frozen_convolution_pretrained_relu.pl\", \"frozen_convolution_no_center_relu.pl\",\n",
    "#         \"unfrozen_convolution_relu.pl\"], \"frozen_convolution_with_center_relu.pl\"]\n",
    "filenames = [\"unfrozen_convolution_relu.pl\"]\n",
    "labels = [ \"Frozen convolution\",\n",
    "\"Unfrozen Convolution\", \"Frozen convolution, pretrained\",\"frozen convolution with center relu\"]\n",
    "alphas = [0.8, 0.6, 0.4, 0.2]\n",
    "plt.figure(figsize=(15,10))\n",
    "plt.xlabel(\"Accuracy\", fontsize = 30)\n",
    "plt.ylabel(\"Density\", fontsize = 30)\n",
    "for index, filename in enumerate(filenames):\n",
    "    with open(prefix + filename, \"rb\") as handle:\n",
    "        results = pickle.load(handle)\n",
    "    if index <= 2:\n",
    "        b = np.array(results[\"best_val_acc_hist\"])\n",
    "        b = (b[b > 0.6])\n",
    "        plt.hist(b, alpha = alphas[index], label = labels[index], density=True)\n",
    "        plt.xticks(np.arange(0.87, 0.92, 0.01), fontsize = 40)\n",
    "        plt.yticks(np.arange(0, 60, 10), fontsize = 40)\n",
    "        print(\"mean\", np.mean(b))\n",
    "        print(len(b))\n",
    "        print(\"std\", np.std(b)/np.sqrt(len(b)))\n",
    "    else:\n",
    "        plt.hist(results, alpha = alphas[index], label = labels[index], normed=True)\n",
    "    # print(\"filename\", filename)\n",
    "    # print(\"mean\", np.mean(results))\n",
    "    # print(\"std\", np.std(results))\n",
    "plt.legend()"
   ]
  },
  {
   "cell_type": "markdown",
   "metadata": {
    "colab_type": "text",
    "id": "ndVYncYVjs2V"
   },
   "source": [
    "# Histogram for 1 channel vs. many channels"
   ]
  },
  {
   "cell_type": "code",
   "execution_count": null,
   "metadata": {
    "colab": {
     "base_uri": "https://localhost:8080/",
     "height": 695
    },
    "colab_type": "code",
    "executionInfo": {
     "elapsed": 1407,
     "status": "ok",
     "timestamp": 1568199706824,
     "user": {
      "displayName": "Huy Nguyen",
      "photoUrl": "",
      "userId": "05352249580863404953"
     },
     "user_tz": -420
    },
    "id": "i_xslJ6iEmXd",
    "outputId": "3f2074d8-635e-4909-89b2-8632f458f8ed"
   },
   "outputs": [],
   "source": [
    "prefix = \"\"\n",
    "filenames = [\"unfrozen_convolution_relu.pl\", \"unfrozen_convolution_2_channels.pl\", \"unfrozen_convolution_3_channels.pl\",\n",
    "        ]#, \"frozen_convolution_with_center_relu.pl\"]\n",
    "labels = [\"1 channel\",\"2 channels\", \"3 channels\", \"frozen convolution with center relu\"]\n",
    "alphas = [0.8, 0.6, 0.4, 0.2]\n",
    "plt.figure(figsize=(15,10))\n",
    "plt.xlabel(\"Accuracy\")\n",
    "plt.ylabel(\"Density\")\n",
    "for index, filename in enumerate(filenames[:3]):\n",
    "    with open(prefix + filename, \"rb\") as handle:\n",
    "        results = pickle.load(handle)\n",
    "    if index <= 2:\n",
    "        b = np.array(results[\"best_val_acc_hist\"])\n",
    "        b = (b[b > 0.6])\n",
    "        plt.hist(b, 10, alpha = alphas[index], label = labels[index], density=True)\n",
    "        print(\"mean\", np.mean(b))\n",
    "        print(len(b))\n",
    "        print(\"std\", np.std(b)/np.sqrt(len(b)))\n",
    "    else:\n",
    "        plt.hist(results, alpha = alphas[index], label = labels[index], normed=True)\n",
    "    # print(\"filename\", filename)\n",
    "    # print(\"mean\", np.mean(results))\n",
    "    # print(\"std\", np.std(results))\n",
    "plt.legend()"
   ]
  },
  {
   "cell_type": "markdown",
   "metadata": {
    "colab_type": "text",
    "id": "XgETcrdh8URP"
   },
   "source": [
    "# Histogram for multilayer training"
   ]
  },
  {
   "cell_type": "code",
   "execution_count": null,
   "metadata": {
    "colab": {
     "base_uri": "https://localhost:8080/",
     "height": 654
    },
    "colab_type": "code",
    "executionInfo": {
     "elapsed": 1987,
     "status": "ok",
     "timestamp": 1568652007452,
     "user": {
      "displayName": "Huy Nguyen",
      "photoUrl": "",
      "userId": "05352249580863404953"
     },
     "user_tz": -420
    },
    "id": "KocU2Ez88S_Y",
    "outputId": "fb9a6b78-831c-4e41-cc8c-077a7c1f20d9"
   },
   "outputs": [],
   "source": [
    "with open(\"../81x81/multilayer_1channel.pl\", \"rb\") as handle:\n",
    "    results = pickle.load(handle)\n",
    "# w = results[\"conv_params\"]\n",
    "b = np.array(results[\"best_val_acc_hist\"])\n",
    "b = (b[b > 0.6])\n",
    "plt.figure(figsize=(15,10))\n",
    "\n",
    "plt.hist(b, 10, density=True)\n",
    "plt.xlabel(\"Accuracy\")\n",
    "plt.ylabel(\"Density\")\n"
   ]
  },
  {
   "cell_type": "markdown",
   "metadata": {
    "colab_type": "text",
    "id": "UpDiiGqqjcdB"
   },
   "source": [
    "# Weights histogram"
   ]
  },
  {
   "cell_type": "code",
   "execution_count": null,
   "metadata": {
    "colab": {
     "base_uri": "https://localhost:8080/",
     "height": 1000
    },
    "colab_type": "code",
    "executionInfo": {
     "elapsed": 4006,
     "status": "ok",
     "timestamp": 1568607938628,
     "user": {
      "displayName": "Huy Nguyen",
      "photoUrl": "",
      "userId": "05352249580863404953"
     },
     "user_tz": -420
    },
    "id": "kUWz1LwpEmXh",
    "outputId": "277bc16e-1f0c-4bc6-cf2d-8099c1e821b8",
    "scrolled": false
   },
   "outputs": [],
   "source": [
    "with open(\"unfrozen_convolution_relu.pl\", \"rb\") as handle:\n",
    "    results = pickle.load(handle)\n",
    "w = results[\"conv_params\"]\n",
    "a,b,c,d,e,f,g,h,i = [], [], [], [], [], [], [], [], []\n",
    "for par in w[\"weight\"]:\n",
    "    left_corner = par[0, 0, 0, 0]\n",
    "    sign_convention = np.sign(left_corner)\n",
    "    a.append(np.abs(left_corner))\n",
    "    b.append(par[0, 0, 0, 1] * sign_convention)\n",
    "    c.append(par[0, 0, 0, 2] * sign_convention)\n",
    "    d.append(par[0, 0, 1, 0] * sign_convention)\n",
    "    e.append(par[0, 0, 1, 1] * sign_convention)\n",
    "    f.append(par[0, 0, 1, 2] * sign_convention)\n",
    "    g.append(par[0, 0, 2, 0] * sign_convention)\n",
    "    h.append(par[0, 0, 2, 1] * sign_convention)\n",
    "    i.append(par[0, 0, 2, 2] * sign_convention)\n",
    "a,b,c,d,e,f,g,h,i = [np.array(_)[np.abs(np.array(_)) < 0.2] for _ in [a,b,c,d,e,f,g,h,i]]\n",
    "fig, axs = plt.subplots(3, 3)\n",
    "print(\"axs\", axs.shape)\n",
    "fig.set_figheight(20)\n",
    "fig.set_figwidth(25)\n",
    "axs[0, 0].hist(a, 50)\n",
    "axs[0, 0].axvline(1/8, color = \"r\", label = \"Frozen \\n convolution\")\n",
    "axs[0, 0].set_xlim(-0.05, 0.2)\n",
    "axs[0, 1].hist(b, 50)\n",
    "axs[0, 1].axvline(1/8, color = \"r\")\n",
    "axs[0, 1].set_xlim(-0.05, 0.2)\n",
    "axs[0, 2].hist(c, 50)\n",
    "axs[0, 2].axvline(1/8, color = \"r\")\n",
    "axs[0, 2].set_xlim(-0.05, 0.2)\n",
    "axs[1, 0].hist(d, 50)\n",
    "axs[1, 0].axvline(1/8, color = \"r\")\n",
    "axs[1, 0].set_xlim(-0.05, 0.2)\n",
    "axs[1, 1].hist(e, 50)\n",
    "axs[1, 1].axvline(0, color = \"r\")\n",
    "axs[1, 1].set_xlim(-0.05, 0.2)\n",
    "axs[1, 2].hist(f, 50)\n",
    "axs[1, 2].axvline(1/8, color = \"r\")\n",
    "axs[1, 2].set_xlim(-0.05, 0.2)\n",
    "axs[2, 0].hist(g, 50)\n",
    "axs[2, 0].axvline(1/8, color = \"r\")\n",
    "axs[2, 0].set_xlim(-0.05, 0.2)\n",
    "axs[2, 1].hist(h, 50)\n",
    "axs[2, 1].axvline(1/8, color = \"r\")\n",
    "axs[2, 1].set_xlim(-0.05, 0.2)\n",
    "axs[2, 2].hist(i, 50)\n",
    "axs[2, 2].axvline(1/8, color = \"r\")\n",
    "axs[2, 2].set_xlim(-0.05, 0.2)\n",
    "for i in range(3):\n",
    "    for j in range(3):\n",
    "        axs[i, j].set_xlabel(\"Weight\")\n",
    "        axs[i, j].set_ylabel(\"Density\")\n",
    "handles, labels = axs[0, 0].get_legend_handles_labels()\n",
    "print(\"labels\", labels)\n",
    "fig.legend(handles, labels, loc=(0.188, 0.87))\n",
    "fig.show()"
   ]
  },
  {
   "cell_type": "code",
   "execution_count": null,
   "metadata": {
    "colab": {
     "base_uri": "https://localhost:8080/",
     "height": 1000
    },
    "colab_type": "code",
    "executionInfo": {
     "elapsed": 3952,
     "status": "ok",
     "timestamp": 1568652213977,
     "user": {
      "displayName": "Huy Nguyen",
      "photoUrl": "",
      "userId": "05352249580863404953"
     },
     "user_tz": -420
    },
    "id": "uR2oEYQP6Vsf",
    "outputId": "eebd7685-c8b6-4e11-cb34-b11507d315ca"
   },
   "outputs": [],
   "source": [
    "i = 0\n",
    "w = results[\"conv_params\"][f\"weight_{i}\"]\n",
    "a,b,c,d,e,f,g,h,i = [], [], [], [], [], [], [], [], []\n",
    "for par in w:\n",
    "    par = par.cpu().detach().numpy()\n",
    "    left_corner = par[0, 0, 0, 0]\n",
    "    sign_convention = np.sign(left_corner)\n",
    "    a.append(np.abs(left_corner))\n",
    "    b.append(par[0, 0, 0, 1] * sign_convention)\n",
    "    c.append(par[0, 0, 0, 2] * sign_convention)\n",
    "    d.append(par[0, 0, 1, 0] * sign_convention)\n",
    "    e.append(par[0, 0, 1, 1] * sign_convention)\n",
    "    f.append(par[0, 0, 1, 2] * sign_convention)\n",
    "    g.append(par[0, 0, 2, 0] * sign_convention)\n",
    "    h.append(par[0, 0, 2, 1] * sign_convention)\n",
    "    i.append(par[0, 0, 2, 2] * sign_convention)\n",
    "a,b,c,d,e,f,g,h,i = [np.array(_)[np.abs(np.array(_)) < 100] for _ in [a,b,c,d,e,f,g,h,i]]\n",
    "fig, axs = plt.subplots(3, 3)\n",
    "print(\"axs\", axs.shape)\n",
    "fig.set_figheight(20)\n",
    "fig.set_figwidth(25)\n",
    "axs[0, 0].hist(a, 50)\n",
    "axs[0, 0].axvline(1/8, color = \"r\", label = \"Frozen \\n convolution\")\n",
    "axs[0, 0].set_xlim(-0.2, 0.7)\n",
    "axs[0, 1].hist(b, 50)\n",
    "axs[0, 1].axvline(1/8, color = \"r\")\n",
    "axs[0, 1].set_xlim(-0.2, 0.7)\n",
    "axs[0, 2].hist(c, 50)\n",
    "axs[0, 2].axvline(1/8, color = \"r\")\n",
    "axs[0, 2].set_xlim(-0.2, 0.7)\n",
    "axs[1, 0].hist(d, 50)\n",
    "axs[1, 0].axvline(1/8, color = \"r\")\n",
    "axs[1, 0].set_xlim(-0.2, 0.7)\n",
    "axs[1, 1].hist(e, 50)\n",
    "axs[1, 1].axvline(0, color = \"r\")\n",
    "axs[1, 1].set_xlim(-0.2, 0.7)\n",
    "axs[1, 2].hist(f, 50)\n",
    "axs[1, 2].axvline(1/8, color = \"r\")\n",
    "axs[1, 2].set_xlim(-0.2, 0.7)\n",
    "axs[2, 0].hist(g, 50)\n",
    "axs[2, 0].axvline(1/8, color = \"r\")\n",
    "axs[2, 0].set_xlim(-0.2, 0.7)\n",
    "axs[2, 1].hist(h, 50)\n",
    "axs[2, 1].axvline(1/8, color = \"r\")\n",
    "axs[2, 1].set_xlim(-0.2, 0.7)\n",
    "axs[2, 2].hist(i, 50)\n",
    "axs[2, 2].axvline(1/8, color = \"r\")\n",
    "axs[2, 2].set_xlim(-0.2, 0.7)\n",
    "for i in range(3):\n",
    "    for j in range(3):\n",
    "        axs[i, j].set_xlabel(\"Weight\")\n",
    "        axs[i, j].set_ylabel(\"Density\")\n",
    "handles, labels = axs[0, 0].get_legend_handles_labels()\n",
    "print(\"labels\", labels)\n",
    "fig.legend(handles, labels, loc=(0.188, 0.87))\n",
    "fig.show()"
   ]
  },
  {
   "cell_type": "markdown",
   "metadata": {
    "colab_type": "text",
    "id": "lNcYifN-jzZG"
   },
   "source": [
    "# Hyperparameter tuning stuff"
   ]
  },
  {
   "cell_type": "code",
   "execution_count": null,
   "metadata": {
    "colab": {
     "base_uri": "https://localhost:8080/",
     "height": 1000
    },
    "colab_type": "code",
    "executionInfo": {
     "elapsed": 197732,
     "status": "ok",
     "timestamp": 1568293729772,
     "user": {
      "displayName": "Huy Nguyen",
      "photoUrl": "",
      "userId": "05352249580863404953"
     },
     "user_tz": -420
    },
    "id": "W8e1K8cw7GXg",
    "outputId": "fa941418-0ea3-4b46-ca8a-b5cd02eeafc5"
   },
   "outputs": [],
   "source": [
    "!pip install -U --target=/usr/local/lib/python3.6/dist-packages git+https://github.com/anhhuyalex/Ax.git\n",
    "  \n",
    "%cd /content\n",
    "# %cd /usr/local/lib/python3.6/dist-packages\n",
    "!rm -rf botorch\n",
    "%cd /content\n",
    "!git clone https://github.com/pytorch/botorch.git\n",
    "%cd botorch\n",
    "!pip install ."
   ]
  },
  {
   "cell_type": "code",
   "execution_count": 38,
   "metadata": {
    "colab": {},
    "colab_type": "code",
    "id": "EHRycZZi8LIG"
   },
   "outputs": [],
   "source": [
    "# %cd  /content/drive/My\\ Drive/Year\\ 4\\:\\ Synthesis/NS162\\:\\ Statistical\\ Mechanics/Renormalization\\ Research\\ Project/renormalization/supervised_convnet/t_2.269/3x3/\n",
    "import pickle\n",
    "# run_mode = \"frozen_convolution_no_center_relu\"\n",
    "# run_mode = \"frozen_convolution_pretrained_relu\"\n",
    "run_mode = \"unfrozen_convolution_relu9x9\"\n",
    "# run_mode = \"unfrozen_convolution_3_channels\"\n",
    "# run_mode = \"unfrozen_convolution_2_channels\"\n",
    "with open(f\"colab/hyperparameters_{run_mode}.pl\", \"rb\") as handle:\n",
    "    hyper = pickle.load(handle)"
   ]
  },
  {
   "cell_type": "code",
   "execution_count": 39,
   "metadata": {
    "colab": {},
    "colab_type": "code",
    "id": "xoF9RrpyEmXq"
   },
   "outputs": [
    {
     "name": "stderr",
     "output_type": "stream",
     "text": [
      "[INFO 10-10 19:52:22] ax.service.ax_client: Starting optimization with verbose logging. To disable logging, set the `verbose_logging` argument to `False`. Note that float values in the logs are rounded to 2 decimal points.\n",
      "[INFO 10-10 19:52:25] ModelBridge: Leaving out out-of-design observations for arms: 92_0, 67_0, 78_0, 80_0, 82_0, 79_0, 52_0, 71_0, 62_0, 49_0, 84_0, 89_0, 53_0, 81_0, 91_0, 68_0, 83_0, 50_0, 44_0, 87_0, 88_0, 85_0, 54_0, 69_0, 86_0, 45_0, 70_0, 47_0, 48_0, 42_0, 63_0, 46_0\n",
      "[INFO 10-10 19:52:25] ax.service.ax_client: Starting optimization with verbose logging. To disable logging, set the `verbose_logging` argument to `False`. Note that float values in the logs are rounded to 2 decimal points.\n"
     ]
    }
   ],
   "source": [
    "from ax import RangeParameter, ParameterType\n",
    "from ax.service.ax_client import AxClient\n",
    "from ax.plot.contour import plot_contour\n",
    "from ax.plot.trace import optimization_trace_single_method\n",
    "from ax.service.managed_loop import optimize\n",
    "from ax.utils.notebook.plotting import render, init_notebook_plotting\n",
    "\n",
    "ax_client = AxClient()\n",
    "ax_client = ax_client.from_json_snapshot(hyper[\"axclient\"])"
   ]
  },
  {
   "cell_type": "code",
   "execution_count": 40,
   "metadata": {
    "colab": {
     "base_uri": "https://localhost:8080/",
     "height": 170
    },
    "colab_type": "code",
    "executionInfo": {
     "elapsed": 714,
     "status": "ok",
     "timestamp": 1568197542631,
     "user": {
      "displayName": "Huy Nguyen",
      "photoUrl": "",
      "userId": "05352249580863404953"
     },
     "user_tz": -420
    },
    "id": "lG5oY3KxEmXu",
    "outputId": "3f543acf-1f4e-4cf6-abcc-663bdffa62da"
   },
   "outputs": [
    {
     "data": {
      "text/plain": [
       "({'batch_size': 1896,\n",
       "  'train_size': 3306,\n",
       "  'n_epochs': 171,\n",
       "  'lr': 0.0546726475191285,\n",
       "  'weight_decay': 0.00042262434757864525,\n",
       "  'betas0': 0.0400624244473615,\n",
       "  'betas1': 0.006810444317497676},\n",
       " ({'objective': 0.8849534889707429},\n",
       "  {'objective': {'objective': 8.309316275145565e-06}}))"
      ]
     },
     "execution_count": 40,
     "metadata": {},
     "output_type": "execute_result"
    }
   ],
   "source": [
    "#pre-trained\n",
    "ax_client.get_best_parameters()"
   ]
  },
  {
   "cell_type": "code",
   "execution_count": 19,
   "metadata": {
    "colab": {
     "base_uri": "https://localhost:8080/",
     "height": 170
    },
    "colab_type": "code",
    "executionInfo": {
     "elapsed": 708,
     "status": "ok",
     "timestamp": 1568197586016,
     "user": {
      "displayName": "Huy Nguyen",
      "photoUrl": "",
      "userId": "05352249580863404953"
     },
     "user_tz": -420
    },
    "id": "3vYC0iHeEmXz",
    "outputId": "22914b22-4b0b-4748-f9fa-9fbe6ba6c47b"
   },
   "outputs": [
    {
     "data": {
      "text/plain": [
       "({'batch_size': 2341,\n",
       "  'train_size': 5000,\n",
       "  'n_epochs': 250,\n",
       "  'lr': 0.0067611584271835305,\n",
       "  'weight_decay': 0.0002477503181772309,\n",
       "  'betas0': 0.19999999999975093,\n",
       "  'betas1': 0.0008113153986722758},\n",
       " ({'objective': 0.8986833817420053},\n",
       "  {'objective': {'objective': 0.0001319079991547474}}))"
      ]
     },
     "execution_count": 19,
     "metadata": {},
     "output_type": "execute_result"
    }
   ],
   "source": [
    "#unfrozen_convolution_relu\n",
    "ax_client.get_best_parameters()"
   ]
  },
  {
   "cell_type": "code",
   "execution_count": null,
   "metadata": {
    "colab": {
     "base_uri": "https://localhost:8080/",
     "height": 170
    },
    "colab_type": "code",
    "executionInfo": {
     "elapsed": 616,
     "status": "ok",
     "timestamp": 1568198954394,
     "user": {
      "displayName": "Huy Nguyen",
      "photoUrl": "",
      "userId": "05352249580863404953"
     },
     "user_tz": -420
    },
    "id": "_3_OONr6EmX4",
    "outputId": "36a3f486-4c0b-45e5-865c-fd29ca8d6e16"
   },
   "outputs": [],
   "source": [
    "#frozen_convolution_no_center_relu\n",
    "ax_client.get_best_parameters()"
   ]
  },
  {
   "cell_type": "code",
   "execution_count": null,
   "metadata": {
    "colab": {
     "base_uri": "https://localhost:8080/",
     "height": 170
    },
    "colab_type": "code",
    "executionInfo": {
     "elapsed": 733,
     "status": "ok",
     "timestamp": 1568291251724,
     "user": {
      "displayName": "Huy Nguyen",
      "photoUrl": "",
      "userId": "05352249580863404953"
     },
     "user_tz": -420
    },
    "id": "d8nPPW8kEmYf",
    "outputId": "1935d13a-4bf4-4d54-fc9d-54fb668e2400"
   },
   "outputs": [],
   "source": [
    "#unfrozen_convolution_2_channels\n",
    "ax_client.get_best_parameters()"
   ]
  },
  {
   "cell_type": "code",
   "execution_count": null,
   "metadata": {
    "colab": {
     "base_uri": "https://localhost:8080/",
     "height": 170
    },
    "colab_type": "code",
    "executionInfo": {
     "elapsed": 744,
     "status": "ok",
     "timestamp": 1568291305081,
     "user": {
      "displayName": "Huy Nguyen",
      "photoUrl": "",
      "userId": "05352249580863404953"
     },
     "user_tz": -420
    },
    "id": "WEQQyC0qcU7z",
    "outputId": "561e760a-4725-4207-dc90-58073f2259b4"
   },
   "outputs": [],
   "source": [
    "#unfrozen_convolution_3_channels\n",
    "ax_client.get_best_parameters()"
   ]
  },
  {
   "cell_type": "markdown",
   "metadata": {
    "colab_type": "text",
    "id": "RqrlALDXj3YE"
   },
   "source": [
    "# Mutual info calculation"
   ]
  },
  {
   "cell_type": "code",
   "execution_count": null,
   "metadata": {
    "colab": {
     "base_uri": "https://localhost:8080/",
     "height": 336
    },
    "colab_type": "code",
    "executionInfo": {
     "elapsed": 15486,
     "status": "ok",
     "timestamp": 1568638690415,
     "user": {
      "displayName": "Huy Nguyen",
      "photoUrl": "",
      "userId": "05352249580863404953"
     },
     "user_tz": -420
    },
    "id": "-SMZWMx6cdqa",
    "outputId": "16c918c5-3fc0-4a70-be97-39772ea5f475"
   },
   "outputs": [],
   "source": [
    "import matplotlib.pyplot as plt\n",
    "import train, frozen\n",
    "import sys\n",
    "sys.path.insert(0, \"../../\")\n",
    "import supervised_convnet\n",
    "import pickle\n",
    "from collections import defaultdict\n",
    "import numpy as np\n",
    "from matplotlib import rc\n",
    "rc('font',**{'size': 20})\n",
    "## for Palatino and other serif fonts use:\n",
    "#rc('font',**{'family':'serif','serif':['Palatino']})\n",
    "rc('text', usetex=True)"
   ]
  },
  {
   "cell_type": "code",
   "execution_count": null,
   "metadata": {
    "colab": {},
    "colab_type": "code",
    "id": "t70MQ4fHPhdj"
   },
   "outputs": [],
   "source": [
    "# Mutual information calculation\n",
    "import numpy as np\n",
    "from collections import defaultdict\n",
    "import hashlib\n",
    "correlated_data = np.load(\"../ising81x81_temp2.269.npy\")"
   ]
  },
  {
   "cell_type": "code",
   "execution_count": null,
   "metadata": {
    "colab": {
     "base_uri": "https://localhost:8080/",
     "height": 176
    },
    "colab_type": "code",
    "executionInfo": {
     "elapsed": 524,
     "status": "ok",
     "timestamp": 1568652985026,
     "user": {
      "displayName": "Huy Nguyen",
      "photoUrl": "",
      "userId": "05352249580863404953"
     },
     "user_tz": -420
    },
    "id": "E9L26gGGVu63",
    "outputId": "13797d27-6818-4140-8b73-c6b922a38f71"
   },
   "outputs": [],
   "source": [
    "correlated_data[0, :9, :9]"
   ]
  },
  {
   "cell_type": "code",
   "execution_count": null,
   "metadata": {
    "colab": {
     "base_uri": "https://localhost:8080/",
     "height": 1000
    },
    "colab_type": "code",
    "executionInfo": {
     "elapsed": 14128,
     "status": "ok",
     "timestamp": 1568653052793,
     "user": {
      "displayName": "Huy Nguyen",
      "photoUrl": "",
      "userId": "05352249580863404953"
     },
     "user_tz": -420
    },
    "id": "d0z6LeFIVwcc",
    "outputId": "7cad1d43-858a-4796-b74b-61693ae57f4e"
   },
   "outputs": [],
   "source": [
    "def get_key(array):\n",
    "    return hashlib.sha256(array.tostring()).hexdigest()\n",
    "  \n",
    "def normalize_counts(p_dict):\n",
    "    normalizer = sum(p_dict.values())\n",
    "    for config, count in p_dict.items():\n",
    "        p_dict[config] = count / normalizer\n",
    "    return p_dict\n",
    "\n",
    "def mutual_info_fine_grained_boundary_3(data):\n",
    "    \"\"\"\n",
    "    boundary is only the 3x3 bordering strip\n",
    "    x x *x* | *x* x x\n",
    "    x x *x* | *x* x x\n",
    "    x x *x* | *x* x x\n",
    "    \"\"\"\n",
    "    n_samples, n_rows, n_columns = data.shape\n",
    "    print(n_samples, n_rows, n_columns)\n",
    "    \n",
    "    # compute counts\n",
    "    p_xy = defaultdict(int)\n",
    "    p_x = defaultdict(int)\n",
    "    p_y = defaultdict(int)\n",
    "    n_samples = 200 # for testing, remove later\n",
    "    for sample in range(n_samples):\n",
    "        if sample % 100 == 0:\n",
    "            print(sample, p_xy)\n",
    "        for row in range(n_rows - 3):\n",
    "            for column in range(n_columns - 6):\n",
    "                rectangle = data[sample, row:(row + 3), column:(column+6)]\n",
    "                \n",
    "                boundary_x = rectangle[:, 3]\n",
    "                p_x[get_key(boundary_x)] += 1\n",
    "                boundary_y = rectangle[:, 3]\n",
    "                p_y[get_key(boundary_y)] += 1\n",
    "                joint_boundary = np.array([np.hstack((boundary_x, boundary_y))])\n",
    "                p_xy[get_key(joint_boundary)] += 1\n",
    "\n",
    "\n",
    "    # Normalize counts\n",
    "    p_xy = normalize_counts(p_xy)\n",
    "    p_x = normalize_counts(p_x)\n",
    "    p_y = normalize_counts(p_y)\n",
    "        \n",
    "        \n",
    "    \n",
    "    # Generate all possible configurations of boundary conditions\n",
    "    n = 6\n",
    "    i = np.array(np.indices(n * (2,))).reshape(n, -1)\n",
    "    xy_keys = (i[:, np.argsort(i.sum(0)[::-1], kind='mergesort')].T[::-1].reshape(-1, n)*2-1)\n",
    "\n",
    "    # mi = <log (p(x, y)/p(x)p(y))>\n",
    "    mi = 0\n",
    "    for xy in xy_keys:\n",
    "        joint_prob = p_xy[get_key(xy)]\n",
    "        x = xy[:3]\n",
    "        x_prob = p_x[get_key(x)]\n",
    "        y = xy[3:6]\n",
    "        y_prob = p_y[get_key(y)]\n",
    "        print(f\"xy: {xy}, joint_prob:_{joint_prob}, x_prob:_{x_prob}, y_prob:_{y_prob}\")\n",
    "        if joint_prob != 0:\n",
    "            mi += np.log2(joint_prob/(x_prob * y_prob)) * joint_prob\n",
    "        \n",
    "        \n",
    "            \n",
    "    return p_xy, p_x, p_y, mi\n",
    "\n",
    "p_xy, p_x, p_y, mi = mutual_info_fine_grained_boundary_3(correlated_data)"
   ]
  },
  {
   "cell_type": "code",
   "execution_count": null,
   "metadata": {
    "colab": {
     "base_uri": "https://localhost:8080/",
     "height": 34
    },
    "colab_type": "code",
    "executionInfo": {
     "elapsed": 661,
     "status": "ok",
     "timestamp": 1568616861974,
     "user": {
      "displayName": "Huy Nguyen",
      "photoUrl": "",
      "userId": "05352249580863404953"
     },
     "user_tz": -420
    },
    "id": "FkQ-s8hMd8Bj",
    "outputId": "23b4185c-d1f5-43a4-ff9a-cc89f743726a"
   },
   "outputs": [],
   "source": [
    "len(p_xy.keys())"
   ]
  },
  {
   "cell_type": "code",
   "execution_count": null,
   "metadata": {
    "colab": {
     "base_uri": "https://localhost:8080/",
     "height": 34
    },
    "colab_type": "code",
    "executionInfo": {
     "elapsed": 621,
     "status": "ok",
     "timestamp": 1568653054144,
     "user": {
      "displayName": "Huy Nguyen",
      "photoUrl": "",
      "userId": "05352249580863404953"
     },
     "user_tz": -420
    },
    "id": "KE4R4FRsiQTV",
    "outputId": "f010edd5-1fa3-4bf6-8a71-7bb0a63ba1b4"
   },
   "outputs": [],
   "source": [
    "mi #100"
   ]
  },
  {
   "cell_type": "code",
   "execution_count": null,
   "metadata": {
    "colab": {
     "base_uri": "https://localhost:8080/",
     "height": 1000,
     "output_embedded_package_id": "1S8KageUn4_TOlH_mW3QJkwDe-LGsDOVt"
    },
    "colab_type": "code",
    "executionInfo": {
     "elapsed": 1653644,
     "status": "ok",
     "timestamp": 1568640530753,
     "user": {
      "displayName": "Huy Nguyen",
      "photoUrl": "",
      "userId": "05352249580863404953"
     },
     "user_tz": -420
    },
    "id": "X9y3o1WJmxcn",
    "outputId": "411cd578-2991-4b22-fa16-f81015b3ff48"
   },
   "outputs": [],
   "source": [
    "def get_key(array):\n",
    "    return hashlib.sha256(array.tostring()).hexdigest()\n",
    "  \n",
    "def normalize_counts(p_dict):\n",
    "    normalizer = sum(p_dict.values())\n",
    "    for config, count in p_dict.items():\n",
    "        p_dict[config] = count / normalizer\n",
    "    return p_dict\n",
    "\n",
    "def mutual_info_fine_grained_5(data):\n",
    "    \"\"\"\n",
    "    boundary is the 3x3 bordering strip and the 2 non-central spins bordering the border\n",
    "    x *x* *x* | *x* *x* x\n",
    "    x  x  *x* | *x*  x  x\n",
    "    x *x* *x* | *x* *x* x\n",
    "    \"\"\"\n",
    "    n_samples, n_rows, n_columns = data.shape\n",
    "    print(n_samples, n_rows, n_columns)\n",
    "    \n",
    "    # compute counts\n",
    "    p_xy = defaultdict(int)\n",
    "    p_x = defaultdict(int)\n",
    "    p_y = defaultdict(int)\n",
    "    # n_samples = 100 # for testing, remove later\n",
    "    for sample in range(n_samples):\n",
    "        if sample % 100 == 0:\n",
    "            print(sample, p_xy)\n",
    "        for row in range(n_rows - 3):\n",
    "            for column in range(n_columns - 6):\n",
    "                rectangle = data[sample, row:(row + 3), column:(column+6)]\n",
    "                boundary_x = np.hstack((rectangle[:, 2], rectangle[0, 1], rectangle[2, 1]))\n",
    "                p_x[get_key(boundary_x)] += 1\n",
    "                boundary_y = np.hstack((rectangle[:, 3], rectangle[0, 4], rectangle[2, 4]))\n",
    "                p_y[get_key(boundary_y)] += 1\n",
    "                joint_boundary = np.array([np.hstack((boundary_x, boundary_y))])\n",
    "                p_xy[get_key(joint_boundary)] += 1\n",
    "                \n",
    "\n",
    "\n",
    "    # Normalize counts\n",
    "    p_xy = normalize_counts(p_xy)\n",
    "    p_x = normalize_counts(p_x)\n",
    "    p_y = normalize_counts(p_y)\n",
    "        \n",
    "        \n",
    "    \n",
    "    # Generate all possible configurations of boundary conditions\n",
    "    n = 10\n",
    "    i = np.array(np.indices(n * (2,))).reshape(n, -1)\n",
    "    xy_keys = (i[:, np.argsort(i.sum(0)[::-1], kind='mergesort')].T[::-1].reshape(-1, n)*2-1)\n",
    "\n",
    "    # mi = <log (p(x, y)/p(x)p(y))>\n",
    "    mi = 0\n",
    "    no_config = []\n",
    "    for xy in xy_keys:\n",
    "        joint_prob = p_xy[get_key(xy)]\n",
    "        x = xy[0:5]\n",
    "        x_prob = p_x[get_key(x)]\n",
    "        y = xy[5:10]\n",
    "        y_prob = p_y[get_key(y)]\n",
    "#         print(f\"boundary_x:{x}\")\n",
    "        if joint_prob != 0:\n",
    "            mi += np.log2(joint_prob/(x_prob * y_prob)) * joint_prob\n",
    "            no_config.append(xy)\n",
    "        \n",
    "        \n",
    "            \n",
    "    return p_xy, p_x, p_y, mi, no_config\n",
    "\n",
    "p_xy, p_x, p_y, mi, no_config = mutual_info_fine_grained_all(correlated_data)"
   ]
  },
  {
   "cell_type": "code",
   "execution_count": null,
   "metadata": {
    "colab": {
     "base_uri": "https://localhost:8080/",
     "height": 34
    },
    "colab_type": "code",
    "executionInfo": {
     "elapsed": 637,
     "status": "ok",
     "timestamp": 1568640539639,
     "user": {
      "displayName": "Huy Nguyen",
      "photoUrl": "",
      "userId": "05352249580863404953"
     },
     "user_tz": -420
    },
    "id": "4S_AglufwYBz",
    "outputId": "cc868d4d-bcf4-4a5c-c3e4-6027aa69b770"
   },
   "outputs": [],
   "source": [
    "mi"
   ]
  },
  {
   "cell_type": "code",
   "execution_count": null,
   "metadata": {
    "colab": {
     "base_uri": "https://localhost:8080/",
     "height": 34
    },
    "colab_type": "code",
    "executionInfo": {
     "elapsed": 677,
     "status": "ok",
     "timestamp": 1568640551607,
     "user": {
      "displayName": "Huy Nguyen",
      "photoUrl": "",
      "userId": "05352249580863404953"
     },
     "user_tz": -420
    },
    "id": "HMPR5nLuwgEN",
    "outputId": "54eea547-d221-43c3-c1fd-df618fc8f8ea"
   },
   "outputs": [],
   "source": [
    "len(no_config)"
   ]
  },
  {
   "cell_type": "code",
   "execution_count": null,
   "metadata": {
    "colab": {},
    "colab_type": "code",
    "id": "pt1Zyol4O07Y"
   },
   "outputs": [],
   "source": [
    "with open(\"unfrozen_convolution_relu.pl\", \"rb\") as handle:\n",
    "    results = pickle.load(handle)\n",
    "w = results[\"conv_params\"]\n",
    "b = results[\"best_val_acc_hist\"]"
   ]
  },
  {
   "cell_type": "code",
   "execution_count": null,
   "metadata": {
    "colab": {
     "base_uri": "https://localhost:8080/",
     "height": 34
    },
    "colab_type": "code",
    "executionInfo": {
     "elapsed": 655,
     "status": "ok",
     "timestamp": 1568641939143,
     "user": {
      "displayName": "Huy Nguyen",
      "photoUrl": "",
      "userId": "05352249580863404953"
     },
     "user_tz": -420
    },
    "id": "aNFf3eDnV-Tt",
    "outputId": "cca9868b-e9bc-475e-bdef-6a4517683976"
   },
   "outputs": [],
   "source": [
    "np.argmax(b)"
   ]
  },
  {
   "cell_type": "code",
   "execution_count": null,
   "metadata": {
    "colab": {
     "base_uri": "https://localhost:8080/",
     "height": 34
    },
    "colab_type": "code",
    "executionInfo": {
     "elapsed": 1548,
     "status": "ok",
     "timestamp": 1568642047015,
     "user": {
      "displayName": "Huy Nguyen",
      "photoUrl": "",
      "userId": "05352249580863404953"
     },
     "user_tz": -420
    },
    "id": "cuAPMXpxWJug",
    "outputId": "60712a6c-1b27-428b-bb30-593b711a68a8"
   },
   "outputs": [],
   "source": [
    "w[\"bias\"][314]"
   ]
  },
  {
   "cell_type": "code",
   "execution_count": null,
   "metadata": {
    "colab": {},
    "colab_type": "code",
    "id": "Ah37_2amCswG"
   },
   "outputs": [],
   "source": [
    "import torch\n",
    "import torch.nn as nn\n",
    "from torch.utils.data import DataLoader\n",
    "import torch.nn.functional as F\n",
    "from torch.utils.tensorboard import SummaryWriter\n",
    "from torch.autograd import Variable\n",
    "\n",
    "class SupervisedConvNet(nn.Module):\n",
    "    def __init__(self, filter_size, square_size, hidden_size, num_hidden_layers, center,\n",
    "                first_activation = \"tanh\", activation_func = \"sigmoid\",\n",
    "                out_channels = 1):\n",
    "        \"\"\"\n",
    "        Arguments:\n",
    "        filter_size ~ size of the convolution kernel (3 x 3)\n",
    "        square size ~ how many strides of convolution in the input\n",
    "        \"\"\"\n",
    "        super(SupervisedConvNet, self).__init__()\n",
    "        self.filter_size = filter_size\n",
    "        self.square_size = square_size\n",
    "        self.hidden_size = hidden_size\n",
    "        self.out_channels = out_channels\n",
    "        if first_activation == \"tanh\":\n",
    "            self.first_activation = torch.tanh\n",
    "        elif first_activation == \"relu\":\n",
    "            self.first_activation = torch.nn.LeakyReLU(0.1)\n",
    "        if activation_func == \"sigmoid\":\n",
    "            self.activation_func = torch.sigmoid\n",
    "        elif activation_func == \"relu\":\n",
    "            self.activation_func = torch.nn.LeakyReLU(0.1)\n",
    "\n",
    "        self.conv1 = nn.Conv2d(1, out_channels, filter_size, padding=0, stride = filter_size)\n",
    "        # parameters\n",
    "        param = {}\n",
    "        if center == \"keep\":\n",
    "            param['conv2d.weight'] = torch.tensor([[[[1.0, 1.0, 1.0],\n",
    "                      [1.0, 1.0, 1.0],\n",
    "                      [1.0, 1.0, 1.0]]]])/9\n",
    "            param['conv2d.bias'] = torch.tensor([0.0])\n",
    "            self.conv1.bias = torch.nn.Parameter(param['conv2d.bias'], requires_grad=False)\n",
    "        elif center == \"omit\":\n",
    "            param['conv2d.weight'] = torch.tensor([[[[1.0, 1.0, 1.0],\n",
    "                      [1.0, 0.0, 1.0],\n",
    "                      [1.0, 1.0, 1.0]]]])/8\n",
    "            # param['conv2d.bias'] = torch.tensor([0.0])\n",
    "        elif center == \"pre_trained\":\n",
    "            param['conv2d.weight'] = torch.tensor([[[[-0.0900, -0.0407, -0.0965],\n",
    "          [-0.0413, -0.0011, -0.0363],\n",
    "          [-0.0906, -0.0344, -0.0908]]]])\n",
    "            param['conv2d.bias'] = torch.tensor([-0.0345])\n",
    "            self.conv1.bias = torch.nn.Parameter(param['conv2d.bias'], requires_grad=False)\n",
    "        self.conv1.weight = torch.nn.Parameter(param['conv2d.weight'], requires_grad=False)\n",
    "\n",
    "\n",
    "        self.first_linear = nn.Linear(self.out_channels * square_size ** 2, hidden_size)\n",
    "        hidden_layer = [nn.Linear(hidden_size, hidden_size) for _ in range(num_hidden_layers)]\n",
    "        self.linear_hidden = nn.ModuleList(hidden_layer)\n",
    "        self.linear_output = nn.Linear(hidden_size, 1)\n",
    "\n",
    "\n",
    "\n",
    "    def forward(self, x):\n",
    "        x = self.first_activation(self.conv1(x))#.view(-1, 1, self.out_channels * self.square_size**2)\n",
    "#         x = self.activation_func(self.first_linear(x))\n",
    "#         for linear in self.linear_hidden:\n",
    "#             x = self.activation_func(linear(x))\n",
    "#         x = torch.sigmoid(self.linear_output(x))\n",
    "#         x = x.squeeze(1)\n",
    "\n",
    "        return x"
   ]
  },
  {
   "cell_type": "code",
   "execution_count": null,
   "metadata": {
    "colab": {},
    "colab_type": "code",
    "id": "5CEPZD11Xkno"
   },
   "outputs": [],
   "source": [
    "def coarse_grain_unfrozen_conv(correlated_data = correlated_data):\n",
    "    run_mode = \"frozen_convolution_pretrained_relu\"\n",
    "    mode = \"run\"\n",
    "    if mode == \"run\":\n",
    "        hidden_size = 10\n",
    "        out_channels = 1\n",
    "        num_hidden_layers = 1\n",
    "        conv_params = defaultdict(list)\n",
    "\n",
    "\n",
    "        if run_mode == \"frozen_convolution_pretrained_relu\":\n",
    "            \"\"\"\n",
    "            \"\"\"\n",
    "            run_num = 1\n",
    "            filename = f\"frozen_convolution_pretrained_relu_{run_num}.pl\"\n",
    "            out_channels = 1\n",
    "            try:\n",
    "                with open(filename, \"rb\") as handle:\n",
    "                    results = pickle.load(handle)\n",
    "            except:\n",
    "                results = []\n",
    "            results = []\n",
    "            model = SupervisedConvNet(filter_size = 3, square_size = 27, \\\n",
    "                    hidden_size = hidden_size, out_channels = out_channels,\n",
    "                    center = \"pre_trained\", first_activation = \"tanh\",\n",
    "                    activation_func = \"relu\", num_hidden_layers = num_hidden_layers)\n",
    "            data = torch.tensor(correlated_data).unsqueeze(1).type('torch.FloatTensor')\n",
    "            out = model(data)\n",
    "\n",
    "    return out\n",
    "\n",
    "def coarse_grain_frozen_conv(correlated_data = correlated_data):\n",
    "    run_mode = \"frozen_convolution_pretrained_relu\"\n",
    "    mode = \"run\"\n",
    "    if mode == \"run\":\n",
    "        hidden_size = 10\n",
    "        out_channels = 1\n",
    "        num_hidden_layers = 1\n",
    "        conv_params = defaultdict(list)\n",
    "\n",
    "\n",
    "        if run_mode == \"frozen_convolution_pretrained_relu\":\n",
    "            \"\"\"\n",
    "            \"\"\"\n",
    "            run_num = 1\n",
    "            filename = f\"frozen_convolution_pretrained_relu_{run_num}.pl\"\n",
    "            out_channels = 1\n",
    "            try:\n",
    "                with open(filename, \"rb\") as handle:\n",
    "                    results = pickle.load(handle)\n",
    "            except:\n",
    "                results = []\n",
    "            results = []\n",
    "            model = SupervisedConvNet(filter_size = 3, square_size = 27, \\\n",
    "                    hidden_size = hidden_size, out_channels = out_channels,\n",
    "                    center = \"pre_trained\", first_activation = \"tanh\",\n",
    "                    activation_func = \"relu\", num_hidden_layers = num_hidden_layers)\n",
    "            data = torch.tensor(correlated_data).unsqueeze(1).type('torch.FloatTensor')\n",
    "            out = model(data)\n",
    "\n",
    "    return out\n",
    "\n"
   ]
  },
  {
   "cell_type": "code",
   "execution_count": null,
   "metadata": {
    "colab": {
     "base_uri": "https://localhost:8080/",
     "height": 34
    },
    "colab_type": "code",
    "executionInfo": {
     "elapsed": 514,
     "status": "ok",
     "timestamp": 1568645582583,
     "user": {
      "displayName": "Huy Nguyen",
      "photoUrl": "",
      "userId": "05352249580863404953"
     },
     "user_tz": -420
    },
    "id": "sn9Kk6aoiN2z",
    "outputId": "12ae9cbe-99ab-402a-967a-ce128d554b3e"
   },
   "outputs": [],
   "source": [
    "out[0].shape"
   ]
  },
  {
   "cell_type": "code",
   "execution_count": null,
   "metadata": {
    "colab": {
     "base_uri": "https://localhost:8080/",
     "height": 176
    },
    "colab_type": "code",
    "executionInfo": {
     "elapsed": 591,
     "status": "ok",
     "timestamp": 1568645325481,
     "user": {
      "displayName": "Huy Nguyen",
      "photoUrl": "",
      "userId": "05352249580863404953"
     },
     "user_tz": -420
    },
    "id": "tB8nlaNki-AC",
    "outputId": "ad5a85f5-c0eb-49f4-da30-8811adc497c3"
   },
   "outputs": [],
   "source": [
    "correlated_data[0, :9, :9]"
   ]
  },
  {
   "cell_type": "code",
   "execution_count": null,
   "metadata": {
    "colab": {
     "base_uri": "https://localhost:8080/",
     "height": 1000
    },
    "colab_type": "code",
    "executionInfo": {
     "elapsed": 1757,
     "status": "ok",
     "timestamp": 1568645654068,
     "user": {
      "displayName": "Huy Nguyen",
      "photoUrl": "",
      "userId": "05352249580863404953"
     },
     "user_tz": -420
    },
    "id": "d_t9TAmcisrT",
    "outputId": "a287ae89-39de-466d-9e27-54f0ab2fc693"
   },
   "outputs": [],
   "source": [
    "coarse_grain_unfrozen_conv()[0]"
   ]
  },
  {
   "cell_type": "code",
   "execution_count": null,
   "metadata": {
    "colab": {
     "base_uri": "https://localhost:8080/",
     "height": 1000,
     "output_embedded_package_id": "1yju0GDxketM6G3hFnlF0CzBXpJi3Kni5"
    },
    "colab_type": "code",
    "executionInfo": {
     "elapsed": 103222,
     "status": "ok",
     "timestamp": 1568656564676,
     "user": {
      "displayName": "Huy Nguyen",
      "photoUrl": "",
      "userId": "05352249580863404953"
     },
     "user_tz": -420
    },
    "id": "1nHiQq3Ri5jm",
    "outputId": "e5cf7618-3af4-4ae1-e2f3-3a284395f36c"
   },
   "outputs": [],
   "source": [
    "def mutual_info_coarse_grain(data):\n",
    "    \"\"\"\n",
    "    data ~ coarse-grained data\n",
    "    \"\"\"\n",
    "    data = np.round(data * 32)/32 # discretize data\n",
    "    data = data.astype(\"float64\")\n",
    "    print(f\"data: {data.dtype}\")\n",
    "    n_samples, n_rows, n_columns = data.shape\n",
    "    print(n_samples, n_rows, n_columns)\n",
    "    \n",
    "    # compute counts\n",
    "    p_xy = defaultdict(int)\n",
    "    p_x = defaultdict(int)\n",
    "    p_y = defaultdict(int)\n",
    "#     n_samples = 100 # for testing, remove later\n",
    "    for sample in range(n_samples):\n",
    "        if sample % 100 == 0:\n",
    "            print(sample, p_xy)\n",
    "        for row in range(n_rows):\n",
    "            for column in range(n_columns - 1):\n",
    "                rectangle = data[sample, row, column:(column+2)]\n",
    "                \n",
    "                boundary_x = rectangle[0] #np.hstack((rectangle[0]))\n",
    "                p_x[get_key(boundary_x)] += 1\n",
    "                boundary_y = rectangle[1] #np.hstack((rectangle[1]))\n",
    "                p_y[get_key(boundary_y)] += 1\n",
    "                joint_boundary = np.hstack((boundary_x, boundary_y))\n",
    "                \n",
    "#                 return\n",
    "                p_xy[get_key(joint_boundary)] += 1\n",
    "    print(f\"rectangle_{rectangle}, boundary_x: {boundary_x}, boundary_y: {boundary_y}, joint_boundary: {joint_boundary}\")\n",
    "\n",
    "\n",
    "    # Normalize counts\n",
    "    p_xy = normalize_counts(p_xy)\n",
    "    p_x = normalize_counts(p_x)\n",
    "    p_y = normalize_counts(p_y)\n",
    "        \n",
    "        \n",
    "    \n",
    "    # Generate all possible configurations of boundary conditions\n",
    "#     n = 2\n",
    "#     i = np.array(np.indices(n * (2,))).reshape(n, -1)\n",
    "#     xy_keys = (i[:, np.argsort(i.sum(0)[::-1], kind='mergesort')].T[::-1].reshape(-1, n)*2-1)\n",
    "#     xy_keys = xy_keys.astype(\"float64\")\n",
    "    n = np.arange(-1, 1, 1/32)\n",
    "    xy = []\n",
    "    for x in n:\n",
    "        for y in n:\n",
    "            xy.append(np.array([x, y]))\n",
    "    xy_keys = np.array(xy).astype(\"float64\")\n",
    "    print(f\"xy_keys: {xy_keys.dtype}\")\n",
    "#     xy_keys = np.array(xy_keys, dtype = float)\n",
    "\n",
    "    # mi = <log (p(x, y)/p(x)p(y))>\n",
    "    mi = 0\n",
    "    no_config = []\n",
    "    for xy in xy_keys:\n",
    "#         print(xy)\n",
    "        joint_prob = p_xy[get_key(xy)]\n",
    "        x = xy[0]\n",
    "        x_prob = p_x[get_key(x)]\n",
    "        y = xy[1]\n",
    "        y_prob = p_y[get_key(y)]\n",
    "#         print(f\"boundary_x:{x}\")\n",
    "        if joint_prob != 0:\n",
    "            mi += np.log2(joint_prob/(x_prob * y_prob)) * joint_prob\n",
    "        else:\n",
    "            no_config.append(xy)\n",
    "        \n",
    "        \n",
    "            \n",
    "    return p_xy, p_x, p_y, mi, no_config\n",
    "\n",
    "unfrozen = coarse_grain_unfrozen_conv(correlated_data).squeeze(1).numpy()\n",
    "p_xy, p_x, p_y, mi, no_config = mutual_info_coarse_grain(unfrozen)\n",
    "print(f\"p_xy: \")\n",
    "print(p_xy)\n",
    "print(f\"p_x: {p_x}\")\n",
    "print(f\"p_y: {p_y}\")\n",
    "print(f\"mi: {mi}\")"
   ]
  },
  {
   "cell_type": "code",
   "execution_count": null,
   "metadata": {
    "colab": {
     "base_uri": "https://localhost:8080/",
     "height": 1000
    },
    "colab_type": "code",
    "executionInfo": {
     "elapsed": 104571,
     "status": "ok",
     "timestamp": 1568656718209,
     "user": {
      "displayName": "Huy Nguyen",
      "photoUrl": "",
      "userId": "05352249580863404953"
     },
     "user_tz": -420
    },
    "id": "Mo0cFGOStITf",
    "outputId": "d139515c-c035-44be-8777-a22bb0d5748a"
   },
   "outputs": [],
   "source": [
    "frozen = coarse_grain_frozen_conv(correlated_data).squeeze(1)\n",
    "p_xy, p_x, p_y, mi, no_config = mutual_info_coarse_grain(frozen.detach().numpy())\n",
    "print(f\"p_xy: {p_xy}\")\n",
    "print(f\"p_x: {p_x}\")\n",
    "print(f\"p_y: {p_y}\")\n",
    "print(f\"mi: {mi}\")"
   ]
  },
  {
   "cell_type": "code",
   "execution_count": null,
   "metadata": {
    "colab": {
     "base_uri": "https://localhost:8080/",
     "height": 34
    },
    "colab_type": "code",
    "executionInfo": {
     "elapsed": 632,
     "status": "ok",
     "timestamp": 1568648789624,
     "user": {
      "displayName": "Huy Nguyen",
      "photoUrl": "",
      "userId": "05352249580863404953"
     },
     "user_tz": -420
    },
    "id": "t2hdHwrpuuyh",
    "outputId": "e7f35ef5-1fcd-4067-f894-7cd8d9c06eab"
   },
   "outputs": [],
   "source": [
    "mi"
   ]
  },
  {
   "cell_type": "markdown",
   "metadata": {
    "colab_type": "text",
    "id": "7USCSeQy3D91"
   },
   "source": [
    "# Plot images"
   ]
  },
  {
   "cell_type": "code",
   "execution_count": null,
   "metadata": {
    "colab": {
     "base_uri": "https://localhost:8080/",
     "height": 731
    },
    "colab_type": "code",
    "executionInfo": {
     "elapsed": 1087,
     "status": "ok",
     "timestamp": 1568650298409,
     "user": {
      "displayName": "Huy Nguyen",
      "photoUrl": "",
      "userId": "05352249580863404953"
     },
     "user_tz": -420
    },
    "id": "r5m_f253wPoz",
    "outputId": "d0202665-aaeb-43f3-bda0-648e4369c5d1"
   },
   "outputs": [],
   "source": [
    "plt.imshow(correlated_data[0])\n",
    "plt.xticks([])\n",
    "plt.yticks([])\n",
    "plt.show()\n",
    "plt.imshow(-unfrozen[0])\n",
    "plt.xticks([])\n",
    "plt.yticks([])\n",
    "plt.show()\n",
    "plt.imshow(np.sign(-unfrozen[0]))\n",
    "plt.xticks([])\n",
    "plt.yticks([])\n",
    "plt.show()"
   ]
  },
  {
   "cell_type": "code",
   "execution_count": null,
   "metadata": {
    "colab": {
     "base_uri": "https://localhost:8080/",
     "height": 272
    },
    "colab_type": "code",
    "executionInfo": {
     "elapsed": 2249,
     "status": "ok",
     "timestamp": 1568649986388,
     "user": {
      "displayName": "Huy Nguyen",
      "photoUrl": "",
      "userId": "05352249580863404953"
     },
     "user_tz": -420
    },
    "id": "3tFhdqr_ycXR",
    "outputId": "dac69600-7e2d-468c-d0e3-21e41e1764b6"
   },
   "outputs": [],
   "source": [
    "uncorrelated_data = np.load(\"../81x81/ising81x81_temp2.269_uncorrelated81x81.npy\")\n",
    "plt.imshow(uncorrelated_data[0])\n",
    "plt.xticks([])\n",
    "plt.yticks([])"
   ]
  },
  {
   "cell_type": "code",
   "execution_count": null,
   "metadata": {
    "colab": {},
    "colab_type": "code",
    "id": "3BLW2P_Q0KT2"
   },
   "outputs": [],
   "source": []
  }
 ],
 "metadata": {
  "accelerator": "GPU",
  "colab": {
   "collapsed_sections": [],
   "name": "analysis.ipynb",
   "provenance": [],
   "version": "0.3.2"
  },
  "kernelspec": {
   "display_name": "Python (Renormalization)",
   "language": "python",
   "name": "renormalization"
  },
  "language_info": {
   "codemirror_mode": {
    "name": "ipython",
    "version": 3
   },
   "file_extension": ".py",
   "mimetype": "text/x-python",
   "name": "python",
   "nbconvert_exporter": "python",
   "pygments_lexer": "ipython3",
   "version": "3.7.3"
  }
 },
 "nbformat": 4,
 "nbformat_minor": 1
}
