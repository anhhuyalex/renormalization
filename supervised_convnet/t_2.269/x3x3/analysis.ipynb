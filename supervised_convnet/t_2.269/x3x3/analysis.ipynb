{
 "cells": [
  {
   "cell_type": "code",
   "execution_count": 2,
   "metadata": {
    "colab": {
     "base_uri": "https://localhost:8080/",
     "height": 1000
    },
    "colab_type": "code",
    "executionInfo": {
     "elapsed": 77527,
     "status": "ok",
     "timestamp": 1568651365164,
     "user": {
      "displayName": "Huy Nguyen",
      "photoUrl": "",
      "userId": "05352249580863404953"
     },
     "user_tz": -420
    },
    "id": "gFbSg3DYPksR",
    "outputId": "34a78c2c-91cb-4968-aa95-3b45142105d4"
   },
   "outputs": [
    {
     "name": "stdout",
     "output_type": "stream",
     "text": [
      "\r",
      "0% [Working]\r",
      "            \r",
      "Ign:1 https://developer.download.nvidia.com/compute/cuda/repos/ubuntu1804/x86_64  InRelease\n",
      "\r",
      "0% [Waiting for headers] [Waiting for headers] [Waiting for headers] [Waiting f\r",
      "                                                                               \r",
      "Get:2 https://cloud.r-project.org/bin/linux/ubuntu bionic-cran35/ InRelease [3,626 B]\n",
      "\r",
      "0% [Waiting for headers] [Waiting for headers] [2 InRelease 0 B/3,626 B 0%] [Wa\r",
      "0% [Waiting for headers] [Waiting for headers] [Waiting for headers] [Waiting f\r",
      "0% [2 InRelease gpgv 3,626 B] [Waiting for headers] [Waiting for headers] [Wait\r",
      "                                                                               \r",
      "Hit:3 http://archive.ubuntu.com/ubuntu bionic InRelease\n",
      "\r",
      "0% [2 InRelease gpgv 3,626 B] [Waiting for headers] [Waiting for headers] [Wait\r",
      "                                                                               \r",
      "Get:4 http://security.ubuntu.com/ubuntu bionic-security InRelease [88.7 kB]\n",
      "\r",
      "                                                                               \r",
      "Get:5 http://ppa.launchpad.net/graphics-drivers/ppa/ubuntu bionic InRelease [21.3 kB]\n",
      "\r",
      "0% [2 InRelease gpgv 3,626 B] [Connecting to archive.ubuntu.com (91.189.88.24)]\r",
      "                                                                               \r",
      "Ign:6 https://developer.download.nvidia.com/compute/machine-learning/repos/ubuntu1804/x86_64  InRelease\n",
      "\r",
      "0% [2 InRelease gpgv 3,626 B] [Connecting to archive.ubuntu.com (91.189.88.24)]\r",
      "                                                                               \r",
      "Get:7 https://developer.download.nvidia.com/compute/cuda/repos/ubuntu1804/x86_64  Release [564 B]\n",
      "\r",
      "0% [2 InRelease gpgv 3,626 B] [Connecting to archive.ubuntu.com (91.189.88.24)]\r",
      "                                                                               \r",
      "Hit:8 https://developer.download.nvidia.com/compute/machine-learning/repos/ubuntu1804/x86_64  Release\n",
      "\r",
      "0% [2 InRelease gpgv 3,626 B] [Connecting to archive.ubuntu.com (91.189.88.24)]\r",
      "                                                                               \r",
      "Get:9 https://developer.download.nvidia.com/compute/cuda/repos/ubuntu1804/x86_64  Release.gpg [819 B]\n",
      "\r",
      "0% [2 InRelease gpgv 3,626 B] [Waiting for headers] [4 InRelease 17.0 kB/88.7 k\r",
      "0% [2 InRelease gpgv 3,626 B] [Waiting for headers] [4 InRelease 22.8 kB/88.7 k\r",
      "0% [Waiting for headers] [4 InRelease 43.1 kB/88.7 kB 49%] [Connecting to ppa.l\r",
      "0% [3 InRelease gpgv 242 kB] [Waiting for headers] [4 InRelease 43.1 kB/88.7 kB\r",
      "                                                                               \r",
      "Get:10 http://archive.ubuntu.com/ubuntu bionic-updates InRelease [88.7 kB]\n",
      "\r",
      "0% [3 InRelease gpgv 242 kB] [10 InRelease 2,584 B/88.7 kB 3%] [4 InRelease 48.\r",
      "                                                                               \r",
      "Get:11 https://cloud.r-project.org/bin/linux/ubuntu bionic-cran35/ Packages [70.5 kB]\n",
      "Get:12 http://ppa.launchpad.net/marutter/c2d4u3.5/ubuntu bionic InRelease [15.4 kB]\n",
      "Get:14 https://developer.download.nvidia.com/compute/cuda/repos/ubuntu1804/x86_64  Packages [113 kB]\n",
      "Get:15 http://archive.ubuntu.com/ubuntu bionic-backports InRelease [74.6 kB]\n",
      "Get:16 http://ppa.launchpad.net/graphics-drivers/ppa/ubuntu bionic/main amd64 Packages [31.5 kB]\n",
      "Get:17 http://security.ubuntu.com/ubuntu bionic-security/universe amd64 Packages [766 kB]\n",
      "Get:18 http://ppa.launchpad.net/marutter/c2d4u3.5/ubuntu bionic/main Sources [1,686 kB]\n",
      "Get:19 http://archive.ubuntu.com/ubuntu bionic-updates/main amd64 Packages [946 kB]\n",
      "Get:20 http://security.ubuntu.com/ubuntu bionic-security/restricted amd64 Packages [8,385 B]\n",
      "Get:21 http://security.ubuntu.com/ubuntu bionic-security/multiverse amd64 Packages [4,952 B]\n",
      "Get:22 http://archive.ubuntu.com/ubuntu bionic-updates/multiverse amd64 Packages [7,998 B]\n",
      "Get:23 http://ppa.launchpad.net/marutter/c2d4u3.5/ubuntu bionic/main amd64 Packages [810 kB]\n",
      "Get:24 http://security.ubuntu.com/ubuntu bionic-security/main amd64 Packages [649 kB]\n",
      "Get:25 http://archive.ubuntu.com/ubuntu bionic-updates/universe amd64 Packages [1,284 kB]\n",
      "Get:26 http://archive.ubuntu.com/ubuntu bionic-updates/restricted amd64 Packages [19.0 kB]\n",
      "Get:27 http://archive.ubuntu.com/ubuntu bionic-backports/universe amd64 Packages [4,227 B]\n",
      "Fetched 6,694 kB in 3s (2,138 kB/s)\n",
      "Reading package lists... Done\n",
      "Reading package lists... Done\n",
      "Building dependency tree       \n",
      "Reading state information... Done\n",
      "The following additional packages will be installed:\n",
      "  fonts-droid-fallback fonts-lmodern fonts-noto-mono libcupsfilters1\n",
      "  libcupsimage2 libgs9 libgs9-common libijs-0.35 libjbig2dec0 libkpathsea6\n",
      "  libpotrace0 libptexenc1 libsynctex1 libtexlua52 libtexluajit2 libzzip-0-13\n",
      "  lmodern poppler-data t1utils tex-common texlive-base texlive-binaries\n",
      "  texlive-latex-base\n",
      "Suggested packages:\n",
      "  fonts-noto poppler-utils ghostscript fonts-japanese-mincho\n",
      "  | fonts-ipafont-mincho fonts-japanese-gothic | fonts-ipafont-gothic\n",
      "  fonts-arphic-ukai fonts-arphic-uming fonts-nanum debhelper gv\n",
      "  | postscript-viewer perl-tk xpdf-reader | pdf-viewer texlive-latex-base-doc\n",
      "  texlive-latex-recommended-doc texlive-pstricks\n",
      "The following NEW packages will be installed:\n",
      "  fonts-droid-fallback fonts-lmodern fonts-noto-mono libcupsfilters1\n",
      "  libcupsimage2 libgs9 libgs9-common libijs-0.35 libjbig2dec0 libkpathsea6\n",
      "  libpotrace0 libptexenc1 libsynctex1 libtexlua52 libtexluajit2 libzzip-0-13\n",
      "  lmodern poppler-data t1utils tex-common texlive-base texlive-binaries\n",
      "  texlive-latex-base texlive-latex-recommended\n",
      "0 upgraded, 24 newly installed, 0 to remove and 76 not upgraded.\n",
      "Need to get 68.4 MB of archives.\n",
      "After this operation, 223 MB of additional disk space will be used.\n",
      "Get:1 http://archive.ubuntu.com/ubuntu bionic/main amd64 fonts-droid-fallback all 1:6.0.1r16-1.1 [1,805 kB]\n",
      "Get:2 http://archive.ubuntu.com/ubuntu bionic/main amd64 poppler-data all 0.4.8-2 [1,479 kB]\n",
      "Get:3 http://archive.ubuntu.com/ubuntu bionic/main amd64 tex-common all 6.09 [33.0 kB]\n",
      "Get:4 http://archive.ubuntu.com/ubuntu bionic/main amd64 fonts-lmodern all 2.004.5-3 [4,551 kB]\n",
      "Get:5 http://archive.ubuntu.com/ubuntu bionic/main amd64 fonts-noto-mono all 20171026-2 [75.5 kB]\n",
      "Get:6 http://archive.ubuntu.com/ubuntu bionic-updates/main amd64 libcupsfilters1 amd64 1.20.2-0ubuntu3.1 [108 kB]\n",
      "Get:7 http://archive.ubuntu.com/ubuntu bionic-updates/main amd64 libcupsimage2 amd64 2.2.7-1ubuntu2.7 [18.6 kB]\n",
      "Get:8 http://archive.ubuntu.com/ubuntu bionic/main amd64 libijs-0.35 amd64 0.35-13 [15.5 kB]\n",
      "Get:9 http://archive.ubuntu.com/ubuntu bionic/main amd64 libjbig2dec0 amd64 0.13-6 [55.9 kB]\n",
      "Get:10 http://archive.ubuntu.com/ubuntu bionic-updates/main amd64 libgs9-common all 9.26~dfsg+0-0ubuntu0.18.04.11 [5,092 kB]\n",
      "Get:11 http://archive.ubuntu.com/ubuntu bionic-updates/main amd64 libgs9 amd64 9.26~dfsg+0-0ubuntu0.18.04.11 [2,263 kB]\n",
      "Get:12 http://archive.ubuntu.com/ubuntu bionic-updates/main amd64 libkpathsea6 amd64 2017.20170613.44572-8ubuntu0.1 [54.9 kB]\n",
      "Get:13 http://archive.ubuntu.com/ubuntu bionic/main amd64 libpotrace0 amd64 1.14-2 [17.4 kB]\n",
      "Get:14 http://archive.ubuntu.com/ubuntu bionic-updates/main amd64 libptexenc1 amd64 2017.20170613.44572-8ubuntu0.1 [34.5 kB]\n",
      "Get:15 http://archive.ubuntu.com/ubuntu bionic-updates/main amd64 libsynctex1 amd64 2017.20170613.44572-8ubuntu0.1 [41.4 kB]\n",
      "Get:16 http://archive.ubuntu.com/ubuntu bionic-updates/main amd64 libtexlua52 amd64 2017.20170613.44572-8ubuntu0.1 [91.2 kB]\n",
      "Get:17 http://archive.ubuntu.com/ubuntu bionic-updates/main amd64 libtexluajit2 amd64 2017.20170613.44572-8ubuntu0.1 [230 kB]\n",
      "Get:18 http://archive.ubuntu.com/ubuntu bionic-updates/main amd64 libzzip-0-13 amd64 0.13.62-3.1ubuntu0.18.04.1 [26.0 kB]\n",
      "Get:19 http://archive.ubuntu.com/ubuntu bionic/main amd64 lmodern all 2.004.5-3 [9,631 kB]\n",
      "Get:20 http://archive.ubuntu.com/ubuntu bionic/main amd64 t1utils amd64 1.41-2 [56.0 kB]\n",
      "Get:21 http://archive.ubuntu.com/ubuntu bionic-updates/main amd64 texlive-binaries amd64 2017.20170613.44572-8ubuntu0.1 [8,179 kB]\n",
      "Get:22 http://archive.ubuntu.com/ubuntu bionic/main amd64 texlive-base all 2017.20180305-1 [18.7 MB]\n",
      "Get:23 http://archive.ubuntu.com/ubuntu bionic/main amd64 texlive-latex-base all 2017.20180305-1 [951 kB]\n",
      "Get:24 http://archive.ubuntu.com/ubuntu bionic/main amd64 texlive-latex-recommended all 2017.20180305-1 [14.9 MB]\n",
      "Fetched 68.4 MB in 15s (4,708 kB/s)\n",
      "debconf: unable to initialize frontend: Dialog\n",
      "debconf: (No usable dialog-like program is installed, so the dialog based frontend cannot be used. at /usr/share/perl5/Debconf/FrontEnd/Dialog.pm line 76, <> line 24.)\n",
      "debconf: falling back to frontend: Readline\n",
      "debconf: unable to initialize frontend: Readline\n",
      "debconf: (This frontend requires a controlling tty.)\n",
      "debconf: falling back to frontend: Teletype\n",
      "dpkg-preconfigure: unable to re-open stdin: \n",
      "Selecting previously unselected package fonts-droid-fallback.\n",
      "(Reading database ... 131183 files and directories currently installed.)\n",
      "Preparing to unpack .../00-fonts-droid-fallback_1%3a6.0.1r16-1.1_all.deb ...\n",
      "Unpacking fonts-droid-fallback (1:6.0.1r16-1.1) ...\n",
      "Selecting previously unselected package poppler-data.\n",
      "Preparing to unpack .../01-poppler-data_0.4.8-2_all.deb ...\n",
      "Unpacking poppler-data (0.4.8-2) ...\n",
      "Selecting previously unselected package tex-common.\n",
      "Preparing to unpack .../02-tex-common_6.09_all.deb ...\n",
      "Unpacking tex-common (6.09) ...\n",
      "Selecting previously unselected package fonts-lmodern.\n",
      "Preparing to unpack .../03-fonts-lmodern_2.004.5-3_all.deb ...\n",
      "Unpacking fonts-lmodern (2.004.5-3) ...\n",
      "Selecting previously unselected package fonts-noto-mono.\n",
      "Preparing to unpack .../04-fonts-noto-mono_20171026-2_all.deb ...\n",
      "Unpacking fonts-noto-mono (20171026-2) ...\n",
      "Selecting previously unselected package libcupsfilters1:amd64.\n",
      "Preparing to unpack .../05-libcupsfilters1_1.20.2-0ubuntu3.1_amd64.deb ...\n",
      "Unpacking libcupsfilters1:amd64 (1.20.2-0ubuntu3.1) ...\n",
      "Selecting previously unselected package libcupsimage2:amd64.\n",
      "Preparing to unpack .../06-libcupsimage2_2.2.7-1ubuntu2.7_amd64.deb ...\n",
      "Unpacking libcupsimage2:amd64 (2.2.7-1ubuntu2.7) ...\n",
      "Selecting previously unselected package libijs-0.35:amd64.\n",
      "Preparing to unpack .../07-libijs-0.35_0.35-13_amd64.deb ...\n",
      "Unpacking libijs-0.35:amd64 (0.35-13) ...\n",
      "Selecting previously unselected package libjbig2dec0:amd64.\n",
      "Preparing to unpack .../08-libjbig2dec0_0.13-6_amd64.deb ...\n",
      "Unpacking libjbig2dec0:amd64 (0.13-6) ...\n",
      "Selecting previously unselected package libgs9-common.\n",
      "Preparing to unpack .../09-libgs9-common_9.26~dfsg+0-0ubuntu0.18.04.11_all.deb ...\n",
      "Unpacking libgs9-common (9.26~dfsg+0-0ubuntu0.18.04.11) ...\n",
      "Selecting previously unselected package libgs9:amd64.\n",
      "Preparing to unpack .../10-libgs9_9.26~dfsg+0-0ubuntu0.18.04.11_amd64.deb ...\n",
      "Unpacking libgs9:amd64 (9.26~dfsg+0-0ubuntu0.18.04.11) ...\n",
      "Selecting previously unselected package libkpathsea6:amd64.\n",
      "Preparing to unpack .../11-libkpathsea6_2017.20170613.44572-8ubuntu0.1_amd64.deb ...\n",
      "Unpacking libkpathsea6:amd64 (2017.20170613.44572-8ubuntu0.1) ...\n",
      "Selecting previously unselected package libpotrace0.\n",
      "Preparing to unpack .../12-libpotrace0_1.14-2_amd64.deb ...\n",
      "Unpacking libpotrace0 (1.14-2) ...\n",
      "Selecting previously unselected package libptexenc1:amd64.\n",
      "Preparing to unpack .../13-libptexenc1_2017.20170613.44572-8ubuntu0.1_amd64.deb ...\n",
      "Unpacking libptexenc1:amd64 (2017.20170613.44572-8ubuntu0.1) ...\n",
      "Selecting previously unselected package libsynctex1:amd64.\n",
      "Preparing to unpack .../14-libsynctex1_2017.20170613.44572-8ubuntu0.1_amd64.deb ...\n",
      "Unpacking libsynctex1:amd64 (2017.20170613.44572-8ubuntu0.1) ...\n",
      "Selecting previously unselected package libtexlua52:amd64.\n",
      "Preparing to unpack .../15-libtexlua52_2017.20170613.44572-8ubuntu0.1_amd64.deb ...\n",
      "Unpacking libtexlua52:amd64 (2017.20170613.44572-8ubuntu0.1) ...\n",
      "Selecting previously unselected package libtexluajit2:amd64.\n",
      "Preparing to unpack .../16-libtexluajit2_2017.20170613.44572-8ubuntu0.1_amd64.deb ...\n",
      "Unpacking libtexluajit2:amd64 (2017.20170613.44572-8ubuntu0.1) ...\n",
      "Selecting previously unselected package libzzip-0-13:amd64.\n",
      "Preparing to unpack .../17-libzzip-0-13_0.13.62-3.1ubuntu0.18.04.1_amd64.deb ...\n",
      "Unpacking libzzip-0-13:amd64 (0.13.62-3.1ubuntu0.18.04.1) ...\n",
      "Selecting previously unselected package lmodern.\n",
      "Preparing to unpack .../18-lmodern_2.004.5-3_all.deb ...\n",
      "Unpacking lmodern (2.004.5-3) ...\n",
      "Selecting previously unselected package t1utils.\n",
      "Preparing to unpack .../19-t1utils_1.41-2_amd64.deb ...\n",
      "Unpacking t1utils (1.41-2) ...\n",
      "Selecting previously unselected package texlive-binaries.\n",
      "Preparing to unpack .../20-texlive-binaries_2017.20170613.44572-8ubuntu0.1_amd64.deb ...\n",
      "Unpacking texlive-binaries (2017.20170613.44572-8ubuntu0.1) ...\n",
      "Selecting previously unselected package texlive-base.\n",
      "Preparing to unpack .../21-texlive-base_2017.20180305-1_all.deb ...\n",
      "Unpacking texlive-base (2017.20180305-1) ...\n",
      "Selecting previously unselected package texlive-latex-base.\n",
      "Preparing to unpack .../22-texlive-latex-base_2017.20180305-1_all.deb ...\n",
      "Unpacking texlive-latex-base (2017.20180305-1) ...\n",
      "Selecting previously unselected package texlive-latex-recommended.\n",
      "Preparing to unpack .../23-texlive-latex-recommended_2017.20180305-1_all.deb ...\n",
      "Unpacking texlive-latex-recommended (2017.20180305-1) ...\n",
      "Setting up libgs9-common (9.26~dfsg+0-0ubuntu0.18.04.11) ...\n",
      "Setting up libkpathsea6:amd64 (2017.20170613.44572-8ubuntu0.1) ...\n",
      "Setting up libtexlua52:amd64 (2017.20170613.44572-8ubuntu0.1) ...\n",
      "Setting up fonts-droid-fallback (1:6.0.1r16-1.1) ...\n",
      "Setting up libsynctex1:amd64 (2017.20170613.44572-8ubuntu0.1) ...\n",
      "Setting up libptexenc1:amd64 (2017.20170613.44572-8ubuntu0.1) ...\n",
      "Setting up tex-common (6.09) ...\n",
      "debconf: unable to initialize frontend: Dialog\n",
      "debconf: (No usable dialog-like program is installed, so the dialog based frontend cannot be used. at /usr/share/perl5/Debconf/FrontEnd/Dialog.pm line 76.)\n",
      "debconf: falling back to frontend: Readline\n",
      "update-language: texlive-base not installed and configured, doing nothing!\n",
      "Processing triggers for mime-support (3.60ubuntu1) ...\n",
      "Setting up poppler-data (0.4.8-2) ...\n",
      "Setting up fonts-noto-mono (20171026-2) ...\n",
      "Setting up libcupsfilters1:amd64 (1.20.2-0ubuntu3.1) ...\n",
      "Setting up libcupsimage2:amd64 (2.2.7-1ubuntu2.7) ...\n",
      "Setting up libjbig2dec0:amd64 (0.13-6) ...\n",
      "Processing triggers for libc-bin (2.27-3ubuntu1) ...\n",
      "Setting up t1utils (1.41-2) ...\n",
      "Setting up libijs-0.35:amd64 (0.35-13) ...\n",
      "Setting up libpotrace0 (1.14-2) ...\n",
      "Processing triggers for man-db (2.8.3-2ubuntu0.1) ...\n",
      "Setting up libzzip-0-13:amd64 (0.13.62-3.1ubuntu0.18.04.1) ...\n",
      "Setting up libgs9:amd64 (9.26~dfsg+0-0ubuntu0.18.04.11) ...\n",
      "Setting up libtexluajit2:amd64 (2017.20170613.44572-8ubuntu0.1) ...\n",
      "Processing triggers for fontconfig (2.12.6-0ubuntu2) ...\n",
      "Setting up fonts-lmodern (2.004.5-3) ...\n",
      "Setting up texlive-binaries (2017.20170613.44572-8ubuntu0.1) ...\n",
      "update-alternatives: using /usr/bin/xdvi-xaw to provide /usr/bin/xdvi.bin (xdvi.bin) in auto mode\n",
      "update-alternatives: using /usr/bin/bibtex.original to provide /usr/bin/bibtex (bibtex) in auto mode\n",
      "Setting up texlive-base (2017.20180305-1) ...\n",
      "mktexlsr: Updating /var/lib/texmf/ls-R-TEXLIVEDIST... \n",
      "mktexlsr: Updating /var/lib/texmf/ls-R-TEXMFMAIN... \n",
      "mktexlsr: Updating /var/lib/texmf/ls-R... \n",
      "mktexlsr: Done.\n",
      "tl-paper: setting paper size for dvips to a4: /var/lib/texmf/dvips/config/config-paper.ps\n",
      "tl-paper: setting paper size for dvipdfmx to a4: /var/lib/texmf/dvipdfmx/dvipdfmx-paper.cfg\n",
      "tl-paper: setting paper size for xdvi to a4: /var/lib/texmf/xdvi/XDvi-paper\n",
      "tl-paper: setting paper size for pdftex to a4: /var/lib/texmf/tex/generic/config/pdftexconfig.tex\n",
      "debconf: unable to initialize frontend: Dialog\n",
      "debconf: (No usable dialog-like program is installed, so the dialog based frontend cannot be used. at /usr/share/perl5/Debconf/FrontEnd/Dialog.pm line 76.)\n",
      "debconf: falling back to frontend: Readline\n",
      "Setting up texlive-latex-base (2017.20180305-1) ...\n",
      "Setting up lmodern (2.004.5-3) ...\n",
      "Setting up texlive-latex-recommended (2017.20180305-1) ...\n",
      "Processing triggers for libc-bin (2.27-3ubuntu1) ...\n",
      "Processing triggers for tex-common (6.09) ...\n",
      "debconf: unable to initialize frontend: Dialog\n",
      "debconf: (No usable dialog-like program is installed, so the dialog based frontend cannot be used. at /usr/share/perl5/Debconf/FrontEnd/Dialog.pm line 76.)\n",
      "debconf: falling back to frontend: Readline\n",
      "Running updmap-sys. This may take some time... done.\n",
      "Running mktexlsr /var/lib/texmf ... done.\n",
      "Building format(s) --all.\n",
      "\tThis may take some time... done.\n",
      "Reading package lists... Done\n",
      "Building dependency tree       \n",
      "Reading state information... Done\n",
      "The following additional packages will be installed:\n",
      "  fonts-texgyre ghostscript gsfonts tex-gyre tipa\n",
      "Suggested packages:\n",
      "  ghostscript-x texlive-fonts-recommended-doc\n",
      "The following NEW packages will be installed:\n",
      "  dvipng fonts-texgyre ghostscript gsfonts tex-gyre texlive-fonts-recommended\n",
      "  tipa\n",
      "0 upgraded, 7 newly installed, 0 to remove and 76 not upgraded.\n",
      "Need to get 25.2 MB of archives.\n",
      "After this operation, 67.7 MB of additional disk space will be used.\n",
      "Get:1 http://archive.ubuntu.com/ubuntu bionic-updates/main amd64 ghostscript amd64 9.26~dfsg+0-0ubuntu0.18.04.11 [51.0 kB]\n",
      "Get:2 http://archive.ubuntu.com/ubuntu bionic/universe amd64 dvipng amd64 1.15-1 [78.2 kB]\n",
      "Get:3 http://archive.ubuntu.com/ubuntu bionic/universe amd64 fonts-texgyre all 20160520-1 [8,761 kB]\n",
      "Get:4 http://archive.ubuntu.com/ubuntu bionic/main amd64 gsfonts all 1:8.11+urwcyr1.0.7~pre44-4.4 [3,120 kB]\n",
      "Get:5 http://archive.ubuntu.com/ubuntu bionic/universe amd64 tex-gyre all 20160520-1 [4,998 kB]\n",
      "Get:6 http://archive.ubuntu.com/ubuntu bionic/universe amd64 texlive-fonts-recommended all 2017.20180305-1 [5,262 kB]\n",
      "Get:7 http://archive.ubuntu.com/ubuntu bionic/universe amd64 tipa all 2:1.3-20 [2,978 kB]\n",
      "Fetched 25.2 MB in 5s (4,665 kB/s)\n",
      "debconf: unable to initialize frontend: Dialog\n",
      "debconf: (No usable dialog-like program is installed, so the dialog based frontend cannot be used. at /usr/share/perl5/Debconf/FrontEnd/Dialog.pm line 76, <> line 7.)\n",
      "debconf: falling back to frontend: Readline\n",
      "debconf: unable to initialize frontend: Readline\n",
      "debconf: (This frontend requires a controlling tty.)\n",
      "debconf: falling back to frontend: Teletype\n",
      "dpkg-preconfigure: unable to re-open stdin: \n",
      "Selecting previously unselected package ghostscript.\n",
      "(Reading database ... 138517 files and directories currently installed.)\n",
      "Preparing to unpack .../0-ghostscript_9.26~dfsg+0-0ubuntu0.18.04.11_amd64.deb ...\n",
      "Unpacking ghostscript (9.26~dfsg+0-0ubuntu0.18.04.11) ...\n",
      "Selecting previously unselected package dvipng.\n",
      "Preparing to unpack .../1-dvipng_1.15-1_amd64.deb ...\n",
      "Unpacking dvipng (1.15-1) ...\n",
      "Selecting previously unselected package fonts-texgyre.\n",
      "Preparing to unpack .../2-fonts-texgyre_20160520-1_all.deb ...\n",
      "Unpacking fonts-texgyre (20160520-1) ...\n",
      "Selecting previously unselected package gsfonts.\n",
      "Preparing to unpack .../3-gsfonts_1%3a8.11+urwcyr1.0.7~pre44-4.4_all.deb ...\n",
      "Unpacking gsfonts (1:8.11+urwcyr1.0.7~pre44-4.4) ...\n",
      "Selecting previously unselected package tex-gyre.\n",
      "Preparing to unpack .../4-tex-gyre_20160520-1_all.deb ...\n",
      "Unpacking tex-gyre (20160520-1) ...\n",
      "Selecting previously unselected package texlive-fonts-recommended.\n",
      "Preparing to unpack .../5-texlive-fonts-recommended_2017.20180305-1_all.deb ...\n",
      "Unpacking texlive-fonts-recommended (2017.20180305-1) ...\n",
      "Selecting previously unselected package tipa.\n",
      "Preparing to unpack .../6-tipa_2%3a1.3-20_all.deb ...\n",
      "Unpacking tipa (2:1.3-20) ...\n",
      "Processing triggers for tex-common (6.09) ...\n",
      "debconf: unable to initialize frontend: Dialog\n",
      "debconf: (No usable dialog-like program is installed, so the dialog based frontend cannot be used. at /usr/share/perl5/Debconf/FrontEnd/Dialog.pm line 76.)\n",
      "debconf: falling back to frontend: Readline\n",
      "Running mktexlsr. This may take some time... done.\n",
      "Setting up gsfonts (1:8.11+urwcyr1.0.7~pre44-4.4) ...\n",
      "Setting up tex-gyre (20160520-1) ...\n",
      "Setting up tipa (2:1.3-20) ...\n",
      "Regenerating '/var/lib/texmf/fmtutil.cnf-DEBIAN'... done.\n",
      "Regenerating '/var/lib/texmf/fmtutil.cnf-TEXLIVEDIST'... done.\n",
      "update-fmtutil has updated the following file(s):\n",
      "\t/var/lib/texmf/fmtutil.cnf-DEBIAN\n",
      "\t/var/lib/texmf/fmtutil.cnf-TEXLIVEDIST\n",
      "If you want to activate the changes in the above file(s),\n",
      "you should run fmtutil-sys or fmtutil.\n",
      "Setting up ghostscript (9.26~dfsg+0-0ubuntu0.18.04.11) ...\n",
      "Setting up fonts-texgyre (20160520-1) ...\n",
      "Processing triggers for man-db (2.8.3-2ubuntu0.1) ...\n",
      "Setting up texlive-fonts-recommended (2017.20180305-1) ...\n",
      "Processing triggers for fontconfig (2.12.6-0ubuntu2) ...\n",
      "Setting up dvipng (1.15-1) ...\n",
      "Processing triggers for tex-common (6.09) ...\n",
      "debconf: unable to initialize frontend: Dialog\n",
      "debconf: (No usable dialog-like program is installed, so the dialog based frontend cannot be used. at /usr/share/perl5/Debconf/FrontEnd/Dialog.pm line 76.)\n",
      "debconf: falling back to frontend: Readline\n",
      "Running updmap-sys. This may take some time... done.\n",
      "Running mktexlsr /var/lib/texmf ... done.\n",
      "--2019-09-16 16:29:10--  http://mirrors.ctan.org/macros/latex/contrib/type1cm.zip\n",
      "Resolving mirrors.ctan.org (mirrors.ctan.org)... 5.35.249.60\n",
      "Connecting to mirrors.ctan.org (mirrors.ctan.org)|5.35.249.60|:80... connected.\n",
      "HTTP request sent, awaiting response... 302 Found\n",
      "Location: http://ctan.math.washington.edu/tex-archive/macros/latex/contrib/type1cm.zip [following]\n",
      "--2019-09-16 16:29:10--  http://ctan.math.washington.edu/tex-archive/macros/latex/contrib/type1cm.zip\n",
      "Resolving ctan.math.washington.edu (ctan.math.washington.edu)... 128.95.224.254\n",
      "Connecting to ctan.math.washington.edu (ctan.math.washington.edu)|128.95.224.254|:80... connected.\n",
      "HTTP request sent, awaiting response... 200 OK\n",
      "Length: 328566 (321K) [application/zip]\n",
      "Saving to: ‘type1cm.zip’\n",
      "\n",
      "type1cm.zip         100%[===================>] 320.87K  1.02MB/s    in 0.3s    \n",
      "\n",
      "2019-09-16 16:29:11 (1.02 MB/s) - ‘type1cm.zip’ saved [328566/328566]\n",
      "\n",
      "Archive:  type1cm.zip\n",
      "   creating: /tmp/type1cm/type1cm/\n",
      "  inflating: /tmp/type1cm/type1cm/type1cm.fdd  \n",
      "  inflating: /tmp/type1cm/type1cm/type1cm.ins  \n",
      "  inflating: /tmp/type1cm/type1cm/type1cm.txt  \n",
      "  inflating: /tmp/type1cm/type1cm/type1cm-doc.pdf  \n",
      "  inflating: /tmp/type1cm/type1cm/type1cm-doc.tex  \n",
      "This is pdfTeX, Version 3.14159265-2.6-1.40.18 (TeX Live 2017/Debian) (preloaded format=latex)\n",
      " restricted \\write18 enabled.\n",
      "entering extended mode\n",
      "(./type1cm.ins\n",
      "LaTeX2e <2017-04-15>\n",
      "Babel <3.18> and hyphenation patterns for 3 language(s) loaded.\n",
      "(/usr/share/texlive/texmf-dist/tex/latex/base/docstrip.tex\n",
      "Utility: `docstrip' 2.5e <2014/09/29>\n",
      "English documentation    <2017/03/13>\n",
      "\n",
      "**********************************************************\n",
      "* This program converts documented macro-files into fast *\n",
      "* loadable files by stripping off (nearly) all comments! *\n",
      "**********************************************************\n",
      "\n",
      "********************************************************\n",
      "* No Configuration file found, using default settings. *\n",
      "********************************************************\n",
      "\n",
      "(./type1cm.ins\n",
      "\n",
      "Generating file(s) ./type1cm.sty \n",
      "\n",
      "Processing file type1cm.fdd (package,ams) -> type1cm.sty\n",
      "Lines  processed: 410\n",
      "Comments removed: 25\n",
      "Comments  passed: 7\n",
      "Codelines passed: 263\n",
      "\n",
      ") ) )\n",
      "No pages of output.\n",
      "Transcript written on type1cm.log.\n",
      "texhash: Updating /usr/local/share/texmf/ls-R... \n",
      "texhash: Updating /var/lib/texmf/ls-R-TEXLIVEDIST... \n",
      "texhash: Updating /var/lib/texmf/ls-R-TEXMFMAIN... \n",
      "texhash: Updating /var/lib/texmf/ls-R... \n",
      "texhash: Done.\n"
     ]
    }
   ],
   "source": [
    "# Install latex for the plots\n",
    "! sudo apt-get update\n",
    "! sudo apt-get install texlive-latex-recommended #1\n",
    "! sudo apt-get install dvipng texlive-fonts-recommended #2\n",
    "! wget http://mirrors.ctan.org/macros/latex/contrib/type1cm.zip #3\n",
    "! unzip type1cm.zip -d /tmp/type1cm #4\n",
    "! cd /tmp/type1cm/type1cm/ && sudo latex type1cm.ins  #5\n",
    "! sudo mkdir /usr/share/texmf/tex/latex/type1cm #6\n",
    "! sudo cp /tmp/type1cm/type1cm/type1cm.sty /usr/share/texmf/tex/latex/type1cm #7\n",
    "! sudo texhash #8"
   ]
  },
  {
   "cell_type": "code",
   "execution_count": 4,
   "metadata": {
    "colab": {
     "base_uri": "https://localhost:8080/",
     "height": 52
    },
    "colab_type": "code",
    "executionInfo": {
     "elapsed": 21716,
     "status": "ok",
     "timestamp": 1568651762962,
     "user": {
      "displayName": "Huy Nguyen",
      "photoUrl": "",
      "userId": "05352249580863404953"
     },
     "user_tz": -420
    },
    "id": "gGlAF6KyQlD5",
    "outputId": "a2e8a44e-38cf-42bc-9c6f-5ec3d2c97d1b"
   },
   "outputs": [
    {
     "name": "stdout",
     "output_type": "stream",
     "text": [
      "Mounted at /content/drive\n",
      "/content/drive/My Drive/Year 4: Synthesis/NS162: Statistical Mechanics/Renormalization Research Project/renormalization/supervised_convnet/t_2.269/3x3\n"
     ]
    }
   ],
   "source": [
    "# Google Drive stuff for colab\n",
    "from google.colab import drive\n",
    "drive.mount('/content/drive', force_remount=True)\n",
    "%cd  /content/drive/My\\ Drive/Year\\ 4\\:\\ Synthesis/NS162\\:\\ Statistical\\ Mechanics/Renormalization\\ Research\\ Project/renormalization/supervised_convnet/t_2.269/3x3/"
   ]
  },
  {
   "cell_type": "code",
   "execution_count": 2,
   "metadata": {
    "colab": {
     "base_uri": "https://localhost:8080/",
     "height": 336
    },
    "colab_type": "code",
    "executionInfo": {
     "elapsed": 2371,
     "status": "ok",
     "timestamp": 1568651790693,
     "user": {
      "displayName": "Huy Nguyen",
      "photoUrl": "",
      "userId": "05352249580863404953"
     },
     "user_tz": -420
    },
    "id": "64V0xC5zEmWW",
    "outputId": "396f5b30-8d19-404b-f666-a5b573fd8cea"
   },
   "outputs": [],
   "source": [
    "# import stuff\n",
    "import matplotlib.pyplot as plt\n",
    "# import train, frozen\n",
    "import sys\n",
    "sys.path.insert(0, \"/Library/TeX/texbin/latex\")\n",
    "import supervised_convnet\n",
    "import pickle\n",
    "from collections import defaultdict\n",
    "import numpy as np\n",
    "from matplotlib import rc\n",
    "rc('font',**{'size': 22})\n",
    "## for Palatino and other serif fonts use:\n",
    "#rc('font',**{'family':'serif','serif':['Palatino']})\n",
    "rc('text', usetex=True)"
   ]
  },
  {
   "cell_type": "markdown",
   "metadata": {
    "colab_type": "text",
    "id": "XUX2fmQTjos9"
   },
   "source": [
    "# Histogram of unfrozen vs. frozen"
   ]
  },
  {
   "cell_type": "code",
   "execution_count": 7,
   "metadata": {},
   "outputs": [
    {
     "data": {
      "text/plain": [
       "['/Library/TeX/texbin/latex',\n",
       " '/Library/TeX/texbin/',\n",
       " '../../',\n",
       " '../../',\n",
       " '/Users/qanguyen/Google Drive/Year 4: Synthesis/NS162: Statistical Mechanics/Renormalization Research Project/renormalization/supervised_convnet/t_2.269/x3x3',\n",
       " '/Users/qanguyen/anaconda3/envs/renormalization/lib/python37.zip',\n",
       " '/Users/qanguyen/anaconda3/envs/renormalization/lib/python3.7',\n",
       " '/Users/qanguyen/anaconda3/envs/renormalization/lib/python3.7/lib-dynload',\n",
       " '',\n",
       " '/Users/qanguyen/anaconda3/envs/renormalization/lib/python3.7/site-packages',\n",
       " '/Users/qanguyen/anaconda3/envs/renormalization/lib/python3.7/site-packages/IPython/extensions',\n",
       " '/Users/qanguyen/.ipython']"
      ]
     },
     "execution_count": 7,
     "metadata": {},
     "output_type": "execute_result"
    }
   ],
   "source": [
    "import sys; sys.path"
   ]
  },
  {
   "cell_type": "code",
   "execution_count": 11,
   "metadata": {},
   "outputs": [
    {
     "data": {
      "text/plain": [
       "['/Library/TeX/texbin/latex',\n",
       " '/Library/TeX/texbin/',\n",
       " '../../',\n",
       " '../../',\n",
       " '/Users/qanguyen/Google Drive/Year 4: Synthesis/NS162: Statistical Mechanics/Renormalization Research Project/renormalization/supervised_convnet/t_2.269/x3x3',\n",
       " '/Users/qanguyen/anaconda3/envs/renormalization/lib/python37.zip',\n",
       " '/Users/qanguyen/anaconda3/envs/renormalization/lib/python3.7',\n",
       " '/Users/qanguyen/anaconda3/envs/renormalization/lib/python3.7/lib-dynload',\n",
       " '',\n",
       " '/Users/qanguyen/anaconda3/envs/renormalization/lib/python3.7/site-packages',\n",
       " '/Users/qanguyen/anaconda3/envs/renormalization/lib/python3.7/site-packages/IPython/extensions',\n",
       " '/Users/qanguyen/.ipython']"
      ]
     },
     "execution_count": 11,
     "metadata": {},
     "output_type": "execute_result"
    }
   ],
   "source": [
    "sys.path"
   ]
  },
  {
   "cell_type": "code",
   "execution_count": 20,
   "metadata": {},
   "outputs": [
    {
     "name": "stdout",
     "output_type": "stream",
     "text": [
      "TERM_PROGRAM=Apple_Terminal\r\n",
      "SHELL=/bin/bash\r\n",
      "TERM=xterm-color\r\n",
      "KMP_DUPLICATE_LIB_OK=True\r\n",
      "CLICOLOR=1\r\n",
      "TMPDIR=/var/folders/r5/3z6vpgxn7xnfs25z7mqmrlvw0000gp/T/\r\n",
      "Apple_PubSub_Socket_Render=/private/tmp/com.apple.launchd.uLtA1sPeJw/Render\r\n",
      "CONDA_SHLVL=1\r\n",
      "TERM_PROGRAM_VERSION=421.2\r\n",
      "CONDA_PROMPT_MODIFIER=(base) \r\n",
      "TERM_SESSION_ID=F49E4058-47EB-4174-8418-D03BB831190D\r\n",
      "USER=qanguyen\r\n",
      "CONDA_EXE=/Users/qanguyen/anaconda3/bin/conda\r\n",
      "SSH_AUTH_SOCK=/private/tmp/com.apple.launchd.l3Lvcumdpi/Listeners\r\n",
      "__CF_USER_TEXT_ENCODING=0x1F6:0x0:0x0\r\n",
      "KERNEL_LAUNCH_TIMEOUT=40\r\n",
      "JPY_PARENT_PID=63613\r\n",
      "PAGER=cat\r\n",
      "_CE_CONDA=\r\n",
      "PATH=/Users/qanguyen/anaconda3/bin:/Users/qanguyen/anaconda3/condabin:/usr/local/bin:/usr/bin:/bin:/usr/sbin:/sbin:/usr/local/go/bin:/usr/bin:/usr/bin\r\n",
      "_=/usr/bin/printenv\r\n",
      "CONDA_PREFIX=/Users/qanguyen/anaconda3\r\n",
      "PWD=/Users/qanguyen/Google Drive/Year 4: Synthesis/NS162: Statistical Mechanics/Renormalization Research Project/renormalization/supervised_convnet/t_2.269/x3x3\r\n",
      "MPLBACKEND=module://ipykernel.pylab.backend_inline\r\n",
      "LANG=en_US.UTF-8\r\n",
      "__KMP_REGISTERED_LIB_63673=0x112c52e28-cafec6bd-libiomp5.dylib\r\n",
      "XPC_FLAGS=0x0\r\n",
      "XPC_SERVICE_NAME=0\r\n",
      "_CE_M=\r\n",
      "SHLVL=2\r\n",
      "HOME=/Users/qanguyen\r\n",
      "LOGNAME=qanguyen\r\n",
      "CONDA_PYTHON_EXE=/Users/qanguyen/anaconda3/bin/python\r\n",
      "CONDA_DEFAULT_ENV=base\r\n",
      "GIT_PAGER=cat\r\n"
     ]
    }
   ],
   "source": [
    "import subprocess\n",
    "!export PATH=$PATH:/Library/TeX/texbin/latex\n",
    "%load_ext autoreload\n",
    "%autoreload 2\n",
    "!printenv"
   ]
  },
  {
   "cell_type": "code",
   "execution_count": 9,
   "metadata": {
    "colab": {
     "base_uri": "https://localhost:8080/",
     "height": 782
    },
    "colab_type": "code",
    "executionInfo": {
     "elapsed": 1399,
     "status": "ok",
     "timestamp": 1568607631098,
     "user": {
      "displayName": "Huy Nguyen",
      "photoUrl": "",
      "userId": "05352249580863404953"
     },
     "user_tz": -420
    },
    "id": "KloKOPGEEmWf",
    "outputId": "b088f917-6c7a-49f5-8fee-7e8019cb6a72"
   },
   "outputs": [
    {
     "name": "stdout",
     "output_type": "stream",
     "text": [
      "mean 0.9177029999999999\n",
      "500\n",
      "std 0.000216348288645878\n",
      "mean 0.9241910229645094\n",
      "479\n",
      "std 0.00038198187513475214\n"
     ]
    },
    {
     "data": {
      "image/png": "[encoded data removed]",
      "text/plain": [
       "<Figure size 1080x720 with 1 Axes>"
      ]
     },
     "metadata": {
      "needs_background": "light"
     },
     "output_type": "display_data"
    }
   ],
   "source": [
    "import os \n",
    "os.environ[\"PATH\"] += os.pathsep + '/usr/bin' + os.pathsep + '/Library/TeX/texbin/'\n",
    "# import subprocess\n",
    "# subprocess.check_call([\"latex\"])\n",
    "\n",
    "prefix = \"\"\n",
    "filenames = [\"frozen_convolution_pretrained_relu.pl\", \"frozen_convolution_no_center_relu.pl\",\n",
    "        \"unfrozen_convolution_relu.pl\"]#, \"frozen_convolution_with_center_relu.pl\"]\n",
    "labels = [ \"Frozen convolution\",\n",
    "\"Unfrozen Convolution\", \"Frozen convolution, pretrained\",\"frozen convolution with center relu\"]\n",
    "alphas = [0.8, 0.6, 0.4, 0.2]\n",
    "plt.figure(figsize=(15,10))\n",
    "plt.xlabel(\"Accuracy\", fontsize = 20)\n",
    "plt.ylabel(\"Density\", fontsize = 20)\n",
    "for index, filename in enumerate(filenames[1:3]):\n",
    "    with open(prefix + filename, \"rb\") as handle:\n",
    "        results = pickle.load(handle)\n",
    "    if index <= 2:\n",
    "        b = np.array(results[\"best_val_acc_hist\"])\n",
    "        b = (b[b > 0.9])\n",
    "        plt.hist(b, alpha = alphas[index], label = labels[index], density=True)\n",
    "        plt.xticks(np.arange(0.89, 0.94, 0.01), fontsize = 20)\n",
    "        plt.yticks(np.arange(0, 100, 20), fontsize = 20)\n",
    "        print(\"mean\", np.mean(b))\n",
    "        print(len(b))\n",
    "        print(\"std\", np.std(b)/np.sqrt(len(b)))\n",
    "    else:\n",
    "        plt.hist(results, alpha = alphas[index], label = labels[index], normed=True)\n",
    "    # print(\"filename\", filename)\n",
    "    # print(\"mean\", np.mean(results))\n",
    "    # print(\"std\", np.std(results))\n",
    "plt.legend()\n",
    "plt.show()"
   ]
  },
  {
   "cell_type": "markdown",
   "metadata": {},
   "source": [
    "Not approve this project because the prisoners are merely a population of convenience for the student.\n",
    "\n",
    "Not an excessive incentive.\n",
    "\n",
    "\n",
    "Is wrong because 46.104 states that research conducted in prisons is not exempt if the subject population is only prisoners.\n",
    "Wrong and is prohibited; subject selection needs to be free from intervention by prison authorities or prisoners.\n",
    "\n",
    "Both subparts apply, as these individuals are under the legal age of consent and are incarcerated\n"
   ]
  },
  {
   "cell_type": "code",
   "execution_count": 53,
   "metadata": {},
   "outputs": [
    {
     "name": "stdout",
     "output_type": "stream",
     "text": [
      "mean 0.9080020080321285\n",
      "498\n",
      "std 0.0004552745046303493\n",
      "mean 0.859251\n",
      "500\n",
      "std 0.0021493968916884566\n",
      "mean 0.868135\n",
      "500\n",
      "std 0.0013103314656986603\n"
     ]
    },
    {
     "data": {
      "image/png": "[encoded data removed]",
      "text/plain": [
       "<Figure size 1080x720 with 1 Axes>"
      ]
     },
     "metadata": {
      "needs_background": "light"
     },
     "output_type": "display_data"
    }
   ],
   "source": [
    "import os \n",
    "os.environ[\"PATH\"] += os.pathsep + '/usr/bin' + os.pathsep + '/Library/TeX/texbin/'\n",
    "# import subprocess\n",
    "# subprocess.check_call([\"latex\"])\n",
    "\n",
    "prefix = \"\"\n",
    "filenames = [\"unfrozen_convolution_relu.pl\",\"../layer_by_layer/unfrozen_convolution_relu.pl\", \"../layer_by_layer/unfrozen_convolution_relu9x9.pl\",\n",
    "        ]#, \"frozen_convolution_with_center_relu.pl\"]\n",
    "labels = [ r\"Unfrozen 81x81 $\\rightarrow$ 27x27\",\n",
    "r\"Unfrozen 27x27 $\\rightarrow$ 9x9\", r\"Unfrozen 9x9 $\\rightarrow$ 3x3\"]\n",
    "alphas = [0.8, 0.6, 0.4, 0.2]\n",
    "plt.figure(figsize=(15,10))\n",
    "plt.xlabel(\"Accuracy\", fontsize = 30)\n",
    "plt.ylabel(\"Density\", fontsize = 30)\n",
    "for index, filename in enumerate(filenames):\n",
    "    with open(prefix + filename, \"rb\") as handle:\n",
    "        results = pickle.load(handle)\n",
    "    if index <= 3:\n",
    "        b = np.array(results[\"best_val_acc_hist\"])\n",
    "        b = (b[b > 0.6])\n",
    "        plt.hist(b, alpha = alphas[index], label = labels[index], density=True)\n",
    "#         plt.xticks(np.arange(0.87, 0.92, 0.01), fontsize = 40)\n",
    "        plt.yticks(np.arange(0, 60, 10), fontsize = 40)\n",
    "        print(\"mean\", np.mean(b))\n",
    "        print(len(b))\n",
    "        print(\"std\", np.std(b)/np.sqrt(len(b)))\n",
    "    else:\n",
    "        plt.hist(results, alpha = alphas[index], label = labels[index], normed=True)\n",
    "    # print(\"filename\", filename)\n",
    "    # print(\"mean\", np.mean(results))\n",
    "    # print(\"std\", np.std(results))\n",
    "plt.legend()\n",
    "plt.show()"
   ]
  },
  {
   "cell_type": "markdown",
   "metadata": {
    "colab_type": "text",
    "id": "ndVYncYVjs2V"
   },
   "source": [
    "# Histogram for 1 channel vs. many channels"
   ]
  },
  {
   "cell_type": "code",
   "execution_count": 101,
   "metadata": {
    "colab": {
     "base_uri": "https://localhost:8080/",
     "height": 695
    },
    "colab_type": "code",
    "executionInfo": {
     "elapsed": 1407,
     "status": "ok",
     "timestamp": 1568199706824,
     "user": {
      "displayName": "Huy Nguyen",
      "photoUrl": "",
      "userId": "05352249580863404953"
     },
     "user_tz": -420
    },
    "id": "i_xslJ6iEmXd",
    "outputId": "3f2074d8-635e-4909-89b2-8632f458f8ed"
   },
   "outputs": [
    {
     "name": "stdout",
     "output_type": "stream",
     "text": [
      "mean 0.9241910229645094\n",
      "479\n",
      "std 0.00038198187513475214\n",
      "mean 0.920560291060291\n",
      "481\n",
      "std 0.00036858632232196215\n",
      "mean 0.9270181818181819\n",
      "495\n",
      "std 0.0003314999249461571\n"
     ]
    },
    {
     "data": {
      "text/plain": [
       "<matplotlib.legend.Legend at 0x1a2f9217b8>"
      ]
     },
     "execution_count": 101,
     "metadata": {},
     "output_type": "execute_result"
    },
    {
     "data": {
      "image/png": "[encoded data removed]",
      "text/plain": [
       "<Figure size 1080x720 with 1 Axes>"
      ]
     },
     "metadata": {
      "needs_background": "light"
     },
     "output_type": "display_data"
    }
   ],
   "source": [
    "prefix = \"\"\n",
    "filenames = [\"unfrozen_convolution_relu.pl\", \"unfrozen_convolution_2_channels.pl\", \"unfrozen_convolution_3_channels.pl\",\n",
    "        ]#, \"frozen_convolution_with_center_relu.pl\"]\n",
    "labels = [\"1 channel\",\"2 channels\", \"3 channels\", \"frozen convolution with center relu\"]\n",
    "alphas = [0.8, 0.6, 0.4, 0.2]\n",
    "plt.figure(figsize=(15,10))\n",
    "plt.xlabel(\"Accuracy\")\n",
    "plt.ylabel(\"Density\")\n",
    "for index, filename in enumerate(filenames[:3]):\n",
    "    with open(prefix + filename, \"rb\") as handle:\n",
    "        results = pickle.load(handle)\n",
    "    if index <= 2:\n",
    "        b = np.array(results[\"best_val_acc_hist\"])\n",
    "        b = (b[b > 0.9])\n",
    "        plt.hist(b, 10, alpha = alphas[index], label = labels[index], density=True)\n",
    "        print(\"mean\", np.mean(b))\n",
    "        print(len(b))\n",
    "        print(\"std\", np.std(b)/np.sqrt(len(b)))\n",
    "    else:\n",
    "        plt.hist(results, alpha = alphas[index], label = labels[index], normed=True)\n",
    "    # print(\"filename\", filename)\n",
    "    # print(\"mean\", np.mean(results))\n",
    "    # print(\"std\", np.std(results))\n",
    "plt.legend()"
   ]
  },
  {
   "cell_type": "markdown",
   "metadata": {
    "colab_type": "text",
    "id": "XgETcrdh8URP"
   },
   "source": [
    "# Histogram for multilayer training"
   ]
  },
  {
   "cell_type": "code",
   "execution_count": 11,
   "metadata": {
    "colab": {
     "base_uri": "https://localhost:8080/",
     "height": 654
    },
    "colab_type": "code",
    "executionInfo": {
     "elapsed": 1987,
     "status": "ok",
     "timestamp": 1568652007452,
     "user": {
      "displayName": "Huy Nguyen",
      "photoUrl": "",
      "userId": "05352249580863404953"
     },
     "user_tz": -420
    },
    "id": "KocU2Ez88S_Y",
    "outputId": "fb9a6b78-831c-4e41-cc8c-077a7c1f20d9"
   },
   "outputs": [
    {
     "data": {
      "text/plain": [
       "Text(0, 0.5, 'Density')"
      ]
     },
     "execution_count": 11,
     "metadata": {
      "tags": []
     },
     "output_type": "execute_result"
    },
    {
     "data": {
      "image/png": "[encoded data removed]",
      "text/plain": [
       "<Figure size 1080x720 with 1 Axes>"
      ]
     },
     "metadata": {
      "tags": []
     },
     "output_type": "display_data"
    }
   ],
   "source": [
    "with open(\"../81x81/multilayer_1channel.pl\", \"rb\") as handle:\n",
    "    results = pickle.load(handle)\n",
    "# w = results[\"conv_params\"]\n",
    "b = np.array(results[\"best_val_acc_hist\"])\n",
    "b = (b[b > 0.6])\n",
    "plt.figure(figsize=(15,10))\n",
    "\n",
    "plt.hist(b, 10, density=True)\n",
    "plt.xlabel(\"Accuracy\")\n",
    "plt.ylabel(\"Density\")\n"
   ]
  },
  {
   "cell_type": "markdown",
   "metadata": {
    "colab_type": "text",
    "id": "UpDiiGqqjcdB"
   },
   "source": [
    "# Weights histogram"
   ]
  },
  {
   "cell_type": "code",
   "execution_count": 21,
   "metadata": {
    "colab": {
     "base_uri": "https://localhost:8080/",
     "height": 1000
    },
    "colab_type": "code",
    "executionInfo": {
     "elapsed": 4006,
     "status": "ok",
     "timestamp": 1568607938628,
     "user": {
      "displayName": "Huy Nguyen",
      "photoUrl": "",
      "userId": "05352249580863404953"
     },
     "user_tz": -420
    },
    "id": "kUWz1LwpEmXh",
    "outputId": "277bc16e-1f0c-4bc6-cf2d-8099c1e821b8",
    "scrolled": false
   },
   "outputs": [
    {
     "name": "stdout",
     "output_type": "stream",
     "text": [
      "axs (3, 3)\n",
      "labels ['Frozen \\n convolution']\n"
     ]
    },
    {
     "data": {
      "image/png": "[encoded data removed]",
      "text/plain": [
       "<Figure size 1800x1440 with 9 Axes>"
      ]
     },
     "metadata": {
      "needs_background": "light"
     },
     "output_type": "display_data"
    }
   ],
   "source": [
    "with open(\"hyperparameters_unfrozen_convolution_relu.pl\", \"rb\") as handle:\n",
    "    results = pickle.load(handle)\n",
    "acc = np.array(results[\"best_val_acc_hist\"])\n",
    "acc = np.where(acc > 0.9)\n",
    "# acc\n",
    "w = []\n",
    "for idx in acc[0]:\n",
    "#     print(idx)\n",
    "    w.append(results[\"conv_params\"][\"weight\"][idx])\n",
    "\n",
    "\n",
    "a,b,c,d,e,f,g,h,i = [], [], [], [], [], [], [], [], []\n",
    "for par in w:\n",
    "    left_corner = par[0, 0, 0, 0]\n",
    "    sign_convention = np.sign(left_corner)\n",
    "    a.append(np.abs(left_corner))\n",
    "    b.append(par[0, 0, 0, 1] * sign_convention)\n",
    "    c.append(par[0, 0, 0, 2] * sign_convention)\n",
    "    d.append(par[0, 0, 1, 0] * sign_convention)\n",
    "    e.append(par[0, 0, 1, 1] * sign_convention)\n",
    "    f.append(par[0, 0, 1, 2] * sign_convention)\n",
    "    g.append(par[0, 0, 2, 0] * sign_convention)\n",
    "    h.append(par[0, 0, 2, 1] * sign_convention)\n",
    "    i.append(par[0, 0, 2, 2] * sign_convention)\n",
    "# a,b,c,d,e,f,g,h,i = [np.array(_)[np.abs(np.array(_)) < 0.3] for _ in [a,b,c,d,e,f,g,h,i]]\n",
    "fig, axs = plt.subplots(3, 3)\n",
    "print(\"axs\", axs.shape)\n",
    "fig.set_figheight(20)\n",
    "fig.set_figwidth(25)\n",
    "axs[0, 0].hist(a, 50)\n",
    "axs[0, 0].axvline(1/8, color = \"r\", label = \"Frozen \\n convolution\")\n",
    "axs[0, 0].set_xlim(-0.05, 0.25)\n",
    "axs[0, 1].hist(b, 50)\n",
    "axs[0, 1].axvline(1/8, color = \"r\")\n",
    "axs[0, 1].set_xlim(-0.05, 0.25)\n",
    "axs[0, 2].hist(c, 50)\n",
    "axs[0, 2].axvline(1/8, color = \"r\")\n",
    "axs[0, 2].set_xlim(-0.05, 0.25)\n",
    "axs[1, 0].hist(d, 50)\n",
    "axs[1, 0].axvline(1/8, color = \"r\")\n",
    "axs[1, 0].set_xlim(-0.05, 0.25)\n",
    "axs[1, 1].hist(e, 50)\n",
    "axs[1, 1].axvline(0, color = \"r\")\n",
    "axs[1, 1].set_xlim(-0.05, 0.25)\n",
    "axs[1, 2].hist(f, 50)\n",
    "axs[1, 2].axvline(1/8, color = \"r\")\n",
    "axs[1, 2].set_xlim(-0.05, 0.25)\n",
    "axs[2, 0].hist(g, 50)\n",
    "axs[2, 0].axvline(1/8, color = \"r\")\n",
    "axs[2, 0].set_xlim(-0.05, 0.25)\n",
    "axs[2, 1].hist(h, 50)\n",
    "axs[2, 1].axvline(1/8, color = \"r\")\n",
    "axs[2, 1].set_xlim(-0.05, 0.25)\n",
    "axs[2, 2].hist(i, 50)\n",
    "axs[2, 2].axvline(1/8, color = \"r\")\n",
    "axs[2, 2].set_xlim(-0.05, 0.25)\n",
    "for i in range(3):\n",
    "    for j in range(3):\n",
    "        axs[i, j].set_xlabel(\"Weight\")\n",
    "        axs[i, j].set_ylabel(\"Density\")\n",
    "handles, labels = axs[0, 0].get_legend_handles_labels()\n",
    "print(\"labels\", labels)\n",
    "fig.legend(handles, labels, loc=(0.078, 0.87))\n",
    "fig.show()"
   ]
  },
  {
   "cell_type": "code",
   "execution_count": 40,
   "metadata": {
    "scrolled": false
   },
   "outputs": [
    {
     "name": "stdout",
     "output_type": "stream",
     "text": [
      "axs (3, 3)\n",
      "labels ['Frozen \\n convolution']\n"
     ]
    },
    {
     "data": {
      "image/png": "[encoded data removed]",
      "text/plain": [
       "<Figure size 1800x1440 with 9 Axes>"
      ]
     },
     "metadata": {
      "needs_background": "light"
     },
     "output_type": "display_data"
    }
   ],
   "source": [
    "with open(\"../layer_by_layer/unfrozen_convolution_relu.pl\", \"rb\") as handle:\n",
    "    results = pickle.load(handle)\n",
    "w = results[\"conv_params\"]\n",
    "a,b,c,d,e,f,g,h,i = [], [], [], [], [], [], [], [], []\n",
    "for par in w[\"weight\"]:\n",
    "    left_corner = par[0, 0, 0, 0]\n",
    "    sign_convention = np.sign(left_corner)\n",
    "    a.append(np.abs(left_corner))\n",
    "    b.append(par[0, 0, 0, 1] * sign_convention)\n",
    "    c.append(par[0, 0, 0, 2] * sign_convention)\n",
    "    d.append(par[0, 0, 1, 0] * sign_convention)\n",
    "    e.append(par[0, 0, 1, 1] * sign_convention)\n",
    "    f.append(par[0, 0, 1, 2] * sign_convention)\n",
    "    g.append(par[0, 0, 2, 0] * sign_convention)\n",
    "    h.append(par[0, 0, 2, 1] * sign_convention)\n",
    "    i.append(par[0, 0, 2, 2] * sign_convention)\n",
    "a,b,c,d,e,f,g,h,i = [np.array(_) for _ in [a,b,c,d,e,f,g,h,i]]\n",
    "fig, axs = plt.subplots(3, 3)\n",
    "print(\"axs\", axs.shape)\n",
    "fig.set_figheight(20)\n",
    "fig.set_figwidth(25)\n",
    "hist_array = [[a, b, c], [d, e, f], [g, h, i]]\n",
    "for x_id in range(3):\n",
    "    for y_id in range(3):\n",
    "        axs[x_id, y_id].hist(hist_array[x_id][y_id], 50)\n",
    "        if x_id == 1 & y_id == 1:\n",
    "            axs[x_id, y_id].axvline(0, color = \"r\", label = \"Frozen \\n convolution\")\n",
    "        else:\n",
    "            axs[x_id, y_id].axvline(1/8, color = \"r\", label = \"Frozen \\n convolution\")\n",
    "        axs[x_id, y_id ].set_xlim(-0.5, 0.5)\n",
    "        axs[x_id, y_id].set_xlabel(\"Weight\")\n",
    "        axs[x_id, y_id].set_ylabel(\"Density\")\n",
    "handles, labels = axs[0, 0].get_legend_handles_labels()\n",
    "print(\"labels\", labels)\n",
    "fig.legend(handles, labels, loc=(0.188, 0.87))\n",
    "plt.show()"
   ]
  },
  {
   "cell_type": "code",
   "execution_count": 43,
   "metadata": {},
   "outputs": [
    {
     "name": "stdout",
     "output_type": "stream",
     "text": [
      "axs (3, 3)\n",
      "labels ['Frozen \\n convolution']\n"
     ]
    },
    {
     "data": {
      "image/png": "[encoded data removed]",
      "text/plain": [
       "<Figure size 1800x1440 with 9 Axes>"
      ]
     },
     "metadata": {
      "needs_background": "light"
     },
     "output_type": "display_data"
    }
   ],
   "source": [
    "with open(\"../layer_by_layer/unfrozen_convolution_relu9x9.pl\", \"rb\") as handle:\n",
    "    results = pickle.load(handle)\n",
    "w = results[\"conv_params\"]\n",
    "a,b,c,d,e,f,g,h,i = [], [], [], [], [], [], [], [], []\n",
    "for par in w[\"weight\"]:\n",
    "    left_corner = par[0, 0, 0, 0]\n",
    "    sign_convention = np.sign(left_corner)\n",
    "    a.append(np.abs(left_corner))\n",
    "    b.append(par[0, 0, 0, 1] * sign_convention)\n",
    "    c.append(par[0, 0, 0, 2] * sign_convention)\n",
    "    d.append(par[0, 0, 1, 0] * sign_convention)\n",
    "    e.append(par[0, 0, 1, 1] * sign_convention)\n",
    "    f.append(par[0, 0, 1, 2] * sign_convention)\n",
    "    g.append(par[0, 0, 2, 0] * sign_convention)\n",
    "    h.append(par[0, 0, 2, 1] * sign_convention)\n",
    "    i.append(par[0, 0, 2, 2] * sign_convention)\n",
    "a,b,c,d,e,f,g,h,i = [np.array(_) for _ in [a,b,c,d,e,f,g,h,i]]\n",
    "fig, axs = plt.subplots(3, 3)\n",
    "print(\"axs\", axs.shape)\n",
    "fig.set_figheight(20)\n",
    "fig.set_figwidth(25)\n",
    "hist_array = [[a, b, c], [d, e, f], [g, h, i]]\n",
    "for x_id in range(3):\n",
    "    for y_id in range(3):\n",
    "        axs[x_id, y_id].hist(hist_array[x_id][y_id], 50)\n",
    "        if x_id == 1 & y_id == 1:\n",
    "            axs[x_id, y_id].axvline(0, color = \"r\", label = \"Frozen \\n convolution\")\n",
    "        else:\n",
    "            axs[x_id, y_id].axvline(1/8, color = \"r\", label = \"Frozen \\n convolution\")\n",
    "        axs[x_id, y_id ].set_xlim(-0.2, 1.0)\n",
    "        axs[x_id, y_id].set_xlabel(\"Weight\")\n",
    "        axs[x_id, y_id].set_ylabel(\"Density\")\n",
    "handles, labels = axs[0, 0].get_legend_handles_labels()\n",
    "print(\"labels\", labels)\n",
    "fig.legend(handles, labels, loc=(0.188, 0.87))\n",
    "plt.show()"
   ]
  },
  {
   "cell_type": "code",
   "execution_count": 14,
   "metadata": {
    "colab": {
     "base_uri": "https://localhost:8080/",
     "height": 1000
    },
    "colab_type": "code",
    "executionInfo": {
     "elapsed": 3952,
     "status": "ok",
     "timestamp": 1568652213977,
     "user": {
      "displayName": "Huy Nguyen",
      "photoUrl": "",
      "userId": "05352249580863404953"
     },
     "user_tz": -420
    },
    "id": "uR2oEYQP6Vsf",
    "outputId": "eebd7685-c8b6-4e11-cb34-b11507d315ca"
   },
   "outputs": [
    {
     "name": "stdout",
     "output_type": "stream",
     "text": [
      "axs (3, 3)\n",
      "labels ['Frozen \\n convolution']\n"
     ]
    },
    {
     "data": {
      "image/png": "[encoded data removed]",
      "text/plain": [
       "<Figure size 1800x1440 with 9 Axes>"
      ]
     },
     "metadata": {
      "tags": []
     },
     "output_type": "display_data"
    }
   ],
   "source": [
    "i = 0\n",
    "w = results[\"conv_params\"][f\"weight_{i}\"]\n",
    "a,b,c,d,e,f,g,h,i = [], [], [], [], [], [], [], [], []\n",
    "for par in w:\n",
    "    par = par.cpu().detach().numpy()\n",
    "    left_corner = par[0, 0, 0, 0]\n",
    "    sign_convention = np.sign(left_corner)\n",
    "    a.append(np.abs(left_corner))\n",
    "    b.append(par[0, 0, 0, 1] * sign_convention)\n",
    "    c.append(par[0, 0, 0, 2] * sign_convention)\n",
    "    d.append(par[0, 0, 1, 0] * sign_convention)\n",
    "    e.append(par[0, 0, 1, 1] * sign_convention)\n",
    "    f.append(par[0, 0, 1, 2] * sign_convention)\n",
    "    g.append(par[0, 0, 2, 0] * sign_convention)\n",
    "    h.append(par[0, 0, 2, 1] * sign_convention)\n",
    "    i.append(par[0, 0, 2, 2] * sign_convention)\n",
    "a,b,c,d,e,f,g,h,i = [np.array(_)[np.abs(np.array(_)) < 100] for _ in [a,b,c,d,e,f,g,h,i]]\n",
    "fig, axs = plt.subplots(3, 3)\n",
    "print(\"axs\", axs.shape)\n",
    "fig.set_figheight(20)\n",
    "fig.set_figwidth(25)\n",
    "axs[0, 0].hist(a, 50)\n",
    "axs[0, 0].axvline(1/8, color = \"r\", label = \"Frozen \\n convolution\")\n",
    "axs[0, 0].set_xlim(-0.2, 0.7)\n",
    "axs[0, 1].hist(b, 50)\n",
    "axs[0, 1].axvline(1/8, color = \"r\")\n",
    "axs[0, 1].set_xlim(-0.2, 0.7)\n",
    "axs[0, 2].hist(c, 50)\n",
    "axs[0, 2].axvline(1/8, color = \"r\")\n",
    "axs[0, 2].set_xlim(-0.2, 0.7)\n",
    "axs[1, 0].hist(d, 50)\n",
    "axs[1, 0].axvline(1/8, color = \"r\")\n",
    "axs[1, 0].set_xlim(-0.2, 0.7)\n",
    "axs[1, 1].hist(e, 50)\n",
    "axs[1, 1].axvline(0, color = \"r\")\n",
    "axs[1, 1].set_xlim(-0.2, 0.7)\n",
    "axs[1, 2].hist(f, 50)\n",
    "axs[1, 2].axvline(1/8, color = \"r\")\n",
    "axs[1, 2].set_xlim(-0.2, 0.7)\n",
    "axs[2, 0].hist(g, 50)\n",
    "axs[2, 0].axvline(1/8, color = \"r\")\n",
    "axs[2, 0].set_xlim(-0.2, 0.7)\n",
    "axs[2, 1].hist(h, 50)\n",
    "axs[2, 1].axvline(1/8, color = \"r\")\n",
    "axs[2, 1].set_xlim(-0.2, 0.7)\n",
    "axs[2, 2].hist(i, 50)\n",
    "axs[2, 2].axvline(1/8, color = \"r\")\n",
    "axs[2, 2].set_xlim(-0.2, 0.7)\n",
    "for i in range(3):\n",
    "    for j in range(3):\n",
    "        axs[i, j].set_xlabel(\"Weight\")\n",
    "        axs[i, j].set_ylabel(\"Density\")\n",
    "handles, labels = axs[0, 0].get_legend_handles_labels()\n",
    "print(\"labels\", labels)\n",
    "fig.legend(handles, labels, loc=(0.188, 0.87))\n",
    "fig.show()"
   ]
  },
  {
   "cell_type": "markdown",
   "metadata": {
    "colab_type": "text",
    "id": "lNcYifN-jzZG"
   },
   "source": [
    "# Hyperparameter tuning stuff"
   ]
  },
  {
   "cell_type": "code",
   "execution_count": 0,
   "metadata": {
    "colab": {
     "base_uri": "https://localhost:8080/",
     "height": 1000
    },
    "colab_type": "code",
    "executionInfo": {
     "elapsed": 197732,
     "status": "ok",
     "timestamp": 1568293729772,
     "user": {
      "displayName": "Huy Nguyen",
      "photoUrl": "",
      "userId": "05352249580863404953"
     },
     "user_tz": -420
    },
    "id": "W8e1K8cw7GXg",
    "outputId": "fa941418-0ea3-4b46-ca8a-b5cd02eeafc5"
   },
   "outputs": [
    {
     "name": "stdout",
     "output_type": "stream",
     "text": [
      "Collecting git+https://github.com/anhhuyalex/Ax.git\n",
      "  Cloning https://github.com/anhhuyalex/Ax.git to /tmp/pip-req-build-jtszmw_4\n",
      "  Running command git clone -q https://github.com/anhhuyalex/Ax.git /tmp/pip-req-build-jtszmw_4\n",
      "Collecting botorch>=0.1.3 (from ax-platform==0.1.4)\n",
      "\u001b[?25l  Downloading https://files.pythonhosted.org/packages/9d/94/15177eb5675109ebf63f18047371320dde678648bb5cd5761325c772269f/botorch-0.1.3-py3-none-any.whl (169kB)\n",
      "\u001b[K     |████████████████████████████████| 174kB 5.0MB/s \n",
      "\u001b[?25hCollecting jinja2 (from ax-platform==0.1.4)\n",
      "\u001b[?25l  Downloading https://files.pythonhosted.org/packages/1d/e7/fd8b501e7a6dfe492a433deb7b9d833d39ca74916fa8bc63dd1a4947a671/Jinja2-2.10.1-py2.py3-none-any.whl (124kB)\n",
      "\u001b[K     |████████████████████████████████| 133kB 46.1MB/s \n",
      "\u001b[?25hCollecting pandas (from ax-platform==0.1.4)\n",
      "\u001b[?25l  Downloading https://files.pythonhosted.org/packages/73/9b/52e228545d14f14bb2a1622e225f38463c8726645165e1cb7dde95bfe6d4/pandas-0.25.1-cp36-cp36m-manylinux1_x86_64.whl (10.5MB)\n",
      "\u001b[K     |████████████████████████████████| 10.5MB 45.2MB/s \n",
      "\u001b[?25hCollecting scipy (from ax-platform==0.1.4)\n",
      "\u001b[?25l  Downloading https://files.pythonhosted.org/packages/29/50/a552a5aff252ae915f522e44642bb49a7b7b31677f9580cfd11bcc869976/scipy-1.3.1-cp36-cp36m-manylinux1_x86_64.whl (25.2MB)\n",
      "\u001b[K     |████████████████████████████████| 25.2MB 44.0MB/s \n",
      "\u001b[?25hCollecting sklearn (from ax-platform==0.1.4)\n",
      "  Downloading https://files.pythonhosted.org/packages/1e/7a/dbb3be0ce9bd5c8b7e3d87328e79063f8b263b2b1bfa4774cb1147bfcd3f/sklearn-0.0.tar.gz\n",
      "Collecting plotly (from ax-platform==0.1.4)\n",
      "\u001b[?25l  Downloading https://files.pythonhosted.org/packages/70/19/8437e22c84083a6d5d8a3c80f4edc73c9dcbb89261d07e6bd13b48752bbd/plotly-4.1.1-py2.py3-none-any.whl (7.1MB)\n",
      "\u001b[K     |████████████████████████████████| 7.1MB 29.1MB/s \n",
      "\u001b[?25hCollecting torch>=1.2 (from botorch>=0.1.3->ax-platform==0.1.4)\n",
      "\u001b[?25l  Downloading https://files.pythonhosted.org/packages/30/57/d5cceb0799c06733eefce80c395459f28970ebb9e896846ce96ab579a3f1/torch-1.2.0-cp36-cp36m-manylinux1_x86_64.whl (748.8MB)\n",
      "\u001b[K     |████████████████████████████████| 748.9MB 16kB/s \n",
      "\u001b[?25hCollecting gpytorch>=0.3.5 (from botorch>=0.1.3->ax-platform==0.1.4)\n",
      "\u001b[?25l  Downloading https://files.pythonhosted.org/packages/a7/e4/e74dc12c6d07a5d8628dfb573b01297f7c2b44eec524be4b401c0782d39c/gpytorch-0.3.5.tar.gz (211kB)\n",
      "\u001b[K     |████████████████████████████████| 215kB 37.6MB/s \n",
      "\u001b[?25hCollecting MarkupSafe>=0.23 (from jinja2->ax-platform==0.1.4)\n",
      "  Downloading https://files.pythonhosted.org/packages/b2/5f/23e0023be6bb885d00ffbefad2942bc51a620328ee910f64abe5a8d18dd1/MarkupSafe-1.1.1-cp36-cp36m-manylinux1_x86_64.whl\n",
      "Collecting python-dateutil>=2.6.1 (from pandas->ax-platform==0.1.4)\n",
      "\u001b[?25l  Downloading https://files.pythonhosted.org/packages/41/17/c62faccbfbd163c7f57f3844689e3a78bae1f403648a6afb1d0866d87fbb/python_dateutil-2.8.0-py2.py3-none-any.whl (226kB)\n",
      "\u001b[K     |████████████████████████████████| 235kB 40.0MB/s \n",
      "\u001b[?25hCollecting pytz>=2017.2 (from pandas->ax-platform==0.1.4)\n",
      "\u001b[?25l  Downloading https://files.pythonhosted.org/packages/87/76/46d697698a143e05f77bec5a526bf4e56a0be61d63425b68f4ba553b51f2/pytz-2019.2-py2.py3-none-any.whl (508kB)\n",
      "\u001b[K     |████████████████████████████████| 512kB 45.5MB/s \n",
      "\u001b[?25hCollecting numpy>=1.13.3 (from pandas->ax-platform==0.1.4)\n",
      "\u001b[?25l  Downloading https://files.pythonhosted.org/packages/e5/e6/c3fdc53aed9fa19d6ff3abf97dfad768ae3afce1b7431f7500000816bda5/numpy-1.17.2-cp36-cp36m-manylinux1_x86_64.whl (20.4MB)\n",
      "\u001b[K     |████████████████████████████████| 20.4MB 32.8MB/s \n",
      "\u001b[?25hCollecting scikit-learn (from sklearn->ax-platform==0.1.4)\n",
      "\u001b[?25l  Downloading https://files.pythonhosted.org/packages/a0/c5/d2238762d780dde84a20b8c761f563fe882b88c5a5fb03c056547c442a19/scikit_learn-0.21.3-cp36-cp36m-manylinux1_x86_64.whl (6.7MB)\n",
      "\u001b[K     |████████████████████████████████| 6.7MB 34.9MB/s \n",
      "\u001b[?25hCollecting six (from plotly->ax-platform==0.1.4)\n",
      "  Downloading https://files.pythonhosted.org/packages/73/fb/00a976f728d0d1fecfe898238ce23f502a721c0ac0ecfedb80e0d88c64e9/six-1.12.0-py2.py3-none-any.whl\n",
      "Collecting retrying>=1.3.3 (from plotly->ax-platform==0.1.4)\n",
      "  Downloading https://files.pythonhosted.org/packages/44/ef/beae4b4ef80902f22e3af073397f079c96969c69b2c7d52a57ea9ae61c9d/retrying-1.3.3.tar.gz\n",
      "Collecting joblib>=0.11 (from scikit-learn->sklearn->ax-platform==0.1.4)\n",
      "\u001b[?25l  Downloading https://files.pythonhosted.org/packages/cd/c1/50a758e8247561e58cb87305b1e90b171b8c767b15b12a1734001f41d356/joblib-0.13.2-py2.py3-none-any.whl (278kB)\n",
      "\u001b[K     |████████████████████████████████| 286kB 42.9MB/s \n",
      "\u001b[?25hBuilding wheels for collected packages: ax-platform, sklearn, gpytorch, retrying\n",
      "  Building wheel for ax-platform (setup.py) ... \u001b[?25l\u001b[?25hdone\n",
      "  Created wheel for ax-platform: filename=ax_platform-0.1.4-cp36-cp36m-linux_x86_64.whl size=918246 sha256=641e6d5a2b2257e17efddfb806ec1ae77ac80fc294386db5cf9fb18459aa788e\n",
      "  Stored in directory: /tmp/pip-ephem-wheel-cache-io3jaw1m/wheels/cf/31/a7/531e4606a720574d740203ff00855672549f50a7d1b9bc736e\n",
      "  Building wheel for sklearn (setup.py) ... \u001b[?25l\u001b[?25hdone\n",
      "  Created wheel for sklearn: filename=sklearn-0.0-py2.py3-none-any.whl size=1316 sha256=92936a190c9575d1d76c84ffb82aab02b0c64d32a0ff75c9696c0d9686282284\n",
      "  Stored in directory: /root/.cache/pip/wheels/76/03/bb/589d421d27431bcd2c6da284d5f2286c8e3b2ea3cf1594c074\n",
      "  Building wheel for gpytorch (setup.py) ... \u001b[?25l\u001b[?25hdone\n",
      "  Created wheel for gpytorch: filename=gpytorch-0.3.5-py2.py3-none-any.whl size=349720 sha256=ad68a12025aae6876cd4f185ff87b9a5327c26cfafccabf7d5687b8bcd04fddc\n",
      "  Stored in directory: /root/.cache/pip/wheels/d6/31/88/c43a94e0073a54056ac663366f2195de36535b38a81a378196\n",
      "  Building wheel for retrying (setup.py) ... \u001b[?25l\u001b[?25hdone\n",
      "  Created wheel for retrying: filename=retrying-1.3.3-cp36-none-any.whl size=11429 sha256=b1abe0216532af7789d75fd9409ccdb13b87bc1b706756cc09562237312d60b1\n",
      "  Stored in directory: /root/.cache/pip/wheels/d7/a9/33/acc7b709e2a35caa7d4cae442f6fe6fbf2c43f80823d46460c\n",
      "Successfully built ax-platform sklearn gpytorch retrying\n",
      "\u001b[31mERROR: google-colab 1.0.0 has requirement pandas~=0.24.0, but you'll have pandas 0.25.1 which is incompatible.\u001b[0m\n",
      "\u001b[31mERROR: datascience 0.10.6 has requirement folium==0.2.1, but you'll have folium 0.8.3 which is incompatible.\u001b[0m\n",
      "\u001b[31mERROR: albumentations 0.1.12 has requirement imgaug<0.2.7,>=0.2.5, but you'll have imgaug 0.2.9 which is incompatible.\u001b[0m\n",
      "Installing collected packages: numpy, torch, gpytorch, scipy, botorch, MarkupSafe, jinja2, six, python-dateutil, pytz, pandas, joblib, scikit-learn, sklearn, retrying, plotly, ax-platform\n",
      "Successfully installed MarkupSafe-1.1.1 ax-platform-0.1.4 botorch-0.1.3 gpytorch-0.3.5 jinja2-2.10.1 joblib-0.13.2 numpy-1.17.2 pandas-0.25.1 plotly-4.1.1 python-dateutil-2.8.0 pytz-2019.2 retrying-1.3.3 scikit-learn-0.21.3 scipy-1.3.1 six-1.12.0 sklearn-0.0 torch-1.2.0\n"
     ]
    },
    {
     "data": {
      "application/vnd.colab-display-data+json": {
       "pip_warning": {
        "packages": [
         "dateutil",
         "numpy",
         "pandas",
         "pytz",
         "six"
        ]
       }
      }
     },
     "metadata": {
      "tags": []
     },
     "output_type": "display_data"
    },
    {
     "name": "stdout",
     "output_type": "stream",
     "text": [
      "/content\n",
      "/content\n",
      "Cloning into 'botorch'...\n",
      "remote: Enumerating objects: 5976, done.\u001b[K\n",
      "remote: Total 5976 (delta 0), reused 0 (delta 0), pack-reused 5976\u001b[K\n",
      "Receiving objects: 100% (5976/5976), 10.31 MiB | 16.78 MiB/s, done.\n",
      "Resolving deltas: 100% (3899/3899), done.\n",
      "/content/botorch\n",
      "Processing /content/botorch\n",
      "Requirement already satisfied: torch>=1.2 in /usr/local/lib/python3.6/dist-packages (from botorch==0.1.3) (1.2.0)\n",
      "Requirement already satisfied: gpytorch>=0.3.5 in /usr/local/lib/python3.6/dist-packages (from botorch==0.1.3) (0.3.5)\n",
      "Requirement already satisfied: scipy in /usr/local/lib/python3.6/dist-packages (from botorch==0.1.3) (1.3.1)\n",
      "Requirement already satisfied: numpy in /usr/local/lib/python3.6/dist-packages (from torch>=1.2->botorch==0.1.3) (1.17.2)\n",
      "Building wheels for collected packages: botorch\n",
      "  Building wheel for botorch (setup.py) ... \u001b[?25l\u001b[?25hdone\n",
      "  Created wheel for botorch: filename=botorch-0.1.3-cp36-none-any.whl size=175825 sha256=65ce91cf51bd45a64ffecd33ccdb2a9a43898831891c44df2e0a67016cfd33b1\n",
      "  Stored in directory: /tmp/pip-ephem-wheel-cache-yqt8d5dr/wheels/d8/0e/3f/502176509633fec729eabc1a42e465b3603faf0c30b4782f33\n",
      "Successfully built botorch\n",
      "Installing collected packages: botorch\n",
      "  Found existing installation: botorch 0.1.3\n",
      "    Uninstalling botorch-0.1.3:\n",
      "      Successfully uninstalled botorch-0.1.3\n",
      "Successfully installed botorch-0.1.3\n"
     ]
    }
   ],
   "source": [
    "!pip install -U --target=/usr/local/lib/python3.6/dist-packages git+https://github.com/anhhuyalex/Ax.git\n",
    "  \n",
    "%cd /content\n",
    "# %cd /usr/local/lib/python3.6/dist-packages\n",
    "!rm -rf botorch\n",
    "%cd /content\n",
    "!git clone https://github.com/pytorch/botorch.git\n",
    "%cd botorch\n",
    "!pip install ."
   ]
  },
  {
   "cell_type": "code",
   "execution_count": 0,
   "metadata": {
    "colab": {},
    "colab_type": "code",
    "id": "EHRycZZi8LIG"
   },
   "outputs": [],
   "source": [
    "# %cd  /content/drive/My\\ Drive/Year\\ 4\\:\\ Synthesis/NS162\\:\\ Statistical\\ Mechanics/Renormalization\\ Research\\ Project/renormalization/supervised_convnet/t_2.269/3x3/\n",
    "import pickle\n",
    "# run_mode = \"frozen_convolution_no_center_relu\"\n",
    "# run_mode = \"frozen_convolution_pretrained_relu\"\n",
    "# run_mode = \"unfrozen_convolution_relu\"\n",
    "run_mode = \"unfrozen_convolution_3_channels\"\n",
    "# run_mode = \"unfrozen_convolution_2_channels\"\n",
    "with open(f\"colab/hyperparameters_{run_mode}.pl\", \"rb\") as handle:\n",
    "    hyper = pickle.load(handle)"
   ]
  },
  {
   "cell_type": "code",
   "execution_count": 0,
   "metadata": {
    "colab": {},
    "colab_type": "code",
    "id": "xoF9RrpyEmXq"
   },
   "outputs": [],
   "source": [
    "\n",
    "\n",
    "from ax import RangeParameter, ParameterType\n",
    "from ax.service.ax_client import AxClient\n",
    "from ax.plot.contour import plot_contour\n",
    "from ax.plot.trace import optimization_trace_single_method\n",
    "from ax.service.managed_loop import optimize\n",
    "from ax.utils.notebook.plotting import render, init_notebook_plotting\n",
    "\n",
    "ax_client = AxClient()\n",
    "ax_client = ax_client.from_json_snapshot(hyper[\"axclient\"])"
   ]
  },
  {
   "cell_type": "code",
   "execution_count": 0,
   "metadata": {
    "colab": {
     "base_uri": "https://localhost:8080/",
     "height": 170
    },
    "colab_type": "code",
    "executionInfo": {
     "elapsed": 714,
     "status": "ok",
     "timestamp": 1568197542631,
     "user": {
      "displayName": "Huy Nguyen",
      "photoUrl": "",
      "userId": "05352249580863404953"
     },
     "user_tz": -420
    },
    "id": "lG5oY3KxEmXu",
    "outputId": "3f543acf-1f4e-4cf6-abcc-663bdffa62da"
   },
   "outputs": [
    {
     "data": {
      "text/plain": [
       "({'batch_size': 5000,\n",
       "  'betas0': 0.20000000000000004,\n",
       "  'betas1': 1.0081196321129792e-05,\n",
       "  'lr': 0.02564592414390474,\n",
       "  'n_epochs': 180,\n",
       "  'train_size': 5000,\n",
       "  'weight_decay': 6.21073259786956e-05},\n",
       " ({'objective': 0.903033105700047},\n",
       "  {'objective': {'objective': 5.147060778236302e-05}}))"
      ]
     },
     "execution_count": 28,
     "metadata": {
      "tags": []
     },
     "output_type": "execute_result"
    }
   ],
   "source": [
    "#pre-trained\n",
    "ax_client.get_best_parameters()"
   ]
  },
  {
   "cell_type": "code",
   "execution_count": 0,
   "metadata": {
    "colab": {
     "base_uri": "https://localhost:8080/",
     "height": 170
    },
    "colab_type": "code",
    "executionInfo": {
     "elapsed": 708,
     "status": "ok",
     "timestamp": 1568197586016,
     "user": {
      "displayName": "Huy Nguyen",
      "photoUrl": "",
      "userId": "05352249580863404953"
     },
     "user_tz": -420
    },
    "id": "3vYC0iHeEmXz",
    "outputId": "22914b22-4b0b-4748-f9fa-9fbe6ba6c47b"
   },
   "outputs": [
    {
     "data": {
      "text/plain": [
       "({'batch_size': 86,\n",
       "  'train_size': 4277,\n",
       "  'n_epochs': 250,\n",
       "  'lr': 0.004388469485690077,\n",
       "  'weight_decay': 2.346792703571872e-05,\n",
       "  'betas0': 0.0018179320494754046,\n",
       "  'betas1': 0.001354073715524798},\n",
       " ({'objective': 0.9050338479075092},\n",
       "  {'objective': {'objective': 4.757005812926546e-06}}))"
      ]
     },
     "execution_count": 9,
     "metadata": {
      "tags": []
     },
     "output_type": "execute_result"
    }
   ],
   "source": [
    "#unfrozen_convolution_relu\n",
    "ax_client.get_best_parameters()"
   ]
  },
  {
   "cell_type": "code",
   "execution_count": 0,
   "metadata": {
    "colab": {
     "base_uri": "https://localhost:8080/",
     "height": 170
    },
    "colab_type": "code",
    "executionInfo": {
     "elapsed": 616,
     "status": "ok",
     "timestamp": 1568198954394,
     "user": {
      "displayName": "Huy Nguyen",
      "photoUrl": "",
      "userId": "05352249580863404953"
     },
     "user_tz": -420
    },
    "id": "_3_OONr6EmX4",
    "outputId": "36a3f486-4c0b-45e5-865c-fd29ca8d6e16"
   },
   "outputs": [
    {
     "data": {
      "text/plain": [
       "({'batch_size': 100,\n",
       "  'betas0': 0.15428681703555264,\n",
       "  'betas1': 1e-05,\n",
       "  'lr': 0.021919796543990972,\n",
       "  'n_epochs': 250,\n",
       "  'train_size': 5000,\n",
       "  'weight_decay': 0.0008230830669560186},\n",
       " ({'objective': 0.9005434515585102},\n",
       "  {'objective': {'objective': 0.0003031106598752843}}))"
      ]
     },
     "execution_count": 11,
     "metadata": {
      "tags": []
     },
     "output_type": "execute_result"
    }
   ],
   "source": [
    "#frozen_convolution_no_center_relu\n",
    "ax_client.get_best_parameters()"
   ]
  },
  {
   "cell_type": "code",
   "execution_count": 0,
   "metadata": {
    "colab": {
     "base_uri": "https://localhost:8080/",
     "height": 170
    },
    "colab_type": "code",
    "executionInfo": {
     "elapsed": 733,
     "status": "ok",
     "timestamp": 1568291251724,
     "user": {
      "displayName": "Huy Nguyen",
      "photoUrl": "",
      "userId": "05352249580863404953"
     },
     "user_tz": -420
    },
    "id": "d8nPPW8kEmYf",
    "outputId": "1935d13a-4bf4-4d54-fc9d-54fb668e2400"
   },
   "outputs": [
    {
     "data": {
      "text/plain": [
       "({'batch_size': 968,\n",
       "  'train_size': 5000,\n",
       "  'n_epochs': 250,\n",
       "  'lr': 0.0070890201458810925,\n",
       "  'weight_decay': 0.00019488234448160615,\n",
       "  'betas0': 0.13209249743733834,\n",
       "  'betas1': 9.581886527012395e-05},\n",
       " ({'objective': 0.9095199693508492},\n",
       "  {'objective': {'objective': 2.6589601760250542e-05}}))"
      ]
     },
     "execution_count": 17,
     "metadata": {
      "tags": []
     },
     "output_type": "execute_result"
    }
   ],
   "source": [
    "#unfrozen_convolution_2_channels\n",
    "ax_client.get_best_parameters()"
   ]
  },
  {
   "cell_type": "code",
   "execution_count": 0,
   "metadata": {
    "colab": {
     "base_uri": "https://localhost:8080/",
     "height": 170
    },
    "colab_type": "code",
    "executionInfo": {
     "elapsed": 744,
     "status": "ok",
     "timestamp": 1568291305081,
     "user": {
      "displayName": "Huy Nguyen",
      "photoUrl": "",
      "userId": "05352249580863404953"
     },
     "user_tz": -420
    },
    "id": "WEQQyC0qcU7z",
    "outputId": "561e760a-4725-4207-dc90-58073f2259b4"
   },
   "outputs": [
    {
     "data": {
      "text/plain": [
       "({'batch_size': 3521,\n",
       "  'train_size': 5000,\n",
       "  'n_epochs': 193,\n",
       "  'lr': 0.008499899017388025,\n",
       "  'weight_decay': 7.165827861901277e-05,\n",
       "  'betas0': 0.20000000000000004,\n",
       "  'betas1': 0.003211923010710316},\n",
       " ({'objective': 0.9182530304574827},\n",
       "  {'objective': {'objective': 2.107995656736222e-06}}))"
      ]
     },
     "execution_count": 25,
     "metadata": {
      "tags": []
     },
     "output_type": "execute_result"
    }
   ],
   "source": [
    "#unfrozen_convolution_3_channels\n",
    "ax_client.get_best_parameters()"
   ]
  },
  {
   "cell_type": "markdown",
   "metadata": {
    "colab_type": "text",
    "id": "RqrlALDXj3YE"
   },
   "source": [
    "# Mutual info calculation"
   ]
  },
  {
   "cell_type": "code",
   "execution_count": 14,
   "metadata": {
    "colab": {
     "base_uri": "https://localhost:8080/",
     "height": 336
    },
    "colab_type": "code",
    "executionInfo": {
     "elapsed": 15486,
     "status": "ok",
     "timestamp": 1568638690415,
     "user": {
      "displayName": "Huy Nguyen",
      "photoUrl": "",
      "userId": "05352249580863404953"
     },
     "user_tz": -420
    },
    "id": "-SMZWMx6cdqa",
    "outputId": "16c918c5-3fc0-4a70-be97-39772ea5f475"
   },
   "outputs": [],
   "source": [
    "import matplotlib.pyplot as plt\n",
    "import train, frozen\n",
    "import sys\n",
    "sys.path.insert(0, \"../../\")\n",
    "import supervised_convnet\n",
    "import pickle\n",
    "from collections import defaultdict\n",
    "import numpy as np\n",
    "from matplotlib import rc\n",
    "rc('font',**{'size': 20})\n",
    "## for Palatino and other serif fonts use:\n",
    "#rc('font',**{'family':'serif','serif':['Palatino']})\n",
    "rc('text', usetex=True)"
   ]
  },
  {
   "cell_type": "code",
   "execution_count": 38,
   "metadata": {
    "colab": {},
    "colab_type": "code",
    "id": "t70MQ4fHPhdj"
   },
   "outputs": [],
   "source": [
    "# Mutual information calculation\n",
    "import numpy as np\n",
    "from collections import defaultdict\n",
    "import hashlib\n",
    "correlated_data = np.load(\"../../../ising81x81.npz\")[\"array1\"]#[:10000,:9,:9]"
   ]
  },
  {
   "cell_type": "code",
   "execution_count": 39,
   "metadata": {
    "colab": {
     "base_uri": "https://localhost:8080/",
     "height": 176
    },
    "colab_type": "code",
    "executionInfo": {
     "elapsed": 524,
     "status": "ok",
     "timestamp": 1568652985026,
     "user": {
      "displayName": "Huy Nguyen",
      "photoUrl": "",
      "userId": "05352249580863404953"
     },
     "user_tz": -420
    },
    "id": "E9L26gGGVu63",
    "outputId": "13797d27-6818-4140-8b73-c6b922a38f71"
   },
   "outputs": [],
   "source": [
    "correlated_data = correlated_data * 2 - 1"
   ]
  },
  {
   "cell_type": "code",
   "execution_count": 33,
   "metadata": {
    "colab": {
     "base_uri": "https://localhost:8080/",
     "height": 1000
    },
    "colab_type": "code",
    "executionInfo": {
     "elapsed": 14128,
     "status": "ok",
     "timestamp": 1568653052793,
     "user": {
      "displayName": "Huy Nguyen",
      "photoUrl": "",
      "userId": "05352249580863404953"
     },
     "user_tz": -420
    },
    "id": "d0z6LeFIVwcc",
    "outputId": "7cad1d43-858a-4796-b74b-61693ae57f4e"
   },
   "outputs": [
    {
     "name": "stdout",
     "output_type": "stream",
     "text": [
      "10000 9 9\n",
      "0 defaultdict(<class 'int'>, {})\n",
      "100 defaultdict(<class 'int'>, {'1e660ae46369c47157485f59f06f8ab5831d2f52a010018ade57603883908ab9': 87, 'b78fd32794d830b28113895aaaf767b4aa6f97851d88b39c47ba8d232ca96a4b': 83, '334658f1779808c7acf39a60f38dda5c542e257f8355b64cde24238445927386': 607, '80a76a18acf8cb64fec3a659ffc4bab4a87cd9a6fde4dab2161a8751d136c9d2': 745, '836358f1eb6de760878996b6273bc3de91d383dcb57110f6a1dbce013f6f0b31': 105, '5f1c566154d906b3c300e3427f08ce80669c405b83ec6434be78ba20892dc7bb': 38, '22a32777ed4d352dd72ba821f432aa7ae3463c4526866d1e1116a6e021e58e77': 93, '68cbe9a301e3409609b1d3b0cac3aaf75dd3b4f072c86f46083d5b7ba88e787b': 42})\n",
      "xy: [-1 -1 -1 -1 -1 -1], joint_prob:_0.37, x_prob:_0.37, y_prob:_0.37\n",
      "xy: [ 1 -1 -1 -1 -1 -1], joint_prob:_0, x_prob:_0.05694444444444444, y_prob:_0.37\n",
      "xy: [-1  1 -1 -1 -1 -1], joint_prob:_0, x_prob:_0.025833333333333333, y_prob:_0.37\n",
      "xy: [-1 -1  1 -1 -1 -1], joint_prob:_0, x_prob:_0.05333333333333334, y_prob:_0.37\n",
      "xy: [-1 -1 -1  1 -1 -1], joint_prob:_0, x_prob:_0.37, y_prob:_0.05694444444444444\n",
      "xy: [-1 -1 -1 -1  1 -1], joint_prob:_0, x_prob:_0.37, y_prob:_0.025833333333333333\n",
      "xy: [-1 -1 -1 -1 -1  1], joint_prob:_0, x_prob:_0.37, y_prob:_0.05333333333333334\n",
      "xy: [ 1  1 -1 -1 -1 -1], joint_prob:_0, x_prob:_0.05333333333333334, y_prob:_0.37\n",
      "xy: [ 1 -1  1 -1 -1 -1], joint_prob:_0, x_prob:_0.024444444444444446, y_prob:_0.37\n",
      "xy: [ 1 -1 -1  1 -1 -1], joint_prob:_0.05694444444444444, x_prob:_0.05694444444444444, y_prob:_0.05694444444444444\n",
      "xy: [ 1 -1 -1 -1  1 -1], joint_prob:_0, x_prob:_0.05694444444444444, y_prob:_0.025833333333333333\n",
      "xy: [ 1 -1 -1 -1 -1  1], joint_prob:_0, x_prob:_0.05694444444444444, y_prob:_0.05333333333333334\n",
      "xy: [-1  1  1 -1 -1 -1], joint_prob:_0, x_prob:_0.04666666666666667, y_prob:_0.37\n",
      "xy: [-1  1 -1  1 -1 -1], joint_prob:_0, x_prob:_0.025833333333333333, y_prob:_0.05694444444444444\n",
      "xy: [-1  1 -1 -1  1 -1], joint_prob:_0.025833333333333333, x_prob:_0.025833333333333333, y_prob:_0.025833333333333333\n",
      "xy: [-1  1 -1 -1 -1  1], joint_prob:_0, x_prob:_0.025833333333333333, y_prob:_0.05333333333333334\n",
      "xy: [-1 -1  1  1 -1 -1], joint_prob:_0, x_prob:_0.05333333333333334, y_prob:_0.05694444444444444\n",
      "xy: [-1 -1  1 -1  1 -1], joint_prob:_0, x_prob:_0.05333333333333334, y_prob:_0.025833333333333333\n",
      "xy: [-1 -1  1 -1 -1  1], joint_prob:_0.05333333333333334, x_prob:_0.05333333333333334, y_prob:_0.05333333333333334\n",
      "xy: [-1 -1 -1  1  1 -1], joint_prob:_0, x_prob:_0.37, y_prob:_0.05333333333333334\n",
      "xy: [-1 -1 -1  1 -1  1], joint_prob:_0, x_prob:_0.37, y_prob:_0.024444444444444446\n",
      "xy: [-1 -1 -1 -1  1  1], joint_prob:_0, x_prob:_0.37, y_prob:_0.04666666666666667\n",
      "xy: [ 1  1  1 -1 -1 -1], joint_prob:_0, x_prob:_0.36944444444444446, y_prob:_0.37\n",
      "xy: [ 1  1 -1  1 -1 -1], joint_prob:_0, x_prob:_0.05333333333333334, y_prob:_0.05694444444444444\n",
      "xy: [ 1  1 -1 -1  1 -1], joint_prob:_0, x_prob:_0.05333333333333334, y_prob:_0.025833333333333333\n",
      "xy: [ 1  1 -1 -1 -1  1], joint_prob:_0, x_prob:_0.05333333333333334, y_prob:_0.05333333333333334\n",
      "xy: [ 1 -1  1  1 -1 -1], joint_prob:_0, x_prob:_0.024444444444444446, y_prob:_0.05694444444444444\n",
      "xy: [ 1 -1  1 -1  1 -1], joint_prob:_0, x_prob:_0.024444444444444446, y_prob:_0.025833333333333333\n",
      "xy: [ 1 -1  1 -1 -1  1], joint_prob:_0, x_prob:_0.024444444444444446, y_prob:_0.05333333333333334\n",
      "xy: [ 1 -1 -1  1  1 -1], joint_prob:_0, x_prob:_0.05694444444444444, y_prob:_0.05333333333333334\n",
      "xy: [ 1 -1 -1  1 -1  1], joint_prob:_0, x_prob:_0.05694444444444444, y_prob:_0.024444444444444446\n",
      "xy: [ 1 -1 -1 -1  1  1], joint_prob:_0, x_prob:_0.05694444444444444, y_prob:_0.04666666666666667\n",
      "xy: [-1  1  1  1 -1 -1], joint_prob:_0, x_prob:_0.04666666666666667, y_prob:_0.05694444444444444\n",
      "xy: [-1  1  1 -1  1 -1], joint_prob:_0, x_prob:_0.04666666666666667, y_prob:_0.025833333333333333\n",
      "xy: [-1  1  1 -1 -1  1], joint_prob:_0, x_prob:_0.04666666666666667, y_prob:_0.05333333333333334\n",
      "xy: [-1  1 -1  1  1 -1], joint_prob:_0, x_prob:_0.025833333333333333, y_prob:_0.05333333333333334\n",
      "xy: [-1  1 -1  1 -1  1], joint_prob:_0, x_prob:_0.025833333333333333, y_prob:_0.024444444444444446\n",
      "xy: [-1  1 -1 -1  1  1], joint_prob:_0, x_prob:_0.025833333333333333, y_prob:_0.04666666666666667\n",
      "xy: [-1 -1  1  1  1 -1], joint_prob:_0, x_prob:_0.05333333333333334, y_prob:_0.05333333333333334\n",
      "xy: [-1 -1  1  1 -1  1], joint_prob:_0, x_prob:_0.05333333333333334, y_prob:_0.024444444444444446\n",
      "xy: [-1 -1  1 -1  1  1], joint_prob:_0, x_prob:_0.05333333333333334, y_prob:_0.04666666666666667\n",
      "xy: [-1 -1 -1  1  1  1], joint_prob:_0, x_prob:_0.37, y_prob:_0.36944444444444446\n",
      "xy: [ 1  1  1  1 -1 -1], joint_prob:_0, x_prob:_0.36944444444444446, y_prob:_0.05694444444444444\n",
      "xy: [ 1  1  1 -1  1 -1], joint_prob:_0, x_prob:_0.36944444444444446, y_prob:_0.025833333333333333\n",
      "xy: [ 1  1  1 -1 -1  1], joint_prob:_0, x_prob:_0.36944444444444446, y_prob:_0.05333333333333334\n",
      "xy: [ 1  1 -1  1  1 -1], joint_prob:_0.05333333333333334, x_prob:_0.05333333333333334, y_prob:_0.05333333333333334\n",
      "xy: [ 1  1 -1  1 -1  1], joint_prob:_0, x_prob:_0.05333333333333334, y_prob:_0.024444444444444446\n",
      "xy: [ 1  1 -1 -1  1  1], joint_prob:_0, x_prob:_0.05333333333333334, y_prob:_0.04666666666666667\n",
      "xy: [ 1 -1  1  1  1 -1], joint_prob:_0, x_prob:_0.024444444444444446, y_prob:_0.05333333333333334\n",
      "xy: [ 1 -1  1  1 -1  1], joint_prob:_0.024444444444444446, x_prob:_0.024444444444444446, y_prob:_0.024444444444444446\n",
      "xy: [ 1 -1  1 -1  1  1], joint_prob:_0, x_prob:_0.024444444444444446, y_prob:_0.04666666666666667\n",
      "xy: [ 1 -1 -1  1  1  1], joint_prob:_0, x_prob:_0.05694444444444444, y_prob:_0.36944444444444446\n",
      "xy: [-1  1  1  1  1 -1], joint_prob:_0, x_prob:_0.04666666666666667, y_prob:_0.05333333333333334\n",
      "xy: [-1  1  1  1 -1  1], joint_prob:_0, x_prob:_0.04666666666666667, y_prob:_0.024444444444444446\n",
      "xy: [-1  1  1 -1  1  1], joint_prob:_0.04666666666666667, x_prob:_0.04666666666666667, y_prob:_0.04666666666666667\n",
      "xy: [-1  1 -1  1  1  1], joint_prob:_0, x_prob:_0.025833333333333333, y_prob:_0.36944444444444446\n",
      "xy: [-1 -1  1  1  1  1], joint_prob:_0, x_prob:_0.05333333333333334, y_prob:_0.36944444444444446\n",
      "xy: [ 1  1  1  1  1 -1], joint_prob:_0, x_prob:_0.36944444444444446, y_prob:_0.05333333333333334\n",
      "xy: [ 1  1  1  1 -1  1], joint_prob:_0, x_prob:_0.36944444444444446, y_prob:_0.024444444444444446\n",
      "xy: [ 1  1  1 -1  1  1], joint_prob:_0, x_prob:_0.36944444444444446, y_prob:_0.04666666666666667\n",
      "xy: [ 1  1 -1  1  1  1], joint_prob:_0, x_prob:_0.05333333333333334, y_prob:_0.36944444444444446\n",
      "xy: [ 1 -1  1  1  1  1], joint_prob:_0, x_prob:_0.024444444444444446, y_prob:_0.36944444444444446\n",
      "xy: [-1  1  1  1  1  1], joint_prob:_0, x_prob:_0.04666666666666667, y_prob:_0.36944444444444446\n",
      "xy: [1 1 1 1 1 1], joint_prob:_0.36944444444444446, x_prob:_0.36944444444444446, y_prob:_0.36944444444444446\n"
     ]
    }
   ],
   "source": [
    "def get_key(array):\n",
    "    return hashlib.sha256(array.tostring()).hexdigest()\n",
    "  \n",
    "def normalize_counts(p_dict):\n",
    "    normalizer = sum(p_dict.values())\n",
    "    for config, count in p_dict.items():\n",
    "        p_dict[config] = count / normalizer\n",
    "    return p_dict\n",
    "\n",
    "def mutual_info_fine_grained_boundary_3(data):\n",
    "    \"\"\"\n",
    "    boundary is only the 3x3 bordering strip\n",
    "    x x *x* | *x* x x\n",
    "    x x *x* | *x* x x\n",
    "    x x *x* | *x* x x\n",
    "    \"\"\"\n",
    "    n_samples, n_rows, n_columns = data.shape\n",
    "    print(n_samples, n_rows, n_columns)\n",
    "    \n",
    "    # compute counts\n",
    "    p_xy = defaultdict(int)\n",
    "    p_x = defaultdict(int)\n",
    "    p_y = defaultdict(int)\n",
    "    n_samples = 200 # for testing, remove later\n",
    "    for sample in range(n_samples):\n",
    "        if sample % 100 == 0:\n",
    "            print(sample, p_xy)\n",
    "        for row in range(n_rows - 3):\n",
    "            for column in range(n_columns - 6):\n",
    "                rectangle = data[sample, row:(row + 3), column:(column+6)]\n",
    "                \n",
    "                boundary_x = rectangle[:, 3]\n",
    "                p_x[get_key(boundary_x)] += 1\n",
    "                boundary_y = rectangle[:, 3]\n",
    "                p_y[get_key(boundary_y)] += 1\n",
    "                joint_boundary = np.array([np.hstack((boundary_x, boundary_y))])\n",
    "                p_xy[get_key(joint_boundary)] += 1\n",
    "\n",
    "\n",
    "    # Normalize counts\n",
    "    p_xy = normalize_counts(p_xy)\n",
    "    p_x = normalize_counts(p_x)\n",
    "    p_y = normalize_counts(p_y)\n",
    "        \n",
    "        \n",
    "    \n",
    "    # Generate all possible configurations of boundary conditions\n",
    "    n = 6\n",
    "    i = np.array(np.indices(n * (2,))).reshape(n, -1)\n",
    "    xy_keys = (i[:, np.argsort(i.sum(0)[::-1], kind='mergesort')].T[::-1].reshape(-1, n)*2-1)\n",
    "\n",
    "    # mi = <log (p(x, y)/p(x)p(y))>\n",
    "    mi = 0\n",
    "    for xy in xy_keys:\n",
    "        joint_prob = p_xy[get_key(xy)]\n",
    "        x = xy[:3]\n",
    "        x_prob = p_x[get_key(x)]\n",
    "        y = xy[3:6]\n",
    "        y_prob = p_y[get_key(y)]\n",
    "        print(f\"xy: {xy}, joint_prob:_{joint_prob}, x_prob:_{x_prob}, y_prob:_{y_prob}\")\n",
    "        if joint_prob != 0:\n",
    "            mi += np.log2(joint_prob/(x_prob * y_prob)) * joint_prob\n",
    "        \n",
    "        \n",
    "            \n",
    "    return p_xy, p_x, p_y, mi\n",
    "\n",
    "p_xy, p_x, p_y, mi = mutual_info_fine_grained_boundary_3(correlated_data)"
   ]
  },
  {
   "cell_type": "code",
   "execution_count": 79,
   "metadata": {
    "colab": {
     "base_uri": "https://localhost:8080/",
     "height": 34
    },
    "colab_type": "code",
    "executionInfo": {
     "elapsed": 661,
     "status": "ok",
     "timestamp": 1568616861974,
     "user": {
      "displayName": "Huy Nguyen",
      "photoUrl": "",
      "userId": "05352249580863404953"
     },
     "user_tz": -420
    },
    "id": "FkQ-s8hMd8Bj",
    "outputId": "23b4185c-d1f5-43a4-ff9a-cc89f743726a"
   },
   "outputs": [
    {
     "data": {
      "text/plain": [
       "64"
      ]
     },
     "execution_count": 79,
     "metadata": {
      "tags": []
     },
     "output_type": "execute_result"
    }
   ],
   "source": [
    "len(p_xy.keys())"
   ]
  },
  {
   "cell_type": "code",
   "execution_count": 20,
   "metadata": {
    "colab": {
     "base_uri": "https://localhost:8080/",
     "height": 34
    },
    "colab_type": "code",
    "executionInfo": {
     "elapsed": 621,
     "status": "ok",
     "timestamp": 1568653054144,
     "user": {
      "displayName": "Huy Nguyen",
      "photoUrl": "",
      "userId": "05352249580863404953"
     },
     "user_tz": -420
    },
    "id": "KE4R4FRsiQTV",
    "outputId": "f010edd5-1fa3-4bf6-8a71-7bb0a63ba1b4"
   },
   "outputs": [
    {
     "data": {
      "text/plain": [
       "2.2517455029637037"
      ]
     },
     "execution_count": 20,
     "metadata": {
      "tags": []
     },
     "output_type": "execute_result"
    }
   ],
   "source": [
    "mi #100"
   ]
  },
  {
   "cell_type": "code",
   "execution_count": 47,
   "metadata": {
    "colab": {
     "base_uri": "https://localhost:8080/",
     "height": 1000,
     "output_embedded_package_id": "1S8KageUn4_TOlH_mW3QJkwDe-LGsDOVt"
    },
    "colab_type": "code",
    "executionInfo": {
     "elapsed": 1653644,
     "status": "ok",
     "timestamp": 1568640530753,
     "user": {
      "displayName": "Huy Nguyen",
      "photoUrl": "",
      "userId": "05352249580863404953"
     },
     "user_tz": -420
    },
    "id": "X9y3o1WJmxcn",
    "outputId": "411cd578-2991-4b22-fa16-f81015b3ff48",
    "scrolled": true
   },
   "outputs": [
    {
     "name": "stdout",
     "output_type": "stream",
     "text": [
      "10000 81 81\n"
     ]
    }
   ],
   "source": [
    "def get_key(array):\n",
    "    return hashlib.sha256(array.tostring()).hexdigest()\n",
    "  \n",
    "def normalize_counts(p_dict):\n",
    "    normalizer = sum(p_dict.values())\n",
    "    for config, count in p_dict.items():\n",
    "        p_dict[config] = count / normalizer\n",
    "    return p_dict\n",
    "\n",
    "def mutual_info_fine_grained_5(data):\n",
    "    \"\"\"\n",
    "    boundary is the 3x3 bordering strip and the 2 non-central spins bordering the border\n",
    "    x *x* *x* | *x* *x* x\n",
    "    x  x  *x* | *x*  x  x\n",
    "    x *x* *x* | *x* *x* x\n",
    "    \"\"\"\n",
    "    n_samples, n_rows, n_columns = data.shape\n",
    "    print(n_samples, n_rows, n_columns)\n",
    "    \n",
    "    # compute counts\n",
    "    p_xy = defaultdict(int)\n",
    "    p_x = defaultdict(int)\n",
    "    p_y = defaultdict(int)\n",
    "    n_samples = 1000 # for testing, remove later\n",
    "    for sample in range(n_samples):\n",
    "#         if sample % 100 == 0:\n",
    "#             print(sample, p_xy)\n",
    "        for row in range(n_rows - 3):\n",
    "            for column in range(n_columns - 6):\n",
    "                rectangle = data[sample, row:(row + 3), column:(column+6)]\n",
    "                boundary_x = np.hstack((rectangle[:, 2], rectangle[0, 1], rectangle[2, 1]))\n",
    "                p_x[get_key(boundary_x)] += 1\n",
    "                boundary_y = np.hstack((rectangle[:, 3], rectangle[0, 4], rectangle[2, 4]))\n",
    "                p_y[get_key(boundary_y)] += 1\n",
    "                joint_boundary = np.array([np.hstack((boundary_x, boundary_y))])\n",
    "                p_xy[get_key(joint_boundary)] += 1\n",
    "                \n",
    "\n",
    "\n",
    "    # Normalize counts\n",
    "    p_xy = normalize_counts(p_xy)\n",
    "    p_x = normalize_counts(p_x)\n",
    "    p_y = normalize_counts(p_y)\n",
    "        \n",
    "        \n",
    "    \n",
    "    # Generate all possible configurations of boundary conditions\n",
    "    n = 10\n",
    "    i = np.array(np.indices(n * (2,))).reshape(n, -1)\n",
    "    xy_keys = (i[:, np.argsort(i.sum(0)[::-1], kind='mergesort')].T[::-1].reshape(-1, n)*2-1)\n",
    "\n",
    "    # mi = <log (p(x, y)/p(x)p(y))>\n",
    "    mi = 0\n",
    "    no_config = []\n",
    "    for xy in xy_keys:\n",
    "        joint_prob = p_xy[get_key(xy)]\n",
    "        x = xy[0:5]\n",
    "        x_prob = p_x[get_key(x)]\n",
    "        y = xy[5:10]\n",
    "        y_prob = p_y[get_key(y)]\n",
    "#         print(f\"boundary_x:{x}\")\n",
    "        if joint_prob != 0:\n",
    "            mi += np.log2(joint_prob/(x_prob * y_prob)) * joint_prob\n",
    "            no_config.append(xy)\n",
    "        \n",
    "        \n",
    "            \n",
    "    return p_xy, p_x, p_y, mi, no_config\n",
    "\n",
    "p_xy, p_x, p_y, mi, no_config = mutual_info_fine_grained_5(correlated_data)"
   ]
  },
  {
   "cell_type": "code",
   "execution_count": 49,
   "metadata": {
    "colab": {
     "base_uri": "https://localhost:8080/",
     "height": 34
    },
    "colab_type": "code",
    "executionInfo": {
     "elapsed": 637,
     "status": "ok",
     "timestamp": 1568640539639,
     "user": {
      "displayName": "Huy Nguyen",
      "photoUrl": "",
      "userId": "05352249580863404953"
     },
     "user_tz": -420
    },
    "id": "4S_AglufwYBz",
    "outputId": "cc868d4d-bcf4-4a5c-c3e4-6027aa69b770"
   },
   "outputs": [
    {
     "data": {
      "text/plain": [
       "0.7435953965060256"
      ]
     },
     "execution_count": 49,
     "metadata": {},
     "output_type": "execute_result"
    }
   ],
   "source": [
    "mi"
   ]
  },
  {
   "cell_type": "code",
   "execution_count": 6,
   "metadata": {
    "colab": {
     "base_uri": "https://localhost:8080/",
     "height": 34
    },
    "colab_type": "code",
    "executionInfo": {
     "elapsed": 677,
     "status": "ok",
     "timestamp": 1568640551607,
     "user": {
      "displayName": "Huy Nguyen",
      "photoUrl": "",
      "userId": "05352249580863404953"
     },
     "user_tz": -420
    },
    "id": "HMPR5nLuwgEN",
    "outputId": "54eea547-d221-43c3-c1fd-df618fc8f8ea"
   },
   "outputs": [
    {
     "data": {
      "text/plain": [
       "1024"
      ]
     },
     "execution_count": 6,
     "metadata": {
      "tags": []
     },
     "output_type": "execute_result"
    }
   ],
   "source": [
    "len(no_config)"
   ]
  },
  {
   "cell_type": "code",
   "execution_count": 50,
   "metadata": {
    "colab": {},
    "colab_type": "code",
    "id": "pt1Zyol4O07Y"
   },
   "outputs": [],
   "source": [
    "with open(\"unfrozen_convolution_relu.pl\", \"rb\") as handle:\n",
    "    results = pickle.load(handle)\n",
    "w = results[\"conv_params\"]\n",
    "b = results[\"best_val_acc_hist\"]"
   ]
  },
  {
   "cell_type": "code",
   "execution_count": 51,
   "metadata": {
    "colab": {
     "base_uri": "https://localhost:8080/",
     "height": 34
    },
    "colab_type": "code",
    "executionInfo": {
     "elapsed": 655,
     "status": "ok",
     "timestamp": 1568641939143,
     "user": {
      "displayName": "Huy Nguyen",
      "photoUrl": "",
      "userId": "05352249580863404953"
     },
     "user_tz": -420
    },
    "id": "aNFf3eDnV-Tt",
    "outputId": "cca9868b-e9bc-475e-bdef-6a4517683976"
   },
   "outputs": [
    {
     "data": {
      "text/plain": [
       "363"
      ]
     },
     "execution_count": 51,
     "metadata": {},
     "output_type": "execute_result"
    }
   ],
   "source": [
    "np.argmax(b)"
   ]
  },
  {
   "cell_type": "code",
   "execution_count": 52,
   "metadata": {
    "colab": {
     "base_uri": "https://localhost:8080/",
     "height": 34
    },
    "colab_type": "code",
    "executionInfo": {
     "elapsed": 1548,
     "status": "ok",
     "timestamp": 1568642047015,
     "user": {
      "displayName": "Huy Nguyen",
      "photoUrl": "",
      "userId": "05352249580863404953"
     },
     "user_tz": -420
    },
    "id": "cuAPMXpxWJug",
    "outputId": "60712a6c-1b27-428b-bb30-593b711a68a8"
   },
   "outputs": [
    {
     "data": {
      "text/plain": [
       "tensor([[[[ 0.1150,  0.0497,  0.0995],\n",
       "          [ 0.0486, -0.0215,  0.0339],\n",
       "          [ 0.0952,  0.0345,  0.0959]]]])"
      ]
     },
     "execution_count": 52,
     "metadata": {},
     "output_type": "execute_result"
    }
   ],
   "source": [
    "w[\"weight\"][363]"
   ]
  },
  {
   "cell_type": "code",
   "execution_count": 88,
   "metadata": {
    "colab": {},
    "colab_type": "code",
    "id": "Ah37_2amCswG"
   },
   "outputs": [],
   "source": [
    "import torch\n",
    "import torch.nn as nn\n",
    "from torch.utils.data import DataLoader\n",
    "import torch.nn.functional as F\n",
    "from torch.utils.tensorboard import SummaryWriter\n",
    "from torch.autograd import Variable\n",
    "\n",
    "class SupervisedConvNet(nn.Module):\n",
    "    def __init__(self, filter_size, square_size, hidden_size, num_hidden_layers, center,\n",
    "                first_activation = \"tanh\", activation_func = \"sigmoid\",\n",
    "                out_channels = 1):\n",
    "        \"\"\"\n",
    "        Arguments:\n",
    "        filter_size ~ size of the convolution kernel (3 x 3)\n",
    "        square size ~ how many strides of convolution in the input\n",
    "        \"\"\"\n",
    "        super(SupervisedConvNet, self).__init__()\n",
    "        self.filter_size = filter_size\n",
    "        self.square_size = square_size\n",
    "        self.hidden_size = hidden_size\n",
    "        self.out_channels = out_channels\n",
    "        if first_activation == \"tanh\":\n",
    "            self.first_activation = torch.tanh\n",
    "        elif first_activation == \"relu\":\n",
    "            self.first_activation = torch.nn.LeakyReLU(0.1)\n",
    "        if activation_func == \"sigmoid\":\n",
    "            self.activation_func = torch.sigmoid\n",
    "        elif activation_func == \"relu\":\n",
    "            self.activation_func = torch.nn.LeakyReLU(0.1)\n",
    "\n",
    "        self.conv1 = nn.Conv2d(1, out_channels, filter_size, padding=0, stride = filter_size)\n",
    "        # parameters\n",
    "        param = {}\n",
    "        if center == \"keep\":\n",
    "            param['conv2d.weight'] = torch.tensor([[[[1.0, 1.0, 1.0],\n",
    "                      [1.0, 1.0, 1.0],\n",
    "                      [1.0, 1.0, 1.0]]]])/9\n",
    "            param['conv2d.bias'] = torch.tensor([0.0])\n",
    "            self.conv1.bias = torch.nn.Parameter(param['conv2d.bias'], requires_grad=False)\n",
    "        elif center == \"omit\":\n",
    "            param['conv2d.weight'] = torch.tensor([[[[1.0, 1.0, 1.0],\n",
    "                      [1.0, 0.0, 1.0],\n",
    "                      [1.0, 1.0, 1.0]]]])/8\n",
    "            # param['conv2d.bias'] = torch.tensor([0.0])\n",
    "        elif center == \"pre_trained\":\n",
    "            param['conv2d.weight'] = torch.tensor([[[[ 0.1150,  0.0497,  0.0995],\n",
    "          [ 0.0486, -0.0215,  0.0339],\n",
    "          [ 0.0952,  0.0345,  0.0959]]]])\n",
    "            param['conv2d.bias'] = torch.tensor([0.0406])\n",
    "            self.conv1.bias = torch.nn.Parameter(param['conv2d.bias'], requires_grad=False)\n",
    "        self.conv1.weight = torch.nn.Parameter(param['conv2d.weight'], requires_grad=False)\n",
    "\n",
    "\n",
    "        self.first_linear = nn.Linear(self.out_channels * square_size ** 2, hidden_size)\n",
    "        hidden_layer = [nn.Linear(hidden_size, hidden_size) for _ in range(num_hidden_layers)]\n",
    "        self.linear_hidden = nn.ModuleList(hidden_layer)\n",
    "        self.linear_output = nn.Linear(hidden_size, 1)\n",
    "\n",
    "\n",
    "\n",
    "    def forward(self, x):\n",
    "        x = self.first_activation(self.conv1(x))#.view(-1, 1, self.out_channels * self.square_size**2)\n",
    "#         x = self.activation_func(self.first_linear(x))\n",
    "#         for linear in self.linear_hidden:\n",
    "#             x = self.activation_func(linear(x))\n",
    "#         x = torch.sigmoid(self.linear_output(x))\n",
    "#         x = x.squeeze(1)\n",
    "\n",
    "        return x"
   ]
  },
  {
   "cell_type": "code",
   "execution_count": 89,
   "metadata": {
    "colab": {},
    "colab_type": "code",
    "id": "5CEPZD11Xkno"
   },
   "outputs": [],
   "source": [
    "def coarse_grain_unfrozen_conv(correlated_data = correlated_data):\n",
    "    run_mode = \"frozen_convolution_pretrained_relu\"\n",
    "    mode = \"run\"\n",
    "    if mode == \"run\":\n",
    "        hidden_size = 10\n",
    "        out_channels = 1\n",
    "        num_hidden_layers = 1\n",
    "        conv_params = defaultdict(list)\n",
    "\n",
    "\n",
    "        if run_mode == \"frozen_convolution_pretrained_relu\":\n",
    "            \"\"\"\n",
    "            \"\"\"\n",
    "            run_num = 1\n",
    "            filename = f\"frozen_convolution_pretrained_relu_{run_num}.pl\"\n",
    "            out_channels = 1\n",
    "            try:\n",
    "                with open(filename, \"rb\") as handle:\n",
    "                    results = pickle.load(handle)\n",
    "            except:\n",
    "                results = []\n",
    "            results = []\n",
    "            model = SupervisedConvNet(filter_size = 3, square_size = 27, \\\n",
    "                    hidden_size = hidden_size, out_channels = out_channels,\n",
    "                    center = \"pre_trained\", first_activation = \"tanh\",\n",
    "                    activation_func = \"relu\", num_hidden_layers = num_hidden_layers)\n",
    "            data = torch.tensor(correlated_data).unsqueeze(1).type('torch.FloatTensor')\n",
    "            out = model(data)\n",
    "\n",
    "    return out\n",
    "\n",
    "def coarse_grain_frozen_conv(correlated_data = correlated_data):\n",
    "    run_mode = \"frozen_convolution_pretrained_relu\"\n",
    "    mode = \"run\"\n",
    "    if mode == \"run\":\n",
    "        hidden_size = 10\n",
    "        out_channels = 1\n",
    "        num_hidden_layers = 1\n",
    "        conv_params = defaultdict(list)\n",
    "\n",
    "\n",
    "        if run_mode == \"frozen_convolution_pretrained_relu\":\n",
    "            \"\"\"\n",
    "            \"\"\"\n",
    "            run_num = 1\n",
    "            filename = f\"frozen_convolution_pretrained_relu_{run_num}.pl\"\n",
    "            out_channels = 1\n",
    "            try:\n",
    "                with open(filename, \"rb\") as handle:\n",
    "                    results = pickle.load(handle)\n",
    "            except:\n",
    "                results = []\n",
    "            results = []\n",
    "            model = SupervisedConvNet(filter_size = 3, square_size = 27, \\\n",
    "                    hidden_size = hidden_size, out_channels = out_channels,\n",
    "                    center = \"omit\", first_activation = \"tanh\",\n",
    "                    activation_func = \"relu\", num_hidden_layers = num_hidden_layers)\n",
    "            data = torch.tensor(correlated_data).unsqueeze(1).type('torch.FloatTensor')\n",
    "            out = model(data)\n",
    "\n",
    "    return out\n",
    "out = coarse_grain_frozen_conv()\n"
   ]
  },
  {
   "cell_type": "code",
   "execution_count": 91,
   "metadata": {},
   "outputs": [
    {
     "data": {
      "text/plain": [
       "tensor([[[ 0.5309, -0.0589,  0.4013,  0.5309,  0.3464,  0.2843,  0.1680,\n",
       "           0.4118,  0.5309,  0.3734,  0.4575,  0.5309,  0.5309,  0.3464,\n",
       "           0.5309,  0.3464,  0.5309,  0.5309,  0.4558,  0.5309,  0.2562,\n",
       "           0.5309,  0.5309,  0.5309,  0.4558,  0.5309,  0.3734],\n",
       "         [ 0.5309,  0.5309,  0.5309,  0.3808, -0.1524,  0.2049,  0.4796,\n",
       "           0.5309,  0.4575,  0.5309,  0.5309,  0.5309,  0.4805,  0.4575,\n",
       "           0.5309,  0.5309,  0.5309,  0.5309,  0.5309,  0.4805,  0.5309,\n",
       "           0.5309,  0.1680,  0.5309,  0.5309,  0.4796,  0.5309],\n",
       "         [ 0.5309,  0.5309,  0.5309,  0.5309,  0.5309,  0.2696,  0.2425,\n",
       "           0.5309,  0.5309,  0.5309,  0.4805,  0.5309,  0.5309,  0.5309,\n",
       "           0.5309,  0.5309,  0.5309,  0.4558,  0.5309,  0.5309,  0.4805,\n",
       "           0.5309,  0.5309,  0.5309,  0.5309,  0.5309,  0.4796],\n",
       "         [ 0.5309,  0.5309,  0.5309,  0.5309,  0.5309,  0.4098,  0.3191,\n",
       "           0.0408,  0.4558,  0.5309,  0.3126,  0.2582,  0.3808,  0.5309,\n",
       "           0.4558,  0.5309,  0.5309,  0.5309,  0.5309,  0.3464,  0.5309,\n",
       "           0.5309,  0.2948,  0.3191, -0.0943,  0.5309,  0.5309],\n",
       "         [ 0.3191,  0.1393,  0.2709,  0.5309,  0.2966,  0.2948,  0.3734,\n",
       "           0.2843,  0.5309,  0.5309,  0.3784,  0.4909,  0.4013,  0.1933,\n",
       "           0.2062,  0.5309,  0.5309,  0.5309,  0.5309,  0.5309,  0.2928,\n",
       "           0.5309,  0.5309,  0.5309,  0.0629,  0.5309,  0.5309],\n",
       "         [ 0.3734,  0.0629,  0.1633,  0.5309,  0.5309,  0.3464,  0.5309,\n",
       "           0.4558,  0.5309,  0.3796,  0.5309,  0.1149,  0.2582,  0.5309,\n",
       "           0.3734,  0.4805,  0.5309,  0.1320,  0.5309,  0.5309,  0.1633,\n",
       "           0.5309,  0.5309,  0.5309,  0.5309,  0.4377,  0.5309],\n",
       "         [ 0.4805,  0.5309,  0.5309,  0.5309,  0.1393,  0.4558,  0.5309,\n",
       "           0.2928,  0.3796,  0.1393,  0.5309,  0.5309,  0.5309,  0.5309,\n",
       "           0.5309,  0.5309,  0.4796,  0.5309,  0.5309,  0.5309,  0.5309,\n",
       "           0.5309,  0.5309,  0.5309,  0.5309,  0.5309,  0.4796],\n",
       "         [ 0.5309,  0.5309,  0.5309,  0.5309,  0.5309,  0.4575,  0.1620,\n",
       "          -0.4701, -0.3093, -0.4701,  0.0478,  0.5309,  0.5309,  0.3808,\n",
       "           0.5309,  0.5309,  0.3734,  0.5309,  0.4796,  0.1320,  0.3808,\n",
       "           0.5309,  0.5309,  0.5309,  0.5309,  0.5309,  0.5309],\n",
       "         [ 0.4805,  0.5309,  0.5309,  0.5309,  0.3796,  0.3808,  0.2272,\n",
       "          -0.1810, -0.3910, -0.4701, -0.4701, -0.4701, -0.3015,  0.3796,\n",
       "           0.3808,  0.5309,  0.5309,  0.3808,  0.2849,  0.0629, -0.1837,\n",
       "           0.2948,  0.4805,  0.5309,  0.5309,  0.5309,  0.2959],\n",
       "         [ 0.5309,  0.5309,  0.4796,  0.3464,  0.2215, -0.4146, -0.4156,\n",
       "           0.0629, -0.2190, -0.3093, -0.4701, -0.4701, -0.2455,  0.5309,\n",
       "           0.5309,  0.3808,  0.5309,  0.3234,  0.5309,  0.4796,  0.5309,\n",
       "           0.3464,  0.3796,  0.5309,  0.5309, -0.0248,  0.5309],\n",
       "         [ 0.3808,  0.4909,  0.5309,  0.5309,  0.5309,  0.5309,  0.5309,\n",
       "           0.5309, -0.3093, -0.2444, -0.4701, -0.3081,  0.2049,  0.5309,\n",
       "           0.4909,  0.4796,  0.5309,  0.5309,  0.1320,  0.2619,  0.3808,\n",
       "           0.5309,  0.2849,  0.2979,  0.5309, -0.4701, -0.2788],\n",
       "         [ 0.3796,  0.5309,  0.5309,  0.3796,  0.5309,  0.5309,  0.5309,\n",
       "           0.4558,  0.2849,  0.2854, -0.2867, -0.4268,  0.5309,  0.5120,\n",
       "           0.5309,  0.4558,  0.4909,  0.2915,  0.5309,  0.5309,  0.5611,\n",
       "           0.5309,  0.5309,  0.4796,  0.5309,  0.4558,  0.3755],\n",
       "         [ 0.5309,  0.5309,  0.5120,  0.3734,  0.5309,  0.5309,  0.3796,\n",
       "           0.3191,  0.1393, -0.1789, -0.4701, -0.4701,  0.5309,  0.4796,\n",
       "           0.5309,  0.5309,  0.1980,  0.3796,  0.3796,  0.4796,  0.5309,\n",
       "           0.3796,  0.4796,  0.5309,  0.5309,  0.5309,  0.3584],\n",
       "         [ 0.5309,  0.5309,  0.5309,  0.1765,  0.1812,  0.1322, -0.4268,\n",
       "          -0.2444, -0.1273, -0.4701, -0.2455,  0.4558,  0.4575,  0.4350,\n",
       "           0.5309,  0.5309, -0.4156,  0.3796, -0.1789,  0.1379,  0.5309,\n",
       "           0.2849,  0.3464,  0.5309,  0.5309,  0.1320, -0.0589],\n",
       "         [ 0.5309,  0.2562,  0.2569, -0.3015, -0.4156, -0.4701, -0.5029,\n",
       "          -0.4156, -0.3910, -0.4701, -0.4506,  0.5611,  0.2843,  0.5309,\n",
       "           0.5309,  0.5309,  0.0088,  0.3734,  0.0629,  0.5309,  0.5309,\n",
       "           0.5309,  0.2569,  0.2935,  0.5309,  0.3796,  0.3203],\n",
       "         [ 0.2707, -0.0810, -0.1810, -0.4701, -0.4701, -0.4701, -0.4701,\n",
       "          -0.4701, -0.4701, -0.4701, -0.4701,  0.3137,  0.0174,  0.4575,\n",
       "           0.5309,  0.5309,  0.5309,  0.4013,  0.3808,  0.4796,  0.3808,\n",
       "           0.5309,  0.5309,  0.5309,  0.5309,  0.1405, -0.0516],\n",
       "         [-0.0208, -0.4701, -0.4701, -0.4701, -0.1259, -0.4701, -0.4701,\n",
       "          -0.4701, -0.4701, -0.2455,  0.0088,  0.5309,  0.5309,  0.5309,\n",
       "           0.5309,  0.5309,  0.5309,  0.0074,  0.3464,  0.0074, -0.0280,\n",
       "           0.5309,  0.4909,  0.5611,  0.5309,  0.3734,  0.5309],\n",
       "         [ 0.3734, -0.3892, -0.4701, -0.4701, -0.3321, -0.4701, -0.2843,\n",
       "          -0.1524, -0.4701, -0.0516,  0.5309,  0.4558,  0.5309,  0.5309,\n",
       "           0.5309,  0.5309,  0.5309,  0.4805,  0.1610,  0.2562,  0.5309,\n",
       "           0.4558,  0.5309,  0.5309,  0.5309,  0.5309,  0.5309],\n",
       "         [ 0.5309, -0.4701, -0.0563, -0.0834, -0.4701, -0.1918, -0.1941,\n",
       "           0.0737,  0.0160, -0.4701, -0.0749,  0.4796,  0.5309,  0.5309,\n",
       "           0.5309,  0.3808,  0.1393,  0.5309,  0.5309,  0.4805,  0.5309,\n",
       "           0.3808,  0.5309,  0.5309,  0.5309,  0.5309,  0.4805],\n",
       "         [ 0.5309, -0.2457, -0.4701, -0.2444,  0.2049,  0.3464,  0.3796,\n",
       "           0.5309,  0.2215, -0.3081,  0.0464,  0.5309,  0.5309,  0.5309,\n",
       "           0.4796,  0.5309,  0.2582,  0.5309,  0.5309,  0.3464,  0.5309,\n",
       "           0.5309,  0.1056,  0.4892,  0.4805,  0.5309,  0.4805],\n",
       "         [ 0.5309,  0.5309, -0.3081,  0.3464,  0.3464,  0.5309,  0.3734,\n",
       "           0.3203,  0.5309,  0.5309,  0.5309,  0.5309,  0.3234,  0.5309,\n",
       "           0.5309,  0.5309,  0.5309,  0.5309,  0.5309,  0.4892,  0.5309,\n",
       "           0.5309,  0.5309,  0.3808,  0.5309,  0.5309,  0.5309],\n",
       "         [ 0.5611,  0.5309,  0.5309,  0.4575,  0.4805,  0.5309,  0.2849,\n",
       "           0.5309,  0.5309,  0.3796,  0.5309,  0.5309,  0.5309,  0.4602,\n",
       "           0.4909,  0.1694,  0.5309,  0.4796,  0.2215,  0.0088,  0.3464,\n",
       "           0.5309,  0.5309,  0.5309,  0.5120,  0.4575,  0.0182],\n",
       "         [ 0.5309,  0.3734,  0.5309,  0.4805,  0.5309,  0.3734,  0.5309,\n",
       "           0.5309,  0.5309,  0.3734,  0.5309,  0.5309,  0.5309,  0.5309,\n",
       "           0.1393,  0.3808,  0.5309,  0.5309,  0.5309,  0.5309,  0.5309,\n",
       "           0.5309,  0.4575,  0.5309,  0.5309,  0.3191,  0.0776],\n",
       "         [ 0.5309,  0.5309,  0.5309,  0.5309,  0.1680,  0.3808,  0.4796,\n",
       "           0.5309,  0.5309,  0.3126,  0.5309,  0.5309,  0.5309,  0.5309,\n",
       "           0.4558,  0.5309,  0.3796,  0.5309,  0.5309,  0.5309,  0.4377,\n",
       "           0.2948,  0.5309,  0.5309,  0.5309,  0.5309,  0.2236],\n",
       "         [ 0.5309,  0.5309,  0.3808,  0.5309,  0.3808,  0.5309,  0.2049,\n",
       "           0.5309,  0.5309,  0.2915,  0.5309,  0.5309,  0.5611,  0.3137,\n",
       "          -0.0342,  0.5309,  0.3808,  0.5309,  0.5309,  0.3584,  0.4805,\n",
       "           0.5309,  0.5309,  0.4796,  0.5309,  0.5309,  0.5309],\n",
       "         [ 0.5309,  0.5309,  0.5309,  0.4575,  0.5309,  0.5309,  0.3796,\n",
       "           0.5309,  0.5309, -0.0516,  0.5309,  0.5309,  0.5309,  0.3464,\n",
       "           0.5309,  0.5309, -0.1524,  0.2306,  0.3734, -0.0236,  0.0182,\n",
       "           0.3335,  0.5309,  0.5309,  0.2849,  0.4796,  0.3464],\n",
       "         [ 0.5309,  0.2966,  0.1115,  0.3796,  0.5309,  0.5309,  0.5309,\n",
       "           0.5309,  0.5309,  0.3203,  0.5309,  0.5611,  0.4805,  0.5309,\n",
       "           0.5611,  0.5309,  0.2849,  0.3734,  0.5611,  0.3734,  0.0382,\n",
       "           0.2582,  0.5309,  0.4005,  0.2056,  0.4558,  0.3796]]])"
      ]
     },
     "execution_count": 91,
     "metadata": {},
     "output_type": "execute_result"
    }
   ],
   "source": [
    "coarse_grain_unfrozen_conv()[0]"
   ]
  },
  {
   "cell_type": "code",
   "execution_count": 90,
   "metadata": {
    "colab": {
     "base_uri": "https://localhost:8080/",
     "height": 34
    },
    "colab_type": "code",
    "executionInfo": {
     "elapsed": 514,
     "status": "ok",
     "timestamp": 1568645582583,
     "user": {
      "displayName": "Huy Nguyen",
      "photoUrl": "",
      "userId": "05352249580863404953"
     },
     "user_tz": -420
    },
    "id": "sn9Kk6aoiN2z",
    "outputId": "12ae9cbe-99ab-402a-967a-ce128d554b3e"
   },
   "outputs": [
    {
     "data": {
      "text/plain": [
       "tensor([[[ 0.6868, -0.3869,  0.3291,  0.6868,  0.5312,  0.3291,  0.3291,\n",
       "           0.3291,  0.6868,  0.5312,  0.5312,  0.6868,  0.6868,  0.5312,\n",
       "           0.6868,  0.5312,  0.6868,  0.6868,  0.5312,  0.6868,  0.3291,\n",
       "           0.6868,  0.6868,  0.6868,  0.5312,  0.6868,  0.5312],\n",
       "         [ 0.6868,  0.6868,  0.6868,  0.5312, -0.3869,  0.0916,  0.5312,\n",
       "           0.6868,  0.5312,  0.6868,  0.6868,  0.6868,  0.5312,  0.5312,\n",
       "           0.6868,  0.6868,  0.6868,  0.6868,  0.6868,  0.5312,  0.6868,\n",
       "           0.6868,  0.3291,  0.6868,  0.6868,  0.5312,  0.6868],\n",
       "         [ 0.6868,  0.6868,  0.6868,  0.6868,  0.6868,  0.0916,  0.0916,\n",
       "           0.6868,  0.6868,  0.6868,  0.5312,  0.6868,  0.6868,  0.6868,\n",
       "           0.6868,  0.6868,  0.6868,  0.5312,  0.6868,  0.6868,  0.5312,\n",
       "           0.6868,  0.6868,  0.6868,  0.6868,  0.6868,  0.5312],\n",
       "         [ 0.6868,  0.6868,  0.6868,  0.6868,  0.6868,  0.5312,  0.3291,\n",
       "          -0.1569,  0.5312,  0.6868,  0.3291,  0.3291,  0.5312,  0.6868,\n",
       "           0.5312,  0.6868,  0.6868,  0.6868,  0.6868,  0.5312,  0.6868,\n",
       "           0.6868,  0.3291,  0.3291, -0.3869,  0.6868,  0.6868],\n",
       "         [ 0.3291,  0.0916,  0.0916,  0.6868,  0.0916,  0.3291,  0.5312,\n",
       "           0.3291,  0.6868,  0.6868,  0.0916,  0.5312,  0.3291,  0.0916,\n",
       "           0.3291,  0.6868,  0.6868,  0.6868,  0.6868,  0.6868,  0.3291,\n",
       "           0.6868,  0.6868,  0.6868,  0.0916,  0.6868,  0.6868],\n",
       "         [ 0.5312,  0.0916,  0.0916,  0.6868,  0.6868,  0.5312,  0.6868,\n",
       "           0.5312,  0.6868,  0.5312,  0.6868, -0.1569,  0.3291,  0.6868,\n",
       "           0.5312,  0.5312,  0.6868,  0.0916,  0.6868,  0.6868,  0.0916,\n",
       "           0.6868,  0.6868,  0.6868,  0.6868,  0.3291,  0.6868],\n",
       "         [ 0.5312,  0.6868,  0.6868,  0.6868,  0.0916,  0.5312,  0.6868,\n",
       "           0.3291,  0.5312,  0.0916,  0.6868,  0.6868,  0.6868,  0.6868,\n",
       "           0.6868,  0.6868,  0.5312,  0.6868,  0.6868,  0.6868,  0.6868,\n",
       "           0.6868,  0.6868,  0.6868,  0.6868,  0.6868,  0.5312],\n",
       "         [ 0.6868,  0.6868,  0.6868,  0.6868,  0.6868,  0.5312, -0.1569,\n",
       "          -0.8204, -0.7203, -0.8204, -0.1569,  0.6868,  0.6868,  0.5312,\n",
       "           0.6868,  0.6868,  0.5312,  0.6868,  0.5312,  0.0916,  0.5312,\n",
       "           0.6868,  0.6868,  0.6868,  0.6868,  0.6868,  0.6868],\n",
       "         [ 0.5312,  0.6868,  0.6868,  0.6868,  0.5312,  0.5312,  0.0916,\n",
       "          -0.5771, -0.7203, -0.8204, -0.8204, -0.8204, -0.7203,  0.5312,\n",
       "           0.5312,  0.6868,  0.6868,  0.5312,  0.3291,  0.0916, -0.3869,\n",
       "           0.3291,  0.5312,  0.6868,  0.6868,  0.6868,  0.3291],\n",
       "         [ 0.6868,  0.6868,  0.5312,  0.5312,  0.0916, -0.7203, -0.7203,\n",
       "           0.0916, -0.5771, -0.7203, -0.8204, -0.8204, -0.5771,  0.6868,\n",
       "           0.6868,  0.5312,  0.6868,  0.3291,  0.6868,  0.5312,  0.6868,\n",
       "           0.5312,  0.5312,  0.6868,  0.6868, -0.3869,  0.6868],\n",
       "         [ 0.5312,  0.5312,  0.6868,  0.6868,  0.6868,  0.6868,  0.6868,\n",
       "           0.6868, -0.7203, -0.5771, -0.8204, -0.7203,  0.0916,  0.6868,\n",
       "           0.5312,  0.5312,  0.6868,  0.6868,  0.0916,  0.0916,  0.5312,\n",
       "           0.6868,  0.3291,  0.3291,  0.6868, -0.8204, -0.5771],\n",
       "         [ 0.5312,  0.6868,  0.6868,  0.5312,  0.6868,  0.6868,  0.6868,\n",
       "           0.5312,  0.3291,  0.3291, -0.5771, -0.7203,  0.6868,  0.5312,\n",
       "           0.6868,  0.5312,  0.5312,  0.3291,  0.6868,  0.6868,  0.6868,\n",
       "           0.6868,  0.6868,  0.5312,  0.6868,  0.5312,  0.3291],\n",
       "         [ 0.6868,  0.6868,  0.5312,  0.5312,  0.6868,  0.6868,  0.5312,\n",
       "           0.3291,  0.0916, -0.5771, -0.8204, -0.8204,  0.6868,  0.5312,\n",
       "           0.6868,  0.6868,  0.3291,  0.5312,  0.5312,  0.5312,  0.6868,\n",
       "           0.5312,  0.5312,  0.6868,  0.6868,  0.6868,  0.3291],\n",
       "         [ 0.6868,  0.6868,  0.6868, -0.1569,  0.0916,  0.0916, -0.7203,\n",
       "          -0.5771, -0.5771, -0.8204, -0.5771,  0.5312,  0.5312,  0.3291,\n",
       "           0.6868,  0.6868, -0.7203,  0.5312, -0.5771, -0.1569,  0.6868,\n",
       "           0.3291,  0.5312,  0.6868,  0.6868,  0.0916, -0.3869],\n",
       "         [ 0.6868,  0.3291,  0.0916, -0.7203, -0.7203, -0.8204, -0.8204,\n",
       "          -0.7203, -0.7203, -0.8204, -0.7203,  0.6868,  0.3291,  0.6868,\n",
       "           0.6868,  0.6868, -0.1569,  0.5312,  0.0916,  0.6868,  0.6868,\n",
       "           0.6868,  0.0916,  0.3291,  0.6868,  0.5312,  0.3291],\n",
       "         [ 0.0916, -0.5771, -0.5771, -0.8204, -0.8204, -0.8204, -0.8204,\n",
       "          -0.8204, -0.8204, -0.8204, -0.8204,  0.3291, -0.1569,  0.5312,\n",
       "           0.6868,  0.6868,  0.6868,  0.3291,  0.5312,  0.5312,  0.5312,\n",
       "           0.6868,  0.6868,  0.6868,  0.6868,  0.0916, -0.3869],\n",
       "         [-0.3869, -0.8204, -0.8204, -0.8204, -0.3869, -0.8204, -0.8204,\n",
       "          -0.8204, -0.8204, -0.5771, -0.1569,  0.6868,  0.6868,  0.6868,\n",
       "           0.6868,  0.6868,  0.6868, -0.3869,  0.5312, -0.3869,  0.0916,\n",
       "           0.6868,  0.5312,  0.6868,  0.6868,  0.5312,  0.6868],\n",
       "         [ 0.5312, -0.7203, -0.8204, -0.8204, -0.5771, -0.8204, -0.5771,\n",
       "          -0.3869, -0.8204, -0.3869,  0.6868,  0.5312,  0.6868,  0.6868,\n",
       "           0.6868,  0.6868,  0.6868,  0.5312,  0.3291,  0.3291,  0.6868,\n",
       "           0.5312,  0.6868,  0.6868,  0.6868,  0.6868,  0.6868],\n",
       "         [ 0.6868, -0.8204, -0.3869, -0.3869, -0.8204, -0.3869, -0.3869,\n",
       "           0.0916, -0.3869, -0.8204, -0.1569,  0.5312,  0.6868,  0.6868,\n",
       "           0.6868,  0.5312,  0.0916,  0.6868,  0.6868,  0.5312,  0.6868,\n",
       "           0.5312,  0.6868,  0.6868,  0.6868,  0.6868,  0.5312],\n",
       "         [ 0.6868, -0.5771, -0.8204, -0.5771,  0.0916,  0.5312,  0.5312,\n",
       "           0.6868,  0.0916, -0.7203, -0.1569,  0.6868,  0.6868,  0.6868,\n",
       "           0.5312,  0.6868,  0.3291,  0.6868,  0.6868,  0.5312,  0.6868,\n",
       "           0.6868,  0.0916,  0.5312,  0.5312,  0.6868,  0.5312],\n",
       "         [ 0.6868,  0.6868, -0.7203,  0.5312,  0.5312,  0.6868,  0.5312,\n",
       "           0.3291,  0.6868,  0.6868,  0.6868,  0.6868,  0.3291,  0.6868,\n",
       "           0.6868,  0.6868,  0.6868,  0.6868,  0.6868,  0.5312,  0.6868,\n",
       "           0.6868,  0.6868,  0.5312,  0.6868,  0.6868,  0.6868],\n",
       "         [ 0.6868,  0.6868,  0.6868,  0.5312,  0.5312,  0.6868,  0.3291,\n",
       "           0.6868,  0.6868,  0.5312,  0.6868,  0.6868,  0.6868,  0.3291,\n",
       "           0.5312,  0.3291,  0.6868,  0.5312,  0.0916, -0.1569,  0.5312,\n",
       "           0.6868,  0.6868,  0.6868,  0.5312,  0.5312, -0.3869],\n",
       "         [ 0.6868,  0.5312,  0.6868,  0.5312,  0.6868,  0.5312,  0.6868,\n",
       "           0.6868,  0.6868,  0.5312,  0.6868,  0.6868,  0.6868,  0.6868,\n",
       "           0.0916,  0.5312,  0.6868,  0.6868,  0.6868,  0.6868,  0.6868,\n",
       "           0.6868,  0.5312,  0.6868,  0.6868,  0.3291, -0.1569],\n",
       "         [ 0.6868,  0.6868,  0.6868,  0.6868,  0.3291,  0.5312,  0.5312,\n",
       "           0.6868,  0.6868,  0.3291,  0.6868,  0.6868,  0.6868,  0.6868,\n",
       "           0.5312,  0.6868,  0.5312,  0.6868,  0.6868,  0.6868,  0.3291,\n",
       "           0.3291,  0.6868,  0.6868,  0.6868,  0.6868,  0.0916],\n",
       "         [ 0.6868,  0.6868,  0.5312,  0.6868,  0.5312,  0.6868,  0.0916,\n",
       "           0.6868,  0.6868,  0.3291,  0.6868,  0.6868,  0.6868,  0.3291,\n",
       "          -0.1569,  0.6868,  0.5312,  0.6868,  0.6868,  0.3291,  0.5312,\n",
       "           0.6868,  0.6868,  0.5312,  0.6868,  0.6868,  0.6868],\n",
       "         [ 0.6868,  0.6868,  0.6868,  0.5312,  0.6868,  0.6868,  0.5312,\n",
       "           0.6868,  0.6868, -0.3869,  0.6868,  0.6868,  0.6868,  0.5312,\n",
       "           0.6868,  0.6868, -0.3869,  0.0916,  0.5312, -0.3869, -0.3869,\n",
       "           0.3291,  0.6868,  0.6868,  0.3291,  0.5312,  0.5312],\n",
       "         [ 0.6868,  0.0916,  0.0916,  0.5312,  0.6868,  0.6868,  0.6868,\n",
       "           0.6868,  0.6868,  0.3291,  0.6868,  0.6868,  0.5312,  0.6868,\n",
       "           0.6868,  0.6868,  0.3291,  0.5312,  0.6868,  0.5312, -0.1569,\n",
       "           0.3291,  0.6868,  0.3291, -0.1569,  0.5312,  0.5312]]],\n",
       "       grad_fn=<SelectBackward>)"
      ]
     },
     "execution_count": 90,
     "metadata": {},
     "output_type": "execute_result"
    }
   ],
   "source": [
    "out[0]"
   ]
  },
  {
   "cell_type": "code",
   "execution_count": 54,
   "metadata": {
    "colab": {
     "base_uri": "https://localhost:8080/",
     "height": 176
    },
    "colab_type": "code",
    "executionInfo": {
     "elapsed": 591,
     "status": "ok",
     "timestamp": 1568645325481,
     "user": {
      "displayName": "Huy Nguyen",
      "photoUrl": "",
      "userId": "05352249580863404953"
     },
     "user_tz": -420
    },
    "id": "tB8nlaNki-AC",
    "outputId": "ad5a85f5-c0eb-49f4-da30-8811adc497c3"
   },
   "outputs": [
    {
     "data": {
      "text/plain": [
       "array([[ 1,  1,  1, -1, -1, -1,  1,  1,  1],\n",
       "       [ 1,  1,  1, -1, -1, -1, -1,  1,  1],\n",
       "       [ 1,  1,  1,  1,  1,  1,  1, -1,  1],\n",
       "       [ 1,  1,  1,  1,  1,  1,  1,  1,  1],\n",
       "       [ 1,  1,  1,  1,  1,  1,  1,  1,  1],\n",
       "       [ 1,  1,  1,  1,  1,  1,  1,  1,  1],\n",
       "       [ 1,  1,  1,  1,  1,  1,  1,  1,  1],\n",
       "       [ 1,  1,  1,  1,  1,  1,  1,  1,  1],\n",
       "       [ 1,  1,  1,  1,  1,  1,  1,  1,  1]])"
      ]
     },
     "execution_count": 54,
     "metadata": {},
     "output_type": "execute_result"
    }
   ],
   "source": [
    "correlated_data[0, :9, :9]"
   ]
  },
  {
   "cell_type": "code",
   "execution_count": 59,
   "metadata": {},
   "outputs": [
    {
     "data": {
      "text/plain": [
       "<matplotlib.image.AxesImage at 0x1a2eae1470>"
      ]
     },
     "execution_count": 59,
     "metadata": {},
     "output_type": "execute_result"
    },
    {
     "data": {
      "image/png": "[encoded data removed]",
      "text/plain": [
       "<Figure size 432x288 with 1 Axes>"
      ]
     },
     "metadata": {
      "needs_background": "light"
     },
     "output_type": "display_data"
    }
   ],
   "source": [
    "plt.imshow(correlated_data[0])"
   ]
  },
  {
   "cell_type": "code",
   "execution_count": 58,
   "metadata": {
    "colab": {
     "base_uri": "https://localhost:8080/",
     "height": 1000
    },
    "colab_type": "code",
    "executionInfo": {
     "elapsed": 1757,
     "status": "ok",
     "timestamp": 1568645654068,
     "user": {
      "displayName": "Huy Nguyen",
      "photoUrl": "",
      "userId": "05352249580863404953"
     },
     "user_tz": -420
    },
    "id": "d_t9TAmcisrT",
    "outputId": "a287ae89-39de-466d-9e27-54f0ab2fc693"
   },
   "outputs": [
    {
     "data": {
      "text/plain": [
       "<matplotlib.image.AxesImage at 0x1a2ed46908>"
      ]
     },
     "execution_count": 58,
     "metadata": {},
     "output_type": "execute_result"
    },
    {
     "data": {
      "image/png": "[encoded data removed]",
      "text/plain": [
       "<Figure size 432x288 with 1 Axes>"
      ]
     },
     "metadata": {
      "needs_background": "light"
     },
     "output_type": "display_data"
    }
   ],
   "source": [
    "plt.imshow(coarse_grain_unfrozen_conv()[0, 0])"
   ]
  },
  {
   "cell_type": "code",
   "execution_count": 92,
   "metadata": {
    "colab": {
     "base_uri": "https://localhost:8080/",
     "height": 1000,
     "output_embedded_package_id": "1yju0GDxketM6G3hFnlF0CzBXpJi3Kni5"
    },
    "colab_type": "code",
    "executionInfo": {
     "elapsed": 103222,
     "status": "ok",
     "timestamp": 1568656564676,
     "user": {
      "displayName": "Huy Nguyen",
      "photoUrl": "",
      "userId": "05352249580863404953"
     },
     "user_tz": -420
    },
    "id": "1nHiQq3Ri5jm",
    "outputId": "e5cf7618-3af4-4ae1-e2f3-3a284395f36c",
    "scrolled": false
   },
   "outputs": [
    {
     "name": "stdout",
     "output_type": "stream",
     "text": [
      "data: [[[ 0.53125 -0.0625   0.40625 ...  0.46875  0.53125  0.375  ]\n",
      "  [ 0.53125  0.53125  0.53125 ...  0.53125  0.46875  0.53125]\n",
      "  [ 0.53125  0.53125  0.53125 ...  0.53125  0.53125  0.46875]\n",
      "  ...\n",
      "  [ 0.53125  0.53125  0.375   ...  0.53125  0.53125  0.53125]\n",
      "  [ 0.53125  0.53125  0.53125 ...  0.28125  0.46875  0.34375]\n",
      "  [ 0.53125  0.28125  0.125   ...  0.21875  0.46875  0.375  ]]\n",
      "\n",
      " [[-0.21875 -0.3125  -0.21875 ... -0.375   -0.46875 -0.25   ]\n",
      "  [-0.46875 -0.46875  0.28125 ...  0.0625  -0.09375  0.09375]\n",
      "  [-0.46875 -0.46875  0.0625  ... -0.46875 -0.46875 -0.28125]\n",
      "  ...\n",
      "  [ 0.34375 -0.03125  0.34375 ...  0.0625  -0.40625 -0.40625]\n",
      "  [ 0.46875  0.375    0.125   ...  0.03125 -0.46875 -0.0625 ]\n",
      "  [-0.40625 -0.46875 -0.46875 ...  0.      -0.40625  0.21875]]\n",
      "\n",
      " [[ 0.53125  0.46875  0.53125 ...  0.4375   0.53125  0.53125]\n",
      "  [ 0.53125  0.53125  0.53125 ...  0.53125  0.375    0.21875]\n",
      "  [ 0.53125  0.25     0.53125 ...  0.53125  0.3125   0.34375]\n",
      "  ...\n",
      "  [-0.03125  0.53125  0.53125 ...  0.46875  0.53125  0.53125]\n",
      "  [ 0.53125  0.53125  0.53125 ...  0.53125  0.375    0.46875]\n",
      "  [ 0.53125  0.46875  0.46875 ...  0.53125  0.53125  0.53125]]\n",
      "\n",
      " ...\n",
      "\n",
      " [[-0.3125   0.28125  0.53125 ... -0.1875  -0.46875 -0.46875]\n",
      "  [-0.46875 -0.28125 -0.25    ... -0.3125  -0.1875  -0.46875]\n",
      "  [-0.0625   0.25     0.53125 ... -0.46875 -0.3125  -0.46875]\n",
      "  ...\n",
      "  [ 0.53125  0.53125  0.46875 ...  0.46875  0.21875 -0.09375]\n",
      "  [ 0.53125  0.53125 -0.0625  ...  0.46875  0.53125  0.46875]\n",
      "  [ 0.3125   0.53125  0.53125 ... -0.28125  0.0625  -0.3125 ]]\n",
      "\n",
      " [[ 0.34375  0.53125  0.53125 ...  0.3125   0.1875  -0.21875]\n",
      "  [ 0.46875  0.53125  0.53125 ...  0.34375  0.3125   0.28125]\n",
      "  [ 0.53125  0.53125  0.53125 ...  0.53125  0.46875  0.53125]\n",
      "  ...\n",
      "  [-0.46875 -0.28125 -0.1875  ...  0.09375 -0.28125 -0.3125 ]\n",
      "  [-0.40625 -0.15625 -0.46875 ...  0.375   -0.40625 -0.4375 ]\n",
      "  [-0.1875   0.46875  0.125   ... -0.1875  -0.46875 -0.46875]]\n",
      "\n",
      " [[-0.46875 -0.40625 -0.09375 ... -0.46875  0.0625  -0.1875 ]\n",
      "  [-0.46875 -0.3125  -0.40625 ... -0.46875 -0.125   -0.25   ]\n",
      "  [-0.5     -0.46875  0.21875 ... -0.28125 -0.375   -0.4375 ]\n",
      "  ...\n",
      "  [-0.46875  0.0625   0.09375 ... -0.46875 -0.21875 -0.46875]\n",
      "  [-0.40625 -0.15625  0.125   ... -0.46875 -0.1875  -0.46875]\n",
      "  [-0.3125  -0.46875 -0.15625 ... -0.46875 -0.28125 -0.3125 ]]]\n",
      "10000 27 27\n",
      "rectangle_[-0.25   -0.1875], boundary_x: -0.25, boundary_y: -0.1875, joint_boundary: [-0.25   -0.1875]\n",
      "xy_keys: [[-1.      -1.     ]\n",
      " [-1.      -0.96875]\n",
      " [-1.      -0.9375 ]\n",
      " ...\n",
      " [ 0.96875  0.90625]\n",
      " [ 0.96875  0.9375 ]\n",
      " [ 0.96875  0.96875]]\n"
     ]
    }
   ],
   "source": [
    "def mutual_info_coarse_grain(data):\n",
    "    \"\"\"\n",
    "    data ~ coarse-grained data\n",
    "    \"\"\"\n",
    "    data = np.round(data * 32)/32 # discretize data\n",
    "    data = data.astype(\"float64\")\n",
    "    print(f\"data: {data}\")\n",
    "    n_samples, n_rows, n_columns = data.shape\n",
    "    print(n_samples, n_rows, n_columns)\n",
    "    \n",
    "    # compute counts\n",
    "    p_xy = defaultdict(int)\n",
    "    p_x = defaultdict(int)\n",
    "    p_y = defaultdict(int)\n",
    "    n_samples = 1000 # for testing, remove later\n",
    "    for sample in range(n_samples):\n",
    "#         if sample % 100 == 0:\n",
    "#             print(sample, p_xy)\n",
    "        for row in range(n_rows):\n",
    "            for column in range(n_columns - 1):\n",
    "                rectangle = data[sample, row, column:(column+2)]\n",
    "                \n",
    "                boundary_x = rectangle[0] #np.hstack((rectangle[0]))\n",
    "                p_x[get_key(boundary_x)] += 1\n",
    "                boundary_y = rectangle[1] #np.hstack((rectangle[1]))\n",
    "                p_y[get_key(boundary_y)] += 1\n",
    "                joint_boundary = np.hstack((boundary_x, boundary_y))\n",
    "                \n",
    "#                 return\n",
    "                p_xy[get_key(joint_boundary)] += 1\n",
    "    print(f\"rectangle_{rectangle}, boundary_x: {boundary_x}, boundary_y: {boundary_y}, joint_boundary: {joint_boundary}\")\n",
    "\n",
    "\n",
    "    # Normalize counts\n",
    "    p_xy = normalize_counts(p_xy)\n",
    "    p_x = normalize_counts(p_x)\n",
    "    p_y = normalize_counts(p_y)\n",
    "    \n",
    "#     print(\"p_xy\", p_xy)\n",
    "        \n",
    "    \n",
    "    # Generate all possible configurations of boundary conditions\n",
    "#     n = 2\n",
    "#     i = np.array(np.indices(n * (2,))).reshape(n, -1)\n",
    "#     xy_keys = (i[:, np.argsort(i.sum(0)[::-1], kind='mergesort')].T[::-1].reshape(-1, n)*2-1)\n",
    "#     xy_keys = xy_keys.astype(\"float64\")\n",
    "    n = np.arange(-1, 1, 1/32)\n",
    "    xy = []\n",
    "    for x in n:\n",
    "        for y in n:\n",
    "            xy.append(np.array([x, y]))\n",
    "    xy_keys = np.array(xy).astype(\"float64\")\n",
    "    print(f\"xy_keys: {xy_keys}\")\n",
    "#     xy_keys = np.array(xy_keys, dtype = float)\n",
    "\n",
    "    # mi = <log (p(x, y)/p(x)p(y))>\n",
    "    mi = 0\n",
    "    no_config = []\n",
    "    for xy in xy_keys:\n",
    "#         print(xy)\n",
    "        joint_prob = p_xy[get_key(xy)]\n",
    "        x = xy[0]\n",
    "        x_prob = p_x[get_key(x)]\n",
    "        y = xy[1]\n",
    "        y_prob = p_y[get_key(y)]\n",
    "#         print(f\"boundary_x:{x}\")\n",
    "        if joint_prob != 0:\n",
    "            mi += np.log2(joint_prob/(x_prob * y_prob)) * joint_prob\n",
    "        else:\n",
    "            no_config.append(xy)\n",
    "        \n",
    "        \n",
    "            \n",
    "    return p_xy, p_x, p_y, mi, no_config\n",
    "\n",
    "unfrozen = coarse_grain_unfrozen_conv(correlated_data).squeeze(1).numpy()\n",
    "p_xy, p_x, p_y, mi, no_config = mutual_info_coarse_grain(unfrozen)\n",
    "# print(f\"p_xy: \")\n",
    "# print(p_xy)\n",
    "# print(f\"p_x: {p_x}\")\n",
    "# print(f\"p_y: {p_y}\")\n",
    "# print(f\"mi: {mi}\")"
   ]
  },
  {
   "cell_type": "code",
   "execution_count": 93,
   "metadata": {},
   "outputs": [
    {
     "data": {
      "text/plain": [
       "0.6176898114905365"
      ]
     },
     "execution_count": 93,
     "metadata": {},
     "output_type": "execute_result"
    }
   ],
   "source": [
    "mi"
   ]
  },
  {
   "cell_type": "code",
   "execution_count": 98,
   "metadata": {
    "colab": {
     "base_uri": "https://localhost:8080/",
     "height": 1000
    },
    "colab_type": "code",
    "executionInfo": {
     "elapsed": 104571,
     "status": "ok",
     "timestamp": 1568656718209,
     "user": {
      "displayName": "Huy Nguyen",
      "photoUrl": "",
      "userId": "05352249580863404953"
     },
     "user_tz": -420
    },
    "id": "Mo0cFGOStITf",
    "outputId": "d139515c-c035-44be-8777-a22bb0d5748a"
   },
   "outputs": [
    {
     "name": "stdout",
     "output_type": "stream",
     "text": [
      "data: [[[ 0.75    -0.25     0.4375  ...  0.625    0.75     0.625  ]\n",
      "  [ 0.75     0.75     0.75    ...  0.75     0.625    0.75   ]\n",
      "  [ 0.75     0.75     0.75    ...  0.75     0.75     0.625  ]\n",
      "  ...\n",
      "  [ 0.75     0.75     0.625   ...  0.75     0.75     0.75   ]\n",
      "  [ 0.75     0.75     0.75    ...  0.4375   0.625    0.625  ]\n",
      "  [ 0.75     0.21875  0.21875 ... -0.03125  0.625    0.625  ]]\n",
      "\n",
      " [[-0.46875 -0.65625 -0.25    ... -0.46875 -0.78125 -0.46875]\n",
      "  [-0.78125 -0.78125  0.4375  ...  0.21875 -0.03125 -0.03125]\n",
      "  [-0.78125 -0.78125  0.21875 ... -0.78125 -0.78125 -0.65625]\n",
      "  ...\n",
      "  [ 0.625   -0.03125  0.625   ...  0.21875 -0.65625 -0.65625]\n",
      "  [ 0.625    0.625    0.21875 ... -0.03125 -0.78125 -0.25   ]\n",
      "  [-0.65625 -0.78125 -0.78125 ... -0.25    -0.65625  0.4375 ]]\n",
      "\n",
      " [[ 0.75     0.625    0.75    ...  0.4375   0.75     0.75   ]\n",
      "  [ 0.75     0.75     0.75    ...  0.75     0.625    0.21875]\n",
      "  [ 0.75     0.4375   0.75    ...  0.75     0.4375   0.625  ]\n",
      "  ...\n",
      "  [-0.03125  0.75     0.75    ...  0.625    0.75     0.75   ]\n",
      "  [ 0.75     0.75     0.75    ...  0.75     0.625    0.625  ]\n",
      "  [ 0.75     0.625    0.625   ...  0.75     0.75     0.75   ]]\n",
      "\n",
      " ...\n",
      "\n",
      " [[-0.65625  0.4375   0.75    ... -0.25    -0.78125 -0.78125]\n",
      "  [-0.78125 -0.46875 -0.46875 ... -0.65625 -0.46875 -0.78125]\n",
      "  [-0.25     0.4375   0.75    ... -0.78125 -0.65625 -0.78125]\n",
      "  ...\n",
      "  [ 0.75     0.75     0.625   ...  0.625   -0.03125 -0.25   ]\n",
      "  [ 0.75     0.75    -0.25    ...  0.625    0.75     0.625  ]\n",
      "  [ 0.4375   0.75     0.75    ... -0.65625 -0.03125 -0.65625]]\n",
      "\n",
      " [[ 0.625    0.75     0.75    ...  0.4375   0.21875 -0.25   ]\n",
      "  [ 0.625    0.75     0.75    ...  0.625    0.4375   0.4375 ]\n",
      "  [ 0.75     0.75     0.75    ...  0.75     0.625    0.75   ]\n",
      "  ...\n",
      "  [-0.78125 -0.65625 -0.25    ... -0.03125 -0.65625 -0.65625]\n",
      "  [-0.65625 -0.25    -0.78125 ...  0.625   -0.65625 -0.65625]\n",
      "  [-0.25     0.625    0.21875 ... -0.46875 -0.78125 -0.78125]]\n",
      "\n",
      " [[-0.78125 -0.65625 -0.46875 ... -0.78125  0.21875 -0.46875]\n",
      "  [-0.78125 -0.65625 -0.65625 ... -0.78125 -0.03125 -0.46875]\n",
      "  [-0.78125 -0.78125  0.21875 ... -0.65625 -0.65625 -0.65625]\n",
      "  ...\n",
      "  [-0.78125  0.21875  0.21875 ... -0.78125 -0.46875 -0.78125]\n",
      "  [-0.65625 -0.25     0.21875 ... -0.78125 -0.46875 -0.78125]\n",
      "  [-0.65625 -0.78125 -0.25    ... -0.78125 -0.46875 -0.65625]]]\n",
      "10000 27 27\n",
      "rectangle_[-0.46875 -0.25   ], boundary_x: -0.46875, boundary_y: -0.25, joint_boundary: [-0.46875 -0.25   ]\n",
      "xy_keys: [[-1.      -1.     ]\n",
      " [-1.      -0.96875]\n",
      " [-1.      -0.9375 ]\n",
      " ...\n",
      " [ 0.96875  0.90625]\n",
      " [ 0.96875  0.9375 ]\n",
      " [ 0.96875  0.96875]]\n"
     ]
    }
   ],
   "source": [
    "frozen = coarse_grain_frozen_conv(correlated_data).squeeze(1)\n",
    "p_xy, p_x, p_y, mi, no_config = mutual_info_coarse_grain(frozen.detach().numpy())\n",
    "# print(f\"p_xy: {p_xy}\")\n",
    "# print(f\"p_x: {p_x}\")\n",
    "# print(f\"p_y: {p_y}\")\n",
    "# print(f\"mi: {mi}\")"
   ]
  },
  {
   "cell_type": "code",
   "execution_count": 99,
   "metadata": {},
   "outputs": [
    {
     "data": {
      "text/plain": [
       "0.6015958009691329"
      ]
     },
     "execution_count": 99,
     "metadata": {},
     "output_type": "execute_result"
    }
   ],
   "source": [
    "mi"
   ]
  },
  {
   "cell_type": "code",
   "execution_count": 87,
   "metadata": {
    "colab": {
     "base_uri": "https://localhost:8080/",
     "height": 34
    },
    "colab_type": "code",
    "executionInfo": {
     "elapsed": 632,
     "status": "ok",
     "timestamp": 1568648789624,
     "user": {
      "displayName": "Huy Nguyen",
      "photoUrl": "",
      "userId": "05352249580863404953"
     },
     "user_tz": -420
    },
    "id": "t2hdHwrpuuyh",
    "outputId": "e7f35ef5-1fcd-4067-f894-7cd8d9c06eab"
   },
   "outputs": [
    {
     "data": {
      "text/plain": [
       "0.6176898114905365"
      ]
     },
     "execution_count": 87,
     "metadata": {},
     "output_type": "execute_result"
    }
   ],
   "source": [
    "mi"
   ]
  },
  {
   "cell_type": "markdown",
   "metadata": {
    "colab_type": "text",
    "id": "7USCSeQy3D91"
   },
   "source": [
    "# Plot images"
   ]
  },
  {
   "cell_type": "code",
   "execution_count": 78,
   "metadata": {
    "colab": {
     "base_uri": "https://localhost:8080/",
     "height": 731
    },
    "colab_type": "code",
    "executionInfo": {
     "elapsed": 1087,
     "status": "ok",
     "timestamp": 1568650298409,
     "user": {
      "displayName": "Huy Nguyen",
      "photoUrl": "",
      "userId": "05352249580863404953"
     },
     "user_tz": -420
    },
    "id": "r5m_f253wPoz",
    "outputId": "d0202665-aaeb-43f3-bda0-648e4369c5d1"
   },
   "outputs": [
    {
     "data": {
      "image/png": "[encoded data removed]",
      "text/plain": [
       "<Figure size 432x288 with 1 Axes>"
      ]
     },
     "metadata": {
      "tags": []
     },
     "output_type": "display_data"
    },
    {
     "data": {
      "image/png": "[encoded data removed]",
      "text/plain": [
       "<Figure size 432x288 with 1 Axes>"
      ]
     },
     "metadata": {
      "tags": []
     },
     "output_type": "display_data"
    },
    {
     "data": {
      "image/png": "[encoded data removed]",
      "text/plain": [
       "<Figure size 432x288 with 1 Axes>"
      ]
     },
     "metadata": {
      "tags": []
     },
     "output_type": "display_data"
    }
   ],
   "source": [
    "plt.imshow(correlated_data[0])\n",
    "plt.xticks([])\n",
    "plt.yticks([])\n",
    "plt.show()\n",
    "plt.imshow(-unfrozen[0])\n",
    "plt.xticks([])\n",
    "plt.yticks([])\n",
    "plt.show()\n",
    "plt.imshow(np.sign(-unfrozen[0]))\n",
    "plt.xticks([])\n",
    "plt.yticks([])\n",
    "plt.show()"
   ]
  },
  {
   "cell_type": "code",
   "execution_count": 72,
   "metadata": {
    "colab": {
     "base_uri": "https://localhost:8080/",
     "height": 272
    },
    "colab_type": "code",
    "executionInfo": {
     "elapsed": 2249,
     "status": "ok",
     "timestamp": 1568649986388,
     "user": {
      "displayName": "Huy Nguyen",
      "photoUrl": "",
      "userId": "05352249580863404953"
     },
     "user_tz": -420
    },
    "id": "3tFhdqr_ycXR",
    "outputId": "dac69600-7e2d-468c-d0e3-21e41e1764b6"
   },
   "outputs": [
    {
     "data": {
      "text/plain": [
       "([], <a list of 0 Text yticklabel objects>)"
      ]
     },
     "execution_count": 72,
     "metadata": {
      "tags": []
     },
     "output_type": "execute_result"
    },
    {
     "data": {
      "image/png": "[encoded data removed]",
      "text/plain": [
       "<Figure size 432x288 with 1 Axes>"
      ]
     },
     "metadata": {
      "tags": []
     },
     "output_type": "display_data"
    }
   ],
   "source": [
    "uncorrelated_data = np.load(\"../81x81/ising81x81_temp2.269_uncorrelated81x81.npy\")\n",
    "plt.imshow(uncorrelated_data[0])\n",
    "plt.xticks([])\n",
    "plt.yticks([])"
   ]
  },
  {
   "cell_type": "code",
   "execution_count": 0,
   "metadata": {
    "colab": {},
    "colab_type": "code",
    "id": "3BLW2P_Q0KT2"
   },
   "outputs": [],
   "source": []
  }
 ],
 "metadata": {
  "accelerator": "GPU",
  "colab": {
   "collapsed_sections": [],
   "name": "analysis.ipynb",
   "provenance": [],
   "version": "0.3.2"
  },
  "kernelspec": {
   "display_name": "Renormalization",
   "language": "python",
   "name": "renormalization"
  },
  "language_info": {
   "codemirror_mode": {
    "name": "ipython",
    "version": 3
   },
   "file_extension": ".py",
   "mimetype": "text/x-python",
   "name": "python",
   "nbconvert_exporter": "python",
   "pygments_lexer": "ipython3",
   "version": "3.7.3"
  }
 },
 "nbformat": 4,
 "nbformat_minor": 1
}
