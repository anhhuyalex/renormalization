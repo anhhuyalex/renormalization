{
 "cells": [
  {
   "cell_type": "code",
   "execution_count": 17,
   "metadata": {},
   "outputs": [
    {
     "name": "stderr",
     "output_type": "stream",
     "text": [
      "2019-11-11 22:47:57,747\tINFO resource_spec.py:205 -- Starting Ray with 18.51 GiB memory available for workers and up to 9.26 GiB for objects. You can adjust these settings with ray.init(memory=<bytes>, object_store_memory=<bytes>).\n"
     ]
    },
    {
     "name": "stdout",
     "output_type": "stream",
     "text": [
      "\u001b[2m\u001b[36m(pid=19191)\u001b[0m data shape (4299, 729, 729)\n",
      "\u001b[2m\u001b[36m(pid=19191)\u001b[0m 0\n",
      "\u001b[2m\u001b[36m(pid=19192)\u001b[0m data shape (4299, 729, 729)\n",
      "\u001b[2m\u001b[36m(pid=19192)\u001b[0m 0\n",
      "\u001b[2m\u001b[36m(pid=19192)\u001b[0m 100\n",
      "\u001b[2m\u001b[36m(pid=19196)\u001b[0m data shape (4299, 729, 729)\n",
      "\u001b[2m\u001b[36m(pid=19196)\u001b[0m 0\n",
      "\u001b[2m\u001b[36m(pid=19196)\u001b[0m 100\n",
      "\u001b[2m\u001b[36m(pid=19195)\u001b[0m data shape (4299, 729, 729)\n",
      "\u001b[2m\u001b[36m(pid=19195)\u001b[0m 0\n",
      "\u001b[2m\u001b[36m(pid=19195)\u001b[0m 100\n",
      "\u001b[2m\u001b[36m(pid=19191)\u001b[0m 100\n",
      "\u001b[2m\u001b[36m(pid=19192)\u001b[0m 200\n",
      "\u001b[2m\u001b[36m(pid=19195)\u001b[0m 200\n",
      "\u001b[2m\u001b[36m(pid=19191)\u001b[0m 200\n",
      "\u001b[2m\u001b[36m(pid=19196)\u001b[0m 200\n",
      "\u001b[2m\u001b[36m(pid=19192)\u001b[0m 300\n",
      "\u001b[2m\u001b[36m(pid=19195)\u001b[0m 300\n",
      "\u001b[2m\u001b[36m(pid=19196)\u001b[0m 300\n",
      "\u001b[2m\u001b[36m(pid=19191)\u001b[0m 300\n",
      "\u001b[2m\u001b[36m(pid=19192)\u001b[0m 400\n",
      "\u001b[2m\u001b[36m(pid=19195)\u001b[0m 400\n",
      "\u001b[2m\u001b[36m(pid=19196)\u001b[0m 400\n",
      "\u001b[2m\u001b[36m(pid=19191)\u001b[0m 400\n",
      "\u001b[2m\u001b[36m(pid=19192)\u001b[0m 500\n",
      "\u001b[2m\u001b[36m(pid=19195)\u001b[0m 500\n",
      "\u001b[2m\u001b[36m(pid=19191)\u001b[0m 500\n",
      "\u001b[2m\u001b[36m(pid=19196)\u001b[0m 500\n",
      "\u001b[2m\u001b[36m(pid=19195)\u001b[0m 600\n",
      "\u001b[2m\u001b[36m(pid=19192)\u001b[0m 600\n",
      "\u001b[2m\u001b[36m(pid=19191)\u001b[0m 600\n",
      "\u001b[2m\u001b[36m(pid=19196)\u001b[0m 600\n",
      "\u001b[2m\u001b[36m(pid=19195)\u001b[0m 700\n",
      "\u001b[2m\u001b[36m(pid=19192)\u001b[0m 700\n",
      "\u001b[2m\u001b[36m(pid=19192)\u001b[0m 800\n",
      "\u001b[2m\u001b[36m(pid=19191)\u001b[0m 700\n",
      "\u001b[2m\u001b[36m(pid=19196)\u001b[0m 700\n",
      "\u001b[2m\u001b[36m(pid=19195)\u001b[0m 800\n",
      "\u001b[2m\u001b[36m(pid=19191)\u001b[0m 800\n",
      "\u001b[2m\u001b[36m(pid=19192)\u001b[0m 900\n",
      "\u001b[2m\u001b[36m(pid=19196)\u001b[0m 800\n",
      "\u001b[2m\u001b[36m(pid=19195)\u001b[0m 900\n",
      "\u001b[2m\u001b[36m(pid=19191)\u001b[0m 900\n",
      "\u001b[2m\u001b[36m(pid=19195)\u001b[0m 1000\n",
      "\u001b[2m\u001b[36m(pid=19191)\u001b[0m 1000\n",
      "\u001b[2m\u001b[36m(pid=19196)\u001b[0m 900\n",
      "\u001b[2m\u001b[36m(pid=19192)\u001b[0m 1000\n",
      "\u001b[2m\u001b[36m(pid=19195)\u001b[0m 1100\n",
      "\u001b[2m\u001b[36m(pid=19191)\u001b[0m 1100\n",
      "\u001b[2m\u001b[36m(pid=19192)\u001b[0m 1100\n",
      "\u001b[2m\u001b[36m(pid=19196)\u001b[0m 1000\n",
      "\u001b[2m\u001b[36m(pid=19195)\u001b[0m 1200\n",
      "\u001b[2m\u001b[36m(pid=19192)\u001b[0m 1200\n",
      "\u001b[2m\u001b[36m(pid=19191)\u001b[0m 1200\n",
      "\u001b[2m\u001b[36m(pid=19195)\u001b[0m 1300\n",
      "\u001b[2m\u001b[36m(pid=19196)\u001b[0m 1100\n",
      "\u001b[2m\u001b[36m(pid=19192)\u001b[0m 1300\n",
      "\u001b[2m\u001b[36m(pid=19191)\u001b[0m 1300\n",
      "\u001b[2m\u001b[36m(pid=19195)\u001b[0m 1400\n",
      "\u001b[2m\u001b[36m(pid=19192)\u001b[0m 1400\n",
      "\u001b[2m\u001b[36m(pid=19191)\u001b[0m 1400\n",
      "\u001b[2m\u001b[36m(pid=19196)\u001b[0m 1200\n",
      "\u001b[2m\u001b[36m(pid=19191)\u001b[0m 1500\n",
      "\u001b[2m\u001b[36m(pid=19195)\u001b[0m 1500\n",
      "\u001b[2m\u001b[36m(pid=19192)\u001b[0m 1500\n",
      "\u001b[2m\u001b[36m(pid=19196)\u001b[0m 1300\n",
      "\u001b[2m\u001b[36m(pid=19191)\u001b[0m 1600\n",
      "\u001b[2m\u001b[36m(pid=19195)\u001b[0m 1600\n",
      "\u001b[2m\u001b[36m(pid=19191)\u001b[0m 1700\n",
      "\u001b[2m\u001b[36m(pid=19196)\u001b[0m 1400\n",
      "\u001b[2m\u001b[36m(pid=19192)\u001b[0m 1600\n",
      "\u001b[2m\u001b[36m(pid=19195)\u001b[0m 1700\n",
      "\u001b[2m\u001b[36m(pid=19191)\u001b[0m 1800\n",
      "\u001b[2m\u001b[36m(pid=19196)\u001b[0m 1500\n",
      "\u001b[2m\u001b[36m(pid=19192)\u001b[0m 1700\n",
      "\u001b[2m\u001b[36m(pid=19195)\u001b[0m 1800\n",
      "\u001b[2m\u001b[36m(pid=19191)\u001b[0m 1900\n",
      "\u001b[2m\u001b[36m(pid=19196)\u001b[0m 1600\n",
      "\u001b[2m\u001b[36m(pid=19195)\u001b[0m 1900\n",
      "\u001b[2m\u001b[36m(pid=19196)\u001b[0m 1700\n",
      "\u001b[2m\u001b[36m(pid=19192)\u001b[0m 1800\n",
      "\u001b[2m\u001b[36m(pid=19195)\u001b[0m 2000\n",
      "\u001b[2m\u001b[36m(pid=19191)\u001b[0m 2000\n",
      "\u001b[2m\u001b[36m(pid=19196)\u001b[0m 1800\n",
      "\u001b[2m\u001b[36m(pid=19192)\u001b[0m 1900\n",
      "\u001b[2m\u001b[36m(pid=19191)\u001b[0m 2100\n",
      "\u001b[2m\u001b[36m(pid=19195)\u001b[0m 2100\n",
      "\u001b[2m\u001b[36m(pid=19192)\u001b[0m 2000\n",
      "\u001b[2m\u001b[36m(pid=19196)\u001b[0m 1900\n",
      "\u001b[2m\u001b[36m(pid=19191)\u001b[0m 2200\n",
      "\u001b[2m\u001b[36m(pid=19196)\u001b[0m 2000\n",
      "\u001b[2m\u001b[36m(pid=19195)\u001b[0m 2200\n",
      "\u001b[2m\u001b[36m(pid=19191)\u001b[0m 2300\n",
      "\u001b[2m\u001b[36m(pid=19192)\u001b[0m 2100\n",
      "\u001b[2m\u001b[36m(pid=19195)\u001b[0m 2300\n",
      "\u001b[2m\u001b[36m(pid=19196)\u001b[0m 2100\n",
      "\u001b[2m\u001b[36m(pid=19192)\u001b[0m 2200\n",
      "\u001b[2m\u001b[36m(pid=19191)\u001b[0m 2400\n",
      "\u001b[2m\u001b[36m(pid=19195)\u001b[0m 2400\n",
      "\u001b[2m\u001b[36m(pid=19192)\u001b[0m 2300\n",
      "\u001b[2m\u001b[36m(pid=19196)\u001b[0m 2200\n",
      "\u001b[2m\u001b[36m(pid=19196)\u001b[0m 2300\n",
      "\u001b[2m\u001b[36m(pid=19192)\u001b[0m 2400\n",
      "\u001b[2m\u001b[36m(pid=19196)\u001b[0m 2400\n"
     ]
    }
   ],
   "source": [
    "import numpy as np\n",
    "import ray\n",
    "ray.init()\n",
    "\n",
    "@ray.remote\n",
    "def gen_uncorr_matrices():\n",
    "    data = np.load(\"ising_temp2.269_correlated729x729from2187x2187.npy\")\n",
    "    lattice_size = data.shape[-1]\n",
    "    num_samples = data.shape[0]\n",
    "    uncorrelated_data = []\n",
    "    print(\"data shape\", data.shape)\n",
    "    for _ in range(int((10000)/4)):\n",
    "        if len(uncorrelated_data ) % 100 == 0:\n",
    "            print(len(uncorrelated_data))\n",
    "        # Get random block from 10000 samples\n",
    "        sample = np.random.randint(0, num_samples, (3, 3))\n",
    "\n",
    "        # Get random chain from 0 to 3\n",
    "        chain = np.random.randint(0, 4, (3, 3))\n",
    "\n",
    "        # Pick horizontal, vertical position of 3x3 block in 9x9 block\n",
    "        horizontal, vertical = np.random.randint(0, lattice_size, (2, 3, 3))\n",
    "\n",
    "        # Concatenate blocks\n",
    "        uncorrelated = []\n",
    "        for i in range(3):\n",
    "            tile = []\n",
    "            for j in range(3):\n",
    "                sample_num = str(sample[i,j])\n",
    "                zeros = \"0\" * (5 - len(sample_num))\n",
    "                block = data[sample[i, j]]\n",
    "#                 print(\"before block\", block.shape)\n",
    "                if (horizontal[i, j] >= lattice_size - 3 ) or (vertical[i, j] >= lattice_size - 3):\n",
    "                    block = np.pad(block, 2, mode = \"wrap\")\n",
    "                block = block[horizontal[i,j]:((horizontal[i,j] + 3)), vertical[i,j]:((vertical[i,j] + 3))]\n",
    "#                 print(\"after block\", block.shape)\n",
    "                tile.append(block)\n",
    "                \n",
    "                \n",
    "            try:\n",
    "                \n",
    "                uncorrelated.append(np.hstack(tile))\n",
    "            except:\n",
    "                print(\"hstack failure\")\n",
    "                print(\"horizontal\", horizontal)\n",
    "                print(\"vertical\", vertical)\n",
    "                print(\"tile\", tile)\n",
    "        try:\n",
    "            uncorrelated_data.append(np.vstack(uncorrelated))\n",
    "        except:\n",
    "            print(\"vstack failure\")\n",
    "            print(\"horizontal\", horizontal)\n",
    "            print(\"vertical\", vertical)\n",
    "            print(\"tile\", tile)\n",
    "    return uncorrelated_data\n",
    "\n",
    "uncorr_parallel_ids = []\n",
    "for _ in range(4):\n",
    "    uncorr_parallel_ids.append(gen_uncorr_matrices.remote())\n",
    "    \n",
    "uncorr_parallel = ray.get(uncorr_parallel_ids)\n",
    "\n",
    "ray.shutdown()"
   ]
  },
  {
   "cell_type": "code",
   "execution_count": 16,
   "metadata": {},
   "outputs": [
    {
     "data": {
      "image/png": "[encoded data removed]",
      "text/plain": [
       "<Figure size 432x288 with 1 Axes>"
      ]
     },
     "metadata": {
      "needs_background": "light"
     },
     "output_type": "display_data"
    }
   ],
   "source": [
    "import matplotlib.pyplot as plt\n",
    "plt.imshow(uncorr_parallel[1][0])\n",
    "plt.show()"
   ]
  },
  {
   "cell_type": "code",
   "execution_count": 14,
   "metadata": {},
   "outputs": [
    {
     "data": {
      "text/plain": [
       "9"
      ]
     },
     "execution_count": 14,
     "metadata": {},
     "output_type": "execute_result"
    }
   ],
   "source": [
    "len(uncorr_parallel[1][0])"
   ]
  },
  {
   "cell_type": "code",
   "execution_count": 21,
   "metadata": {},
   "outputs": [],
   "source": [
    "v = np.vstack(uncorr_parallel)"
   ]
  },
  {
   "cell_type": "code",
   "execution_count": 26,
   "metadata": {},
   "outputs": [
    {
     "data": {
      "text/plain": [
       "<matplotlib.image.AxesImage at 0x7f95b1e14e80>"
      ]
     },
     "execution_count": 26,
     "metadata": {},
     "output_type": "execute_result"
    },
    {
     "data": {
      "image/png": "[encoded data removed]",
      "text/plain": [
       "<Figure size 432x288 with 1 Axes>"
      ]
     },
     "metadata": {
      "needs_background": "light"
     },
     "output_type": "display_data"
    }
   ],
   "source": [
    "plt.imshow(v[111])"
   ]
  },
  {
   "cell_type": "code",
   "execution_count": 37,
   "metadata": {
    "collapsed": true
   },
   "outputs": [],
   "source": [
    "np.save(\"supervised_convnet/t_2.269/x3x3/ising_temp2.269_correlated9x9from729x729.npy\", tile)"
   ]
  },
  {
   "cell_type": "code",
   "execution_count": 31,
   "metadata": {},
   "outputs": [
    {
     "name": "stdout",
     "output_type": "stream",
     "text": [
      "0\n",
      "100\n",
      "200\n",
      "300\n",
      "400\n",
      "500\n",
      "600\n",
      "700\n",
      "800\n",
      "900\n",
      "0\n",
      "100\n",
      "200\n",
      "300\n",
      "400\n",
      "500\n",
      "600\n",
      "700\n",
      "800\n",
      "900\n",
      "0\n",
      "100\n",
      "200\n",
      "300\n",
      "400\n",
      "500\n",
      "600\n",
      "700\n",
      "800\n",
      "900\n",
      "0\n",
      "100\n",
      "200\n",
      "300\n",
      "400\n",
      "500\n",
      "600\n",
      "700\n",
      "800\n",
      "900\n",
      "0\n",
      "100\n",
      "200\n",
      "300\n",
      "400\n",
      "500\n",
      "600\n",
      "700\n",
      "800\n",
      "900\n",
      "0\n",
      "100\n",
      "200\n",
      "300\n",
      "400\n",
      "500\n",
      "600\n",
      "700\n",
      "800\n",
      "900\n",
      "0\n",
      "100\n",
      "200\n",
      "300\n",
      "400\n",
      "500\n",
      "600\n",
      "700\n",
      "800\n",
      "900\n",
      "0\n",
      "100\n",
      "200\n",
      "300\n",
      "400\n",
      "500\n",
      "600\n",
      "700\n",
      "800\n",
      "900\n",
      "0\n",
      "100\n",
      "200\n",
      "300\n",
      "400\n",
      "500\n",
      "600\n",
      "700\n",
      "800\n",
      "900\n",
      "0\n",
      "100\n",
      "200\n",
      "300\n",
      "400\n",
      "500\n",
      "600\n",
      "700\n",
      "800\n",
      "900\n"
     ]
    }
   ],
   "source": [
    "import numpy as np\n",
    "\n",
    "# import ray\n",
    "# ray.init()\n",
    "# @ray.remote\n",
    "data = np.load(\"ising_temp2.269_correlated729x729from2187x2187.npy\")\n",
    "num_samples = data.shape[0]\n",
    "lattice_size = data.shape[-1]\n",
    "tile = []\n",
    "for batch in range(1, 11):\n",
    "    \n",
    "    for _ in range(int((1000))):\n",
    "        if _ % 100 == 0:\n",
    "            print(_)\n",
    "        # Get random block from 10000 samples\n",
    "        sample = np.random.randint(num_samples)\n",
    "\n",
    "\n",
    "        # Pick horizontal, vertical position of 3x3 block in 9x9 block\n",
    "        horizontal, vertical = np.random.randint(0, lattice_size, 2)\n",
    "\n",
    "    #     print(sample, chain, horizontal, vertical)\n",
    "\n",
    "        \n",
    "        block = data[sample]\n",
    "        if (horizontal >= lattice_size - 9 ) or (vertical >= lattice_size - 9):\n",
    "            block1 = np.pad(block, 8, mode = \"wrap\")\n",
    "            tile.append(block1[horizontal:((horizontal + 9)), vertical:((vertical + 9))])\n",
    "            del block1\n",
    "\n",
    "        else:\n",
    "            tile.append(block[horizontal:((horizontal + 9)), vertical:((vertical + 9))])\n",
    "    #         block = block[horizontal:((horizontal + 9)), vertical:((vertical + 9))]\n",
    "\n",
    "    #         print(tile)\n",
    "        del block\n",
    "tile = np.array(tile)\n",
    "#     np.save(f\"correlated_batch{batch}\", tile)\n",
    "#     return tile\n",
    "\n",
    "# corr_parallel_ids = []\n",
    "# for _ in range(1):\n",
    "#     corr_parallel_ids.append(gen_uncorr_matrices.remote())\n",
    "    \n",
    "# corr_parallel = gen_uncorr_matrices()\n",
    "# ray.shutdown()"
   ]
  },
  {
   "cell_type": "code",
   "execution_count": 36,
   "metadata": {},
   "outputs": [
    {
     "data": {
      "image/png": "[encoded data removed]",
      "text/plain": [
       "<Figure size 432x288 with 1 Axes>"
      ]
     },
     "metadata": {
      "needs_background": "light"
     },
     "output_type": "display_data"
    }
   ],
   "source": [
    "plt.imshow(tile[9000])\n",
    "plt.show()"
   ]
  },
  {
   "cell_type": "code",
   "execution_count": null,
   "metadata": {
    "collapsed": true
   },
   "outputs": [],
   "source": []
  }
 ],
 "metadata": {
  "kernelspec": {
   "display_name": "Python (renormalization",
   "language": "python",
   "name": "renormalization"
  },
  "language_info": {
   "codemirror_mode": {
    "name": "ipython",
    "version": 3
   },
   "file_extension": ".py",
   "mimetype": "text/x-python",
   "name": "python",
   "nbconvert_exporter": "python",
   "pygments_lexer": "ipython3",
   "version": "3.6.2"
  }
 },
 "nbformat": 4,
 "nbformat_minor": 2
}
