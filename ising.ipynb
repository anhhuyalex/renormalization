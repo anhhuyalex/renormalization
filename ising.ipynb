{
 "cells": [
  {
   "cell_type": "code",
   "execution_count": 32,
   "metadata": {},
   "outputs": [
    {
     "name": "stdout",
     "output_type": "stream",
     "text": [
      "('Temperature: ', 1)\n"
     ]
    },
    {
     "data": {
      "image/png": "[encoded data removed]",
      "text/plain": [
       "<Figure size 432x288 with 1 Axes>"
      ]
     },
     "metadata": {
      "needs_background": "light"
     },
     "output_type": "display_data"
    },
    {
     "name": "stdout",
     "output_type": "stream",
     "text": [
      "('Temperature: ', 2)\n"
     ]
    },
    {
     "data": {
      "image/png": "[encoded data removed]",
      "text/plain": [
       "<Figure size 432x288 with 1 Axes>"
      ]
     },
     "metadata": {
      "needs_background": "light"
     },
     "output_type": "display_data"
    },
    {
     "name": "stdout",
     "output_type": "stream",
     "text": [
      "('Temperature: ', 3)\n"
     ]
    },
    {
     "data": {
      "image/png": "[encoded data removed]",
      "text/plain": [
       "<Figure size 432x288 with 1 Axes>"
      ]
     },
     "metadata": {
      "needs_background": "light"
     },
     "output_type": "display_data"
    },
    {
     "name": "stdout",
     "output_type": "stream",
     "text": [
      "('Temperature: ', 4)\n"
     ]
    },
    {
     "data": {
      "image/png": "[encoded data removed]",
      "text/plain": [
       "<Figure size 432x288 with 1 Axes>"
      ]
     },
     "metadata": {
      "needs_background": "light"
     },
     "output_type": "display_data"
    }
   ],
   "source": [
    "\n",
    "import matplotlib\n",
    "import math\n",
    "# matplotlib.use('TkAgg')\n",
    "from pylab import *\n",
    "\n",
    "n = 10 # size of space: n x n\n",
    "\n",
    "def initialize():\n",
    "    global config, nextconfig\n",
    "    config = zeros([n, n])\n",
    "    for x in range(n):\n",
    "        for y in range(n):\n",
    "            config[x, y] = 1 if random() < 0.5 else -1\n",
    "    nextconfig = config\n",
    "def observe():\n",
    "    global config, nextconfig\n",
    "    cla()\n",
    "    imshow(config, vmin = 0, vmax = 1, cmap = cm.binary)\n",
    "    \n",
    "def update(T):\n",
    "    global config, nextconfig\n",
    "    x = randint(0,n-1)\n",
    "    y = randint(0,n-1)\n",
    "    E = -config[x, y]*(config[x, (y+1)%n]+config[x, (y-1)%n]+config[(x+1)%n, y]+config[(x-1)%n, y])\n",
    "    if random() < min(1, math.exp(2*E/T)):\n",
    "        nextconfig[x, y] = -config[x, y]\n",
    "    nextconfig, config = config, nextconfig\n",
    "    return sum(config)/(n*n)\n",
    "# import pycxsimulator\n",
    "# pycxsimulator.GUI().start(func=[initialize, observe, update])\n",
    "\n",
    "def magnetization(T):\n",
    "    magnet = []\n",
    "    for i in range(50):\n",
    "        initialize()\n",
    "        mag = 0\n",
    "        for j in range(100000):\n",
    "            mag = update(T)\n",
    "        magnet.append(mag)\n",
    "#     return magnet\n",
    "    matplotlib.pyplot.hist(magnet)\n",
    "    matplotlib.pyplot.xlabel(\"Final average magnetization\")\n",
    "    matplotlib.pyplot.ylabel(\"Frequency\")\n",
    "    matplotlib.pyplot.show()\n",
    "for i in range(1,5):\n",
    "    print(\"Temperature: \", i)\n",
    "    magnetization(i)"
   ]
  },
  {
   "cell_type": "code",
   "execution_count": 30,
   "metadata": {},
   "outputs": [
    {
     "name": "stdout",
     "output_type": "stream",
     "text": [
      "('num_grid', 10000)\n",
      "('index', (6857,))\n",
      "('self.state', array([[ 1., -1., -1., ..., -1., -1.,  1.],\n",
      "       [ 1., -1., -1., ..., -1.,  1.,  1.],\n",
      "       [-1., -1., -1., ..., -1.,  1., -1.],\n",
      "       ...,\n",
      "       [ 1., -1., -1., ...,  1., -1., -1.],\n",
      "       [ 1., -1., -1., ...,  1., -1., -1.],\n",
      "       [ 1., -1.,  1., ..., -1., -1., -1.]]))\n"
     ]
    }
   ],
   "source": [
    "sim = Ising((100,100), 4)\n",
    "sim.initialize()\n",
    "# plt.figure()\n",
    "# sim.display()\n",
    "# for i in range(10):\n",
    "#     for j in range(10000):\n",
    "#         sim.update()\n",
    "#     plt.figure()\n",
    "#     sim.display()"
   ]
  },
  {
   "cell_type": "code",
   "execution_count": 12,
   "metadata": {},
   "outputs": [
    {
     "data": {
      "text/plain": [
       "[-1, 1, -1, 1, -1, -1, 1, -1, -1, 1]"
      ]
     },
     "execution_count": 12,
     "metadata": {},
     "output_type": "execute_result"
    }
   ],
   "source": [
    "model.state[0-1]"
   ]
  },
  {
   "cell_type": "code",
   "execution_count": 7,
   "metadata": {},
   "outputs": [
    {
     "data": {
      "text/plain": [
       "[[-1, -1, -1, -1, 1, 1, -1, 1, 1, 1],\n",
       " [1, 1, 1, 1, -1, -1, 1, 1, 1, -1],\n",
       " [1, -1, -1, 1, 1, 1, -1, -1, 1, -1],\n",
       " [-1, -1, 1, -1, 1, -1, -1, -1, 1, 1],\n",
       " [1, -1, -1, 1, 1, 1, 1, 1, 1, -1],\n",
       " [1, 1, 1, -1, -1, 1, -1, 1, 1, -1],\n",
       " [-1, 1, -1, -1, 1, -1, 1, 1, -1, 1],\n",
       " [-1, -1, 1, -1, 1, 1, -1, -1, 1, 1],\n",
       " [1, 1, -1, -1, -1, -1, 1, -1, -1, -1],\n",
       " [-1, 1, -1, 1, -1, -1, 1, -1, -1, 1]]"
      ]
     },
     "execution_count": 7,
     "metadata": {},
     "output_type": "execute_result"
    }
   ],
   "source": [
    "model.state"
   ]
  },
  {
   "cell_type": "code",
   "execution_count": 13,
   "metadata": {},
   "outputs": [],
   "source": [
    "class ising(object):\n",
    "    def  __init__(self, n=4, temp = 1):\n",
    "\n",
    "    self.N = n\n",
    "    self.state = np.random.choice([-1,1], size=(self.N, self.N))\n",
    "    self.cell_energy = np.zeros(shape=(self.N,self.N))\n",
    "    self.T = temp\n",
    "\n",
    "\n",
    "    def calc_energy(self):\n",
    "    sum_of_neighbors = np.zeros(shape=(self.N,self.N))\n",
    "\n",
    "    for ax in [0,1]:\n",
    "      for shift in [-1,1]:\n",
    "        sum_of_neighbors += np.roll(self.state, shift, axis=ax)\n",
    "\n",
    "    self.cell_energy = -1*sum_of_neighbors*self.state\n",
    "\n",
    "\n",
    "    def calc_cell_energy(self, ind_r, ind_c):\n",
    "      sum_neighbors = self.state[ind_r, \n",
    "                                 (ind_c+1)%self.N]+self.state[ind_r, \n",
    "                                 (ind_c-1)%self.N]+self.state[(ind_r+1)%self.N, \n",
    "                                 ind_c]+self.state[(ind_r-1)%self.N, \n",
    "                                 ind_c]\n",
    "\n",
    "      energy = -1*sum_neighbors*self.state[ind_r,ind_c]\n",
    "\n",
    "      return energy\n",
    "\n",
    "\n",
    "    def update_random_cell_sign(self):\n",
    "\n",
    "    #choose a random cell\n",
    "    r_row = np.random.randint(self.N)\n",
    "    r_col = np.random.randint(self.N)\n",
    "\n",
    "    # calc the energey \n",
    "    E = self.calc_cell_energy(r_row, r_col)\n",
    "\n",
    "    #calc the probability of flip\n",
    "\n",
    "    cell_flip_decision = min(1.0,np.exp(2.0*E/self.T)) > np.random.rand()\n",
    "\n",
    "    # if energy calc prob > random\n",
    "    if cell_flip_decision:\n",
    "      self.state[r_row, r_col] *= -1\n",
    "\n",
    "    def run_sim(self, S):\n",
    "    for step in range(S):\n",
    "      self.update_random_cell_sign()\n",
    "\n",
    "    def observe(self):\n",
    "\n",
    "    plt.imshow(self.state, vmin=0, vmax=1, cmap=cm.viridis)\n",
    "    plt.axis('off')\n",
    "    plt.show()\n",
    "\n",
    "    def avg_mag(self):\n",
    "    return np.mean(self.state)\n"
   ]
  },
  {
   "cell_type": "code",
   "execution_count": null,
   "metadata": {},
   "outputs": [],
   "source": []
  }
 ],
 "metadata": {
  "kernelspec": {
   "display_name": "Python (CS166)",
   "language": "python",
   "name": "cs166"
  },
  "language_info": {
   "codemirror_mode": {
    "name": "ipython",
    "version": 2
   },
   "file_extension": ".py",
   "mimetype": "text/x-python",
   "name": "python",
   "nbconvert_exporter": "python",
   "pygments_lexer": "ipython2",
   "version": "2.7.15"
  }
 },
 "nbformat": 4,
 "nbformat_minor": 2
}
