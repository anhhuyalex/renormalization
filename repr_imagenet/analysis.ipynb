{
 "cells": [
  {
   "cell_type": "code",
   "execution_count": 1,
   "metadata": {},
   "outputs": [],
   "source": [
    "import os\n",
    "\n",
    "import torch\n",
    "from torch import nn\n",
    "from torch.nn import functional as F\n",
    "from torch.utils.data import DataLoader, random_split\n",
    "from torchvision.datasets import MNIST\n",
    "from torchvision import transforms\n",
    "import pytorch_lightning as pl\n",
    "from pytorch_lightning.metrics.functional import accuracy\n",
    "from pl_bolts.datasets import DummyDataset"
   ]
  },
  {
   "cell_type": "code",
   "execution_count": 9,
   "metadata": {},
   "outputs": [
    {
     "name": "stdout",
     "output_type": "stream",
     "text": [
      "tag: \"train_loss_step\"\n",
      "simple_value: -0.1061844676733017\n",
      "\n",
      "tag: \"train_loss_step\"\n",
      "simple_value: -0.054948750883340836\n",
      "\n",
      "tag: \"train_loss_step\"\n",
      "simple_value: -0.11511839181184769\n",
      "\n",
      "tag: \"train_loss_step\"\n",
      "simple_value: -0.1307985782623291\n",
      "\n",
      "tag: \"train_loss_step\"\n",
      "simple_value: 0.06994606554508209\n",
      "\n",
      "tag: \"train_loss_step\"\n",
      "simple_value: -0.031399328261613846\n",
      "\n",
      "tag: \"train_loss_step\"\n",
      "simple_value: -0.21870899200439453\n",
      "\n",
      "tag: \"train_loss_step\"\n",
      "simple_value: -0.21165171265602112\n",
      "\n",
      "tag: \"train_loss_step\"\n",
      "simple_value: -0.07281654328107834\n",
      "\n",
      "tag: \"train_loss_step\"\n",
      "simple_value: -0.14820051193237305\n",
      "\n",
      "tag: \"train_loss_step\"\n",
      "simple_value: -0.0604470893740654\n",
      "\n",
      "tag: \"train_loss_step\"\n",
      "simple_value: -0.10973358154296875\n",
      "\n",
      "tag: \"train_loss_step\"\n",
      "simple_value: -0.1126767247915268\n",
      "\n",
      "tag: \"train_loss_step\"\n",
      "simple_value: -0.1370762288570404\n",
      "\n",
      "tag: \"train_loss_step\"\n",
      "simple_value: -0.18825224041938782\n",
      "\n",
      "tag: \"train_loss_step\"\n",
      "simple_value: nan\n",
      "\n",
      "tag: \"train_loss_step\"\n",
      "simple_value: nan\n",
      "\n"
     ]
    }
   ],
   "source": [
    "# from torch.utils.tensorboard import SummaryWriter\n",
    "from tensorflow.python.summary.summary_iterator import summary_iterator\n",
    "for summary in summary_iterator(\"lightning_logs/version_26/events.out.tfevents.1638054881.c22n01.grace.hpc.yale.internal.2110.0\"):\n",
    "    for v in summary.summary.value:\n",
    "        if v.tag == \"train_loss_step\":\n",
    "            print(v)"
   ]
  },
  {
   "cell_type": "code",
   "execution_count": null,
   "metadata": {},
   "outputs": [],
   "source": []
  }
 ],
 "metadata": {
  "kernelspec": {
   "display_name": "Python (tensorflow)",
   "language": "python",
   "name": "tensorflow"
  },
  "language_info": {
   "codemirror_mode": {
    "name": "ipython",
    "version": 3
   },
   "file_extension": ".py",
   "mimetype": "text/x-python",
   "name": "python",
   "nbconvert_exporter": "python",
   "pygments_lexer": "ipython3",
   "version": "3.7.11"
  },
  "varInspector": {
   "cols": {
    "lenName": 16,
    "lenType": 16,
    "lenVar": 40
   },
   "kernels_config": {
    "python": {
     "delete_cmd_postfix": "",
     "delete_cmd_prefix": "del ",
     "library": "var_list.py",
     "varRefreshCmd": "print(var_dic_list())"
    },
    "r": {
     "delete_cmd_postfix": ") ",
     "delete_cmd_prefix": "rm(",
     "library": "var_list.r",
     "varRefreshCmd": "cat(var_dic_list()) "
    }
   },
   "types_to_exclude": [
    "module",
    "function",
    "builtin_function_or_method",
    "instance",
    "_Feature"
   ],
   "window_display": false
  }
 },
 "nbformat": 4,
 "nbformat_minor": 4
}
