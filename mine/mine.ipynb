{
 "cells": [
  {
   "cell_type": "code",
   "execution_count": 2,
   "metadata": {},
   "outputs": [],
   "source": [
    "import numpy as np\n",
    "import torch\n",
    "from torch.autograd import Variable\n",
    "import torch.nn as nn\n",
    "import torch.nn.functional as F\n",
    "from tqdm import tqdm\n",
    "\n",
    "# Load 9x9 images taken from 2187x2187 images\n",
    "layers = \"../supervised_convnet/t_2.269/layer_by_layer/\"\n",
    "fine = \"../supervised_convnet/t_2.269/x3x3/ising_temp2.269_correlated9x9from2187x2187.npy\"\n",
    "fine = np.load(fine)"
   ]
  },
  {
   "cell_type": "code",
   "execution_count": 3,
   "metadata": {},
   "outputs": [
    {
     "data": {
      "text/plain": [
       "'/Users/alng/opt/anaconda3/envs/rtsynth/lib/python3.8/site-packages/torch/__init__.py'"
      ]
     },
     "execution_count": 3,
     "metadata": {},
     "output_type": "execute_result"
    }
   ],
   "source": [
    "torch.__file__"
   ]
  },
  {
   "cell_type": "code",
   "execution_count": 4,
   "metadata": {},
   "outputs": [
    {
     "data": {
      "text/plain": [
       "(10000, 9, 9)"
      ]
     },
     "execution_count": 4,
     "metadata": {},
     "output_type": "execute_result"
    }
   ],
   "source": [
    "fine.shape"
   ]
  },
  {
   "cell_type": "code",
   "execution_count": 3,
   "metadata": {},
   "outputs": [],
   "source": [
    "import numpy as np\n",
    "v = np.random.randn((2187))"
   ]
  },
  {
   "cell_type": "code",
   "execution_count": 21,
   "metadata": {},
   "outputs": [
    {
     "name": "stdout",
     "output_type": "stream",
     "text": [
      "2078\n"
     ]
    }
   ],
   "source": [
    "i = np.random.randint(2187)\n",
    "print(i)"
   ]
  },
  {
   "cell_type": "code",
   "execution_count": 22,
   "metadata": {},
   "outputs": [],
   "source": [
    "c = np.concatenate([v[:i], v[(i + 1):]])"
   ]
  },
  {
   "cell_type": "code",
   "execution_count": 23,
   "metadata": {},
   "outputs": [
    {
     "data": {
      "text/plain": [
       "(2186,)"
      ]
     },
     "execution_count": 23,
     "metadata": {},
     "output_type": "execute_result"
    }
   ],
   "source": [
    "c.shape"
   ]
  },
  {
   "cell_type": "code",
   "execution_count": 27,
   "metadata": {},
   "outputs": [
    {
     "data": {
      "text/plain": [
       "array([-1.8358306 , -0.54896313,  1.56556533, -0.09338653, -1.13503142,\n",
       "       -0.40241476,  0.06771404,  1.01817865, -0.52089454, -0.89903694])"
      ]
     },
     "execution_count": 27,
     "metadata": {},
     "output_type": "execute_result"
    }
   ],
   "source": [
    "c[2075:2085]"
   ]
  },
  {
   "cell_type": "code",
   "execution_count": 26,
   "metadata": {},
   "outputs": [
    {
     "data": {
      "text/plain": [
       "array([-1.8358306 , -0.54896313,  1.56556533, -0.12470246, -0.09338653,\n",
       "       -1.13503142, -0.40241476,  0.06771404,  1.01817865, -0.52089454])"
      ]
     },
     "execution_count": 26,
     "metadata": {},
     "output_type": "execute_result"
    }
   ],
   "source": [
    "v[2075:2085]"
   ]
  },
  {
   "cell_type": "markdown",
   "metadata": {},
   "source": [
    "# Compute Fine-grained MI "
   ]
  },
  {
   "cell_type": "code",
   "execution_count": 3,
   "metadata": {},
   "outputs": [],
   "source": [
    "def sample_xy(data = fine, batch_size = 128):\n",
    "    \"\"\"\n",
    "    Sample 3x6 rectangles from the fine grained data\n",
    "    \"\"\"\n",
    "    num_samples, xdim, ydim = data.shape\n",
    "    indices = np.random.randint(len(data), size = batch_size)\n",
    "    arr = []\n",
    "    for ind in indices:\n",
    "        x, y = np.random.randint(xdim, size = 2)\n",
    "        tmp = np.pad(data[ind], 6, mode = \"wrap\")[x:(x+3), y:(y+6)]\n",
    "        arr.append(tmp)\n",
    "    return np.stack(arr)\n",
    "        \n",
    "def get_xy():\n",
    "    \"\"\"\n",
    "    Get 3x3 squares from 3x6 rectangles\n",
    "    \"\"\"\n",
    "    data = sample_xy()\n",
    "    x = data[:, :3, :3].reshape(-1, 9)\n",
    "    y = data[:, :3, 3:].reshape(-1, 9)\n",
    "    return x, y\n"
   ]
  },
  {
   "cell_type": "code",
   "execution_count": 4,
   "metadata": {},
   "outputs": [
    {
     "data": {
      "text/plain": [
       "(array([[0, 1, 1, 1, 1, 1, 0, 1, 1],\n",
       "        [0, 0, 0, 0, 1, 0, 0, 0, 0],\n",
       "        [0, 0, 0, 0, 0, 0, 1, 0, 0],\n",
       "        [0, 0, 0, 0, 0, 0, 1, 1, 1],\n",
       "        [1, 1, 1, 1, 1, 1, 1, 1, 1],\n",
       "        [0, 0, 0, 0, 0, 0, 0, 0, 0],\n",
       "        [0, 0, 1, 1, 1, 1, 1, 1, 1],\n",
       "        [1, 1, 1, 1, 1, 1, 1, 1, 1],\n",
       "        [0, 0, 1, 0, 0, 0, 0, 0, 0],\n",
       "        [0, 0, 0, 0, 0, 0, 0, 0, 0]]), array([[1, 1, 1, 1, 1, 1, 1, 1, 1],\n",
       "        [0, 0, 0, 0, 0, 0, 0, 0, 0],\n",
       "        [0, 0, 0, 0, 0, 0, 0, 0, 0],\n",
       "        [1, 1, 1, 0, 1, 1, 1, 1, 1],\n",
       "        [1, 1, 1, 1, 1, 0, 1, 1, 1],\n",
       "        [0, 1, 1, 0, 0, 0, 0, 0, 0],\n",
       "        [1, 1, 1, 1, 1, 1, 1, 1, 1],\n",
       "        [1, 1, 1, 1, 1, 1, 0, 0, 1],\n",
       "        [0, 0, 0, 0, 0, 0, 0, 0, 0],\n",
       "        [0, 0, 0, 0, 0, 0, 0, 0, 0]]))"
      ]
     },
     "execution_count": 4,
     "metadata": {},
     "output_type": "execute_result"
    }
   ],
   "source": [
    "x, y = get_xy()\n",
    "x[:10], y[:10]"
   ]
  },
  {
   "cell_type": "code",
   "execution_count": 8,
   "metadata": {},
   "outputs": [
    {
     "name": "stderr",
     "output_type": "stream",
     "text": [
      "100%|██████████| 2000/2000 [01:54<00:00, 17.48it/s]\n"
     ]
    }
   ],
   "source": [
    "S=9\n",
    "H=150\n",
    "n_epoch = 2000\n",
    "data_size = 20000\n",
    "\n",
    "class Net(nn.Module):\n",
    "    \"\"\"\n",
    "    Neural network to compute mutual information\n",
    "    \"\"\"\n",
    "    def __init__(self):\n",
    "        super(Net, self).__init__()\n",
    "        self.x_fc1 = nn.Linear(S, S)\n",
    "        self.x_fc2 = nn.Linear(S, S)\n",
    "        self.x_fc3 = nn.Linear(S, H)\n",
    "        \n",
    "        self.y_fc1 = nn.Linear(S, S)\n",
    "        self.y_fc2 = nn.Linear(S, S)\n",
    "        self.y_fc3 = nn.Linear(S, H)\n",
    "        \n",
    "        self.fc3 = nn.Linear(H, 1)\n",
    "        \n",
    "        \n",
    "    def forward(self, x, y):\n",
    "        inter_x = x + F.relu(self.x_fc1(x))\n",
    "        # inter_x = inter_x + F.relu(self.x_fc2(inter_x))\n",
    "        inter_x = self.x_fc3(inter_x)\n",
    "        \n",
    "        inter_y = y + F.relu(self.y_fc1(y))\n",
    "        # inter_y = inter_y + F.relu(self.y_fc2(inter_y))\n",
    "        inter_y = self.y_fc3(inter_y)\n",
    "        \n",
    "        \n",
    "        h1 = F.relu(inter_x + inter_y)\n",
    "        h2 = self.fc3(h1)\n",
    "        return h2    \n",
    "\n",
    "model = Net()\n",
    "optimizer = torch.optim.SGD(model.parameters(), lr=0.02, momentum=0.9)\n",
    "plot_loss = []\n",
    "for epoch in tqdm(range(n_epoch)):\n",
    "    # Get samples from the joint distribution\n",
    "    x_sample, y_sample=get_xy()\n",
    "    \n",
    "    # Get samples from the marginal distribution\n",
    "    # by shuffling the joint samples\n",
    "    y_shuffle=np.random.permutation(y_sample)\n",
    "    \n",
    "    x_sample = Variable(torch.from_numpy(x_sample).type(torch.FloatTensor), requires_grad = True)\n",
    "    y_sample = Variable(torch.from_numpy(y_sample).type(torch.FloatTensor), requires_grad = True)\n",
    "    y_shuffle = Variable(torch.from_numpy(y_shuffle).type(torch.FloatTensor), requires_grad = True)    \n",
    "    \n",
    "    pred_xy = model(x_sample, y_sample)\n",
    "    pred_x_y = model(x_sample, y_shuffle)\n",
    "\n",
    "    # MINE estimator\n",
    "    ret = torch.mean(pred_xy) - torch.log(torch.mean(torch.exp(pred_x_y)))\n",
    "    loss = - ret  # maximize MI\n",
    "    plot_loss.append(loss.data.numpy())\n",
    "    model.zero_grad()\n",
    "    loss.backward()\n",
    "    optimizer.step()"
   ]
  },
  {
   "cell_type": "code",
   "execution_count": 9,
   "metadata": {},
   "outputs": [
    {
     "data": {
      "image/png": "[encoded data removed]",
      "text/plain": [
       "<Figure size 432x288 with 1 Axes>"
      ]
     },
     "metadata": {
      "needs_background": "light"
     },
     "output_type": "display_data"
    }
   ],
   "source": [
    "import matplotlib.pyplot as plt\n",
    "plt.plot(plot_loss)\n",
    "plt.show()"
   ]
  },
  {
   "cell_type": "code",
   "execution_count": 22,
   "metadata": {},
   "outputs": [
    {
     "name": "stdout",
     "output_type": "stream",
     "text": [
      "<bound method Module.parameters of Net(\n",
      "  (x_fc1): Linear(in_features=9, out_features=9, bias=True)\n",
      "  (x_fc2): Linear(in_features=9, out_features=9, bias=True)\n",
      "  (x_fc3): Linear(in_features=9, out_features=15, bias=True)\n",
      "  (y_fc1): Linear(in_features=9, out_features=9, bias=True)\n",
      "  (y_fc2): Linear(in_features=9, out_features=9, bias=True)\n",
      "  (y_fc3): Linear(in_features=9, out_features=15, bias=True)\n",
      "  (fc3): Linear(in_features=15, out_features=1, bias=True)\n",
      ")>\n",
      "Parameter containing:\n",
      "tensor([[-0.2024,  0.3144, -0.1407, -0.0241, -0.2911,  0.2497, -0.2274, -0.0521,\n",
      "          0.0135],\n",
      "        [ 0.3172,  0.1078,  0.4976, -0.0796,  0.2526,  0.1883,  0.1112, -0.2759,\n",
      "          0.1730],\n",
      "        [-0.0341,  0.2580,  0.2995,  0.1361, -0.0381,  0.2025,  0.0446,  0.3215,\n",
      "          0.0659],\n",
      "        [ 0.0224, -0.1906,  0.4629,  0.1273,  0.2260,  0.4661, -0.1531,  0.0786,\n",
      "          0.4210],\n",
      "        [-0.0189,  0.1458, -0.0267,  0.3596, -0.2041, -0.2131,  0.3172,  0.0826,\n",
      "          0.0392],\n",
      "        [-0.1602, -0.2035,  0.1462, -0.3069, -0.2558, -0.1507, -0.1875, -0.2770,\n",
      "          0.0764],\n",
      "        [-0.0451, -0.1848,  0.0123, -0.2568, -0.2186,  0.2518,  0.1371,  0.2505,\n",
      "          0.2385],\n",
      "        [-0.3071,  0.2629, -0.2410,  0.1365, -0.3322, -0.0872, -0.1389, -0.1963,\n",
      "         -0.1156],\n",
      "        [-0.3016, -0.0584, -0.0269,  0.1315, -0.1466, -0.0685,  0.0222,  0.1148,\n",
      "         -0.2391]], requires_grad=True)\n",
      "Parameter containing:\n",
      "tensor([ 0.2230,  0.1265,  0.3011,  0.1916,  0.3094, -0.1080, -0.1373, -0.2418,\n",
      "        -0.1553], requires_grad=True)\n",
      "Parameter containing:\n",
      "tensor([[ 0.1543, -0.3557,  0.1815,  0.0054, -0.2281,  0.0607, -0.0859,  0.1431,\n",
      "          0.2488],\n",
      "        [-0.0190, -0.1485, -0.0412,  0.1603, -0.1728,  0.1716,  0.1778, -0.3003,\n",
      "         -0.2193],\n",
      "        [-0.0610, -0.0129, -0.1289,  0.0270, -0.2597, -0.0845, -0.1978,  0.0877,\n",
      "          0.2726],\n",
      "        [-0.0045, -0.0699,  0.1710,  0.1669, -0.0533, -0.1298, -0.0149,  0.1191,\n",
      "          0.1429],\n",
      "        [ 0.2072,  0.2310,  0.3590,  0.3675, -0.2410,  0.2676,  0.2268,  0.1354,\n",
      "          0.2375],\n",
      "        [ 0.1044, -0.2369, -0.2759, -0.0407, -0.0866, -0.1817, -0.1625, -0.1291,\n",
      "         -0.2111],\n",
      "        [ 0.2539,  0.0141,  0.3306, -0.0116, -0.1154,  0.1230,  0.2083,  0.1301,\n",
      "          0.2308],\n",
      "        [ 0.1175, -0.2362,  0.0745, -0.2525, -0.2910, -0.1240,  0.1975,  0.0312,\n",
      "         -0.0130],\n",
      "        [ 0.1106,  0.2945, -0.1060,  0.2838, -0.3533,  0.3090,  0.1088,  0.2214,\n",
      "          0.4371]], requires_grad=True)\n",
      "Parameter containing:\n",
      "tensor([ 0.0426, -0.0745, -0.2022, -0.2382,  0.3031, -0.1608,  0.2190,  0.2640,\n",
      "        -0.2351], requires_grad=True)\n",
      "Parameter containing:\n",
      "tensor([[ 0.0698,  0.0570, -0.0450,  0.0641, -0.3879, -0.2682, -0.2685, -0.3186,\n",
      "         -0.2122],\n",
      "        [ 0.2466, -0.2180, -0.0790, -0.3232,  0.0293, -0.3504,  0.2616, -0.0826,\n",
      "         -0.0704],\n",
      "        [-0.0604,  0.0495, -0.1239, -0.3125, -0.2250,  0.0871,  0.2538,  0.1423,\n",
      "         -0.1783],\n",
      "        [-0.1230, -0.2174, -0.4231, -0.1570,  0.0395, -0.2089, -0.3422,  0.2702,\n",
      "         -0.6005],\n",
      "        [ 0.0085, -0.1273, -0.0139,  0.0607,  0.0098, -0.3067,  0.0808, -0.0650,\n",
      "         -0.2667],\n",
      "        [-0.0708, -0.3173,  0.1553,  0.1009,  0.1409, -0.2220, -0.2429, -0.2709,\n",
      "          0.2131],\n",
      "        [ 0.1243, -0.1138, -0.1584, -0.1289, -0.2245,  0.1956,  0.2054, -0.0402,\n",
      "          0.1737],\n",
      "        [-0.1568,  0.0994,  0.2122,  0.0240, -0.0555, -0.2262, -0.2567, -0.3228,\n",
      "         -0.1761],\n",
      "        [-0.1443, -0.3394, -0.2177, -0.1908,  0.3567,  0.2642,  0.1864,  0.3189,\n",
      "         -0.2799],\n",
      "        [-0.0251, -0.0044,  0.1430, -0.1470,  0.3123, -0.2824, -0.2371, -0.0808,\n",
      "         -0.2835],\n",
      "        [ 0.0416,  0.1489, -0.4399,  0.1411, -0.3195, -0.2051, -0.2762,  0.1158,\n",
      "          0.0853],\n",
      "        [-0.1593, -0.3205, -0.0103,  0.0509,  0.1144, -0.0959,  0.2531, -0.2947,\n",
      "         -0.1133],\n",
      "        [ 0.3210,  0.0592, -0.1177,  0.0347,  0.0517, -0.2575, -0.2303, -0.1300,\n",
      "          0.1526],\n",
      "        [-0.1788,  0.2152,  0.3601,  0.2862, -0.0360, -0.0211,  0.0185,  0.3291,\n",
      "          0.3775],\n",
      "        [ 0.1189,  0.1035,  0.2914, -0.0497,  0.3549,  0.3843,  0.4080, -0.0930,\n",
      "          0.3381]], requires_grad=True)\n",
      "Parameter containing:\n",
      "tensor([ 0.0033,  0.1463, -0.3047, -0.2696, -0.1361, -0.3282,  0.3272, -0.0657,\n",
      "         0.2235,  0.0115,  0.2732, -0.1696,  0.2866,  0.1593, -0.2687],\n",
      "       requires_grad=True)\n",
      "Parameter containing:\n",
      "tensor([[ 0.4043, -0.1195, -0.1294, -0.0387,  0.1839,  0.0600, -0.1721,  0.0066,\n",
      "         -0.0953],\n",
      "        [ 0.0622, -0.0402,  0.0922, -0.1529, -0.0351,  0.2907,  0.3773, -0.0141,\n",
      "          0.0165],\n",
      "        [-0.2289,  0.0363,  0.2920, -0.2851, -0.0901, -0.2021,  0.1834, -0.2703,\n",
      "         -0.0876],\n",
      "        [ 0.2576,  0.1403,  0.2756,  0.3768,  0.0437,  0.2645,  0.1987, -0.1678,\n",
      "         -0.1689],\n",
      "        [ 0.2983,  0.1332, -0.0208,  0.4119,  0.0058, -0.2064,  0.3446, -0.0845,\n",
      "         -0.2434],\n",
      "        [ 0.2978,  0.1033,  0.1019, -0.2715,  0.0791, -0.2246,  0.3321,  0.2769,\n",
      "         -0.0494],\n",
      "        [ 0.4691,  0.0157, -0.0469, -0.0217, -0.3236,  0.1573,  0.4410,  0.2172,\n",
      "          0.0817],\n",
      "        [-0.0370,  0.1662,  0.2305,  0.0335, -0.0464, -0.0918,  0.2884, -0.3155,\n",
      "         -0.1917],\n",
      "        [ 0.3264,  0.2271,  0.0491,  0.4096,  0.1497,  0.0520, -0.0900,  0.0628,\n",
      "          0.1605]], requires_grad=True)\n",
      "Parameter containing:\n",
      "tensor([ 0.1720, -0.0492, -0.0416, -0.2600,  0.1273,  0.2187, -0.1565,  0.2502,\n",
      "         0.1521], requires_grad=True)\n",
      "Parameter containing:\n",
      "tensor([[ 0.3919, -0.2681, -0.0231, -0.1401,  0.1577,  0.2391,  0.0320,  0.0227,\n",
      "          0.1141],\n",
      "        [ 0.2639, -0.3120, -0.2768,  0.0374, -0.2210, -0.1377, -0.1440,  0.3194,\n",
      "         -0.3096],\n",
      "        [ 0.2266, -0.0198,  0.0843,  0.3644,  0.1790,  0.1051,  0.1288,  0.2815,\n",
      "          0.0709],\n",
      "        [-0.2505, -0.3064,  0.1336,  0.0266,  0.2774,  0.1536,  0.1775, -0.0528,\n",
      "          0.1713],\n",
      "        [ 0.3307, -0.2715, -0.1049,  0.4731, -0.1687,  0.0304,  0.1665,  0.0689,\n",
      "          0.3018],\n",
      "        [-0.2277, -0.1453,  0.3117,  0.1672,  0.2725, -0.0527,  0.0716,  0.2054,\n",
      "         -0.0635],\n",
      "        [ 0.0138,  0.1883,  0.2104,  0.2267, -0.1579, -0.0341,  0.3400,  0.1764,\n",
      "          0.2713],\n",
      "        [-0.0480,  0.2974,  0.0951, -0.1648,  0.1066, -0.1576, -0.1996,  0.2559,\n",
      "         -0.2835],\n",
      "        [-0.0938, -0.2598,  0.2899, -0.0384, -0.2607,  0.0575,  0.3692,  0.3194,\n",
      "         -0.0487]], requires_grad=True)\n",
      "Parameter containing:\n",
      "tensor([ 0.0532,  0.2957,  0.0261,  0.0174,  0.0420, -0.1095, -0.2595, -0.2993,\n",
      "         0.2445], requires_grad=True)\n",
      "Parameter containing:\n",
      "tensor([[-0.2738, -0.0037,  0.3203,  0.0032,  0.1882,  0.3198,  0.1085,  0.1326,\n",
      "          0.0812],\n",
      "        [ 0.0621,  0.0402, -0.2033,  0.2026,  0.3048, -0.0456,  0.0687, -0.2365,\n",
      "         -0.0198],\n",
      "        [ 0.1275, -0.1379,  0.1603,  0.0131,  0.1348,  0.0350, -0.0422,  0.0353,\n",
      "         -0.0208],\n",
      "        [ 0.1942,  0.1470,  0.2549,  0.1010,  0.2921, -0.1941,  0.4971, -0.0872,\n",
      "          0.1321],\n",
      "        [ 0.0726, -0.2376,  0.1026, -0.2988, -0.2006, -0.0275,  0.2442, -0.0328,\n",
      "         -0.0388],\n",
      "        [-0.0395, -0.0510,  0.2307, -0.3347,  0.1378, -0.1501,  0.1140,  0.2421,\n",
      "         -0.1760],\n",
      "        [ 0.3348,  0.3197,  0.3117,  0.2725,  0.0826, -0.2132,  0.0984, -0.0138,\n",
      "          0.2609],\n",
      "        [-0.2060,  0.0340,  0.1376, -0.0531,  0.1059,  0.1846,  0.0556,  0.0824,\n",
      "          0.2542],\n",
      "        [-0.2554, -0.1575,  0.1459,  0.1067, -0.2356, -0.0117, -0.0680, -0.1045,\n",
      "          0.2475],\n",
      "        [ 0.3633,  0.1168,  0.2445, -0.1385, -0.0383,  0.2399,  0.1437,  0.2107,\n",
      "          0.1161],\n",
      "        [ 0.3927,  0.1967, -0.0018,  0.1546, -0.1380,  0.0247,  0.0332, -0.0673,\n",
      "          0.3042],\n",
      "        [-0.2292, -0.1534, -0.0562,  0.2681,  0.2477, -0.1994,  0.1508,  0.1645,\n",
      "         -0.1482],\n",
      "        [-0.2325, -0.3344,  0.2567,  0.2419,  0.3185,  0.2305,  0.1294, -0.0940,\n",
      "         -0.3014],\n",
      "        [-0.2309, -0.0487,  0.0740, -0.1894, -0.3112, -0.1133, -0.4313, -0.1306,\n",
      "         -0.1633],\n",
      "        [-0.0913, -0.3074,  0.0585, -0.0457, -0.1258,  0.1591, -0.2345,  0.2373,\n",
      "         -0.2942]], requires_grad=True)\n",
      "Parameter containing:\n",
      "tensor([ 0.1002, -0.2214,  0.1136,  0.0728,  0.1779, -0.1223,  0.2656,  0.1372,\n",
      "         0.0181, -0.1029,  0.2573, -0.0303, -0.0496, -0.2954,  0.1867],\n",
      "       requires_grad=True)\n",
      "Parameter containing:\n",
      "tensor([[-0.3922, -0.2444, -0.1348, -0.8950, -0.1811, -0.0316,  0.1370, -0.2465,\n",
      "          0.2531,  0.2770, -0.4205, -0.0061,  0.2064, -0.6288, -0.4885]],\n",
      "       requires_grad=True)\n",
      "Parameter containing:\n",
      "tensor([0.1934], requires_grad=True)\n"
     ]
    }
   ],
   "source": [
    "print(model.parameters)\n",
    "\n",
    "for p in model.parameters():\n",
    "    print(p)"
   ]
  },
  {
   "cell_type": "markdown",
   "metadata": {},
   "source": [
    "# Optimize Coarse-graining to maximize MINE"
   ]
  },
  {
   "cell_type": "code",
   "execution_count": 1,
   "metadata": {},
   "outputs": [
    {
     "data": {
      "text/plain": [
       "(10001, 1, 27, 27)"
      ]
     },
     "execution_count": 1,
     "metadata": {},
     "output_type": "execute_result"
    }
   ],
   "source": [
    "from glob import glob\n",
    "import matplotlib.pyplot as plt\n",
    "from tqdm import tqdm\n",
    "import numpy as np\n",
    "arrs = []\n",
    "# for arr in tqdm(glob(\"../data_2187_1571810501/*\")[2500:5000]):\n",
    "#     z = np.load(arr)['arr_0']\n",
    "#     x, y = np.random.randint(2187, size=2)\n",
    "#     z = np.pad(z, pad_width=27, mode='wrap')[x:(x+27), y:(y+27)]\n",
    "#     arrs.append(z)\n",
    "# arrs = np.stack(arrs)\n",
    "\n",
    "arrs = np.load(\"./ising27x27from2187x2187.npy\")[:, None, :, :]\n",
    "arrs.shape"
   ]
  },
  {
   "cell_type": "markdown",
   "metadata": {},
   "source": [
    "## Took 9x9 image from 2187x2187 equilibrium Ising\n",
    "Get 3x6 rectangles\n",
    "\n",
    "Use MINE to compute the MI of fine-grained model"
   ]
  },
  {
   "cell_type": "code",
   "execution_count": 1,
   "metadata": {},
   "outputs": [
    {
     "name": "stderr",
     "output_type": "stream",
     "text": [
      "100%|██████████| 100/100 [03:51<00:00,  2.31s/it]\n"
     ]
    }
   ],
   "source": [
    "from glob import glob\n",
    "import matplotlib.pyplot as plt\n",
    "from tqdm import tqdm\n",
    "import numpy as np\n",
    "arrs = []\n",
    " \n",
    "# Load 27x27 images\n",
    "arrs = np.load(\"./ising27x27from2187x2187.npy\")[:, None, :, :]\n",
    "arrs.shape\n",
    "\n",
    "import torch\n",
    "from torch.autograd import Variable\n",
    "import torch.nn as nn\n",
    "import torch.nn.functional as F\n",
    "S=9\n",
    "H=150\n",
    "n_epoch = 100\n",
    "data_size = 20000\n",
    "def pad_circular(x, pad):\n",
    "    \"\"\"\n",
    "    function inspired by https://github.com/pytorch/pytorch/issues/3858\n",
    "    Pad a tensor with periodic boundary conditions\n",
    "    Used to get subsets of an image\n",
    "    :param x: shape [H, W]\n",
    "    :param pad: int >= 0\n",
    "    :return:\n",
    "    \"\"\"\n",
    "    x = torch.cat([x, x[0:pad]], dim=0)\n",
    "    x = torch.cat([x, x[:, 0:pad]], dim=1)\n",
    "    x = torch.cat([x[-2 * pad:-pad], x], dim=0)\n",
    "    x = torch.cat([x[:, -2 * pad:-pad], x], dim=1)\n",
    "\n",
    "    return x\n",
    "\n",
    "class Net(nn.Module):\n",
    "    def __init__(self, out_channels = 1, filter_size = 3):\n",
    "        super(Net, self).__init__()\n",
    "        \n",
    "        self.x_fc1 = nn.Linear(S, S)\n",
    "        self.x_fc2 = nn.Linear(S, S)\n",
    "        self.x_fc3 = nn.Linear(S, H)\n",
    "        \n",
    "        self.y_fc1 = nn.Linear(S, S)\n",
    "        self.y_fc2 = nn.Linear(S, S)\n",
    "        self.y_fc3 = nn.Linear(S, H)\n",
    "        \n",
    "        self.fc3 = nn.Linear(H, 1)\n",
    "        \n",
    "        self.conv1 = nn.Conv2d(1, out_channels, filter_size, padding=0, stride = filter_size)\n",
    "        \n",
    "        \n",
    "    def MI_net(self, x, y):\n",
    "        inter_x = x + F.relu(self.x_fc1(x))\n",
    "        inter_x = inter_x + F.relu(self.x_fc2(inter_x))\n",
    "        inter_x = self.x_fc3(inter_x)\n",
    "        \n",
    "        inter_y = y + F.relu(self.y_fc1(y))\n",
    "        inter_y = inter_y + F.relu(self.y_fc2(inter_y))\n",
    "        inter_y = self.y_fc3(inter_y)\n",
    "        \n",
    "        \n",
    "        h1 = F.relu(inter_x + inter_y)\n",
    "        h2 = self.fc3(h1)\n",
    "        return h2  \n",
    "    \n",
    "    def forward(self, x):\n",
    "        # coarse grain 27x27 model to get 9x9 model\n",
    "        x = (self.conv1(x))\n",
    "        \n",
    "        rectangle = []\n",
    "        # get a random 3x6 rectangle\n",
    "        for data in x:\n",
    "            i, j = np.random.randint(x.size()[2], size = 2) \n",
    "            rectangle.append( pad_circular(data[0], 6)[i:(i+3), j:(j+6)])\n",
    "            \n",
    "\n",
    "        rectangle = torch.stack(rectangle)\n",
    "        # separate rectangle into 2 patches of shape 3x3 \n",
    "        patch1 = rectangle[:, :3, :3].reshape(-1, 9)\n",
    "        patch2 = rectangle[:, :3, 3:].reshape(-1, 9)\n",
    "        patch2_shuffled = patch2[torch.randperm(patch2.shape[0])]\n",
    "        \n",
    "        # compute MI\n",
    "        pred_xy = self.MI_net(patch1, patch2)\n",
    "        pred_x_y = self.MI_net(patch1, patch2_shuffled)\n",
    "        ret = torch.mean(pred_xy) - torch.log(torch.mean(torch.exp(pred_x_y)))\n",
    "        return -ret\n",
    "        \n",
    "class IsingDataset(torch.utils.data.Dataset):\n",
    "    'Characterizes a dataset for PyTorch'\n",
    "    def __init__(self, arrs):\n",
    "        'Initialization'\n",
    "        self.arrs = torch.Tensor(arrs)\n",
    "\n",
    "    def __len__(self):\n",
    "        'Denotes the total number of samples'\n",
    "        return len(self.arrs)\n",
    "\n",
    "    def __getitem__(self, index):\n",
    "        'Generates one sample of data'\n",
    "        # Select sample\n",
    "        return self.arrs[index] \n",
    "    \n",
    "# Generators\n",
    "# Parameters\n",
    "params = {'batch_size': 64,\n",
    "          'shuffle': True,\n",
    "          'num_workers': 6}\n",
    "training_set = IsingDataset(arrs)\n",
    "training_generator = torch.utils.data.DataLoader(training_set, **params)\n",
    "\n",
    "model = Net()\n",
    "optimizer = torch.optim.SGD(model.parameters(), lr=0.002, momentum=0.9)\n",
    "plot_loss = []\n",
    "for epoch in tqdm(range(n_epoch)):\n",
    "    for batch_id, x in enumerate(training_generator):\n",
    "        loss = model(x)\n",
    "        plot_loss.append(loss.data.numpy())\n",
    "        model.zero_grad()\n",
    "        loss.backward()\n",
    "        optimizer.step()\n",
    "\n",
    "        \n",
    "        \n",
    "        "
   ]
  },
  {
   "cell_type": "code",
   "execution_count": null,
   "metadata": {},
   "outputs": [],
   "source": []
  },
  {
   "cell_type": "code",
   "execution_count": 15,
   "metadata": {},
   "outputs": [
    {
     "data": {
      "text/plain": [
       "[<matplotlib.lines.Line2D at 0x13079f550>]"
      ]
     },
     "execution_count": 15,
     "metadata": {},
     "output_type": "execute_result"
    },
    {
     "data": {
      "image/png": "[encoded data removed]",
      "text/plain": [
       "<Figure size 432x288 with 1 Axes>"
      ]
     },
     "metadata": {
      "needs_background": "light"
     },
     "output_type": "display_data"
    }
   ],
   "source": [
    "plt.plot(plot_loss)"
   ]
  },
  {
   "cell_type": "markdown",
   "metadata": {},
   "source": [
    "## Took 9x9 image from 2187x2187 equilibrium Ising with a 3x3 filter to Coarse-grain to 3x3\n",
    "\n",
    "Get 1x2 rectangles\n",
    "\n",
    "Use MINE to compute the MI of fine-grained model\n"
   ]
  },
  {
   "cell_type": "code",
   "execution_count": 3,
   "metadata": {},
   "outputs": [
    {
     "name": "stderr",
     "output_type": "stream",
     "text": [
      "100%|██████████| 100/100 [07:46<00:00,  4.66s/it]\n"
     ]
    }
   ],
   "source": [
    "from glob import glob\n",
    "import matplotlib.pyplot as plt\n",
    "from tqdm import tqdm\n",
    "import numpy as np\n",
    "arrs = []\n",
    "# for arr in tqdm(glob(\"../data_2187_1571810501/*\")[2500:5000]):\n",
    "#     z = np.load(arr)['arr_0']\n",
    "#     x, y = np.random.randint(2187, size=2)\n",
    "#     z = np.pad(z, pad_width=27, mode='wrap')[x:(x+27), y:(y+27)]\n",
    "#     arrs.append(z)\n",
    "# arrs = np.stack(arrs)\n",
    "\n",
    "arrs = np.load(\"./ising27x27from2187x2187.npy\")[:, None, :, :]\n",
    "arrs = np.pad(arrs, [(0, 0), (0, 0), (9, 9), (9, 9)], mode='wrap') \n",
    "\n",
    "import torch\n",
    "from torch.autograd import Variable\n",
    "import torch.nn as nn\n",
    "import torch.nn.functional as F\n",
    "S=9\n",
    "H=15\n",
    "n_epoch = 100\n",
    "data_size = 20000\n",
    "def pad_circular(x, pad):\n",
    "    \"\"\"\n",
    "    function inspired by https://github.com/pytorch/pytorch/issues/3858\n",
    "    :param x: shape [H, W]\n",
    "    :param pad: int >= 0\n",
    "    :return:\n",
    "    \"\"\"\n",
    "    x = torch.cat([x, x[0:pad]], dim=0)\n",
    "    x = torch.cat([x, x[:, 0:pad]], dim=1)\n",
    "    x = torch.cat([x[-2 * pad:-pad], x], dim=0)\n",
    "    x = torch.cat([x[:, -2 * pad:-pad], x], dim=1)\n",
    "\n",
    "    return x\n",
    "\n",
    "class Net(nn.Module):\n",
    "    def __init__(self, out_channels = 1, filter_size = 3):\n",
    "        super(Net, self).__init__()\n",
    "        \n",
    "        self.x_fc1 = nn.Linear(1, S)\n",
    "        self.x_fc2 = nn.Linear(S, S)\n",
    "        self.x_fc3 = nn.Linear(S, H)\n",
    "        \n",
    "        self.y_fc1 = nn.Linear(1, S)\n",
    "        self.y_fc2 = nn.Linear(S, S)\n",
    "        self.y_fc3 = nn.Linear(S, H)\n",
    "        \n",
    "        self.fc3 = nn.Linear(H, 1)\n",
    "        \n",
    "        self.conv1 = nn.Conv2d(1, out_channels, filter_size, padding=0, stride = filter_size)\n",
    "        \n",
    "        \n",
    "    def MI_net(self, x, y):\n",
    "        inter_x = F.relu(self.x_fc1(x))\n",
    "        inter_x = inter_x + F.relu(self.x_fc2(inter_x))\n",
    "        inter_x = self.x_fc3(inter_x)\n",
    "        \n",
    "        inter_y = F.relu(self.y_fc1(y))\n",
    "        inter_y = inter_y + F.relu(self.y_fc2(inter_y))\n",
    "        inter_y = self.y_fc3(inter_y)\n",
    "        \n",
    "        \n",
    "        h1 = F.relu(inter_x + inter_y)\n",
    "        h2 = self.fc3(h1)\n",
    "        return h2  \n",
    "    \n",
    "    def forward(self, x):\n",
    "        # get 9x9 model from 27x27 data: random crop\n",
    "        i, j = np.random.randint(9, size = 2) \n",
    "        x = x[:, :, i:(i+9),j:(j+9)]\n",
    "        \n",
    "        # coarse grain 9x9 model to get 3x3 model\n",
    "        x = (self.conv1(x))\n",
    "        \n",
    "        \n",
    "        rectangle = []\n",
    "        # get a random 1x2 rectangle\n",
    "        for data in x:\n",
    "            i, j = np.random.randint(3, size = 2) \n",
    "            rectangle.append( pad_circular(data[0], 2)[i, j:(j+2)])\n",
    "            \n",
    "\n",
    "        rectangle = torch.stack(rectangle)\n",
    "        # separate rectangle into 2 patches of shape 3x3 \n",
    "        patch1 = rectangle[:, 0].reshape(-1, 1)\n",
    "        patch2 = rectangle[:, 1].reshape(-1, 1)\n",
    "        patch2_shuffled = patch2[torch.randperm(patch2.shape[0])]\n",
    "        \n",
    "        # compute MI\n",
    "        pred_xy = self.MI_net(patch1, patch2)\n",
    "        pred_x_y = self.MI_net(patch1, patch2_shuffled)\n",
    "        ret = torch.mean(pred_xy) - torch.log(torch.mean(torch.exp(pred_x_y)))\n",
    "        return -ret\n",
    "        \n",
    "class IsingDataset(torch.utils.data.Dataset):\n",
    "    'Characterizes a dataset for PyTorch'\n",
    "    def __init__(self, arrs):\n",
    "        'Initialization'\n",
    "        self.arrs = torch.Tensor(arrs)\n",
    "\n",
    "    def __len__(self):\n",
    "        'Denotes the total number of samples'\n",
    "        return len(self.arrs)\n",
    "\n",
    "    def __getitem__(self, index):\n",
    "        'Generates one sample of data'\n",
    "        # Select sample\n",
    "        return self.arrs[index] \n",
    "    \n",
    "# Generators\n",
    "# Parameters\n",
    "params = {'batch_size': 256*2,\n",
    "          'shuffle': True,\n",
    "          'num_workers': 6}\n",
    "training_set = IsingDataset(arrs)\n",
    "training_generator = torch.utils.data.DataLoader(training_set, **params)\n",
    "\n",
    "model = Net()\n",
    "optimizer = torch.optim.SGD(model.parameters(), lr=0.002, momentum=0.9)\n",
    "plot_loss = []\n",
    "for epoch in tqdm(range(n_epoch)):\n",
    "    for batch_id, x in enumerate(training_generator):\n",
    "        loss = model(x)\n",
    "        plot_loss.append(loss.data.numpy())\n",
    "        model.zero_grad()\n",
    "        loss.backward()\n",
    "        optimizer.step()\n",
    "\n",
    "        \n",
    "        \n",
    "        "
   ]
  },
  {
   "cell_type": "code",
   "execution_count": 4,
   "metadata": {},
   "outputs": [
    {
     "data": {
      "text/plain": [
       "[<matplotlib.lines.Line2D at 0x109643080>]"
      ]
     },
     "execution_count": 4,
     "metadata": {},
     "output_type": "execute_result"
    },
    {
     "data": {
      "image/png": "[encoded data removed]",
      "text/plain": [
       "<Figure size 432x288 with 1 Axes>"
      ]
     },
     "metadata": {
      "needs_background": "light"
     },
     "output_type": "display_data"
    }
   ],
   "source": [
    "plt.plot(plot_loss)"
   ]
  },
  {
   "cell_type": "code",
   "execution_count": 5,
   "metadata": {},
   "outputs": [
    {
     "name": "stdout",
     "output_type": "stream",
     "text": [
      "Parameter containing:\n",
      "tensor([[ 0.1043],\n",
      "        [-0.8284],\n",
      "        [ 0.9019],\n",
      "        [-0.9890],\n",
      "        [ 0.4584],\n",
      "        [-0.2227],\n",
      "        [ 1.2554],\n",
      "        [-0.9664],\n",
      "        [ 0.0396]], requires_grad=True)\n",
      "Parameter containing:\n",
      "tensor([-0.5202, -0.8933, -0.7307, -0.2283, -1.0029, -0.1433,  0.7146,  0.4010,\n",
      "        -0.5881], requires_grad=True)\n",
      "Parameter containing:\n",
      "tensor([[-0.0329, -0.0754, -0.1579,  0.2204, -0.2755, -0.2265,  0.3373, -0.0868,\n",
      "         -0.0220],\n",
      "        [-0.2170,  0.2237,  0.2233,  0.2403, -0.1213, -0.0090, -0.1585,  0.1096,\n",
      "          0.0258],\n",
      "        [ 0.0992, -0.2315, -0.1148, -0.2129,  0.0866,  0.3263,  0.2691, -0.0777,\n",
      "         -0.0186],\n",
      "        [-0.2091, -0.1186,  0.0785, -0.1648, -0.3153, -0.1816,  0.1770,  0.1340,\n",
      "          0.3206],\n",
      "        [ 0.0693, -0.0296, -0.0012, -0.2913, -0.0744,  0.2439,  0.2045,  0.0983,\n",
      "         -0.0257],\n",
      "        [-0.0788, -0.0235,  0.1713,  0.1771, -0.2123,  0.1546, -0.1529,  0.0217,\n",
      "         -0.0858],\n",
      "        [ 0.2932, -0.1665, -0.2175, -0.3154,  0.1515, -0.1123,  0.3463, -0.3060,\n",
      "         -0.0458],\n",
      "        [-0.0368,  0.2488,  0.1269,  0.1532, -0.2652,  0.2410,  0.4249, -0.1150,\n",
      "          0.3017],\n",
      "        [-0.1458, -0.1996, -0.1581, -0.1787,  0.2895, -0.2681, -0.2998, -0.0987,\n",
      "          0.1217]], requires_grad=True)\n",
      "Parameter containing:\n",
      "tensor([ 0.2945, -0.2885, -0.3068, -0.3180, -0.0497,  0.1926,  0.0844,  0.1243,\n",
      "        -0.2870], requires_grad=True)\n",
      "Parameter containing:\n",
      "tensor([[-0.0081, -0.2573,  0.2447,  0.1504, -0.1263,  0.2261, -0.0258,  0.1097,\n",
      "          0.2599],\n",
      "        [-0.1515,  0.3196, -0.3050,  0.0933, -0.2973,  0.3192,  0.3891,  0.1776,\n",
      "         -0.0898],\n",
      "        [-0.3240, -0.3051, -0.1995, -0.0367,  0.1131,  0.1826, -0.5337, -0.2385,\n",
      "         -0.0974],\n",
      "        [-0.0840, -0.0824,  0.3237,  0.0469, -0.3008,  0.2691, -0.3159, -0.3407,\n",
      "          0.3113],\n",
      "        [-0.3071,  0.2314, -0.3258,  0.0516, -0.0129, -0.2815, -0.2405, -0.0305,\n",
      "         -0.3186],\n",
      "        [-0.0224, -0.0203, -0.1575, -0.3325,  0.2018,  0.2250, -0.1548, -0.2012,\n",
      "          0.1093],\n",
      "        [ 0.0869,  0.1929, -0.0699,  0.0469, -0.1139, -0.0179,  0.3815,  0.3282,\n",
      "         -0.1866],\n",
      "        [ 0.2612,  0.2542, -0.2550, -0.1229,  0.2177,  0.3078,  0.0668, -0.2782,\n",
      "         -0.0112],\n",
      "        [ 0.0531,  0.2323,  0.1261, -0.2221, -0.2225,  0.1263,  0.2627, -0.0389,\n",
      "         -0.0562],\n",
      "        [ 0.2733, -0.0255, -0.0142, -0.2833, -0.1452, -0.0031, -0.1884,  0.3025,\n",
      "          0.2516],\n",
      "        [-0.0565,  0.1824,  0.0198,  0.2966, -0.2292, -0.2061,  0.2262, -0.3087,\n",
      "          0.2850],\n",
      "        [ 0.2226, -0.2579,  0.2224, -0.0849,  0.0333,  0.2865, -0.3260, -0.0207,\n",
      "         -0.1895],\n",
      "        [-0.0016,  0.0465, -0.0986,  0.0116,  0.2391,  0.2371,  0.1838, -0.1650,\n",
      "          0.0745],\n",
      "        [ 0.2669, -0.0376,  0.1107, -0.2910,  0.0064,  0.1114,  0.0169, -0.1090,\n",
      "         -0.2356],\n",
      "        [ 0.2296, -0.2373,  0.2393, -0.2251, -0.1535,  0.1099,  0.4303,  0.1744,\n",
      "         -0.0529]], requires_grad=True)\n",
      "Parameter containing:\n",
      "tensor([ 0.2628, -0.1029, -0.2390,  0.0777,  0.0136, -0.0324, -0.1252,  0.0593,\n",
      "         0.1175,  0.3174, -0.3212,  0.0701,  0.1075,  0.0255, -0.0952],\n",
      "       requires_grad=True)\n",
      "Parameter containing:\n",
      "tensor([[-0.4419],\n",
      "        [ 0.1609],\n",
      "        [-0.9007],\n",
      "        [ 0.9696],\n",
      "        [-0.2820],\n",
      "        [-0.3296],\n",
      "        [-0.6582],\n",
      "        [ 0.4646],\n",
      "        [ 0.3894]], requires_grad=True)\n",
      "Parameter containing:\n",
      "tensor([-0.8343,  0.5798, -0.4439,  0.5456,  0.3186,  0.5765,  0.1031,  0.4466,\n",
      "         0.7606], requires_grad=True)\n",
      "Parameter containing:\n",
      "tensor([[-0.1830,  0.1356,  0.0101,  0.1228, -0.0434,  0.1767, -0.1896, -0.0799,\n",
      "          0.2176],\n",
      "        [-0.0297,  0.2675, -0.0666,  0.3054,  0.1776, -0.3362, -0.1183,  0.1620,\n",
      "          0.2962],\n",
      "        [ 0.2771, -0.0144, -0.2119,  0.0349,  0.0510,  0.1392,  0.2048,  0.3342,\n",
      "          0.0788],\n",
      "        [ 0.2770, -0.2675,  0.2053,  0.3466,  0.1956, -0.3025,  0.0053,  0.1649,\n",
      "          0.0408],\n",
      "        [-0.0237, -0.1600, -0.1607, -0.0044,  0.0595, -0.2964, -0.2063,  0.2149,\n",
      "         -0.2569],\n",
      "        [-0.0852, -0.2617,  0.0773,  0.0998, -0.2230, -0.1983,  0.0903, -0.0169,\n",
      "         -0.2191],\n",
      "        [ 0.1403, -0.2009,  0.2435, -0.0674, -0.0143,  0.1747, -0.0418,  0.1517,\n",
      "         -0.1436],\n",
      "        [ 0.0100,  0.2408, -0.1283,  0.2235,  0.0301, -0.1154, -0.1342,  0.3271,\n",
      "          0.1014],\n",
      "        [-0.2605,  0.3088, -0.0595, -0.2199, -0.2553,  0.0790,  0.1107, -0.0147,\n",
      "         -0.2163]], requires_grad=True)\n",
      "Parameter containing:\n",
      "tensor([-0.1865, -0.3187,  0.1415, -0.2445,  0.2587, -0.0019,  0.3080, -0.3263,\n",
      "        -0.1016], requires_grad=True)\n",
      "Parameter containing:\n",
      "tensor([[-0.3299,  0.0464,  0.1057, -0.1710,  0.3282,  0.2444,  0.3045, -0.2033,\n",
      "          0.2488],\n",
      "        [-0.0447,  0.1568,  0.2838, -0.0096, -0.3010,  0.2118, -0.0948,  0.1304,\n",
      "          0.2553],\n",
      "        [ 0.2393,  0.4107,  0.2658,  0.4529, -0.2630, -0.1251, -0.1558,  0.1945,\n",
      "          0.2582],\n",
      "        [-0.0059,  0.1429,  0.2547,  0.2019,  0.0749, -0.0622,  0.0654, -0.2487,\n",
      "          0.0166],\n",
      "        [ 0.2856, -0.1855, -0.1646, -0.0944, -0.1848,  0.0886,  0.0946, -0.2727,\n",
      "          0.1255],\n",
      "        [-0.0665, -0.1919, -0.1569, -0.2139, -0.0920,  0.1805,  0.0201, -0.1640,\n",
      "         -0.0109],\n",
      "        [-0.3149, -0.2677, -0.0169, -0.3165, -0.2460, -0.1910,  0.0609, -0.0602,\n",
      "          0.1464],\n",
      "        [-0.2174,  0.0908, -0.2029,  0.1659,  0.2053,  0.0218,  0.0812,  0.2896,\n",
      "          0.1956],\n",
      "        [-0.0560,  0.1610, -0.1352,  0.1959, -0.2111,  0.0904,  0.2082, -0.2696,\n",
      "          0.1374],\n",
      "        [ 0.0746, -0.0328,  0.3377,  0.3665, -0.2023, -0.0871, -0.2847,  0.1658,\n",
      "          0.3389],\n",
      "        [ 0.1791,  0.2600,  0.0585, -0.2395,  0.2655, -0.0526,  0.2891, -0.3032,\n",
      "         -0.2637],\n",
      "        [ 0.0436, -0.2008,  0.0366,  0.0347, -0.3142, -0.2191, -0.0484, -0.0936,\n",
      "          0.2308],\n",
      "        [-0.1231,  0.1021,  0.1181,  0.1931, -0.0499,  0.0113,  0.2209,  0.2688,\n",
      "          0.2324],\n",
      "        [ 0.1925, -0.1052, -0.0212, -0.2905,  0.0878, -0.3107, -0.0785,  0.2470,\n",
      "          0.1014],\n",
      "        [-0.2478, -0.0283, -0.0749, -0.3059, -0.0727, -0.0198, -0.2720, -0.2682,\n",
      "         -0.1237]], requires_grad=True)\n",
      "Parameter containing:\n",
      "tensor([ 0.2317, -0.0631,  0.1412, -0.1990, -0.2052,  0.1074, -0.1105, -0.0554,\n",
      "         0.1002, -0.1938, -0.0438,  0.1162,  0.1511,  0.1879, -0.1017],\n",
      "       requires_grad=True)\n",
      "Parameter containing:\n",
      "tensor([[-0.1691, -0.1642, -0.8714,  0.0872,  0.1224, -0.1361, -0.2964,  0.2346,\n",
      "         -0.0106,  0.2887,  0.2152, -0.0927, -0.0993, -0.0941, -0.4320]],\n",
      "       requires_grad=True)\n",
      "Parameter containing:\n",
      "tensor([0.2477], requires_grad=True)\n",
      "Parameter containing:\n",
      "tensor([[[[0.3957, 0.2425, 0.3802],\n",
      "          [0.4292, 0.0601, 0.4291],\n",
      "          [0.5765, 0.3336, 0.5983]]]], requires_grad=True)\n",
      "Parameter containing:\n",
      "tensor([0.1802], requires_grad=True)\n"
     ]
    }
   ],
   "source": [
    "for p in model.parameters():\n",
    "    print(p)"
   ]
  },
  {
   "cell_type": "code",
   "execution_count": 6,
   "metadata": {},
   "outputs": [
    {
     "name": "stderr",
     "output_type": "stream",
     "text": [
      "100%|██████████| 100/100 [03:03<00:00,  1.83s/it]\n"
     ]
    }
   ],
   "source": [
    "eval_loss = []\n",
    "for epoch in tqdm(range(n_epoch)):\n",
    "    for batch_id, x in enumerate(training_generator):\n",
    "        loss = model(x)\n",
    "        eval_loss.append(loss.data.numpy())\n",
    "        "
   ]
  },
  {
   "cell_type": "code",
   "execution_count": 8,
   "metadata": {},
   "outputs": [
    {
     "data": {
      "text/plain": [
       "Text(0.5, 1.0, 'Mean: -0.27722856402397156, Std: 0.07727522403001785')"
      ]
     },
     "execution_count": 8,
     "metadata": {},
     "output_type": "execute_result"
    },
    {
     "data": {
      "image/png": "[encoded data removed]",
      "text/plain": [
       "<Figure size 432x288 with 1 Axes>"
      ]
     },
     "metadata": {
      "needs_background": "light"
     },
     "output_type": "display_data"
    }
   ],
   "source": [
    "plt.hist(eval_loss)\n",
    "plt.title(f\"Mean: {np.mean(eval_loss)}, Std: {np.std(eval_loss)}\")"
   ]
  },
  {
   "cell_type": "markdown",
   "metadata": {},
   "source": [
    "## 2 channels"
   ]
  },
  {
   "cell_type": "code",
   "execution_count": 7,
   "metadata": {},
   "outputs": [
    {
     "name": "stderr",
     "output_type": "stream",
     "text": [
      "  1%|          | 1/100 [00:10<16:39, 10.10s/it]"
     ]
    },
    {
     "name": "stdout",
     "output_type": "stream",
     "text": [
      "Yes interaction MI: Loss (tensor(0.0010, grad_fn=<NegBackward>), tensor(-0.0020, grad_fn=<SubBackward0>), tensor(-0.0008, grad_fn=<SubBackward0>), tensor(-0.0018, grad_fn=<SubBackward0>))\n"
     ]
    },
    {
     "name": "stderr",
     "output_type": "stream",
     "text": [
      "\r",
      "  2%|▏         | 2/100 [00:20<16:28, 10.09s/it]"
     ]
    },
    {
     "name": "stdout",
     "output_type": "stream",
     "text": [
      "Yes interaction MI: Loss (tensor(-0.0004, grad_fn=<NegBackward>), tensor(-0.0012, grad_fn=<SubBackward0>), tensor(-0.0007, grad_fn=<SubBackward0>), tensor(-0.0023, grad_fn=<SubBackward0>))\n"
     ]
    },
    {
     "name": "stderr",
     "output_type": "stream",
     "text": [
      "\r",
      "  3%|▎         | 3/100 [00:30<16:19, 10.09s/it]"
     ]
    },
    {
     "name": "stdout",
     "output_type": "stream",
     "text": [
      "Yes interaction MI: Loss (tensor(-0.0009, grad_fn=<NegBackward>), tensor(-0.0010, grad_fn=<SubBackward0>), tensor(-0.0004, grad_fn=<SubBackward0>), tensor(-0.0024, grad_fn=<SubBackward0>))\n"
     ]
    },
    {
     "name": "stderr",
     "output_type": "stream",
     "text": [
      "\r",
      "  4%|▍         | 4/100 [00:40<16:18, 10.19s/it]"
     ]
    },
    {
     "name": "stdout",
     "output_type": "stream",
     "text": [
      "Yes interaction MI: Loss (tensor(0.0002, grad_fn=<NegBackward>), tensor(-0.0017, grad_fn=<SubBackward0>), tensor(-0.0004, grad_fn=<SubBackward0>), tensor(-0.0019, grad_fn=<SubBackward0>))\n"
     ]
    },
    {
     "name": "stderr",
     "output_type": "stream",
     "text": [
      "\r",
      "  5%|▌         | 5/100 [00:50<16:11, 10.22s/it]"
     ]
    },
    {
     "name": "stdout",
     "output_type": "stream",
     "text": [
      "Yes interaction MI: Loss (tensor(-0.0017, grad_fn=<NegBackward>), tensor(-0.0013, grad_fn=<SubBackward0>), tensor(-0.0002, grad_fn=<SubBackward0>), tensor(-0.0032, grad_fn=<SubBackward0>))\n"
     ]
    },
    {
     "name": "stderr",
     "output_type": "stream",
     "text": [
      "\r",
      "  6%|▌         | 6/100 [01:01<16:00, 10.22s/it]"
     ]
    },
    {
     "name": "stdout",
     "output_type": "stream",
     "text": [
      "Yes interaction MI: Loss (tensor(-0.0010, grad_fn=<NegBackward>), tensor(-0.0012, grad_fn=<SubBackward0>), tensor(0.0006, grad_fn=<SubBackward0>), tensor(-0.0017, grad_fn=<SubBackward0>))\n"
     ]
    },
    {
     "name": "stderr",
     "output_type": "stream",
     "text": [
      "\r",
      "  7%|▋         | 7/100 [01:11<15:50, 10.22s/it]"
     ]
    },
    {
     "name": "stdout",
     "output_type": "stream",
     "text": [
      "Yes interaction MI: Loss (tensor(-0.0015, grad_fn=<NegBackward>), tensor(-0.0013, grad_fn=<SubBackward0>), tensor(0.0002, grad_fn=<SubBackward0>), tensor(-0.0026, grad_fn=<SubBackward0>))\n"
     ]
    },
    {
     "name": "stderr",
     "output_type": "stream",
     "text": [
      "\r",
      "  8%|▊         | 8/100 [01:21<15:41, 10.23s/it]"
     ]
    },
    {
     "name": "stdout",
     "output_type": "stream",
     "text": [
      "Yes interaction MI: Loss (tensor(-0.0007, grad_fn=<NegBackward>), tensor(-0.0014, grad_fn=<SubBackward0>), tensor(8.4817e-05, grad_fn=<SubBackward0>), tensor(-0.0021, grad_fn=<SubBackward0>))\n"
     ]
    },
    {
     "name": "stderr",
     "output_type": "stream",
     "text": [
      "\r",
      "  9%|▉         | 9/100 [01:31<15:21, 10.13s/it]"
     ]
    },
    {
     "name": "stdout",
     "output_type": "stream",
     "text": [
      "Yes interaction MI: Loss (tensor(-0.0007, grad_fn=<NegBackward>), tensor(-0.0016, grad_fn=<SubBackward0>), tensor(5.5313e-05, grad_fn=<SubBackward0>), tensor(-0.0023, grad_fn=<SubBackward0>))\n"
     ]
    },
    {
     "name": "stderr",
     "output_type": "stream",
     "text": [
      "\r",
      " 10%|█         | 10/100 [01:41<15:14, 10.16s/it]"
     ]
    },
    {
     "name": "stdout",
     "output_type": "stream",
     "text": [
      "Yes interaction MI: Loss (tensor(-0.0017, grad_fn=<NegBackward>), tensor(-0.0013, grad_fn=<SubBackward0>), tensor(0.0002, grad_fn=<SubBackward0>), tensor(-0.0028, grad_fn=<SubBackward0>))\n"
     ]
    },
    {
     "name": "stderr",
     "output_type": "stream",
     "text": [
      "\r",
      " 11%|█         | 11/100 [01:52<15:09, 10.22s/it]"
     ]
    },
    {
     "name": "stdout",
     "output_type": "stream",
     "text": [
      "Yes interaction MI: Loss (tensor(-0.0019, grad_fn=<NegBackward>), tensor(-0.0013, grad_fn=<SubBackward0>), tensor(-0.0003, grad_fn=<SubBackward0>), tensor(-0.0035, grad_fn=<SubBackward0>))\n"
     ]
    },
    {
     "name": "stderr",
     "output_type": "stream",
     "text": [
      "\r",
      " 12%|█▏        | 12/100 [02:02<14:57, 10.20s/it]"
     ]
    },
    {
     "name": "stdout",
     "output_type": "stream",
     "text": [
      "Yes interaction MI: Loss (tensor(-0.0027, grad_fn=<NegBackward>), tensor(-0.0008, grad_fn=<SubBackward0>), tensor(-0.0003, grad_fn=<SubBackward0>), tensor(-0.0037, grad_fn=<SubBackward0>))\n"
     ]
    },
    {
     "name": "stderr",
     "output_type": "stream",
     "text": [
      "\r",
      " 13%|█▎        | 13/100 [02:12<14:45, 10.18s/it]"
     ]
    },
    {
     "name": "stdout",
     "output_type": "stream",
     "text": [
      "Yes interaction MI: Loss (tensor(-0.0019, grad_fn=<NegBackward>), tensor(-0.0009, grad_fn=<SubBackward0>), tensor(3.3915e-05, grad_fn=<SubBackward0>), tensor(-0.0028, grad_fn=<SubBackward0>))\n"
     ]
    },
    {
     "name": "stderr",
     "output_type": "stream",
     "text": [
      "\r",
      " 14%|█▍        | 14/100 [02:22<14:41, 10.25s/it]"
     ]
    },
    {
     "name": "stdout",
     "output_type": "stream",
     "text": [
      "Yes interaction MI: Loss (tensor(-0.0028, grad_fn=<NegBackward>), tensor(-0.0007, grad_fn=<SubBackward0>), tensor(4.4733e-05, grad_fn=<SubBackward0>), tensor(-0.0034, grad_fn=<SubBackward0>))\n"
     ]
    },
    {
     "name": "stderr",
     "output_type": "stream",
     "text": [
      "\r",
      " 15%|█▌        | 15/100 [02:32<14:23, 10.16s/it]"
     ]
    },
    {
     "name": "stdout",
     "output_type": "stream",
     "text": [
      "Yes interaction MI: Loss (tensor(-0.0023, grad_fn=<NegBackward>), tensor(-0.0011, grad_fn=<SubBackward0>), tensor(-0.0001, grad_fn=<SubBackward0>), tensor(-0.0035, grad_fn=<SubBackward0>))\n"
     ]
    },
    {
     "name": "stderr",
     "output_type": "stream",
     "text": [
      "\r",
      " 16%|█▌        | 16/100 [02:43<14:14, 10.18s/it]"
     ]
    },
    {
     "name": "stdout",
     "output_type": "stream",
     "text": [
      "Yes interaction MI: Loss (tensor(-0.0022, grad_fn=<NegBackward>), tensor(-0.0008, grad_fn=<SubBackward0>), tensor(-6.5267e-05, grad_fn=<SubBackward0>), tensor(-0.0030, grad_fn=<SubBackward0>))\n"
     ]
    },
    {
     "name": "stderr",
     "output_type": "stream",
     "text": [
      "\r",
      " 17%|█▋        | 17/100 [02:54<14:26, 10.44s/it]"
     ]
    },
    {
     "name": "stdout",
     "output_type": "stream",
     "text": [
      "Yes interaction MI: Loss (tensor(-0.0017, grad_fn=<NegBackward>), tensor(-0.0008, grad_fn=<SubBackward0>), tensor(0.0001, grad_fn=<SubBackward0>), tensor(-0.0023, grad_fn=<SubBackward0>))\n"
     ]
    },
    {
     "name": "stderr",
     "output_type": "stream",
     "text": [
      "\r",
      " 18%|█▊        | 18/100 [03:04<14:11, 10.38s/it]"
     ]
    },
    {
     "name": "stdout",
     "output_type": "stream",
     "text": [
      "Yes interaction MI: Loss (tensor(-0.0026, grad_fn=<NegBackward>), tensor(-0.0011, grad_fn=<SubBackward0>), tensor(5.4210e-05, grad_fn=<SubBackward0>), tensor(-0.0037, grad_fn=<SubBackward0>))\n"
     ]
    },
    {
     "name": "stderr",
     "output_type": "stream",
     "text": [
      "\r",
      " 19%|█▉        | 19/100 [03:14<13:56, 10.32s/it]"
     ]
    },
    {
     "name": "stdout",
     "output_type": "stream",
     "text": [
      "Yes interaction MI: Loss (tensor(-0.0024, grad_fn=<NegBackward>), tensor(-0.0007, grad_fn=<SubBackward0>), tensor(-3.1263e-05, grad_fn=<SubBackward0>), tensor(-0.0031, grad_fn=<SubBackward0>))\n"
     ]
    },
    {
     "name": "stderr",
     "output_type": "stream",
     "text": [
      "\r",
      " 20%|██        | 20/100 [03:24<13:44, 10.31s/it]"
     ]
    },
    {
     "name": "stdout",
     "output_type": "stream",
     "text": [
      "Yes interaction MI: Loss (tensor(-0.0028, grad_fn=<NegBackward>), tensor(-0.0008, grad_fn=<SubBackward0>), tensor(0.0002, grad_fn=<SubBackward0>), tensor(-0.0033, grad_fn=<SubBackward0>))\n"
     ]
    },
    {
     "name": "stderr",
     "output_type": "stream",
     "text": [
      "\r",
      " 21%|██        | 21/100 [03:35<13:34, 10.32s/it]"
     ]
    },
    {
     "name": "stdout",
     "output_type": "stream",
     "text": [
      "Yes interaction MI: Loss (tensor(-0.0029, grad_fn=<NegBackward>), tensor(-0.0004, grad_fn=<SubBackward0>), tensor(-2.9117e-05, grad_fn=<SubBackward0>), tensor(-0.0032, grad_fn=<SubBackward0>))\n"
     ]
    },
    {
     "name": "stderr",
     "output_type": "stream",
     "text": [
      "\r",
      " 22%|██▏       | 22/100 [03:45<13:21, 10.28s/it]"
     ]
    },
    {
     "name": "stdout",
     "output_type": "stream",
     "text": [
      "Yes interaction MI: Loss (tensor(-0.0029, grad_fn=<NegBackward>), tensor(-0.0007, grad_fn=<SubBackward0>), tensor(5.4866e-05, grad_fn=<SubBackward0>), tensor(-0.0035, grad_fn=<SubBackward0>))\n"
     ]
    },
    {
     "name": "stderr",
     "output_type": "stream",
     "text": [
      "\r",
      " 23%|██▎       | 23/100 [03:55<13:10, 10.26s/it]"
     ]
    },
    {
     "name": "stdout",
     "output_type": "stream",
     "text": [
      "Yes interaction MI: Loss (tensor(-0.0029, grad_fn=<NegBackward>), tensor(-0.0012, grad_fn=<SubBackward0>), tensor(7.4714e-05, grad_fn=<SubBackward0>), tensor(-0.0040, grad_fn=<SubBackward0>))\n"
     ]
    },
    {
     "name": "stderr",
     "output_type": "stream",
     "text": [
      "\r",
      " 24%|██▍       | 24/100 [04:05<12:53, 10.18s/it]"
     ]
    },
    {
     "name": "stdout",
     "output_type": "stream",
     "text": [
      "Yes interaction MI: Loss (tensor(-0.0024, grad_fn=<NegBackward>), tensor(-0.0004, grad_fn=<SubBackward0>), tensor(0.0003, grad_fn=<SubBackward0>), tensor(-0.0025, grad_fn=<SubBackward0>))\n"
     ]
    },
    {
     "name": "stderr",
     "output_type": "stream",
     "text": [
      "\r",
      " 25%|██▌       | 25/100 [04:15<12:40, 10.15s/it]"
     ]
    },
    {
     "name": "stdout",
     "output_type": "stream",
     "text": [
      "Yes interaction MI: Loss (tensor(-0.0031, grad_fn=<NegBackward>), tensor(-0.0004, grad_fn=<SubBackward0>), tensor(0.0001, grad_fn=<SubBackward0>), tensor(-0.0034, grad_fn=<SubBackward0>))\n"
     ]
    },
    {
     "name": "stderr",
     "output_type": "stream",
     "text": [
      "\r",
      " 26%|██▌       | 26/100 [04:25<12:32, 10.17s/it]"
     ]
    },
    {
     "name": "stdout",
     "output_type": "stream",
     "text": [
      "Yes interaction MI: Loss (tensor(-0.0036, grad_fn=<NegBackward>), tensor(-5.3488e-05, grad_fn=<SubBackward0>), tensor(0.0004, grad_fn=<SubBackward0>), tensor(-0.0033, grad_fn=<SubBackward0>))\n"
     ]
    },
    {
     "name": "stderr",
     "output_type": "stream",
     "text": [
      "\r",
      " 27%|██▋       | 27/100 [04:36<12:24, 10.20s/it]"
     ]
    },
    {
     "name": "stdout",
     "output_type": "stream",
     "text": [
      "Yes interaction MI: Loss (tensor(-0.0027, grad_fn=<NegBackward>), tensor(-0.0004, grad_fn=<SubBackward0>), tensor(4.4495e-05, grad_fn=<SubBackward0>), tensor(-0.0030, grad_fn=<SubBackward0>))\n"
     ]
    },
    {
     "name": "stderr",
     "output_type": "stream",
     "text": [
      "\r",
      " 28%|██▊       | 28/100 [04:46<12:14, 10.20s/it]"
     ]
    },
    {
     "name": "stdout",
     "output_type": "stream",
     "text": [
      "Yes interaction MI: Loss (tensor(-0.0033, grad_fn=<NegBackward>), tensor(-0.0009, grad_fn=<SubBackward0>), tensor(-0.0002, grad_fn=<SubBackward0>), tensor(-0.0045, grad_fn=<SubBackward0>))\n"
     ]
    },
    {
     "name": "stderr",
     "output_type": "stream",
     "text": [
      "\r",
      " 29%|██▉       | 29/100 [04:56<11:58, 10.12s/it]"
     ]
    },
    {
     "name": "stdout",
     "output_type": "stream",
     "text": [
      "Yes interaction MI: Loss (tensor(-0.0032, grad_fn=<NegBackward>), tensor(-0.0011, grad_fn=<SubBackward0>), tensor(-0.0001, grad_fn=<SubBackward0>), tensor(-0.0045, grad_fn=<SubBackward0>))\n"
     ]
    },
    {
     "name": "stderr",
     "output_type": "stream",
     "text": [
      "\r",
      " 30%|███       | 30/100 [05:06<11:43, 10.05s/it]"
     ]
    },
    {
     "name": "stdout",
     "output_type": "stream",
     "text": [
      "Yes interaction MI: Loss (tensor(-0.0022, grad_fn=<NegBackward>), tensor(-0.0009, grad_fn=<SubBackward0>), tensor(3.8147e-05, grad_fn=<SubBackward0>), tensor(-0.0031, grad_fn=<SubBackward0>))\n"
     ]
    },
    {
     "name": "stderr",
     "output_type": "stream",
     "text": [
      "\r",
      " 31%|███       | 31/100 [05:16<11:37, 10.11s/it]"
     ]
    },
    {
     "name": "stdout",
     "output_type": "stream",
     "text": [
      "Yes interaction MI: Loss (tensor(-0.0028, grad_fn=<NegBackward>), tensor(-0.0010, grad_fn=<SubBackward0>), tensor(-0.0002, grad_fn=<SubBackward0>), tensor(-0.0040, grad_fn=<SubBackward0>))\n"
     ]
    },
    {
     "name": "stderr",
     "output_type": "stream",
     "text": [
      "\r",
      " 32%|███▏      | 32/100 [05:26<11:28, 10.12s/it]"
     ]
    },
    {
     "name": "stdout",
     "output_type": "stream",
     "text": [
      "Yes interaction MI: Loss (tensor(-0.0027, grad_fn=<NegBackward>), tensor(-0.0006, grad_fn=<SubBackward0>), tensor(5.8323e-05, grad_fn=<SubBackward0>), tensor(-0.0033, grad_fn=<SubBackward0>))\n"
     ]
    },
    {
     "name": "stderr",
     "output_type": "stream",
     "text": [
      "\r",
      " 33%|███▎      | 33/100 [05:36<11:13, 10.06s/it]"
     ]
    },
    {
     "name": "stdout",
     "output_type": "stream",
     "text": [
      "Yes interaction MI: Loss (tensor(-0.0030, grad_fn=<NegBackward>), tensor(-4.6916e-05, grad_fn=<SubBackward0>), tensor(-0.0003, grad_fn=<SubBackward0>), tensor(-0.0033, grad_fn=<SubBackward0>))\n"
     ]
    },
    {
     "name": "stderr",
     "output_type": "stream",
     "text": [
      "\r",
      " 34%|███▍      | 34/100 [05:46<11:00, 10.01s/it]"
     ]
    },
    {
     "name": "stdout",
     "output_type": "stream",
     "text": [
      "Yes interaction MI: Loss (tensor(-0.0034, grad_fn=<NegBackward>), tensor(-0.0004, grad_fn=<SubBackward0>), tensor(0.0001, grad_fn=<SubBackward0>), tensor(-0.0036, grad_fn=<SubBackward0>))\n"
     ]
    },
    {
     "name": "stderr",
     "output_type": "stream",
     "text": [
      "\r",
      " 35%|███▌      | 35/100 [05:56<10:53, 10.06s/it]"
     ]
    },
    {
     "name": "stdout",
     "output_type": "stream",
     "text": [
      "Yes interaction MI: Loss (tensor(-0.0026, grad_fn=<NegBackward>), tensor(-0.0005, grad_fn=<SubBackward0>), tensor(-0.0003, grad_fn=<SubBackward0>), tensor(-0.0033, grad_fn=<SubBackward0>))\n"
     ]
    },
    {
     "name": "stderr",
     "output_type": "stream",
     "text": [
      "\r",
      " 36%|███▌      | 36/100 [06:06<10:45, 10.08s/it]"
     ]
    },
    {
     "name": "stdout",
     "output_type": "stream",
     "text": [
      "Yes interaction MI: Loss (tensor(-0.0035, grad_fn=<NegBackward>), tensor(-0.0006, grad_fn=<SubBackward0>), tensor(-0.0002, grad_fn=<SubBackward0>), tensor(-0.0044, grad_fn=<SubBackward0>))\n"
     ]
    },
    {
     "name": "stderr",
     "output_type": "stream",
     "text": [
      "\r",
      " 37%|███▋      | 37/100 [06:16<10:39, 10.15s/it]"
     ]
    },
    {
     "name": "stdout",
     "output_type": "stream",
     "text": [
      "Yes interaction MI: Loss (tensor(-0.0025, grad_fn=<NegBackward>), tensor(-0.0004, grad_fn=<SubBackward0>), tensor(-7.8231e-05, grad_fn=<SubBackward0>), tensor(-0.0031, grad_fn=<SubBackward0>))\n"
     ]
    },
    {
     "name": "stderr",
     "output_type": "stream",
     "text": [
      "\r",
      " 38%|███▊      | 38/100 [06:26<10:24, 10.07s/it]"
     ]
    },
    {
     "name": "stdout",
     "output_type": "stream",
     "text": [
      "Yes interaction MI: Loss (tensor(-0.0037, grad_fn=<NegBackward>), tensor(-0.0005, grad_fn=<SubBackward0>), tensor(-0.0002, grad_fn=<SubBackward0>), tensor(-0.0043, grad_fn=<SubBackward0>))\n"
     ]
    },
    {
     "name": "stderr",
     "output_type": "stream",
     "text": [
      "\r",
      " 39%|███▉      | 39/100 [06:37<10:17, 10.13s/it]"
     ]
    },
    {
     "name": "stdout",
     "output_type": "stream",
     "text": [
      "Yes interaction MI: Loss (tensor(-0.0029, grad_fn=<NegBackward>), tensor(-0.0005, grad_fn=<SubBackward0>), tensor(0.0001, grad_fn=<SubBackward0>), tensor(-0.0033, grad_fn=<SubBackward0>))\n"
     ]
    },
    {
     "name": "stderr",
     "output_type": "stream",
     "text": [
      "\r",
      " 40%|████      | 40/100 [06:47<10:12, 10.20s/it]"
     ]
    },
    {
     "name": "stdout",
     "output_type": "stream",
     "text": [
      "Yes interaction MI: Loss (tensor(-0.0029, grad_fn=<NegBackward>), tensor(-0.0006, grad_fn=<SubBackward0>), tensor(-3.3677e-06, grad_fn=<SubBackward0>), tensor(-0.0035, grad_fn=<SubBackward0>))\n"
     ]
    },
    {
     "name": "stderr",
     "output_type": "stream",
     "text": [
      "\r",
      " 41%|████      | 41/100 [06:57<09:59, 10.16s/it]"
     ]
    },
    {
     "name": "stdout",
     "output_type": "stream",
     "text": [
      "Yes interaction MI: Loss (tensor(-0.0037, grad_fn=<NegBackward>), tensor(-0.0007, grad_fn=<SubBackward0>), tensor(-0.0002, grad_fn=<SubBackward0>), tensor(-0.0047, grad_fn=<SubBackward0>))\n"
     ]
    },
    {
     "name": "stderr",
     "output_type": "stream",
     "text": [
      "\r",
      " 42%|████▏     | 42/100 [07:07<09:45, 10.10s/it]"
     ]
    },
    {
     "name": "stdout",
     "output_type": "stream",
     "text": [
      "Yes interaction MI: Loss (tensor(-0.0034, grad_fn=<NegBackward>), tensor(-0.0011, grad_fn=<SubBackward0>), tensor(-0.0002, grad_fn=<SubBackward0>), tensor(-0.0047, grad_fn=<SubBackward0>))\n"
     ]
    },
    {
     "name": "stderr",
     "output_type": "stream",
     "text": [
      "\r",
      " 43%|████▎     | 43/100 [07:17<09:27,  9.96s/it]"
     ]
    },
    {
     "name": "stdout",
     "output_type": "stream",
     "text": [
      "Yes interaction MI: Loss (tensor(-0.0031, grad_fn=<NegBackward>), tensor(-0.0005, grad_fn=<SubBackward0>), tensor(-5.1886e-05, grad_fn=<SubBackward0>), tensor(-0.0036, grad_fn=<SubBackward0>))\n"
     ]
    },
    {
     "name": "stderr",
     "output_type": "stream",
     "text": [
      "\r",
      " 44%|████▍     | 44/100 [07:27<09:22, 10.04s/it]"
     ]
    },
    {
     "name": "stdout",
     "output_type": "stream",
     "text": [
      "Yes interaction MI: Loss (tensor(-0.0025, grad_fn=<NegBackward>), tensor(-0.0003, grad_fn=<SubBackward0>), tensor(-0.0003, grad_fn=<SubBackward0>), tensor(-0.0031, grad_fn=<SubBackward0>))\n"
     ]
    },
    {
     "name": "stderr",
     "output_type": "stream",
     "text": [
      "\r",
      " 45%|████▌     | 45/100 [07:37<09:13, 10.06s/it]"
     ]
    },
    {
     "name": "stdout",
     "output_type": "stream",
     "text": [
      "Yes interaction MI: Loss (tensor(-0.0035, grad_fn=<NegBackward>), tensor(-0.0005, grad_fn=<SubBackward0>), tensor(-0.0004, grad_fn=<SubBackward0>), tensor(-0.0044, grad_fn=<SubBackward0>))\n"
     ]
    },
    {
     "name": "stderr",
     "output_type": "stream",
     "text": [
      "\r",
      " 46%|████▌     | 46/100 [07:47<09:03, 10.07s/it]"
     ]
    },
    {
     "name": "stdout",
     "output_type": "stream",
     "text": [
      "Yes interaction MI: Loss (tensor(-0.0035, grad_fn=<NegBackward>), tensor(-0.0003, grad_fn=<SubBackward0>), tensor(0.0004, grad_fn=<SubBackward0>), tensor(-0.0034, grad_fn=<SubBackward0>))\n"
     ]
    },
    {
     "name": "stderr",
     "output_type": "stream",
     "text": [
      "\r",
      " 47%|████▋     | 47/100 [07:57<08:56, 10.12s/it]"
     ]
    },
    {
     "name": "stdout",
     "output_type": "stream",
     "text": [
      "Yes interaction MI: Loss (tensor(-0.0037, grad_fn=<NegBackward>), tensor(-0.0003, grad_fn=<SubBackward0>), tensor(-0.0004, grad_fn=<SubBackward0>), tensor(-0.0044, grad_fn=<SubBackward0>))\n"
     ]
    },
    {
     "name": "stderr",
     "output_type": "stream",
     "text": [
      "\r",
      " 48%|████▊     | 48/100 [08:07<08:44, 10.09s/it]"
     ]
    },
    {
     "name": "stdout",
     "output_type": "stream",
     "text": [
      "Yes interaction MI: Loss (tensor(-0.0030, grad_fn=<NegBackward>), tensor(-0.0003, grad_fn=<SubBackward0>), tensor(0.0002, grad_fn=<SubBackward0>), tensor(-0.0031, grad_fn=<SubBackward0>))\n"
     ]
    },
    {
     "name": "stderr",
     "output_type": "stream",
     "text": [
      "\r",
      " 49%|████▉     | 49/100 [08:17<08:31, 10.04s/it]"
     ]
    },
    {
     "name": "stdout",
     "output_type": "stream",
     "text": [
      "Yes interaction MI: Loss (tensor(-0.0033, grad_fn=<NegBackward>), tensor(-0.0004, grad_fn=<SubBackward0>), tensor(0.0002, grad_fn=<SubBackward0>), tensor(-0.0035, grad_fn=<SubBackward0>))\n"
     ]
    },
    {
     "name": "stderr",
     "output_type": "stream",
     "text": [
      "\r",
      " 50%|█████     | 50/100 [08:27<08:22, 10.06s/it]"
     ]
    },
    {
     "name": "stdout",
     "output_type": "stream",
     "text": [
      "Yes interaction MI: Loss (tensor(-0.0035, grad_fn=<NegBackward>), tensor(-0.0007, grad_fn=<SubBackward0>), tensor(2.6822e-05, grad_fn=<SubBackward0>), tensor(-0.0042, grad_fn=<SubBackward0>))\n"
     ]
    },
    {
     "name": "stderr",
     "output_type": "stream",
     "text": [
      "\r",
      " 51%|█████     | 51/100 [08:37<08:13, 10.07s/it]"
     ]
    },
    {
     "name": "stdout",
     "output_type": "stream",
     "text": [
      "Yes interaction MI: Loss (tensor(-0.0033, grad_fn=<NegBackward>), tensor(-0.0006, grad_fn=<SubBackward0>), tensor(6.6221e-05, grad_fn=<SubBackward0>), tensor(-0.0038, grad_fn=<SubBackward0>))\n"
     ]
    },
    {
     "name": "stderr",
     "output_type": "stream",
     "text": [
      "\r",
      " 52%|█████▏    | 52/100 [08:48<08:05, 10.11s/it]"
     ]
    },
    {
     "name": "stdout",
     "output_type": "stream",
     "text": [
      "Yes interaction MI: Loss (tensor(-0.0040, grad_fn=<NegBackward>), tensor(-0.0003, grad_fn=<SubBackward0>), tensor(1.5825e-05, grad_fn=<SubBackward0>), tensor(-0.0043, grad_fn=<SubBackward0>))\n"
     ]
    },
    {
     "name": "stderr",
     "output_type": "stream",
     "text": [
      "\r",
      " 53%|█████▎    | 53/100 [08:58<07:54, 10.10s/it]"
     ]
    },
    {
     "name": "stdout",
     "output_type": "stream",
     "text": [
      "Yes interaction MI: Loss (tensor(-0.0034, grad_fn=<NegBackward>), tensor(-0.0010, grad_fn=<SubBackward0>), tensor(0.0003, grad_fn=<SubBackward0>), tensor(-0.0041, grad_fn=<SubBackward0>))\n"
     ]
    },
    {
     "name": "stderr",
     "output_type": "stream",
     "text": [
      "\r",
      " 54%|█████▍    | 54/100 [09:08<07:40, 10.01s/it]"
     ]
    },
    {
     "name": "stdout",
     "output_type": "stream",
     "text": [
      "Yes interaction MI: Loss (tensor(-0.0039, grad_fn=<NegBackward>), tensor(-0.0006, grad_fn=<SubBackward0>), tensor(-0.0002, grad_fn=<SubBackward0>), tensor(-0.0047, grad_fn=<SubBackward0>))\n"
     ]
    },
    {
     "name": "stderr",
     "output_type": "stream",
     "text": [
      "\r",
      " 55%|█████▌    | 55/100 [09:18<07:35, 10.11s/it]"
     ]
    },
    {
     "name": "stdout",
     "output_type": "stream",
     "text": [
      "Yes interaction MI: Loss (tensor(-0.0049, grad_fn=<NegBackward>), tensor(-0.0009, grad_fn=<SubBackward0>), tensor(-0.0001, grad_fn=<SubBackward0>), tensor(-0.0059, grad_fn=<SubBackward0>))\n"
     ]
    },
    {
     "name": "stderr",
     "output_type": "stream",
     "text": [
      "\r",
      " 56%|█████▌    | 56/100 [09:28<07:24, 10.10s/it]"
     ]
    },
    {
     "name": "stdout",
     "output_type": "stream",
     "text": [
      "Yes interaction MI: Loss (tensor(-0.0045, grad_fn=<NegBackward>), tensor(-0.0006, grad_fn=<SubBackward0>), tensor(4.6194e-05, grad_fn=<SubBackward0>), tensor(-0.0051, grad_fn=<SubBackward0>))\n"
     ]
    },
    {
     "name": "stderr",
     "output_type": "stream",
     "text": [
      "\r",
      " 57%|█████▋    | 57/100 [09:38<07:13, 10.09s/it]"
     ]
    },
    {
     "name": "stdout",
     "output_type": "stream",
     "text": [
      "Yes interaction MI: Loss (tensor(-0.0055, grad_fn=<NegBackward>), tensor(-0.0004, grad_fn=<SubBackward0>), tensor(0.0003, grad_fn=<SubBackward0>), tensor(-0.0056, grad_fn=<SubBackward0>))\n"
     ]
    },
    {
     "name": "stderr",
     "output_type": "stream",
     "text": [
      "\r",
      " 58%|█████▊    | 58/100 [09:48<07:06, 10.14s/it]"
     ]
    },
    {
     "name": "stdout",
     "output_type": "stream",
     "text": [
      "Yes interaction MI: Loss (tensor(-0.0066, grad_fn=<NegBackward>), tensor(-0.0005, grad_fn=<SubBackward0>), tensor(0.0003, grad_fn=<SubBackward0>), tensor(-0.0068, grad_fn=<SubBackward0>))\n"
     ]
    },
    {
     "name": "stderr",
     "output_type": "stream",
     "text": [
      "\r",
      " 59%|█████▉    | 59/100 [09:58<06:54, 10.12s/it]"
     ]
    },
    {
     "name": "stdout",
     "output_type": "stream",
     "text": [
      "Yes interaction MI: Loss (tensor(-0.0063, grad_fn=<NegBackward>), tensor(-0.0013, grad_fn=<SubBackward0>), tensor(0.0001, grad_fn=<SubBackward0>), tensor(-0.0075, grad_fn=<SubBackward0>))\n"
     ]
    },
    {
     "name": "stderr",
     "output_type": "stream",
     "text": [
      "\r",
      " 60%|██████    | 60/100 [10:08<06:42, 10.07s/it]"
     ]
    },
    {
     "name": "stdout",
     "output_type": "stream",
     "text": [
      "Yes interaction MI: Loss (tensor(-0.0066, grad_fn=<NegBackward>), tensor(-0.0007, grad_fn=<SubBackward0>), tensor(0.0001, grad_fn=<SubBackward0>), tensor(-0.0072, grad_fn=<SubBackward0>))\n"
     ]
    },
    {
     "name": "stderr",
     "output_type": "stream",
     "text": [
      "\r",
      " 61%|██████    | 61/100 [10:18<06:33, 10.09s/it]"
     ]
    },
    {
     "name": "stdout",
     "output_type": "stream",
     "text": [
      "Yes interaction MI: Loss (tensor(-0.0061, grad_fn=<NegBackward>), tensor(-0.0009, grad_fn=<SubBackward0>), tensor(7.8082e-05, grad_fn=<SubBackward0>), tensor(-0.0069, grad_fn=<SubBackward0>))\n"
     ]
    },
    {
     "name": "stderr",
     "output_type": "stream",
     "text": [
      "\r",
      " 62%|██████▏   | 62/100 [10:29<06:25, 10.14s/it]"
     ]
    },
    {
     "name": "stdout",
     "output_type": "stream",
     "text": [
      "Yes interaction MI: Loss (tensor(-0.0070, grad_fn=<NegBackward>), tensor(-0.0010, grad_fn=<SubBackward0>), tensor(-2.3335e-05, grad_fn=<SubBackward0>), tensor(-0.0080, grad_fn=<SubBackward0>))\n"
     ]
    },
    {
     "name": "stderr",
     "output_type": "stream",
     "text": [
      "\r",
      " 63%|██████▎   | 63/100 [10:39<06:18, 10.24s/it]"
     ]
    },
    {
     "name": "stdout",
     "output_type": "stream",
     "text": [
      "Yes interaction MI: Loss (tensor(-0.0059, grad_fn=<NegBackward>), tensor(-0.0007, grad_fn=<SubBackward0>), tensor(0.0001, grad_fn=<SubBackward0>), tensor(-0.0066, grad_fn=<SubBackward0>))\n"
     ]
    },
    {
     "name": "stderr",
     "output_type": "stream",
     "text": [
      "\r",
      " 64%|██████▍   | 64/100 [10:49<06:05, 10.15s/it]"
     ]
    },
    {
     "name": "stdout",
     "output_type": "stream",
     "text": [
      "Yes interaction MI: Loss (tensor(-0.0069, grad_fn=<NegBackward>), tensor(-0.0010, grad_fn=<SubBackward0>), tensor(-0.0004, grad_fn=<SubBackward0>), tensor(-0.0084, grad_fn=<SubBackward0>))\n"
     ]
    },
    {
     "name": "stderr",
     "output_type": "stream",
     "text": [
      "\r",
      " 65%|██████▌   | 65/100 [10:59<05:54, 10.12s/it]"
     ]
    },
    {
     "name": "stdout",
     "output_type": "stream",
     "text": [
      "Yes interaction MI: Loss (tensor(-0.0061, grad_fn=<NegBackward>), tensor(-0.0012, grad_fn=<SubBackward0>), tensor(-0.0002, grad_fn=<SubBackward0>), tensor(-0.0075, grad_fn=<SubBackward0>))\n"
     ]
    },
    {
     "name": "stderr",
     "output_type": "stream",
     "text": [
      "\r",
      " 66%|██████▌   | 66/100 [11:09<05:41, 10.03s/it]"
     ]
    },
    {
     "name": "stdout",
     "output_type": "stream",
     "text": [
      "Yes interaction MI: Loss (tensor(-0.0074, grad_fn=<NegBackward>), tensor(-0.0006, grad_fn=<SubBackward0>), tensor(-0.0005, grad_fn=<SubBackward0>), tensor(-0.0085, grad_fn=<SubBackward0>))\n"
     ]
    },
    {
     "name": "stderr",
     "output_type": "stream",
     "text": [
      "\r",
      " 67%|██████▋   | 67/100 [11:19<05:32, 10.08s/it]"
     ]
    },
    {
     "name": "stdout",
     "output_type": "stream",
     "text": [
      "Yes interaction MI: Loss (tensor(-0.0067, grad_fn=<NegBackward>), tensor(-0.0007, grad_fn=<SubBackward0>), tensor(-0.0004, grad_fn=<SubBackward0>), tensor(-0.0078, grad_fn=<SubBackward0>))\n"
     ]
    },
    {
     "name": "stderr",
     "output_type": "stream",
     "text": [
      "\r",
      " 68%|██████▊   | 68/100 [11:29<05:23, 10.11s/it]"
     ]
    },
    {
     "name": "stdout",
     "output_type": "stream",
     "text": [
      "Yes interaction MI: Loss (tensor(-0.0065, grad_fn=<NegBackward>), tensor(-0.0007, grad_fn=<SubBackward0>), tensor(-0.0003, grad_fn=<SubBackward0>), tensor(-0.0076, grad_fn=<SubBackward0>))\n"
     ]
    },
    {
     "name": "stderr",
     "output_type": "stream",
     "text": [
      "\r",
      " 69%|██████▉   | 69/100 [11:39<05:08,  9.96s/it]"
     ]
    },
    {
     "name": "stdout",
     "output_type": "stream",
     "text": [
      "Yes interaction MI: Loss (tensor(-0.0064, grad_fn=<NegBackward>), tensor(-0.0006, grad_fn=<SubBackward0>), tensor(-0.0004, grad_fn=<SubBackward0>), tensor(-0.0074, grad_fn=<SubBackward0>))\n"
     ]
    },
    {
     "name": "stderr",
     "output_type": "stream",
     "text": [
      "\r",
      " 70%|███████   | 70/100 [11:49<05:00, 10.02s/it]"
     ]
    },
    {
     "name": "stdout",
     "output_type": "stream",
     "text": [
      "Yes interaction MI: Loss (tensor(-0.0068, grad_fn=<NegBackward>), tensor(-0.0007, grad_fn=<SubBackward0>), tensor(-2.9445e-05, grad_fn=<SubBackward0>), tensor(-0.0075, grad_fn=<SubBackward0>))\n"
     ]
    },
    {
     "name": "stderr",
     "output_type": "stream",
     "text": [
      "\r",
      " 71%|███████   | 71/100 [11:59<04:51, 10.05s/it]"
     ]
    },
    {
     "name": "stdout",
     "output_type": "stream",
     "text": [
      "Yes interaction MI: Loss (tensor(-0.0077, grad_fn=<NegBackward>), tensor(-0.0011, grad_fn=<SubBackward0>), tensor(-0.0002, grad_fn=<SubBackward0>), tensor(-0.0089, grad_fn=<SubBackward0>))\n"
     ]
    },
    {
     "name": "stderr",
     "output_type": "stream",
     "text": [
      "\r",
      " 72%|███████▏  | 72/100 [12:10<04:43, 10.11s/it]"
     ]
    },
    {
     "name": "stdout",
     "output_type": "stream",
     "text": [
      "Yes interaction MI: Loss (tensor(-0.0068, grad_fn=<NegBackward>), tensor(-0.0007, grad_fn=<SubBackward0>), tensor(-0.0003, grad_fn=<SubBackward0>), tensor(-0.0078, grad_fn=<SubBackward0>))\n"
     ]
    },
    {
     "name": "stderr",
     "output_type": "stream",
     "text": [
      "\r",
      " 73%|███████▎  | 73/100 [12:20<04:33, 10.14s/it]"
     ]
    },
    {
     "name": "stdout",
     "output_type": "stream",
     "text": [
      "Yes interaction MI: Loss (tensor(-0.0068, grad_fn=<NegBackward>), tensor(-0.0006, grad_fn=<SubBackward0>), tensor(-0.0002, grad_fn=<SubBackward0>), tensor(-0.0076, grad_fn=<SubBackward0>))\n"
     ]
    },
    {
     "name": "stderr",
     "output_type": "stream",
     "text": [
      "\r",
      " 74%|███████▍  | 74/100 [12:30<04:21, 10.08s/it]"
     ]
    },
    {
     "name": "stdout",
     "output_type": "stream",
     "text": [
      "Yes interaction MI: Loss (tensor(-0.0075, grad_fn=<NegBackward>), tensor(-0.0011, grad_fn=<SubBackward0>), tensor(-0.0006, grad_fn=<SubBackward0>), tensor(-0.0091, grad_fn=<SubBackward0>))\n"
     ]
    },
    {
     "name": "stderr",
     "output_type": "stream",
     "text": [
      "\r",
      " 75%|███████▌  | 75/100 [12:40<04:13, 10.13s/it]"
     ]
    },
    {
     "name": "stdout",
     "output_type": "stream",
     "text": [
      "Yes interaction MI: Loss (tensor(-0.0070, grad_fn=<NegBackward>), tensor(-0.0008, grad_fn=<SubBackward0>), tensor(-0.0005, grad_fn=<SubBackward0>), tensor(-0.0083, grad_fn=<SubBackward0>))\n"
     ]
    },
    {
     "name": "stderr",
     "output_type": "stream",
     "text": [
      "\r",
      " 76%|███████▌  | 76/100 [12:50<04:03, 10.15s/it]"
     ]
    },
    {
     "name": "stdout",
     "output_type": "stream",
     "text": [
      "Yes interaction MI: Loss (tensor(-0.0073, grad_fn=<NegBackward>), tensor(-0.0010, grad_fn=<SubBackward0>), tensor(-6.9439e-06, grad_fn=<SubBackward0>), tensor(-0.0083, grad_fn=<SubBackward0>))\n"
     ]
    },
    {
     "name": "stderr",
     "output_type": "stream",
     "text": [
      "\r",
      " 77%|███████▋  | 77/100 [13:00<03:52, 10.12s/it]"
     ]
    },
    {
     "name": "stdout",
     "output_type": "stream",
     "text": [
      "Yes interaction MI: Loss (tensor(-0.0070, grad_fn=<NegBackward>), tensor(-0.0012, grad_fn=<SubBackward0>), tensor(-0.0006, grad_fn=<SubBackward0>), tensor(-0.0088, grad_fn=<SubBackward0>))\n"
     ]
    },
    {
     "name": "stderr",
     "output_type": "stream",
     "text": [
      "\r",
      " 78%|███████▊  | 78/100 [13:10<03:42, 10.12s/it]"
     ]
    },
    {
     "name": "stdout",
     "output_type": "stream",
     "text": [
      "Yes interaction MI: Loss (tensor(-0.0084, grad_fn=<NegBackward>), tensor(-0.0007, grad_fn=<SubBackward0>), tensor(-0.0005, grad_fn=<SubBackward0>), tensor(-0.0097, grad_fn=<SubBackward0>))\n"
     ]
    },
    {
     "name": "stderr",
     "output_type": "stream",
     "text": [
      "\r",
      " 79%|███████▉  | 79/100 [13:20<03:31, 10.09s/it]"
     ]
    },
    {
     "name": "stdout",
     "output_type": "stream",
     "text": [
      "Yes interaction MI: Loss (tensor(-0.0079, grad_fn=<NegBackward>), tensor(-0.0008, grad_fn=<SubBackward0>), tensor(-5.5194e-05, grad_fn=<SubBackward0>), tensor(-0.0087, grad_fn=<SubBackward0>))\n"
     ]
    },
    {
     "name": "stderr",
     "output_type": "stream",
     "text": [
      "\r",
      " 80%|████████  | 80/100 [13:30<03:21, 10.07s/it]"
     ]
    },
    {
     "name": "stdout",
     "output_type": "stream",
     "text": [
      "Yes interaction MI: Loss (tensor(-0.0081, grad_fn=<NegBackward>), tensor(-0.0010, grad_fn=<SubBackward0>), tensor(0.0004, grad_fn=<SubBackward0>), tensor(-0.0086, grad_fn=<SubBackward0>))\n"
     ]
    },
    {
     "name": "stderr",
     "output_type": "stream",
     "text": [
      "\r",
      " 81%|████████  | 81/100 [13:40<03:11, 10.10s/it]"
     ]
    },
    {
     "name": "stdout",
     "output_type": "stream",
     "text": [
      "Yes interaction MI: Loss (tensor(-0.0072, grad_fn=<NegBackward>), tensor(-0.0011, grad_fn=<SubBackward0>), tensor(-0.0005, grad_fn=<SubBackward0>), tensor(-0.0088, grad_fn=<SubBackward0>))\n"
     ]
    },
    {
     "name": "stderr",
     "output_type": "stream",
     "text": [
      "\r",
      " 82%|████████▏ | 82/100 [13:51<03:02, 10.14s/it]"
     ]
    },
    {
     "name": "stdout",
     "output_type": "stream",
     "text": [
      "Yes interaction MI: Loss (tensor(-0.0078, grad_fn=<NegBackward>), tensor(-0.0010, grad_fn=<SubBackward0>), tensor(8.5831e-06, grad_fn=<SubBackward0>), tensor(-0.0088, grad_fn=<SubBackward0>))\n"
     ]
    },
    {
     "name": "stderr",
     "output_type": "stream",
     "text": [
      "\r",
      " 83%|████████▎ | 83/100 [14:01<02:50, 10.04s/it]"
     ]
    },
    {
     "name": "stdout",
     "output_type": "stream",
     "text": [
      "Yes interaction MI: Loss (tensor(-0.0081, grad_fn=<NegBackward>), tensor(-0.0008, grad_fn=<SubBackward0>), tensor(-0.0001, grad_fn=<SubBackward0>), tensor(-0.0090, grad_fn=<SubBackward0>))\n"
     ]
    },
    {
     "name": "stderr",
     "output_type": "stream",
     "text": [
      "\r",
      " 84%|████████▍ | 84/100 [14:11<02:41, 10.11s/it]"
     ]
    },
    {
     "name": "stdout",
     "output_type": "stream",
     "text": [
      "Yes interaction MI: Loss (tensor(-0.0075, grad_fn=<NegBackward>), tensor(-0.0016, grad_fn=<SubBackward0>), tensor(-0.0004, grad_fn=<SubBackward0>), tensor(-0.0095, grad_fn=<SubBackward0>))\n"
     ]
    },
    {
     "name": "stderr",
     "output_type": "stream",
     "text": [
      "\r",
      " 85%|████████▌ | 85/100 [14:21<02:30, 10.06s/it]"
     ]
    },
    {
     "name": "stdout",
     "output_type": "stream",
     "text": [
      "Yes interaction MI: Loss (tensor(-0.0086, grad_fn=<NegBackward>), tensor(-0.0002, grad_fn=<SubBackward0>), tensor(-0.0003, grad_fn=<SubBackward0>), tensor(-0.0090, grad_fn=<SubBackward0>))\n"
     ]
    },
    {
     "name": "stderr",
     "output_type": "stream",
     "text": [
      "\r",
      " 86%|████████▌ | 86/100 [14:31<02:21, 10.08s/it]"
     ]
    },
    {
     "name": "stdout",
     "output_type": "stream",
     "text": [
      "Yes interaction MI: Loss (tensor(-0.0080, grad_fn=<NegBackward>), tensor(-0.0011, grad_fn=<SubBackward0>), tensor(-0.0004, grad_fn=<SubBackward0>), tensor(-0.0095, grad_fn=<SubBackward0>))\n"
     ]
    },
    {
     "name": "stderr",
     "output_type": "stream",
     "text": [
      "\r",
      " 87%|████████▋ | 87/100 [14:41<02:10, 10.05s/it]"
     ]
    },
    {
     "name": "stdout",
     "output_type": "stream",
     "text": [
      "Yes interaction MI: Loss (tensor(-0.0083, grad_fn=<NegBackward>), tensor(-0.0008, grad_fn=<SubBackward0>), tensor(0.0001, grad_fn=<SubBackward0>), tensor(-0.0090, grad_fn=<SubBackward0>))\n"
     ]
    },
    {
     "name": "stderr",
     "output_type": "stream",
     "text": [
      "\r",
      " 88%|████████▊ | 88/100 [14:51<02:00, 10.04s/it]"
     ]
    },
    {
     "name": "stdout",
     "output_type": "stream",
     "text": [
      "Yes interaction MI: Loss (tensor(-0.0081, grad_fn=<NegBackward>), tensor(-0.0018, grad_fn=<SubBackward0>), tensor(-0.0002, grad_fn=<SubBackward0>), tensor(-0.0102, grad_fn=<SubBackward0>))\n"
     ]
    },
    {
     "name": "stderr",
     "output_type": "stream",
     "text": [
      "\r",
      " 89%|████████▉ | 89/100 [15:01<01:49,  9.99s/it]"
     ]
    },
    {
     "name": "stdout",
     "output_type": "stream",
     "text": [
      "Yes interaction MI: Loss (tensor(-0.0076, grad_fn=<NegBackward>), tensor(-0.0007, grad_fn=<SubBackward0>), tensor(-7.5668e-05, grad_fn=<SubBackward0>), tensor(-0.0084, grad_fn=<SubBackward0>))\n"
     ]
    },
    {
     "name": "stderr",
     "output_type": "stream",
     "text": [
      "\r",
      " 90%|█████████ | 90/100 [15:11<01:40, 10.02s/it]"
     ]
    },
    {
     "name": "stdout",
     "output_type": "stream",
     "text": [
      "Yes interaction MI: Loss (tensor(-0.0082, grad_fn=<NegBackward>), tensor(-0.0018, grad_fn=<SubBackward0>), tensor(0.0002, grad_fn=<SubBackward0>), tensor(-0.0098, grad_fn=<SubBackward0>))\n"
     ]
    },
    {
     "name": "stderr",
     "output_type": "stream",
     "text": [
      "\r",
      " 91%|█████████ | 91/100 [15:21<01:30, 10.09s/it]"
     ]
    },
    {
     "name": "stdout",
     "output_type": "stream",
     "text": [
      "Yes interaction MI: Loss (tensor(-0.0089, grad_fn=<NegBackward>), tensor(-0.0019, grad_fn=<SubBackward0>), tensor(6.7502e-05, grad_fn=<SubBackward0>), tensor(-0.0107, grad_fn=<SubBackward0>))\n"
     ]
    },
    {
     "name": "stderr",
     "output_type": "stream",
     "text": [
      "\r",
      " 92%|█████████▏| 92/100 [15:31<01:20, 10.11s/it]"
     ]
    },
    {
     "name": "stdout",
     "output_type": "stream",
     "text": [
      "Yes interaction MI: Loss (tensor(-0.0092, grad_fn=<NegBackward>), tensor(-0.0015, grad_fn=<SubBackward0>), tensor(-0.0003, grad_fn=<SubBackward0>), tensor(-0.0110, grad_fn=<SubBackward0>))\n"
     ]
    },
    {
     "name": "stderr",
     "output_type": "stream",
     "text": [
      "\r",
      " 93%|█████████▎| 93/100 [15:41<01:10, 10.09s/it]"
     ]
    },
    {
     "name": "stdout",
     "output_type": "stream",
     "text": [
      "Yes interaction MI: Loss (tensor(-0.0082, grad_fn=<NegBackward>), tensor(-0.0023, grad_fn=<SubBackward0>), tensor(3.9071e-05, grad_fn=<SubBackward0>), tensor(-0.0104, grad_fn=<SubBackward0>))\n"
     ]
    },
    {
     "name": "stderr",
     "output_type": "stream",
     "text": [
      "\r",
      " 94%|█████████▍| 94/100 [15:51<01:00, 10.12s/it]"
     ]
    },
    {
     "name": "stdout",
     "output_type": "stream",
     "text": [
      "Yes interaction MI: Loss (tensor(-0.0095, grad_fn=<NegBackward>), tensor(-0.0005, grad_fn=<SubBackward0>), tensor(-1.1623e-06, grad_fn=<SubBackward0>), tensor(-0.0099, grad_fn=<SubBackward0>))\n"
     ]
    },
    {
     "name": "stderr",
     "output_type": "stream",
     "text": [
      "\r",
      " 95%|█████████▌| 95/100 [16:02<00:50, 10.10s/it]"
     ]
    },
    {
     "name": "stdout",
     "output_type": "stream",
     "text": [
      "Yes interaction MI: Loss (tensor(-0.0082, grad_fn=<NegBackward>), tensor(-0.0009, grad_fn=<SubBackward0>), tensor(-4.5568e-05, grad_fn=<SubBackward0>), tensor(-0.0091, grad_fn=<SubBackward0>))\n"
     ]
    },
    {
     "name": "stderr",
     "output_type": "stream",
     "text": [
      "\r",
      " 96%|█████████▌| 96/100 [16:12<00:40, 10.08s/it]"
     ]
    },
    {
     "name": "stdout",
     "output_type": "stream",
     "text": [
      "Yes interaction MI: Loss (tensor(-0.0083, grad_fn=<NegBackward>), tensor(-0.0006, grad_fn=<SubBackward0>), tensor(-0.0001, grad_fn=<SubBackward0>), tensor(-0.0090, grad_fn=<SubBackward0>))\n"
     ]
    },
    {
     "name": "stderr",
     "output_type": "stream",
     "text": [
      "\r",
      " 97%|█████████▋| 97/100 [16:22<00:30, 10.12s/it]"
     ]
    },
    {
     "name": "stdout",
     "output_type": "stream",
     "text": [
      "Yes interaction MI: Loss (tensor(-0.0076, grad_fn=<NegBackward>), tensor(-0.0014, grad_fn=<SubBackward0>), tensor(-0.0008, grad_fn=<SubBackward0>), tensor(-0.0098, grad_fn=<SubBackward0>))\n"
     ]
    },
    {
     "name": "stderr",
     "output_type": "stream",
     "text": [
      "\r",
      " 98%|█████████▊| 98/100 [16:31<00:19, 10.00s/it]"
     ]
    },
    {
     "name": "stdout",
     "output_type": "stream",
     "text": [
      "Yes interaction MI: Loss (tensor(-0.0084, grad_fn=<NegBackward>), tensor(-0.0020, grad_fn=<SubBackward0>), tensor(0.0002, grad_fn=<SubBackward0>), tensor(-0.0103, grad_fn=<SubBackward0>))\n"
     ]
    },
    {
     "name": "stderr",
     "output_type": "stream",
     "text": [
      "\r",
      " 99%|█████████▉| 99/100 [16:41<00:09,  9.74s/it]"
     ]
    },
    {
     "name": "stdout",
     "output_type": "stream",
     "text": [
      "Yes interaction MI: Loss (tensor(-0.0093, grad_fn=<NegBackward>), tensor(-0.0010, grad_fn=<SubBackward0>), tensor(-0.0005, grad_fn=<SubBackward0>), tensor(-0.0108, grad_fn=<SubBackward0>))\n"
     ]
    },
    {
     "name": "stderr",
     "output_type": "stream",
     "text": [
      "100%|██████████| 100/100 [16:51<00:00, 10.11s/it]"
     ]
    },
    {
     "name": "stdout",
     "output_type": "stream",
     "text": [
      "Yes interaction MI: Loss (tensor(-0.0078, grad_fn=<NegBackward>), tensor(-0.0011, grad_fn=<SubBackward0>), tensor(-0.0002, grad_fn=<SubBackward0>), tensor(-0.0091, grad_fn=<SubBackward0>))\n"
     ]
    },
    {
     "name": "stderr",
     "output_type": "stream",
     "text": [
      "\n"
     ]
    }
   ],
   "source": [
    "from glob import glob\n",
    "import matplotlib.pyplot as plt\n",
    "from tqdm import tqdm\n",
    "import numpy as np\n",
    "arrs = []\n",
    "# for arr in tqdm(glob(\"../data_2187_1571810501/*\")[2500:5000]):\n",
    "#     z = np.load(arr)['arr_0']\n",
    "#     x, y = np.random.randint(2187, size=2)\n",
    "#     z = np.pad(z, pad_width=27, mode='wrap')[x:(x+27), y:(y+27)]\n",
    "#     arrs.append(z)\n",
    "# arrs = np.stack(arrs)\n",
    "\n",
    "arrs = np.load(\"./ising27x27from2187x2187.npy\")[:, None, :, :]\n",
    "arrs = np.pad(arrs, [(0, 0), (0, 0), (9, 9), (9, 9)], mode='wrap') \n",
    "\n",
    "import torch\n",
    "from torch.autograd import Variable\n",
    "import torch.nn as nn\n",
    "import torch.nn.functional as F\n",
    "S=9\n",
    "H=15\n",
    "n_epoch = 100\n",
    "data_size = 20000\n",
    "def pad_circular(x, pad):\n",
    "    \"\"\"\n",
    "    function inspired by https://github.com/pytorch/pytorch/issues/3858\n",
    "    :param x: shape [H, W]\n",
    "    :param pad: int >= 0\n",
    "    :return:\n",
    "    \"\"\"\n",
    "    x = torch.cat([x, x[:, 0:pad, :]], dim=1)\n",
    "    x = torch.cat([x, x[:, :, 0:pad]], dim=2)\n",
    "    x = torch.cat([x[:, -2 * pad:-pad, :], x], dim=1)\n",
    "    x = torch.cat([x[:, :, -2 * pad:-pad], x], dim=2)\n",
    "\n",
    "    return x\n",
    "\n",
    "class Net(nn.Module):\n",
    "    def __init__(self, out_channels = 1, filter_size = 3):\n",
    "        super(Net, self).__init__()\n",
    "        self.first_channel_MI_net = [nn.Linear(1, S), nn.Linear(S, S), nn.Linear(S, H), \n",
    "                                nn.Linear(1, S), nn.Linear(S, S), nn.Linear(S, H), nn.Linear(H, 1)]\n",
    "        self.second_channel_MI_net = [nn.Linear(1, S), nn.Linear(S, S), nn.Linear(S, H), \n",
    "                                 nn.Linear(1, S), nn.Linear(S, S), nn.Linear(S, H), nn.Linear(H, 1)]\n",
    "        self.interaction_channel_MI_net = [nn.Linear(1, S), nn.Linear(S, S), nn.Linear(S, H), \n",
    "                                      nn.Linear(1, S), nn.Linear(S, S), nn.Linear(S, H), nn.Linear(H, 1)]\n",
    "\n",
    "        \n",
    "        self.conv1 = nn.Conv2d(1, out_channels, filter_size, padding=0, stride = filter_size)\n",
    "        \n",
    "        \n",
    "    def MI_net(self, x, y, channel_MI_net):\n",
    "        self.x_fc1, self.x_fc2, self.x_fc3, self.y_fc1, self.y_fc2, self.y_fc3, self.fc3 = channel_MI_net\n",
    "        inter_x = F.relu(self.x_fc1(x))\n",
    "        inter_x = inter_x + F.relu(self.x_fc2(inter_x))\n",
    "        inter_x = self.x_fc3(inter_x)\n",
    "        \n",
    "        inter_y = F.relu(self.y_fc1(y))\n",
    "        inter_y = inter_y + F.relu(self.y_fc2(inter_y))\n",
    "        inter_y = self.y_fc3(inter_y)\n",
    "        \n",
    "        \n",
    "        h1 = F.relu(inter_x + inter_y)\n",
    "        h2 = self.fc3(h1)\n",
    "        return h2  \n",
    "    \n",
    "    def compute_channel_MI(self, channel_rectangle, channel_MI_net):\n",
    "        # separate rectangle into 2 patches of shape 3x3 \n",
    "        patch1 = channel_rectangle[:, 0].reshape(-1, 1)\n",
    "        patch2 = channel_rectangle[:, 1].reshape(-1, 1)\n",
    "        patch2_shuffled = patch2[torch.randperm(patch2.shape[0])]\n",
    "        \n",
    "        # compute MI of channel\n",
    "        pred_xy = self.MI_net(patch1, patch2, channel_MI_net)\n",
    "        pred_x_y = self.MI_net(patch1, patch2_shuffled, channel_MI_net)\n",
    "        MI = torch.mean(pred_xy) - torch.log(torch.mean(torch.exp(pred_x_y)))\n",
    "        return MI\n",
    "    \n",
    "    def forward(self, x):\n",
    "        # get 9x9 model from 27x27 data: random crop\n",
    "        i, j = np.random.randint(9, size = 2) \n",
    "        x = x[:, :, i:(i+9),j:(j+9)]\n",
    "        \n",
    "        # coarse grain 9x9 model to get 3x3 model\n",
    "        x = (self.conv1(x))\n",
    "        channel0_rectangle = []\n",
    "        channel1_rectangle = []\n",
    "        # get a random 1x2 rectangle\n",
    "        for data in x:\n",
    "            i, j = np.random.randint(3, size = 2) \n",
    "            channels = pad_circular(data, 2)[:, i, j:(j+2)]\n",
    "            channel0_rectangle.append(channels[0] )\n",
    "            channel1_rectangle.append(channels[1] )\n",
    "        channel0_rectangle = torch.stack(channel0_rectangle)\n",
    "        channel1_rectangle = torch.stack(channel1_rectangle)\n",
    "        interaction_rectangle = torch.cat([channel0_rectangle[:, 0].reshape(-1, 1), channel1_rectangle[:, 0].reshape(-1, 1)], dim=1)\n",
    "        first_channel_MI = self.compute_channel_MI(channel0_rectangle, self.first_channel_MI_net)\n",
    "        second_channel_MI = self.compute_channel_MI(channel1_rectangle, self.second_channel_MI_net)\n",
    "        first_second_channel_MI = self.compute_channel_MI(interaction_rectangle, self.interaction_channel_MI_net)\n",
    "        \n",
    "        \n",
    "        \n",
    "        return -(first_channel_MI + second_channel_MI - first_second_channel_MI), first_channel_MI, second_channel_MI, first_second_channel_MI\n",
    "        \n",
    "class IsingDataset(torch.utils.data.Dataset):\n",
    "    'Characterizes a dataset for PyTorch'\n",
    "    def __init__(self, arrs):\n",
    "        'Initialization'\n",
    "        self.arrs = torch.Tensor(arrs)\n",
    "\n",
    "    def __len__(self):\n",
    "        'Denotes the total number of samples'\n",
    "        return len(self.arrs)\n",
    "\n",
    "    def __getitem__(self, index):\n",
    "        'Generates one sample of data'\n",
    "        # Select sample\n",
    "        return self.arrs[index] \n",
    "    \n",
    "# Generators\n",
    "# Parameters\n",
    "params = {'batch_size': 256*4,\n",
    "          'shuffle': True,\n",
    "          'num_workers': 6}\n",
    "training_set = IsingDataset(arrs)\n",
    "training_generator = torch.utils.data.DataLoader(training_set, **params)\n",
    "\n",
    "model = Net(out_channels = 2)\n",
    "optimizer = torch.optim.SGD(model.parameters(), lr=0.002, momentum=0.9)\n",
    "plot_loss = []\n",
    "for epoch in tqdm(range(n_epoch)):\n",
    "    \n",
    "    for batch_id, x in enumerate(training_generator):\n",
    "        loss = model(x)\n",
    "        \n",
    "        plot_loss.append(loss)\n",
    "        model.zero_grad()\n",
    "        loss[0].backward() # the first element has the objective\n",
    "        optimizer.step()\n",
    "    print(\"Yes interaction MI: Loss\", loss)\n",
    "\n",
    "        \n",
    "        \n",
    "        "
   ]
  },
  {
   "cell_type": "code",
   "execution_count": 4,
   "metadata": {},
   "outputs": [
    {
     "name": "stdout",
     "output_type": "stream",
     "text": [
      "Parameter containing:\n",
      "tensor([[[[-0.1272, -0.1586, -0.0753],\n",
      "          [-0.0342,  0.0594, -0.0816],\n",
      "          [ 0.0129, -0.2169, -0.1285]]],\n",
      "\n",
      "\n",
      "        [[[ 0.1150, -0.2118, -0.1909],\n",
      "          [ 0.0208,  0.2179,  0.1040],\n",
      "          [-0.0947, -0.1896,  0.2616]]]], requires_grad=True)\n",
      "Parameter containing:\n",
      "tensor([-0.2433, -0.3636], requires_grad=True)\n",
      "Parameter containing:\n",
      "tensor([[-0.7747],\n",
      "        [ 0.7862],\n",
      "        [-0.8603],\n",
      "        [ 0.0952],\n",
      "        [-0.8302],\n",
      "        [ 0.9457],\n",
      "        [-0.3454],\n",
      "        [-0.2021],\n",
      "        [ 0.9451]], requires_grad=True)\n",
      "Parameter containing:\n",
      "tensor([-0.9897,  0.6293,  0.0494,  0.6762, -0.4896,  0.9121,  0.2383, -0.5952,\n",
      "         0.8130], requires_grad=True)\n",
      "Parameter containing:\n",
      "tensor([[ 0.0572, -0.1845, -0.2029,  0.2157, -0.3288,  0.2891, -0.2793,  0.0452,\n",
      "          0.3021],\n",
      "        [-0.0630, -0.0401, -0.0223,  0.1232, -0.1496,  0.2679, -0.3203, -0.1830,\n",
      "          0.1960],\n",
      "        [-0.1616, -0.1954, -0.0254, -0.0939,  0.0475, -0.2806, -0.0517,  0.3329,\n",
      "          0.1202],\n",
      "        [-0.1269,  0.1675,  0.0625,  0.2249,  0.3143, -0.2686,  0.0222, -0.0265,\n",
      "          0.1588],\n",
      "        [ 0.2348, -0.0617, -0.0615, -0.3209, -0.0272,  0.2221, -0.0842, -0.3188,\n",
      "          0.1239],\n",
      "        [-0.1794, -0.0790, -0.0059,  0.2501,  0.2001,  0.0172, -0.2069, -0.1258,\n",
      "         -0.3042],\n",
      "        [-0.1838, -0.1286,  0.2906, -0.1091, -0.1945, -0.2380,  0.0851, -0.2490,\n",
      "         -0.1444],\n",
      "        [ 0.2800, -0.3208, -0.0183,  0.3253,  0.1908,  0.0512, -0.2165, -0.1598,\n",
      "         -0.0142],\n",
      "        [-0.2438, -0.3167,  0.0436,  0.3291, -0.3030,  0.1154, -0.0279, -0.2003,\n",
      "         -0.2323]], requires_grad=True)\n",
      "Parameter containing:\n",
      "tensor([ 0.3023,  0.2302,  0.2933, -0.1174,  0.1634,  0.1049,  0.1288, -0.2972,\n",
      "         0.1850], requires_grad=True)\n",
      "Parameter containing:\n",
      "tensor([[ 0.1370,  0.0957,  0.0294,  0.0038,  0.0383, -0.1044, -0.1573, -0.1310,\n",
      "          0.1038],\n",
      "        [ 0.1603,  0.2067, -0.3097,  0.2727,  0.1779, -0.0039,  0.1346,  0.3313,\n",
      "         -0.1534],\n",
      "        [ 0.1091,  0.0905,  0.0068, -0.1704,  0.0049,  0.3095, -0.1264, -0.0071,\n",
      "          0.0899],\n",
      "        [ 0.1732, -0.2368,  0.0432, -0.2978, -0.2988, -0.2063, -0.1022,  0.2782,\n",
      "         -0.1926],\n",
      "        [ 0.1324,  0.2252,  0.0249,  0.2309,  0.0401, -0.2378, -0.1230,  0.2864,\n",
      "         -0.1194],\n",
      "        [ 0.1804, -0.3080,  0.2048, -0.1532,  0.2098,  0.3220, -0.0471, -0.2356,\n",
      "         -0.1668],\n",
      "        [-0.0493,  0.3170, -0.1034,  0.2658, -0.2732, -0.0287,  0.1158,  0.1602,\n",
      "         -0.0376],\n",
      "        [-0.2854, -0.3064, -0.1556, -0.0035,  0.2400, -0.1055, -0.0169, -0.2234,\n",
      "         -0.0933],\n",
      "        [ 0.3251,  0.0477,  0.2942,  0.3259,  0.1287, -0.2926, -0.0370, -0.0175,\n",
      "         -0.0915],\n",
      "        [-0.2624, -0.3037,  0.0036, -0.1606, -0.0276,  0.3280,  0.0259,  0.2736,\n",
      "          0.2745],\n",
      "        [-0.0287, -0.2642, -0.1569, -0.0238, -0.1485,  0.2194,  0.0448, -0.3260,\n",
      "         -0.1560],\n",
      "        [-0.2221,  0.2732,  0.0766, -0.1977, -0.2298,  0.3214,  0.1067,  0.2591,\n",
      "         -0.2128],\n",
      "        [ 0.0032,  0.0115,  0.0250,  0.2168,  0.1381,  0.3027,  0.0129, -0.1494,\n",
      "         -0.0724],\n",
      "        [ 0.2723,  0.0455,  0.2481, -0.2608, -0.2177,  0.2082,  0.2292,  0.2458,\n",
      "          0.1766],\n",
      "        [-0.1624,  0.0113,  0.2389,  0.2642,  0.0847, -0.2222,  0.2639, -0.0128,\n",
      "          0.2873]], requires_grad=True)\n",
      "Parameter containing:\n",
      "tensor([-0.0278, -0.2838,  0.0400, -0.3218,  0.0930,  0.2991,  0.1999, -0.1274,\n",
      "        -0.1314, -0.0797, -0.2866, -0.0665,  0.2158,  0.0892, -0.2499],\n",
      "       requires_grad=True)\n",
      "Parameter containing:\n",
      "tensor([[-0.4411],\n",
      "        [ 0.4851],\n",
      "        [ 0.9772],\n",
      "        [-0.0067],\n",
      "        [ 0.7093],\n",
      "        [-0.2666],\n",
      "        [ 0.5923],\n",
      "        [ 0.3873],\n",
      "        [-0.4601]], requires_grad=True)\n",
      "Parameter containing:\n",
      "tensor([-0.3877, -0.5426,  0.7314,  0.8800,  0.7693,  0.3758,  0.5030, -0.1234,\n",
      "        -0.7546], requires_grad=True)\n",
      "Parameter containing:\n",
      "tensor([[ 0.3080, -0.2070,  0.0227,  0.0113, -0.1296, -0.1357, -0.0740,  0.1645,\n",
      "         -0.2790],\n",
      "        [-0.2794,  0.0465,  0.0945, -0.1381, -0.1770,  0.2363,  0.3323, -0.0241,\n",
      "         -0.1701],\n",
      "        [-0.2933, -0.2374, -0.0934,  0.1041, -0.1651, -0.1022,  0.0101,  0.0306,\n",
      "          0.0154],\n",
      "        [ 0.2779,  0.0560, -0.1125,  0.1888,  0.0542,  0.2090,  0.0296, -0.1489,\n",
      "         -0.2952],\n",
      "        [-0.3184,  0.0172,  0.2617,  0.1912,  0.3085, -0.0771,  0.2704,  0.1161,\n",
      "         -0.3156],\n",
      "        [ 0.1838,  0.1659, -0.0887, -0.1397, -0.2666,  0.2940, -0.2294, -0.2542,\n",
      "          0.2172],\n",
      "        [ 0.2059,  0.0169, -0.0237, -0.0991, -0.1641,  0.1428,  0.1240, -0.2757,\n",
      "          0.2644],\n",
      "        [-0.0439,  0.0505,  0.2196,  0.0045,  0.1300, -0.1243, -0.1378, -0.1712,\n",
      "          0.1447],\n",
      "        [ 0.3140, -0.1773, -0.3242, -0.0410, -0.3311, -0.2426,  0.0464,  0.1427,\n",
      "          0.0090]], requires_grad=True)\n",
      "Parameter containing:\n",
      "tensor([ 0.2570, -0.0593, -0.1790,  0.1979,  0.0404, -0.0069, -0.0036,  0.3013,\n",
      "        -0.2779], requires_grad=True)\n",
      "Parameter containing:\n",
      "tensor([[-0.2379,  0.0684, -0.1865,  0.2702, -0.2367,  0.1776, -0.0239,  0.0896,\n",
      "          0.0558],\n",
      "        [ 0.1463, -0.0866,  0.0805, -0.1038, -0.1604,  0.1855,  0.0587,  0.0468,\n",
      "          0.2022],\n",
      "        [-0.2169,  0.1497, -0.1293, -0.3269,  0.2791,  0.0103, -0.2363,  0.2911,\n",
      "         -0.2761],\n",
      "        [-0.2912, -0.0093, -0.0265,  0.1463,  0.1838, -0.2582,  0.2909, -0.1985,\n",
      "          0.3206],\n",
      "        [ 0.2672, -0.0894,  0.3081, -0.0827, -0.0069, -0.0073,  0.2411, -0.2470,\n",
      "          0.2467],\n",
      "        [ 0.0582,  0.2345, -0.0913, -0.2997,  0.2510,  0.0126, -0.2411,  0.2883,\n",
      "         -0.1441],\n",
      "        [-0.1869,  0.0127, -0.2965, -0.2299, -0.1613,  0.1095, -0.0713,  0.3057,\n",
      "          0.1696],\n",
      "        [ 0.3094, -0.0592, -0.2555,  0.3197, -0.2162, -0.2508, -0.1522,  0.1860,\n",
      "         -0.0556],\n",
      "        [-0.3150,  0.1316, -0.1305,  0.3303,  0.0771, -0.1314, -0.1901,  0.2699,\n",
      "          0.0775],\n",
      "        [-0.1333, -0.3018, -0.3134, -0.1685,  0.0671, -0.2690,  0.0177,  0.2950,\n",
      "          0.1230],\n",
      "        [-0.2364, -0.1927, -0.3251,  0.2305, -0.0855, -0.2586, -0.0194,  0.3010,\n",
      "          0.0102],\n",
      "        [ 0.1512, -0.2640, -0.2430, -0.0849, -0.2146,  0.2969,  0.1838, -0.3097,\n",
      "          0.2550],\n",
      "        [-0.2058,  0.1027, -0.1427, -0.0995,  0.2356, -0.2152, -0.1734, -0.0612,\n",
      "         -0.2141],\n",
      "        [-0.1290, -0.0191, -0.1690, -0.1063, -0.1526,  0.2300, -0.0541,  0.0272,\n",
      "          0.0142],\n",
      "        [ 0.2936, -0.0215,  0.1628, -0.1819,  0.1459, -0.3289,  0.2714,  0.2348,\n",
      "          0.3289]], requires_grad=True)\n",
      "Parameter containing:\n",
      "tensor([ 0.2854,  0.1847,  0.0636,  0.1770,  0.2298, -0.3002, -0.1058,  0.2067,\n",
      "        -0.2901, -0.0980, -0.0867, -0.0266, -0.2816,  0.0370, -0.1166],\n",
      "       requires_grad=True)\n",
      "Parameter containing:\n",
      "tensor([[ 0.1658,  0.2072, -0.0310, -0.1414,  0.2018, -0.1178, -0.1357, -0.0214,\n",
      "         -0.0429, -0.0413,  0.2532,  0.0410, -0.1894, -0.0428,  0.0232]],\n",
      "       requires_grad=True)\n",
      "Parameter containing:\n",
      "tensor([0.0818], requires_grad=True)\n"
     ]
    }
   ],
   "source": [
    "for p in model.parameters():\n",
    "    print(p)"
   ]
  },
  {
   "cell_type": "code",
   "execution_count": 5,
   "metadata": {},
   "outputs": [
    {
     "data": {
      "text/plain": [
       "[<matplotlib.lines.Line2D at 0x13451c278>]"
      ]
     },
     "execution_count": 5,
     "metadata": {},
     "output_type": "execute_result"
    },
    {
     "data": {
      "image/png": "[encoded data removed]",
      "text/plain": [
       "<Figure size 432x288 with 1 Axes>"
      ]
     },
     "metadata": {
      "needs_background": "light"
     },
     "output_type": "display_data"
    }
   ],
   "source": [
    "plt.plot(plot_loss)"
   ]
  },
  {
   "cell_type": "code",
   "execution_count": null,
   "metadata": {},
   "outputs": [],
   "source": []
  }
 ],
 "metadata": {
  "kernelspec": {
   "display_name": "Python (pytorch_resnet)",
   "language": "python",
   "name": "pytorch_resnet"
  },
  "language_info": {
   "codemirror_mode": {
    "name": "ipython",
    "version": 3
   },
   "file_extension": ".py",
   "mimetype": "text/x-python",
   "name": "python",
   "nbconvert_exporter": "python",
   "pygments_lexer": "ipython3",
   "version": "3.6.10"
  }
 },
 "nbformat": 4,
 "nbformat_minor": 2
}
