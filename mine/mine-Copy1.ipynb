{
 "cells": [
  {
   "cell_type": "code",
   "execution_count": 1,
   "metadata": {},
   "outputs": [],
   "source": [
    "import numpy as np\n",
    "import torch\n",
    "from torch.autograd import Variable\n",
    "import torch.nn as nn\n",
    "import torch.nn.functional as F\n",
    "from tqdm import tqdm\n",
    "\n",
    "layers = \"../supervised_convnet/t_2.269/layer_by_layer/\"\n",
    "fine = \"../supervised_convnet/t_2.269/x3x3/ising_temp2.269_correlated9x9from2187x2187.npy\"\n",
    "fine = np.load(fine)"
   ]
  },
  {
   "cell_type": "code",
   "execution_count": 2,
   "metadata": {},
   "outputs": [
    {
     "data": {
      "text/plain": [
       "(10000, 9, 9)"
      ]
     },
     "execution_count": 2,
     "metadata": {},
     "output_type": "execute_result"
    }
   ],
   "source": [
    "fine.shape"
   ]
  },
  {
   "cell_type": "code",
   "execution_count": 3,
   "metadata": {},
   "outputs": [],
   "source": [
    "def sample_xy(data = fine, batch_size = 128):\n",
    "    \"\"\"\n",
    "    Sample 3x6 rectangles from the fine grained data\n",
    "    \"\"\"\n",
    "    num_samples, xdim, ydim = data.shape\n",
    "    indices = np.random.randint(len(data), size = batch_size)\n",
    "    arr = []\n",
    "    for ind in indices:\n",
    "        x, y = np.random.randint(xdim, size = 2)\n",
    "        tmp = np.pad(data[ind], 6, mode = \"wrap\")[x:(x+3), y:(y+6)]\n",
    "        arr.append(tmp)\n",
    "    return np.stack(arr)\n",
    "        \n",
    "def get_xy():\n",
    "    data = sample_xy()\n",
    "    x = data[:, :3, :3].reshape(-1, 9)\n",
    "    y = data[:, :3, 3:].reshape(-1, 9)\n",
    "    return x, y\n"
   ]
  },
  {
   "cell_type": "code",
   "execution_count": 5,
   "metadata": {},
   "outputs": [
    {
     "data": {
      "text/plain": [
       "(array([[0, 0, 0, 0, 0, 0, 0, 0, 0],\n",
       "        [1, 0, 0, 0, 0, 0, 0, 0, 0],\n",
       "        [0, 0, 0, 1, 0, 0, 1, 0, 0],\n",
       "        [0, 0, 1, 0, 0, 1, 0, 0, 1],\n",
       "        [0, 0, 0, 0, 0, 0, 0, 0, 0],\n",
       "        [1, 1, 0, 0, 1, 0, 0, 0, 0],\n",
       "        [1, 1, 1, 1, 1, 1, 1, 1, 1],\n",
       "        [0, 1, 1, 0, 0, 0, 0, 0, 0],\n",
       "        [0, 0, 0, 0, 0, 0, 0, 0, 0],\n",
       "        [1, 1, 1, 1, 1, 1, 1, 1, 1]]), array([[0, 0, 0, 0, 0, 0, 0, 0, 0],\n",
       "        [0, 0, 1, 0, 0, 0, 0, 0, 0],\n",
       "        [1, 0, 1, 0, 0, 0, 0, 0, 0],\n",
       "        [0, 0, 0, 0, 0, 0, 1, 0, 0],\n",
       "        [0, 0, 0, 0, 0, 0, 0, 0, 0],\n",
       "        [1, 1, 1, 0, 0, 0, 0, 0, 0],\n",
       "        [1, 1, 1, 1, 1, 1, 1, 1, 1],\n",
       "        [1, 0, 0, 0, 0, 1, 0, 0, 0],\n",
       "        [1, 1, 0, 1, 1, 1, 1, 1, 1],\n",
       "        [1, 1, 1, 1, 1, 1, 1, 1, 0]]))"
      ]
     },
     "execution_count": 5,
     "metadata": {},
     "output_type": "execute_result"
    }
   ],
   "source": [
    "x, y = get_xy()\n",
    "x[:10], y[:10]"
   ]
  },
  {
   "cell_type": "code",
   "execution_count": 20,
   "metadata": {},
   "outputs": [
    {
     "name": "stderr",
     "output_type": "stream",
     "text": [
      "100%|██████████| 2000/2000 [00:31<00:00, 64.38it/s]\n"
     ]
    }
   ],
   "source": [
    "S=9\n",
    "H=15\n",
    "n_epoch = 2000\n",
    "data_size = 20000\n",
    "\n",
    "class Net(nn.Module):\n",
    "    def __init__(self):\n",
    "        super(Net, self).__init__()\n",
    "        self.x_fc1 = nn.Linear(S, S)\n",
    "        self.x_fc2 = nn.Linear(S, S)\n",
    "        self.x_fc3 = nn.Linear(S, H)\n",
    "        \n",
    "        self.y_fc1 = nn.Linear(S, S)\n",
    "        self.y_fc2 = nn.Linear(S, S)\n",
    "        self.y_fc3 = nn.Linear(S, H)\n",
    "        \n",
    "        self.fc3 = nn.Linear(H, 1)\n",
    "        \n",
    "        \n",
    "    def forward(self, x, y):\n",
    "        inter_x = x + F.relu(self.x_fc1(x))\n",
    "        inter_x = inter_x + F.relu(self.x_fc2(inter_x))\n",
    "        inter_x = self.x_fc3(inter_x)\n",
    "        \n",
    "        inter_y = y + F.relu(self.y_fc1(y))\n",
    "        inter_y = inter_y + F.relu(self.y_fc2(inter_y))\n",
    "        inter_y = self.y_fc3(inter_y)\n",
    "        \n",
    "        \n",
    "        h1 = F.relu(inter_x + inter_y)\n",
    "        h2 = self.fc3(h1)\n",
    "        return h2    \n",
    "\n",
    "model = Net()\n",
    "optimizer = torch.optim.SGD(model.parameters(), lr=0.002, momentum=0.9)\n",
    "plot_loss = []\n",
    "for epoch in tqdm(range(n_epoch)):\n",
    "    x_sample, y_sample=get_xy()\n",
    "    y_shuffle=np.random.permutation(y_sample)\n",
    "    \n",
    "    x_sample = Variable(torch.from_numpy(x_sample).type(torch.FloatTensor), requires_grad = True)\n",
    "    y_sample = Variable(torch.from_numpy(y_sample).type(torch.FloatTensor), requires_grad = True)\n",
    "    y_shuffle = Variable(torch.from_numpy(y_shuffle).type(torch.FloatTensor), requires_grad = True)    \n",
    "    \n",
    "    pred_xy = model(x_sample, y_sample)\n",
    "    pred_x_y = model(x_sample, y_shuffle)\n",
    "\n",
    "    ret = torch.mean(pred_xy) - torch.log(torch.mean(torch.exp(pred_x_y)))\n",
    "    loss = - ret  # maximize\n",
    "    plot_loss.append(loss.data.numpy())\n",
    "    model.zero_grad()\n",
    "    loss.backward()\n",
    "    optimizer.step()"
   ]
  },
  {
   "cell_type": "code",
   "execution_count": 21,
   "metadata": {},
   "outputs": [
    {
     "data": {
      "image/png": "[encoded data removed]",
      "text/plain": [
       "<Figure size 432x288 with 1 Axes>"
      ]
     },
     "metadata": {
      "needs_background": "light"
     },
     "output_type": "display_data"
    }
   ],
   "source": [
    "import matplotlib.pyplot as plt\n",
    "plt.plot(plot_loss)\n",
    "plt.show()"
   ]
  },
  {
   "cell_type": "code",
   "execution_count": 22,
   "metadata": {},
   "outputs": [
    {
     "name": "stdout",
     "output_type": "stream",
     "text": [
      "<bound method Module.parameters of Net(\n",
      "  (x_fc1): Linear(in_features=9, out_features=9, bias=True)\n",
      "  (x_fc2): Linear(in_features=9, out_features=9, bias=True)\n",
      "  (x_fc3): Linear(in_features=9, out_features=15, bias=True)\n",
      "  (y_fc1): Linear(in_features=9, out_features=9, bias=True)\n",
      "  (y_fc2): Linear(in_features=9, out_features=9, bias=True)\n",
      "  (y_fc3): Linear(in_features=9, out_features=15, bias=True)\n",
      "  (fc3): Linear(in_features=15, out_features=1, bias=True)\n",
      ")>\n",
      "Parameter containing:\n",
      "tensor([[-0.2024,  0.3144, -0.1407, -0.0241, -0.2911,  0.2497, -0.2274, -0.0521,\n",
      "          0.0135],\n",
      "        [ 0.3172,  0.1078,  0.4976, -0.0796,  0.2526,  0.1883,  0.1112, -0.2759,\n",
      "          0.1730],\n",
      "        [-0.0341,  0.2580,  0.2995,  0.1361, -0.0381,  0.2025,  0.0446,  0.3215,\n",
      "          0.0659],\n",
      "        [ 0.0224, -0.1906,  0.4629,  0.1273,  0.2260,  0.4661, -0.1531,  0.0786,\n",
      "          0.4210],\n",
      "        [-0.0189,  0.1458, -0.0267,  0.3596, -0.2041, -0.2131,  0.3172,  0.0826,\n",
      "          0.0392],\n",
      "        [-0.1602, -0.2035,  0.1462, -0.3069, -0.2558, -0.1507, -0.1875, -0.2770,\n",
      "          0.0764],\n",
      "        [-0.0451, -0.1848,  0.0123, -0.2568, -0.2186,  0.2518,  0.1371,  0.2505,\n",
      "          0.2385],\n",
      "        [-0.3071,  0.2629, -0.2410,  0.1365, -0.3322, -0.0872, -0.1389, -0.1963,\n",
      "         -0.1156],\n",
      "        [-0.3016, -0.0584, -0.0269,  0.1315, -0.1466, -0.0685,  0.0222,  0.1148,\n",
      "         -0.2391]], requires_grad=True)\n",
      "Parameter containing:\n",
      "tensor([ 0.2230,  0.1265,  0.3011,  0.1916,  0.3094, -0.1080, -0.1373, -0.2418,\n",
      "        -0.1553], requires_grad=True)\n",
      "Parameter containing:\n",
      "tensor([[ 0.1543, -0.3557,  0.1815,  0.0054, -0.2281,  0.0607, -0.0859,  0.1431,\n",
      "          0.2488],\n",
      "        [-0.0190, -0.1485, -0.0412,  0.1603, -0.1728,  0.1716,  0.1778, -0.3003,\n",
      "         -0.2193],\n",
      "        [-0.0610, -0.0129, -0.1289,  0.0270, -0.2597, -0.0845, -0.1978,  0.0877,\n",
      "          0.2726],\n",
      "        [-0.0045, -0.0699,  0.1710,  0.1669, -0.0533, -0.1298, -0.0149,  0.1191,\n",
      "          0.1429],\n",
      "        [ 0.2072,  0.2310,  0.3590,  0.3675, -0.2410,  0.2676,  0.2268,  0.1354,\n",
      "          0.2375],\n",
      "        [ 0.1044, -0.2369, -0.2759, -0.0407, -0.0866, -0.1817, -0.1625, -0.1291,\n",
      "         -0.2111],\n",
      "        [ 0.2539,  0.0141,  0.3306, -0.0116, -0.1154,  0.1230,  0.2083,  0.1301,\n",
      "          0.2308],\n",
      "        [ 0.1175, -0.2362,  0.0745, -0.2525, -0.2910, -0.1240,  0.1975,  0.0312,\n",
      "         -0.0130],\n",
      "        [ 0.1106,  0.2945, -0.1060,  0.2838, -0.3533,  0.3090,  0.1088,  0.2214,\n",
      "          0.4371]], requires_grad=True)\n",
      "Parameter containing:\n",
      "tensor([ 0.0426, -0.0745, -0.2022, -0.2382,  0.3031, -0.1608,  0.2190,  0.2640,\n",
      "        -0.2351], requires_grad=True)\n",
      "Parameter containing:\n",
      "tensor([[ 0.0698,  0.0570, -0.0450,  0.0641, -0.3879, -0.2682, -0.2685, -0.3186,\n",
      "         -0.2122],\n",
      "        [ 0.2466, -0.2180, -0.0790, -0.3232,  0.0293, -0.3504,  0.2616, -0.0826,\n",
      "         -0.0704],\n",
      "        [-0.0604,  0.0495, -0.1239, -0.3125, -0.2250,  0.0871,  0.2538,  0.1423,\n",
      "         -0.1783],\n",
      "        [-0.1230, -0.2174, -0.4231, -0.1570,  0.0395, -0.2089, -0.3422,  0.2702,\n",
      "         -0.6005],\n",
      "        [ 0.0085, -0.1273, -0.0139,  0.0607,  0.0098, -0.3067,  0.0808, -0.0650,\n",
      "         -0.2667],\n",
      "        [-0.0708, -0.3173,  0.1553,  0.1009,  0.1409, -0.2220, -0.2429, -0.2709,\n",
      "          0.2131],\n",
      "        [ 0.1243, -0.1138, -0.1584, -0.1289, -0.2245,  0.1956,  0.2054, -0.0402,\n",
      "          0.1737],\n",
      "        [-0.1568,  0.0994,  0.2122,  0.0240, -0.0555, -0.2262, -0.2567, -0.3228,\n",
      "         -0.1761],\n",
      "        [-0.1443, -0.3394, -0.2177, -0.1908,  0.3567,  0.2642,  0.1864,  0.3189,\n",
      "         -0.2799],\n",
      "        [-0.0251, -0.0044,  0.1430, -0.1470,  0.3123, -0.2824, -0.2371, -0.0808,\n",
      "         -0.2835],\n",
      "        [ 0.0416,  0.1489, -0.4399,  0.1411, -0.3195, -0.2051, -0.2762,  0.1158,\n",
      "          0.0853],\n",
      "        [-0.1593, -0.3205, -0.0103,  0.0509,  0.1144, -0.0959,  0.2531, -0.2947,\n",
      "         -0.1133],\n",
      "        [ 0.3210,  0.0592, -0.1177,  0.0347,  0.0517, -0.2575, -0.2303, -0.1300,\n",
      "          0.1526],\n",
      "        [-0.1788,  0.2152,  0.3601,  0.2862, -0.0360, -0.0211,  0.0185,  0.3291,\n",
      "          0.3775],\n",
      "        [ 0.1189,  0.1035,  0.2914, -0.0497,  0.3549,  0.3843,  0.4080, -0.0930,\n",
      "          0.3381]], requires_grad=True)\n",
      "Parameter containing:\n",
      "tensor([ 0.0033,  0.1463, -0.3047, -0.2696, -0.1361, -0.3282,  0.3272, -0.0657,\n",
      "         0.2235,  0.0115,  0.2732, -0.1696,  0.2866,  0.1593, -0.2687],\n",
      "       requires_grad=True)\n",
      "Parameter containing:\n",
      "tensor([[ 0.4043, -0.1195, -0.1294, -0.0387,  0.1839,  0.0600, -0.1721,  0.0066,\n",
      "         -0.0953],\n",
      "        [ 0.0622, -0.0402,  0.0922, -0.1529, -0.0351,  0.2907,  0.3773, -0.0141,\n",
      "          0.0165],\n",
      "        [-0.2289,  0.0363,  0.2920, -0.2851, -0.0901, -0.2021,  0.1834, -0.2703,\n",
      "         -0.0876],\n",
      "        [ 0.2576,  0.1403,  0.2756,  0.3768,  0.0437,  0.2645,  0.1987, -0.1678,\n",
      "         -0.1689],\n",
      "        [ 0.2983,  0.1332, -0.0208,  0.4119,  0.0058, -0.2064,  0.3446, -0.0845,\n",
      "         -0.2434],\n",
      "        [ 0.2978,  0.1033,  0.1019, -0.2715,  0.0791, -0.2246,  0.3321,  0.2769,\n",
      "         -0.0494],\n",
      "        [ 0.4691,  0.0157, -0.0469, -0.0217, -0.3236,  0.1573,  0.4410,  0.2172,\n",
      "          0.0817],\n",
      "        [-0.0370,  0.1662,  0.2305,  0.0335, -0.0464, -0.0918,  0.2884, -0.3155,\n",
      "         -0.1917],\n",
      "        [ 0.3264,  0.2271,  0.0491,  0.4096,  0.1497,  0.0520, -0.0900,  0.0628,\n",
      "          0.1605]], requires_grad=True)\n",
      "Parameter containing:\n",
      "tensor([ 0.1720, -0.0492, -0.0416, -0.2600,  0.1273,  0.2187, -0.1565,  0.2502,\n",
      "         0.1521], requires_grad=True)\n",
      "Parameter containing:\n",
      "tensor([[ 0.3919, -0.2681, -0.0231, -0.1401,  0.1577,  0.2391,  0.0320,  0.0227,\n",
      "          0.1141],\n",
      "        [ 0.2639, -0.3120, -0.2768,  0.0374, -0.2210, -0.1377, -0.1440,  0.3194,\n",
      "         -0.3096],\n",
      "        [ 0.2266, -0.0198,  0.0843,  0.3644,  0.1790,  0.1051,  0.1288,  0.2815,\n",
      "          0.0709],\n",
      "        [-0.2505, -0.3064,  0.1336,  0.0266,  0.2774,  0.1536,  0.1775, -0.0528,\n",
      "          0.1713],\n",
      "        [ 0.3307, -0.2715, -0.1049,  0.4731, -0.1687,  0.0304,  0.1665,  0.0689,\n",
      "          0.3018],\n",
      "        [-0.2277, -0.1453,  0.3117,  0.1672,  0.2725, -0.0527,  0.0716,  0.2054,\n",
      "         -0.0635],\n",
      "        [ 0.0138,  0.1883,  0.2104,  0.2267, -0.1579, -0.0341,  0.3400,  0.1764,\n",
      "          0.2713],\n",
      "        [-0.0480,  0.2974,  0.0951, -0.1648,  0.1066, -0.1576, -0.1996,  0.2559,\n",
      "         -0.2835],\n",
      "        [-0.0938, -0.2598,  0.2899, -0.0384, -0.2607,  0.0575,  0.3692,  0.3194,\n",
      "         -0.0487]], requires_grad=True)\n",
      "Parameter containing:\n",
      "tensor([ 0.0532,  0.2957,  0.0261,  0.0174,  0.0420, -0.1095, -0.2595, -0.2993,\n",
      "         0.2445], requires_grad=True)\n",
      "Parameter containing:\n",
      "tensor([[-0.2738, -0.0037,  0.3203,  0.0032,  0.1882,  0.3198,  0.1085,  0.1326,\n",
      "          0.0812],\n",
      "        [ 0.0621,  0.0402, -0.2033,  0.2026,  0.3048, -0.0456,  0.0687, -0.2365,\n",
      "         -0.0198],\n",
      "        [ 0.1275, -0.1379,  0.1603,  0.0131,  0.1348,  0.0350, -0.0422,  0.0353,\n",
      "         -0.0208],\n",
      "        [ 0.1942,  0.1470,  0.2549,  0.1010,  0.2921, -0.1941,  0.4971, -0.0872,\n",
      "          0.1321],\n",
      "        [ 0.0726, -0.2376,  0.1026, -0.2988, -0.2006, -0.0275,  0.2442, -0.0328,\n",
      "         -0.0388],\n",
      "        [-0.0395, -0.0510,  0.2307, -0.3347,  0.1378, -0.1501,  0.1140,  0.2421,\n",
      "         -0.1760],\n",
      "        [ 0.3348,  0.3197,  0.3117,  0.2725,  0.0826, -0.2132,  0.0984, -0.0138,\n",
      "          0.2609],\n",
      "        [-0.2060,  0.0340,  0.1376, -0.0531,  0.1059,  0.1846,  0.0556,  0.0824,\n",
      "          0.2542],\n",
      "        [-0.2554, -0.1575,  0.1459,  0.1067, -0.2356, -0.0117, -0.0680, -0.1045,\n",
      "          0.2475],\n",
      "        [ 0.3633,  0.1168,  0.2445, -0.1385, -0.0383,  0.2399,  0.1437,  0.2107,\n",
      "          0.1161],\n",
      "        [ 0.3927,  0.1967, -0.0018,  0.1546, -0.1380,  0.0247,  0.0332, -0.0673,\n",
      "          0.3042],\n",
      "        [-0.2292, -0.1534, -0.0562,  0.2681,  0.2477, -0.1994,  0.1508,  0.1645,\n",
      "         -0.1482],\n",
      "        [-0.2325, -0.3344,  0.2567,  0.2419,  0.3185,  0.2305,  0.1294, -0.0940,\n",
      "         -0.3014],\n",
      "        [-0.2309, -0.0487,  0.0740, -0.1894, -0.3112, -0.1133, -0.4313, -0.1306,\n",
      "         -0.1633],\n",
      "        [-0.0913, -0.3074,  0.0585, -0.0457, -0.1258,  0.1591, -0.2345,  0.2373,\n",
      "         -0.2942]], requires_grad=True)\n",
      "Parameter containing:\n",
      "tensor([ 0.1002, -0.2214,  0.1136,  0.0728,  0.1779, -0.1223,  0.2656,  0.1372,\n",
      "         0.0181, -0.1029,  0.2573, -0.0303, -0.0496, -0.2954,  0.1867],\n",
      "       requires_grad=True)\n",
      "Parameter containing:\n",
      "tensor([[-0.3922, -0.2444, -0.1348, -0.8950, -0.1811, -0.0316,  0.1370, -0.2465,\n",
      "          0.2531,  0.2770, -0.4205, -0.0061,  0.2064, -0.6288, -0.4885]],\n",
      "       requires_grad=True)\n",
      "Parameter containing:\n",
      "tensor([0.1934], requires_grad=True)\n"
     ]
    }
   ],
   "source": [
    "print(model.parameters)\n",
    "\n",
    "for p in model.parameters():\n",
    "    print(p)"
   ]
  },
  {
   "cell_type": "code",
   "execution_count": 25,
   "metadata": {},
   "outputs": [],
   "source": [
    "ising27 = np.load(\"../supervised_convnet/t_2.269/layer_by_layer/ising27x27coarsegrained_temp2.269.npy\")"
   ]
  },
  {
   "cell_type": "code",
   "execution_count": 26,
   "metadata": {},
   "outputs": [
    {
     "data": {
      "text/plain": [
       "<matplotlib.image.AxesImage at 0x12bd3feb8>"
      ]
     },
     "execution_count": 26,
     "metadata": {},
     "output_type": "execute_result"
    },
    {
     "data": {
      "image/png": "[encoded data removed]",
      "text/plain": [
       "<Figure size 432x288 with 1 Axes>"
      ]
     },
     "metadata": {
      "needs_background": "light"
     },
     "output_type": "display_data"
    }
   ],
   "source": [
    "plt.imshow(ising27[0])"
   ]
  },
  {
   "cell_type": "code",
   "execution_count": null,
   "metadata": {},
   "outputs": [],
   "source": []
  },
  {
   "cell_type": "code",
   "execution_count": 1,
   "metadata": {},
   "outputs": [
    {
     "data": {
      "text/plain": [
       "(10001, 1, 27, 27)"
      ]
     },
     "execution_count": 1,
     "metadata": {},
     "output_type": "execute_result"
    }
   ],
   "source": [
    "from glob import glob\n",
    "import matplotlib.pyplot as plt\n",
    "from tqdm import tqdm\n",
    "import numpy as np\n",
    "arrs = []\n",
    "# for arr in tqdm(glob(\"../data_2187_1571810501/*\")[2500:5000]):\n",
    "#     z = np.load(arr)['arr_0']\n",
    "#     x, y = np.random.randint(2187, size=2)\n",
    "#     z = np.pad(z, pad_width=27, mode='wrap')[x:(x+27), y:(y+27)]\n",
    "#     arrs.append(z)\n",
    "# arrs = np.stack(arrs)\n",
    "\n",
    "arrs = np.load(\"./ising27x27from2187x2187.npy\")[:, None, :, :]\n",
    "arrs.shape"
   ]
  },
  {
   "cell_type": "markdown",
   "metadata": {},
   "source": [
    "## Took 9x9 image from 2187x2187 equilibrium Ising\n",
    "Get 3x6 rectangles\n",
    "\n",
    "Use MINE to compute the MI of fine-grained model"
   ]
  },
  {
   "cell_type": "code",
   "execution_count": 1,
   "metadata": {},
   "outputs": [
    {
     "name": "stderr",
     "output_type": "stream",
     "text": [
      "100%|██████████| 100/100 [03:51<00:00,  2.31s/it]\n"
     ]
    }
   ],
   "source": [
    "from glob import glob\n",
    "import matplotlib.pyplot as plt\n",
    "from tqdm import tqdm\n",
    "import numpy as np\n",
    "arrs = []\n",
    "# for arr in tqdm(glob(\"../data_2187_1571810501/*\")[2500:5000]):\n",
    "#     z = np.load(arr)['arr_0']\n",
    "#     x, y = np.random.randint(2187, size=2)\n",
    "#     z = np.pad(z, pad_width=27, mode='wrap')[x:(x+27), y:(y+27)]\n",
    "#     arrs.append(z)\n",
    "# arrs = np.stack(arrs)\n",
    "\n",
    "arrs = np.load(\"./ising27x27from2187x2187.npy\")[:, None, :, :]\n",
    "arrs.shape\n",
    "\n",
    "import torch\n",
    "from torch.autograd import Variable\n",
    "import torch.nn as nn\n",
    "import torch.nn.functional as F\n",
    "S=9\n",
    "H=15\n",
    "n_epoch = 100\n",
    "data_size = 20000\n",
    "def pad_circular(x, pad):\n",
    "    \"\"\"\n",
    "    function inspired by https://github.com/pytorch/pytorch/issues/3858\n",
    "    :param x: shape [H, W]\n",
    "    :param pad: int >= 0\n",
    "    :return:\n",
    "    \"\"\"\n",
    "    x = torch.cat([x, x[0:pad]], dim=0)\n",
    "    x = torch.cat([x, x[:, 0:pad]], dim=1)\n",
    "    x = torch.cat([x[-2 * pad:-pad], x], dim=0)\n",
    "    x = torch.cat([x[:, -2 * pad:-pad], x], dim=1)\n",
    "\n",
    "    return x\n",
    "\n",
    "class Net(nn.Module):\n",
    "    def __init__(self, out_channels = 1, filter_size = 3):\n",
    "        super(Net, self).__init__()\n",
    "        \n",
    "        self.x_fc1 = nn.Linear(S, S)\n",
    "        self.x_fc2 = nn.Linear(S, S)\n",
    "        self.x_fc3 = nn.Linear(S, H)\n",
    "        \n",
    "        self.y_fc1 = nn.Linear(S, S)\n",
    "        self.y_fc2 = nn.Linear(S, S)\n",
    "        self.y_fc3 = nn.Linear(S, H)\n",
    "        \n",
    "        self.fc3 = nn.Linear(H, 1)\n",
    "        \n",
    "        self.conv1 = nn.Conv2d(1, out_channels, filter_size, padding=0, stride = filter_size)\n",
    "        \n",
    "        \n",
    "    def MI_net(self, x, y):\n",
    "        inter_x = x + F.relu(self.x_fc1(x))\n",
    "        inter_x = inter_x + F.relu(self.x_fc2(inter_x))\n",
    "        inter_x = self.x_fc3(inter_x)\n",
    "        \n",
    "        inter_y = y + F.relu(self.y_fc1(y))\n",
    "        inter_y = inter_y + F.relu(self.y_fc2(inter_y))\n",
    "        inter_y = self.y_fc3(inter_y)\n",
    "        \n",
    "        \n",
    "        h1 = F.relu(inter_x + inter_y)\n",
    "        h2 = self.fc3(h1)\n",
    "        return h2  \n",
    "    \n",
    "    def forward(self, x):\n",
    "        # coarse grain 27x27 model to get 9x9 model\n",
    "        x = (self.conv1(x))\n",
    "        \n",
    "        rectangle = []\n",
    "        # get a random 3x6 rectangle\n",
    "        for data in x:\n",
    "            i, j = np.random.randint(x.size()[2], size = 2) \n",
    "            rectangle.append( pad_circular(data[0], 6)[i:(i+3), j:(j+6)])\n",
    "            \n",
    "\n",
    "        rectangle = torch.stack(rectangle)\n",
    "        # separate rectangle into 2 patches of shape 3x3 \n",
    "        patch1 = rectangle[:, :3, :3].reshape(-1, 9)\n",
    "        patch2 = rectangle[:, :3, 3:].reshape(-1, 9)\n",
    "        patch2_shuffled = patch2[torch.randperm(patch2.shape[0])]\n",
    "        \n",
    "        # compute MI\n",
    "        pred_xy = self.MI_net(patch1, patch2)\n",
    "        pred_x_y = self.MI_net(patch1, patch2_shuffled)\n",
    "        ret = torch.mean(pred_xy) - torch.log(torch.mean(torch.exp(pred_x_y)))\n",
    "        return -ret\n",
    "        \n",
    "class IsingDataset(torch.utils.data.Dataset):\n",
    "    'Characterizes a dataset for PyTorch'\n",
    "    def __init__(self, arrs):\n",
    "        'Initialization'\n",
    "        self.arrs = torch.Tensor(arrs)\n",
    "\n",
    "    def __len__(self):\n",
    "        'Denotes the total number of samples'\n",
    "        return len(self.arrs)\n",
    "\n",
    "    def __getitem__(self, index):\n",
    "        'Generates one sample of data'\n",
    "        # Select sample\n",
    "        return self.arrs[index] \n",
    "    \n",
    "# Generators\n",
    "# Parameters\n",
    "params = {'batch_size': 64,\n",
    "          'shuffle': True,\n",
    "          'num_workers': 6}\n",
    "training_set = IsingDataset(arrs)\n",
    "training_generator = torch.utils.data.DataLoader(training_set, **params)\n",
    "\n",
    "model = Net()\n",
    "optimizer = torch.optim.SGD(model.parameters(), lr=0.002, momentum=0.9)\n",
    "plot_loss = []\n",
    "for epoch in tqdm(range(n_epoch)):\n",
    "    for batch_id, x in enumerate(training_generator):\n",
    "        loss = model(x)\n",
    "        plot_loss.append(loss.data.numpy())\n",
    "        model.zero_grad()\n",
    "        loss.backward()\n",
    "        optimizer.step()\n",
    "\n",
    "        \n",
    "        \n",
    "        "
   ]
  },
  {
   "cell_type": "code",
   "execution_count": null,
   "metadata": {},
   "outputs": [],
   "source": []
  },
  {
   "cell_type": "code",
   "execution_count": 15,
   "metadata": {},
   "outputs": [
    {
     "data": {
      "text/plain": [
       "[<matplotlib.lines.Line2D at 0x13079f550>]"
      ]
     },
     "execution_count": 15,
     "metadata": {},
     "output_type": "execute_result"
    },
    {
     "data": {
      "image/png": "[encoded data removed]",
      "text/plain": [
       "<Figure size 432x288 with 1 Axes>"
      ]
     },
     "metadata": {
      "needs_background": "light"
     },
     "output_type": "display_data"
    }
   ],
   "source": [
    "plt.plot(plot_loss)"
   ]
  },
  {
   "cell_type": "code",
   "execution_count": 80,
   "metadata": {},
   "outputs": [
    {
     "data": {
      "text/plain": [
       "<matplotlib.image.AxesImage at 0x11855c978>"
      ]
     },
     "execution_count": 80,
     "metadata": {},
     "output_type": "execute_result"
    },
    {
     "data": {
      "image/png": "[encoded data removed]",
      "text/plain": [
       "<Figure size 432x288 with 1 Axes>"
      ]
     },
     "metadata": {
      "needs_background": "light"
     },
     "output_type": "display_data"
    }
   ],
   "source": [
    "np.random.shuffle(arrs)\n",
    "plt.imshow(arrs[0, 0])"
   ]
  },
  {
   "cell_type": "code",
   "execution_count": 65,
   "metadata": {},
   "outputs": [
    {
     "data": {
      "text/plain": [
       "tensor([[[[1., 1., 1.,  ..., 1., 1., 1.],\n",
       "          [1., 1., 0.,  ..., 1., 1., 1.],\n",
       "          [1., 1., 1.,  ..., 1., 1., 1.],\n",
       "          ...,\n",
       "          [1., 1., 1.,  ..., 1., 1., 1.],\n",
       "          [1., 1., 1.,  ..., 1., 0., 0.],\n",
       "          [1., 1., 1.,  ..., 1., 0., 0.]]],\n",
       "\n",
       "\n",
       "        [[[1., 1., 1.,  ..., 1., 1., 1.],\n",
       "          [1., 1., 1.,  ..., 1., 1., 1.],\n",
       "          [1., 1., 1.,  ..., 1., 1., 1.],\n",
       "          ...,\n",
       "          [1., 1., 1.,  ..., 1., 1., 1.],\n",
       "          [1., 1., 1.,  ..., 1., 1., 1.],\n",
       "          [1., 1., 1.,  ..., 0., 1., 1.]]],\n",
       "\n",
       "\n",
       "        [[[0., 1., 1.,  ..., 1., 1., 0.],\n",
       "          [1., 1., 1.,  ..., 1., 1., 1.],\n",
       "          [1., 1., 1.,  ..., 1., 1., 1.],\n",
       "          ...,\n",
       "          [1., 1., 1.,  ..., 1., 1., 1.],\n",
       "          [1., 1., 1.,  ..., 1., 1., 1.],\n",
       "          [1., 1., 1.,  ..., 1., 1., 1.]]],\n",
       "\n",
       "\n",
       "        ...,\n",
       "\n",
       "\n",
       "        [[[1., 1., 0.,  ..., 1., 1., 1.],\n",
       "          [1., 1., 1.,  ..., 1., 1., 1.],\n",
       "          [1., 1., 1.,  ..., 1., 1., 1.],\n",
       "          ...,\n",
       "          [1., 1., 1.,  ..., 1., 1., 1.],\n",
       "          [1., 1., 1.,  ..., 1., 1., 1.],\n",
       "          [1., 1., 1.,  ..., 1., 1., 1.]]],\n",
       "\n",
       "\n",
       "        [[[1., 1., 1.,  ..., 0., 1., 1.],\n",
       "          [1., 1., 1.,  ..., 1., 0., 0.],\n",
       "          [1., 1., 1.,  ..., 1., 1., 0.],\n",
       "          ...,\n",
       "          [0., 0., 0.,  ..., 1., 1., 1.],\n",
       "          [0., 0., 0.,  ..., 0., 1., 1.],\n",
       "          [1., 1., 1.,  ..., 1., 1., 1.]]],\n",
       "\n",
       "\n",
       "        [[[1., 1., 1.,  ..., 0., 0., 1.],\n",
       "          [1., 1., 1.,  ..., 0., 0., 0.],\n",
       "          [1., 1., 1.,  ..., 1., 0., 0.],\n",
       "          ...,\n",
       "          [1., 0., 0.,  ..., 0., 0., 0.],\n",
       "          [1., 0., 0.,  ..., 0., 0., 0.],\n",
       "          [1., 0., 0.,  ..., 0., 0., 0.]]]])"
      ]
     },
     "execution_count": 65,
     "metadata": {},
     "output_type": "execute_result"
    }
   ],
   "source": [
    "x"
   ]
  },
  {
   "cell_type": "code",
   "execution_count": 16,
   "metadata": {},
   "outputs": [
    {
     "name": "stdout",
     "output_type": "stream",
     "text": [
      "Parameter containing:\n",
      "tensor([[-0.2183,  0.0446, -0.1543, -0.2001,  0.0173, -0.1787, -0.1593, -0.3256,\n",
      "         -0.1779],\n",
      "        [ 0.2136,  0.2964, -0.0557, -0.0617,  0.2429, -0.1353, -0.2834,  0.0016,\n",
      "          0.1671],\n",
      "        [-0.0634,  0.1111, -0.2247, -0.2405,  0.3307,  0.3318,  0.2806, -0.0792,\n",
      "          0.2257],\n",
      "        [ 0.1736, -0.3259, -0.2495, -0.3120, -0.1864, -0.2586, -0.1370, -0.2451,\n",
      "          0.0600],\n",
      "        [-0.2541, -0.3226, -0.1372,  0.2606,  0.1418,  0.1681,  0.0011,  0.0229,\n",
      "         -0.0042],\n",
      "        [-0.2612,  0.2640,  0.2153, -0.0742, -0.0288, -0.3304, -0.0844,  0.0261,\n",
      "         -0.0217],\n",
      "        [-0.2982, -0.0244,  0.2586, -0.1081,  0.1702, -0.1325,  0.1528, -0.1541,\n",
      "         -0.1726],\n",
      "        [ 0.2684, -0.2711, -0.0155,  0.1058, -0.3200, -0.0169, -0.2422,  0.1496,\n",
      "         -0.2119],\n",
      "        [ 0.2713,  0.0011,  0.1356, -0.0590,  0.1817,  0.3287, -0.1461, -0.1843,\n",
      "          0.0801]], requires_grad=True)\n",
      "Parameter containing:\n",
      "tensor([ 0.3069, -0.2396,  0.2099,  0.1930,  0.0370,  0.1997, -0.0194, -0.2651,\n",
      "         0.0777], requires_grad=True)\n",
      "Parameter containing:\n",
      "tensor([[ 2.6259e-01,  2.7748e-01,  1.5472e-01,  5.2794e-02,  3.0396e-01,\n",
      "          2.1216e-01,  2.0328e-01, -1.7172e-01,  2.2771e-01],\n",
      "        [-2.9571e-01, -3.2782e-02, -3.0822e-01, -3.3745e-02, -3.2989e-01,\n",
      "         -2.7392e-01,  1.2688e-01, -1.6118e-01,  2.5054e-01],\n",
      "        [-1.0170e-01, -8.5019e-02,  2.0360e-01,  7.4351e-02,  6.8696e-02,\n",
      "         -8.3154e-02, -3.2310e-01,  1.9919e-01, -1.0659e-01],\n",
      "        [ 4.3695e-02,  1.8952e-01,  2.1536e-01, -2.9419e-01, -2.0233e-01,\n",
      "          1.8394e-01,  3.0175e-01, -2.1906e-01, -9.1974e-02],\n",
      "        [ 2.9157e-01,  8.9558e-02, -2.4428e-01,  2.2941e-01,  1.3124e-01,\n",
      "          2.6064e-01, -2.1230e-02, -2.0212e-01, -2.8486e-01],\n",
      "        [-2.7965e-01,  4.3659e-02,  1.2503e-01, -1.9185e-01,  1.5239e-01,\n",
      "          2.6751e-02, -7.8279e-02,  5.3581e-02,  1.5924e-01],\n",
      "        [-1.4366e-01,  5.3383e-02, -3.2209e-01, -2.4150e-01,  1.7559e-01,\n",
      "         -2.8075e-01, -2.4468e-01, -2.1608e-01,  3.7354e-02],\n",
      "        [-2.8230e-01, -2.3803e-04, -1.1472e-01, -2.7340e-01,  6.1710e-02,\n",
      "         -3.2414e-01, -1.5574e-01, -1.9276e-01, -1.6043e-01],\n",
      "        [ 5.5325e-02,  1.8702e-02,  2.5221e-01, -2.6242e-01,  9.5283e-02,\n",
      "         -1.0478e-01, -2.5281e-01, -3.0378e-01, -2.0384e-01]],\n",
      "       requires_grad=True)\n",
      "Parameter containing:\n",
      "tensor([ 0.0841, -0.3191,  0.2402,  0.1297, -0.1688, -0.1614,  0.3112,  0.2265,\n",
      "        -0.0533], requires_grad=True)\n",
      "Parameter containing:\n",
      "tensor([[-0.0665, -0.3130,  0.1700,  0.1382,  0.0494, -0.0327, -0.0021, -0.1007,\n",
      "         -0.2664],\n",
      "        [ 0.0134,  0.1473, -0.0475, -0.0279, -0.1655,  0.0407,  0.3071, -0.1134,\n",
      "         -0.0140],\n",
      "        [-0.0203,  0.1183, -0.0803, -0.2247,  0.1389, -0.1673, -0.2456, -0.0357,\n",
      "          0.2054],\n",
      "        [-0.1198, -0.2025,  0.2854,  0.0438,  0.1466,  0.0608,  0.1148, -0.2374,\n",
      "          0.2894],\n",
      "        [-0.2450, -0.2646,  0.0293, -0.1796, -0.1720, -0.0182,  0.1113,  0.1227,\n",
      "         -0.2160],\n",
      "        [-0.0892,  0.1758, -0.0795,  0.0640,  0.0220,  0.2209, -0.0625, -0.0779,\n",
      "          0.3064],\n",
      "        [ 0.2473, -0.3297,  0.2103, -0.0275, -0.0774,  0.3023,  0.1078, -0.0426,\n",
      "          0.1840],\n",
      "        [ 0.1921,  0.1467,  0.3046,  0.2034, -0.1110,  0.0688, -0.1311,  0.3203,\n",
      "          0.0850],\n",
      "        [-0.2417, -0.1202,  0.2681, -0.1003, -0.1723,  0.2413,  0.1965, -0.0271,\n",
      "          0.3149],\n",
      "        [-0.0867,  0.0773,  0.0952,  0.0828,  0.0578,  0.0394,  0.1521, -0.1862,\n",
      "         -0.1619],\n",
      "        [-0.1247, -0.2115,  0.2716,  0.1498,  0.2377, -0.0602,  0.0891,  0.2104,\n",
      "          0.3177],\n",
      "        [ 0.1321,  0.1681,  0.2272,  0.1194, -0.2339,  0.0078, -0.0292,  0.0545,\n",
      "          0.0931],\n",
      "        [-0.1464,  0.0575,  0.1917, -0.0367, -0.0434,  0.2838,  0.2480,  0.1464,\n",
      "         -0.1874],\n",
      "        [-0.2378,  0.0096, -0.3085,  0.0821,  0.2186,  0.2955, -0.1985,  0.2052,\n",
      "         -0.1026],\n",
      "        [-0.3018, -0.0349, -0.2569,  0.1712, -0.2916,  0.2720, -0.1228,  0.0826,\n",
      "         -0.1014]], requires_grad=True)\n",
      "Parameter containing:\n",
      "tensor([ 0.0112,  0.2969,  0.2749,  0.2124, -0.1835, -0.2110,  0.1114,  0.0987,\n",
      "        -0.0144, -0.2790,  0.1443, -0.1513, -0.2470, -0.1758,  0.2553],\n",
      "       requires_grad=True)\n",
      "Parameter containing:\n",
      "tensor([[-0.2318,  0.1387,  0.0546, -0.0703, -0.0136, -0.2986, -0.1777, -0.1636,\n",
      "         -0.3054],\n",
      "        [-0.2725, -0.0957,  0.2877,  0.1075,  0.1074,  0.1767,  0.1387, -0.0349,\n",
      "          0.1455],\n",
      "        [-0.0548,  0.2434, -0.1700, -0.0127, -0.0700,  0.2964, -0.2745,  0.2727,\n",
      "         -0.0804],\n",
      "        [-0.0407,  0.3201, -0.2971, -0.1988,  0.0123,  0.3226, -0.1648, -0.0748,\n",
      "         -0.0852],\n",
      "        [-0.1279,  0.1969, -0.0389,  0.2024, -0.2633, -0.0208,  0.0527,  0.2823,\n",
      "         -0.3006],\n",
      "        [-0.2462, -0.0094,  0.0181, -0.1401,  0.3019,  0.3089,  0.0250, -0.0103,\n",
      "          0.0067],\n",
      "        [ 0.0048, -0.0647,  0.1123, -0.1375, -0.2392,  0.1396, -0.2015, -0.1975,\n",
      "          0.1600],\n",
      "        [ 0.0528,  0.2101,  0.3092, -0.2325,  0.2130, -0.1228, -0.1529, -0.3126,\n",
      "         -0.0568],\n",
      "        [ 0.0422, -0.1303, -0.1493,  0.2929,  0.1177, -0.1980,  0.2677, -0.1535,\n",
      "          0.1803]], requires_grad=True)\n",
      "Parameter containing:\n",
      "tensor([ 0.3037,  0.2995, -0.0153,  0.1946,  0.0386,  0.1950,  0.0247,  0.1460,\n",
      "        -0.0982], requires_grad=True)\n",
      "Parameter containing:\n",
      "tensor([[ 0.1642,  0.0774,  0.1599,  0.2307,  0.3019, -0.1491, -0.1657, -0.1265,\n",
      "          0.0432],\n",
      "        [ 0.1387, -0.0259, -0.0099, -0.1027,  0.1559, -0.1724, -0.0379,  0.2673,\n",
      "         -0.3303],\n",
      "        [ 0.3290, -0.0114,  0.0720,  0.0868, -0.0110,  0.0994, -0.0122, -0.3071,\n",
      "         -0.0085],\n",
      "        [ 0.1580,  0.2821, -0.1934, -0.2889, -0.1324,  0.1349, -0.0475,  0.3364,\n",
      "          0.3133],\n",
      "        [ 0.1393,  0.2218,  0.0868,  0.2637, -0.2064, -0.0950,  0.1557, -0.3052,\n",
      "          0.0261],\n",
      "        [-0.0892, -0.2399, -0.1284, -0.1700,  0.3104,  0.0665,  0.1660,  0.1018,\n",
      "         -0.2531],\n",
      "        [-0.0290,  0.0885, -0.1245, -0.2772, -0.2374,  0.0834,  0.1232,  0.0666,\n",
      "          0.0259],\n",
      "        [ 0.1300,  0.0385, -0.2860, -0.1071, -0.1909, -0.1300, -0.1931, -0.1896,\n",
      "          0.1492],\n",
      "        [ 0.2305,  0.2357, -0.2841, -0.1773, -0.3204, -0.0513, -0.1629, -0.2871,\n",
      "         -0.0544]], requires_grad=True)\n",
      "Parameter containing:\n",
      "tensor([-0.2237, -0.0164, -0.1233,  0.0091,  0.2775, -0.2404, -0.2252,  0.0736,\n",
      "        -0.3089], requires_grad=True)\n",
      "Parameter containing:\n",
      "tensor([[-0.2654, -0.1800,  0.1567,  0.2631,  0.2411,  0.1745,  0.0891,  0.0439,\n",
      "         -0.0585],\n",
      "        [ 0.2458, -0.1566,  0.3088,  0.3018,  0.2951,  0.3261, -0.1818, -0.3097,\n",
      "          0.1302],\n",
      "        [ 0.1844, -0.2387, -0.1200, -0.3187, -0.1358, -0.1762, -0.1631, -0.0284,\n",
      "          0.3124],\n",
      "        [ 0.0847, -0.0770,  0.0830,  0.1754, -0.1000, -0.2937,  0.2395,  0.0643,\n",
      "          0.2960],\n",
      "        [-0.2931,  0.2229,  0.2664, -0.1430,  0.2561,  0.2793, -0.0015, -0.0110,\n",
      "          0.0428],\n",
      "        [ 0.1567,  0.3191, -0.1273, -0.2260,  0.2395, -0.2385,  0.2206, -0.0840,\n",
      "         -0.3273],\n",
      "        [-0.0374,  0.3102, -0.2927,  0.1507,  0.1577, -0.0223, -0.0240,  0.3053,\n",
      "         -0.0039],\n",
      "        [ 0.2804,  0.0502,  0.3266,  0.0464,  0.1402,  0.0016, -0.1783, -0.0718,\n",
      "          0.0848],\n",
      "        [ 0.1905, -0.3138,  0.2283,  0.1948,  0.1543,  0.1555,  0.1189, -0.1186,\n",
      "          0.2351],\n",
      "        [ 0.2881,  0.1364, -0.1585, -0.0141, -0.3294, -0.2756, -0.2303, -0.2350,\n",
      "         -0.1051],\n",
      "        [-0.1619,  0.0078, -0.2533, -0.1632,  0.3231, -0.2189,  0.1597,  0.0426,\n",
      "         -0.1530],\n",
      "        [ 0.1239,  0.3166, -0.0617,  0.1131, -0.2061,  0.0152, -0.2254, -0.2092,\n",
      "         -0.2853],\n",
      "        [ 0.1660,  0.0746,  0.0107,  0.1047, -0.2732, -0.2875,  0.1083,  0.2478,\n",
      "         -0.3147],\n",
      "        [-0.1898,  0.2221,  0.0756, -0.0920,  0.0853,  0.1671, -0.2625, -0.0580,\n",
      "         -0.1320],\n",
      "        [-0.2383, -0.1307,  0.0832,  0.0744, -0.3324, -0.0739,  0.2042, -0.2316,\n",
      "         -0.2258]], requires_grad=True)\n",
      "Parameter containing:\n",
      "tensor([ 0.2836, -0.1089,  0.2024,  0.0982, -0.1068,  0.2200,  0.0593, -0.2815,\n",
      "        -0.0851,  0.1483, -0.1707,  0.1523, -0.2100, -0.0599,  0.1645],\n",
      "       requires_grad=True)\n",
      "Parameter containing:\n",
      "tensor([[ 0.0875, -0.0612, -0.1273,  0.0783,  0.0700, -0.0172, -0.0745, -0.0533,\n",
      "          0.0055, -0.1853, -0.0212,  0.1908,  0.1969, -0.1869, -0.0236]],\n",
      "       requires_grad=True)\n",
      "Parameter containing:\n",
      "tensor([-0.0991], requires_grad=True)\n",
      "Parameter containing:\n",
      "tensor([[[[ 0.0474, -0.1916,  0.0786],\n",
      "          [-0.1009,  0.2057, -0.0542],\n",
      "          [ 0.0963, -0.2252,  0.1327]]]], requires_grad=True)\n",
      "Parameter containing:\n",
      "tensor([0.2314], requires_grad=True)\n"
     ]
    }
   ],
   "source": [
    "for p in model.parameters():\n",
    "    print(p)"
   ]
  },
  {
   "cell_type": "code",
   "execution_count": 69,
   "metadata": {},
   "outputs": [
    {
     "data": {
      "text/plain": [
       "-0.013199999999999962"
      ]
     },
     "execution_count": 69,
     "metadata": {},
     "output_type": "execute_result"
    }
   ],
   "source": [
    "np.sum([-0.0069, -0.1340, -0.2858, 0.1158 , 0.0656])+0.2321"
   ]
  },
  {
   "cell_type": "code",
   "execution_count": 17,
   "metadata": {},
   "outputs": [],
   "source": [
    "model_new = torch.load(\"./model1\")\n"
   ]
  },
  {
   "cell_type": "code",
   "execution_count": 18,
   "metadata": {},
   "outputs": [
    {
     "name": "stdout",
     "output_type": "stream",
     "text": [
      "Parameter containing:\n",
      "tensor([[-0.2416, -0.1384, -0.0750,  0.0696, -0.1495,  0.0446, -0.2089, -0.1212,\n",
      "          0.3529],\n",
      "        [ 0.0423,  0.0182, -0.1014,  0.2105,  0.1594, -0.1010, -0.2043,  0.2894,\n",
      "         -0.1138],\n",
      "        [-0.0507, -0.1224,  0.2920,  0.0892, -0.1562,  0.1920, -0.1611, -0.1079,\n",
      "         -0.1617],\n",
      "        [ 0.2255,  0.2059, -0.2575,  0.0580,  0.2410,  0.2314, -0.2205, -0.0277,\n",
      "         -0.0512],\n",
      "        [-0.0133, -0.2488, -0.0874,  0.1844, -0.0780,  0.0692,  0.2565,  0.1403,\n",
      "          0.1287],\n",
      "        [ 0.1161,  0.1599,  0.1824, -0.1020,  0.2033, -0.1107, -0.0732, -0.2342,\n",
      "         -0.0682],\n",
      "        [ 0.1511, -0.1561, -0.0006,  0.1638,  0.1103,  0.1276, -0.2214,  0.0425,\n",
      "         -0.0461],\n",
      "        [ 0.2223,  0.1070,  0.2554,  0.0338,  0.0118,  0.1134,  0.1501, -0.0868,\n",
      "         -0.0097],\n",
      "        [ 0.1882,  0.2096, -0.1455,  0.0891, -0.3372,  0.2274,  0.2028, -0.2311,\n",
      "          0.0652]], requires_grad=True)\n",
      "Parameter containing:\n",
      "tensor([ 0.0055,  0.0650,  0.2860, -0.1854,  0.2398, -0.2009, -0.0162, -0.0925,\n",
      "        -0.1602], requires_grad=True)\n",
      "Parameter containing:\n",
      "tensor([[-0.2130,  0.0802,  0.1121, -0.2957, -0.0437,  0.2388,  0.2886,  0.1601,\n",
      "         -0.0271],\n",
      "        [ 0.0759, -0.0221,  0.2649, -0.1026,  0.2525, -0.0074, -0.1777,  0.2668,\n",
      "          0.1890],\n",
      "        [-0.0566,  0.0594,  0.2470,  0.0033,  0.1612,  0.0080,  0.0295,  0.0880,\n",
      "          0.0996],\n",
      "        [-0.1729,  0.1013, -0.0064,  0.1361,  0.2467,  0.3290, -0.1708,  0.0702,\n",
      "          0.2088],\n",
      "        [-0.0759, -0.1360,  0.2904,  0.2134, -0.4407, -0.1776, -0.1919,  0.2421,\n",
      "         -0.0202],\n",
      "        [-0.1316, -0.0852,  0.1354,  0.0652, -0.1107, -0.1156, -0.0375,  0.0022,\n",
      "          0.2808],\n",
      "        [ 0.2828, -0.0147,  0.1496, -0.2812,  0.0775, -0.0008, -0.0683,  0.0548,\n",
      "          0.1431],\n",
      "        [ 0.0231, -0.0336, -0.0368,  0.0425, -0.1954, -0.2365, -0.0171, -0.0420,\n",
      "          0.4484],\n",
      "        [ 0.3163, -0.2008,  0.0923, -0.0651,  0.0191, -0.2593, -0.0858, -0.1266,\n",
      "          0.0135]], requires_grad=True)\n",
      "Parameter containing:\n",
      "tensor([-0.2910,  0.3536, -0.0716,  0.0857,  0.2879,  0.2943,  0.1233,  0.3241,\n",
      "        -0.1314], requires_grad=True)\n",
      "Parameter containing:\n",
      "tensor([[ 0.2896,  0.0029, -0.1069,  0.1923,  0.0277,  0.0593,  0.0104,  0.1187,\n",
      "          0.4773],\n",
      "        [ 0.0065,  0.1556,  0.5369, -0.0290,  0.0749,  0.4889,  0.1898,  0.0719,\n",
      "          0.3471],\n",
      "        [ 0.2001, -0.1517,  0.0295,  0.0544,  0.1281,  0.2669, -0.1669,  0.0452,\n",
      "         -0.2846],\n",
      "        [-0.4303, -0.0211, -0.3025, -0.0465, -0.1135,  0.1972, -0.2426,  0.0148,\n",
      "          0.1828],\n",
      "        [ 0.0634,  0.0302, -0.1721, -0.0176,  0.2933,  0.1287,  0.0564, -0.2429,\n",
      "         -0.3173],\n",
      "        [-0.0292, -0.2121, -0.2517,  0.0584,  0.1168, -0.1519,  0.0969,  0.1203,\n",
      "          0.2059],\n",
      "        [-0.0765,  0.2293,  0.2222, -0.0783, -0.1916, -0.4304, -0.0494,  0.2359,\n",
      "          0.0426],\n",
      "        [ 0.0069, -0.0798, -0.3647,  0.0336,  0.1432,  0.3419, -0.1249,  0.1221,\n",
      "          0.3632],\n",
      "        [ 0.0465,  0.0147,  0.0704, -0.1102, -0.2022, -0.3465, -0.2423, -0.2059,\n",
      "         -0.2765],\n",
      "        [ 0.0281,  0.0737, -0.4905, -0.1335,  0.0652, -0.1522, -0.1091, -0.0248,\n",
      "          0.0265],\n",
      "        [ 0.3176, -0.1901,  0.3236, -0.0650, -0.1267,  0.2130,  0.1473, -0.2178,\n",
      "          0.0369],\n",
      "        [ 0.2230,  0.1755, -0.2975, -0.0096,  0.2850, -0.0466,  0.3839,  0.1411,\n",
      "          0.0087],\n",
      "        [ 0.0852,  0.1936,  0.1843,  0.2479, -0.1786, -0.2469, -0.2174,  0.1955,\n",
      "         -0.1908],\n",
      "        [-0.1415, -0.0600,  0.5309, -0.1340,  0.1003,  0.3322, -0.0859, -0.1262,\n",
      "          0.0644],\n",
      "        [-0.0177, -0.0814,  0.0721, -0.0188,  0.0878, -0.1553, -0.2678, -0.0474,\n",
      "         -0.5195]], requires_grad=True)\n",
      "Parameter containing:\n",
      "tensor([-0.0825, -0.2634,  0.3228,  0.1516,  0.0353,  0.2056, -0.0896,  0.0585,\n",
      "         0.1570, -0.0908, -0.0870, -0.0519,  0.2534,  0.2941, -0.0128],\n",
      "       requires_grad=True)\n",
      "Parameter containing:\n",
      "tensor([[ 0.0891, -0.0144,  0.1802,  0.1608, -0.0053, -0.1574,  0.2532, -0.1176,\n",
      "         -0.0326],\n",
      "        [ 0.0908, -0.0503,  0.2016, -0.1583,  0.2348,  0.0741, -0.1489, -0.1422,\n",
      "          0.0280],\n",
      "        [-0.2097, -0.2321, -0.1141,  0.0217,  0.0894, -0.3668,  0.4187, -0.1106,\n",
      "         -0.1151],\n",
      "        [ 0.1265, -0.1736,  0.0504, -0.0764, -0.2818, -0.2152, -0.1193,  0.2578,\n",
      "         -0.0275],\n",
      "        [-0.1678, -0.0738,  0.2983, -0.2265,  0.1790,  0.3146,  0.3935,  0.0012,\n",
      "          0.2317],\n",
      "        [ 0.1969, -0.2216, -0.0033, -0.1666, -0.1200,  0.2491,  0.0692,  0.1371,\n",
      "          0.1027],\n",
      "        [-0.2106,  0.0392, -0.1896,  0.1625, -0.0338, -0.1213,  0.0530, -0.2989,\n",
      "          0.2633],\n",
      "        [-0.3405, -0.0260,  0.1157, -0.2504, -0.1611, -0.0887,  0.0287, -0.0807,\n",
      "         -0.0514],\n",
      "        [ 0.1176, -0.0730,  0.2125, -0.1927,  0.1702, -0.1273, -0.0528, -0.2302,\n",
      "         -0.0461]], requires_grad=True)\n",
      "Parameter containing:\n",
      "tensor([-0.2559, -0.3918,  0.0725, -0.2150, -0.0689, -0.2516,  0.1336,  0.3092,\n",
      "        -0.3939], requires_grad=True)\n",
      "Parameter containing:\n",
      "tensor([[ 0.1097, -0.1024, -0.1836,  0.2069, -0.0571, -0.1298, -0.1829, -0.0526,\n",
      "          0.2770],\n",
      "        [-0.0866, -0.3413,  0.2685, -0.1793,  0.0634,  0.2361,  0.1766,  0.1017,\n",
      "          0.1294],\n",
      "        [ 0.2277, -0.2905,  0.1313, -0.0963,  0.0362, -0.1466,  0.0684, -0.1425,\n",
      "         -0.0549],\n",
      "        [ 0.1166,  0.2233, -0.1317,  0.3001,  0.3180, -0.2466, -0.1462,  0.2108,\n",
      "         -0.1849],\n",
      "        [ 0.0570,  0.2664, -0.0514,  0.1778,  0.1756, -0.3188,  0.2359,  0.2147,\n",
      "         -0.2856],\n",
      "        [ 0.2413, -0.2163,  0.2122,  0.3261,  0.1675, -0.1672,  0.0875,  0.2715,\n",
      "          0.3804],\n",
      "        [-0.0229,  0.1433, -0.1505,  0.1352, -0.2256,  0.2245,  0.0458,  0.0114,\n",
      "          0.1505],\n",
      "        [ 0.2102,  0.0173,  0.0212, -0.0771, -0.1325, -0.1416,  0.2024,  0.0843,\n",
      "          0.2569],\n",
      "        [-0.3342, -0.2520,  0.1965, -0.1998,  0.2442,  0.2562,  0.0348, -0.1000,\n",
      "         -0.0711]], requires_grad=True)\n",
      "Parameter containing:\n",
      "tensor([-0.1166, -0.2953, -0.0396, -0.1741, -0.1654,  0.4064, -0.2987, -0.1626,\n",
      "        -0.0584], requires_grad=True)\n",
      "Parameter containing:\n",
      "tensor([[ 0.1270, -0.2784, -0.0641,  0.2424, -0.0894, -0.0996, -0.3687, -0.2565,\n",
      "         -0.0189],\n",
      "        [-0.6889, -0.1298, -0.1323, -0.3890,  0.0700, -0.2445, -0.3315,  0.0321,\n",
      "          0.0837],\n",
      "        [ 0.2797,  0.1993, -0.1950,  0.3563, -0.2678, -0.1885,  0.1554, -0.2484,\n",
      "          0.1180],\n",
      "        [ 0.3578,  0.3471,  0.0999, -0.1055, -0.0872,  0.2624, -0.2481, -0.1165,\n",
      "          0.0149],\n",
      "        [-0.1066,  0.0740, -0.1079,  0.1616,  0.0142,  0.1161, -0.3873, -0.0328,\n",
      "          0.0660],\n",
      "        [ 0.3716, -0.0487,  0.1874,  0.2927,  0.0405, -0.0250, -0.1224, -0.0536,\n",
      "         -0.0960],\n",
      "        [ 0.2203,  0.2422, -0.0158, -0.5735, -0.0157, -0.1763, -0.0284,  0.0267,\n",
      "          0.1424],\n",
      "        [-0.3167, -0.0777,  0.2562,  0.1072,  0.0111,  0.0067,  0.4832,  0.1384,\n",
      "          0.1065],\n",
      "        [ 0.1163,  0.0510,  0.0026, -0.0068,  0.0791,  0.0441,  0.2604,  0.0037,\n",
      "          0.1972],\n",
      "        [ 0.4067, -0.0084, -0.0911,  0.1623, -0.1330,  0.2370,  0.0161, -0.1174,\n",
      "          0.0443],\n",
      "        [-0.3121,  0.1174,  0.1497,  0.1391,  0.2493, -0.2020,  0.0110,  0.2127,\n",
      "          0.1045],\n",
      "        [ 0.1477, -0.0056, -0.1562, -0.1653,  0.0862, -0.4243, -0.2900, -0.0461,\n",
      "         -0.4013],\n",
      "        [-0.0509,  0.3115, -0.1291,  0.0091,  0.0178,  0.1594, -0.0898, -0.0031,\n",
      "         -0.1490],\n",
      "        [ 0.4520, -0.1732,  0.1964,  0.1088, -0.0168,  0.0608, -0.1468, -0.1472,\n",
      "         -0.2796],\n",
      "        [ 0.2606,  0.0937,  0.2436,  0.1312, -0.0792,  0.1784,  0.6609,  0.1314,\n",
      "         -0.0076]], requires_grad=True)\n",
      "Parameter containing:\n",
      "tensor([-0.1024,  0.0106, -0.2018,  0.1635, -0.2441,  0.1716,  0.1319, -0.0998,\n",
      "        -0.2217, -0.1105, -0.0284, -0.1998, -0.2887,  0.2309,  0.1731],\n",
      "       requires_grad=True)\n",
      "Parameter containing:\n",
      "tensor([[-0.3749, -0.8307,  0.1332, -0.4747,  0.3663, -0.2996,  0.4166,  0.5219,\n",
      "         -0.3047, -0.4404, -0.1046, -0.3196,  0.1155,  0.3722, -0.7636]],\n",
      "       requires_grad=True)\n",
      "Parameter containing:\n",
      "tensor([0.0865], requires_grad=True)\n",
      "Parameter containing:\n",
      "tensor([[[[-0.5702, -0.1241, -0.5649],\n",
      "          [-0.4798, -0.0602, -0.4879],\n",
      "          [-0.5770, -0.1165, -0.5768]]]], requires_grad=True)\n",
      "Parameter containing:\n",
      "tensor([0.7113], requires_grad=True)\n"
     ]
    }
   ],
   "source": [
    "for p in model_new.parameters():\n",
    "    print(p)"
   ]
  },
  {
   "cell_type": "markdown",
   "metadata": {},
   "source": [
    "## Took 9x9 image from 2187x2187 equilibrium Ising with a 3x3 filter to Coarse-grain to 3x3\n",
    "\n",
    "Get 1x2 rectangles\n",
    "\n",
    "Use MINE to compute the MI of fine-grained model\n"
   ]
  },
  {
   "cell_type": "code",
   "execution_count": null,
   "metadata": {},
   "outputs": [
    {
     "name": "stderr",
     "output_type": "stream",
     "text": [
      " 18%|█▊        | 18/100 [01:15<05:44,  4.21s/it]"
     ]
    }
   ],
   "source": [
    "from glob import glob\n",
    "import matplotlib.pyplot as plt\n",
    "from tqdm import tqdm\n",
    "import numpy as np\n",
    "arrs = []\n",
    "# for arr in tqdm(glob(\"../data_2187_1571810501/*\")[2500:5000]):\n",
    "#     z = np.load(arr)['arr_0']\n",
    "#     x, y = np.random.randint(2187, size=2)\n",
    "#     z = np.pad(z, pad_width=27, mode='wrap')[x:(x+27), y:(y+27)]\n",
    "#     arrs.append(z)\n",
    "# arrs = np.stack(arrs)\n",
    "\n",
    "arrs = np.load(\"./ising27x27from2187x2187.npy\")[:, None, :, :]\n",
    "arrs = np.pad(arrs, [(0, 0), (0, 0), (9, 9), (9, 9)], mode='wrap') \n",
    "\n",
    "import torch\n",
    "from torch.autograd import Variable\n",
    "import torch.nn as nn\n",
    "import torch.nn.functional as F\n",
    "S=9\n",
    "H=15\n",
    "n_epoch = 100\n",
    "data_size = 20000\n",
    "def pad_circular(x, pad):\n",
    "    \"\"\"\n",
    "    function inspired by https://github.com/pytorch/pytorch/issues/3858\n",
    "    :param x: shape [H, W]\n",
    "    :param pad: int >= 0\n",
    "    :return:\n",
    "    \"\"\"\n",
    "    x = torch.cat([x, x[0:pad]], dim=0)\n",
    "    x = torch.cat([x, x[:, 0:pad]], dim=1)\n",
    "    x = torch.cat([x[-2 * pad:-pad], x], dim=0)\n",
    "    x = torch.cat([x[:, -2 * pad:-pad], x], dim=1)\n",
    "\n",
    "    return x\n",
    "\n",
    "class Net(nn.Module):\n",
    "    def __init__(self, out_channels = 1, filter_size = 3):\n",
    "        super(Net, self).__init__()\n",
    "        \n",
    "        self.x_fc1 = nn.Linear(1, S)\n",
    "        self.x_fc2 = nn.Linear(S, S)\n",
    "        self.x_fc3 = nn.Linear(S, H)\n",
    "        \n",
    "        self.y_fc1 = nn.Linear(1, S)\n",
    "        self.y_fc2 = nn.Linear(S, S)\n",
    "        self.y_fc3 = nn.Linear(S, H)\n",
    "        \n",
    "        self.fc3 = nn.Linear(H, 1)\n",
    "        \n",
    "        self.conv1 = nn.Conv2d(1, out_channels, filter_size, padding=0, stride = filter_size)\n",
    "        \n",
    "        \n",
    "    def MI_net(self, x, y):\n",
    "        inter_x = F.relu(self.x_fc1(x))\n",
    "        inter_x = inter_x + F.relu(self.x_fc2(inter_x))\n",
    "        inter_x = self.x_fc3(inter_x)\n",
    "        \n",
    "        inter_y = F.relu(self.y_fc1(y))\n",
    "        inter_y = inter_y + F.relu(self.y_fc2(inter_y))\n",
    "        inter_y = self.y_fc3(inter_y)\n",
    "        \n",
    "        \n",
    "        h1 = F.relu(inter_x + inter_y)\n",
    "        h2 = self.fc3(h1)\n",
    "        return h2  \n",
    "    \n",
    "    def forward(self, x):\n",
    "        # get 9x9 model from 27x27 data: random crop\n",
    "        i, j = np.random.randint(9, size = 2) \n",
    "        x = x[:, :, i:(i+9),j:(j+9)]\n",
    "        \n",
    "        # coarse grain 9x9 model to get 3x3 model\n",
    "        x = (self.conv1(x))\n",
    "        \n",
    "        \n",
    "        rectangle = []\n",
    "        # get a random 1x2 rectangle\n",
    "        for data in x:\n",
    "            i, j = np.random.randint(3, size = 2) \n",
    "            rectangle.append( pad_circular(data[0], 2)[i, j:(j+2)])\n",
    "            \n",
    "\n",
    "        rectangle = torch.stack(rectangle)\n",
    "        # separate rectangle into 2 patches of shape 3x3 \n",
    "        patch1 = rectangle[:, 0].reshape(-1, 1)\n",
    "        patch2 = rectangle[:, 1].reshape(-1, 1)\n",
    "        patch2_shuffled = patch2[torch.randperm(patch2.shape[0])]\n",
    "        \n",
    "        # compute MI\n",
    "        pred_xy = self.MI_net(patch1, patch2)\n",
    "        pred_x_y = self.MI_net(patch1, patch2_shuffled)\n",
    "        ret = torch.mean(pred_xy) - torch.log(torch.mean(torch.exp(pred_x_y)))\n",
    "        return -ret\n",
    "        \n",
    "class IsingDataset(torch.utils.data.Dataset):\n",
    "    'Characterizes a dataset for PyTorch'\n",
    "    def __init__(self, arrs):\n",
    "        'Initialization'\n",
    "        self.arrs = torch.Tensor(arrs)\n",
    "\n",
    "    def __len__(self):\n",
    "        'Denotes the total number of samples'\n",
    "        return len(self.arrs)\n",
    "\n",
    "    def __getitem__(self, index):\n",
    "        'Generates one sample of data'\n",
    "        # Select sample\n",
    "        return self.arrs[index] \n",
    "    \n",
    "# Generators\n",
    "# Parameters\n",
    "params = {'batch_size': 256*2,\n",
    "          'shuffle': True,\n",
    "          'num_workers': 6}\n",
    "training_set = IsingDataset(arrs)\n",
    "training_generator = torch.utils.data.DataLoader(training_set, **params)\n",
    "\n",
    "model = Net()\n",
    "optimizer = torch.optim.SGD(model.parameters(), lr=0.002, momentum=0.9)\n",
    "plot_loss = []\n",
    "for epoch in tqdm(range(n_epoch)):\n",
    "    for batch_id, x in enumerate(training_generator):\n",
    "        loss = model(x)\n",
    "        plot_loss.append(loss.data.numpy())\n",
    "        model.zero_grad()\n",
    "        loss.backward()\n",
    "        optimizer.step()\n",
    "\n",
    "        \n",
    "        \n",
    "        "
   ]
  },
  {
   "cell_type": "code",
   "execution_count": 77,
   "metadata": {},
   "outputs": [
    {
     "data": {
      "text/plain": [
       "[<matplotlib.lines.Line2D at 0x130d6c1d0>]"
      ]
     },
     "execution_count": 77,
     "metadata": {},
     "output_type": "execute_result"
    },
    {
     "data": {
      "image/png": "[encoded data removed]",
      "text/plain": [
       "<Figure size 432x288 with 1 Axes>"
      ]
     },
     "metadata": {
      "needs_background": "light"
     },
     "output_type": "display_data"
    }
   ],
   "source": [
    "plt.plot(plot_loss)"
   ]
  },
  {
   "cell_type": "code",
   "execution_count": 79,
   "metadata": {},
   "outputs": [
    {
     "name": "stdout",
     "output_type": "stream",
     "text": [
      "Parameter containing:\n",
      "tensor([[-0.6540],\n",
      "        [-0.5533],\n",
      "        [-0.6793],\n",
      "        [ 0.4195],\n",
      "        [ 0.8548],\n",
      "        [-0.4211],\n",
      "        [-0.3385],\n",
      "        [-0.8258],\n",
      "        [-0.9614]], requires_grad=True)\n",
      "Parameter containing:\n",
      "tensor([-0.2122,  0.8114, -0.3395, -0.3440,  0.5217,  0.4026, -0.4980, -0.1230,\n",
      "         0.2377], requires_grad=True)\n",
      "Parameter containing:\n",
      "tensor([[-0.3367,  0.1492,  0.1795,  0.1639,  0.2649, -0.1195, -0.1380, -0.1987,\n",
      "         -0.0603],\n",
      "        [-0.1603, -0.0099, -0.0516, -0.2591, -0.0333, -0.0957, -0.2553,  0.2500,\n",
      "         -0.2745],\n",
      "        [ 0.2105, -0.1913, -0.1776,  0.1131, -0.1708,  0.0107, -0.3013,  0.1438,\n",
      "         -0.2675],\n",
      "        [ 0.2748,  0.1357, -0.1312, -0.3143,  0.2188, -0.3339,  0.3055,  0.1435,\n",
      "          0.2665],\n",
      "        [ 0.3128, -0.1590, -0.3159,  0.1602, -0.0722,  0.1636, -0.2494, -0.3329,\n",
      "          0.0961],\n",
      "        [-0.3098,  0.2042, -0.0654, -0.0881,  0.2716,  0.2125,  0.1114, -0.1945,\n",
      "         -0.3072],\n",
      "        [ 0.0612,  0.2347, -0.1426,  0.2602, -0.0601,  0.2410,  0.3035, -0.2038,\n",
      "         -0.2837],\n",
      "        [-0.0433,  0.2661,  0.1241,  0.2660, -0.0810, -0.0642,  0.2182,  0.3192,\n",
      "         -0.0123],\n",
      "        [-0.0518,  0.2471,  0.1020,  0.1027,  0.0587,  0.0142,  0.2663,  0.0253,\n",
      "         -0.0018]], requires_grad=True)\n",
      "Parameter containing:\n",
      "tensor([ 0.1586, -0.2973, -0.0226, -0.1515,  0.0042,  0.3592,  0.2207, -0.0058,\n",
      "        -0.1712], requires_grad=True)\n",
      "Parameter containing:\n",
      "tensor([[-4.3333e-01,  3.3264e-01,  1.3494e-01, -3.3807e-01, -5.1382e-01,\n",
      "         -1.1410e-01, -2.6907e-01,  2.1308e-01,  2.3630e-01],\n",
      "        [ 1.1803e-01,  2.4222e-01, -2.4793e-01, -2.0564e-01,  1.8139e-01,\n",
      "          2.0447e-01,  2.1766e-01, -2.1109e-01, -1.5844e-01],\n",
      "        [-1.7759e-01, -6.7753e-02,  1.0704e-01,  6.4992e-02, -2.9035e-01,\n",
      "         -8.5606e-02,  2.3928e-01,  8.1817e-02,  2.4503e-01],\n",
      "        [ 2.5613e-01,  4.0255e-02,  4.0571e-02,  2.1943e-01, -7.5653e-02,\n",
      "          5.8909e-02, -1.5131e-02, -6.1345e-03,  1.0541e-01],\n",
      "        [ 5.7820e-02,  1.3644e-01,  3.1240e-01,  1.6015e-01, -1.9854e-01,\n",
      "          7.9131e-02, -2.2976e-01,  3.2118e-01,  1.0428e-01],\n",
      "        [-8.1077e-03, -8.2936e-02, -1.0105e-01,  8.2783e-02,  4.5667e-02,\n",
      "         -5.1336e-02, -2.1892e-01,  1.7148e-02,  2.3963e-02],\n",
      "        [ 3.2715e-01,  2.3162e-01,  1.0571e-01,  6.7724e-02,  2.1854e-01,\n",
      "          2.1600e-01,  4.3366e-02,  2.8546e-01,  3.7617e-01],\n",
      "        [-3.0841e-01, -3.0463e-01,  1.8673e-01,  8.9121e-02,  5.4300e-02,\n",
      "         -3.2905e-01,  5.2620e-02, -2.0960e-01, -1.7006e-01],\n",
      "        [-2.2796e-01, -4.5325e-01, -1.3810e-01, -1.0970e-01,  4.7683e-02,\n",
      "         -2.1970e-01, -1.1874e-01, -3.2262e-01,  6.6755e-03],\n",
      "        [-2.9994e-01, -1.4310e-01,  1.6051e-02, -8.0895e-02, -2.3055e-01,\n",
      "         -1.1756e-01,  2.5009e-01, -6.7257e-02, -1.8690e-01],\n",
      "        [ 3.2047e-01, -2.1574e-01,  9.0925e-02, -8.9073e-02,  2.9847e-01,\n",
      "          2.5482e-01, -1.1883e-01,  7.6111e-02, -2.5200e-01],\n",
      "        [-2.2446e-01, -2.6545e-01, -1.9674e-01,  2.4912e-01, -3.0441e-01,\n",
      "          3.1230e-01,  2.3003e-01, -3.1459e-01,  1.5337e-01],\n",
      "        [ 2.9700e-01,  1.5727e-01, -2.8816e-01, -1.2128e-01, -4.0186e-01,\n",
      "          7.9639e-02,  1.5336e-01, -1.8493e-01,  3.3044e-01],\n",
      "        [-1.2266e-01, -2.4201e-01, -1.5406e-01, -2.3053e-01, -1.0181e-01,\n",
      "         -1.9503e-01, -1.4882e-01, -1.1507e-02, -1.8829e-01],\n",
      "        [ 4.7871e-02, -3.1743e-01,  1.4395e-01, -4.7089e-02,  2.4535e-01,\n",
      "          1.9482e-01, -9.6378e-05,  2.1187e-01,  3.7200e-02]],\n",
      "       requires_grad=True)\n",
      "Parameter containing:\n",
      "tensor([ 0.2270,  0.0514,  0.0756, -0.1575,  0.0617,  0.2802, -0.2865, -0.2858,\n",
      "        -0.1031,  0.1505, -0.0535, -0.2823, -0.1412, -0.0987, -0.3161],\n",
      "       requires_grad=True)\n",
      "Parameter containing:\n",
      "tensor([[ 0.2470],\n",
      "        [ 0.0804],\n",
      "        [ 0.2275],\n",
      "        [ 0.2124],\n",
      "        [-0.5911],\n",
      "        [-0.1702],\n",
      "        [-0.4249],\n",
      "        [-1.0823],\n",
      "        [ 0.8961]], requires_grad=True)\n",
      "Parameter containing:\n",
      "tensor([-0.3330,  0.5359, -0.7684, -0.8406,  0.0565, -0.9242,  0.4323,  0.3452,\n",
      "         0.6062], requires_grad=True)\n",
      "Parameter containing:\n",
      "tensor([[-0.0969, -0.1337, -0.3279,  0.2253, -0.0387, -0.0460, -0.0331, -0.1252,\n",
      "          0.1672],\n",
      "        [ 0.2058, -0.0832,  0.1866, -0.1967,  0.1693,  0.1652, -0.3160, -0.1551,\n",
      "         -0.1866],\n",
      "        [ 0.0071, -0.2408, -0.1985,  0.1403,  0.2914, -0.1304, -0.1501, -0.0324,\n",
      "          0.2567],\n",
      "        [-0.0284, -0.1210,  0.1436, -0.3272, -0.1207,  0.2152,  0.1569, -0.1597,\n",
      "         -0.0375],\n",
      "        [ 0.2221, -0.0640, -0.2048, -0.1434, -0.0188, -0.2878,  0.1765,  0.3059,\n",
      "         -0.0287],\n",
      "        [-0.2170, -0.3011, -0.1040, -0.2554, -0.0356, -0.0257,  0.1908, -0.1442,\n",
      "         -0.1091],\n",
      "        [ 0.2709,  0.2648, -0.1116,  0.0185, -0.1341, -0.1940,  0.1171, -0.0896,\n",
      "          0.2372],\n",
      "        [ 0.0132, -0.1768, -0.1694, -0.0595,  0.3500, -0.1293,  0.1199,  0.1470,\n",
      "         -0.0893],\n",
      "        [-0.3050,  0.0607, -0.0549, -0.0270, -0.2522, -0.2133, -0.2149, -0.1455,\n",
      "          0.3532]], requires_grad=True)\n",
      "Parameter containing:\n",
      "tensor([ 0.1330,  0.0059,  0.2978,  0.0506,  0.2611,  0.0459,  0.2589,  0.1424,\n",
      "        -0.0502], requires_grad=True)\n",
      "Parameter containing:\n",
      "tensor([[-0.1362, -0.1599, -0.2300, -0.1413, -0.0049, -0.2589, -0.1322,  0.2907,\n",
      "         -0.3960],\n",
      "        [ 0.0146,  0.2098, -0.0675, -0.0249, -0.0778,  0.2236,  0.3723, -0.2152,\n",
      "          0.3066],\n",
      "        [-0.1462, -0.1644, -0.0792, -0.2100,  0.1368,  0.3257, -0.3388,  0.1606,\n",
      "         -0.3680],\n",
      "        [ 0.1971,  0.1801, -0.0326,  0.3105,  0.2043, -0.2096,  0.2572,  0.2322,\n",
      "         -0.0518],\n",
      "        [ 0.1105,  0.3460,  0.3425, -0.2202, -0.1769,  0.2971, -0.1338, -0.3095,\n",
      "          0.0980],\n",
      "        [ 0.0360,  0.2638,  0.0886, -0.3168, -0.0464, -0.2729,  0.0546,  0.1641,\n",
      "          0.0799],\n",
      "        [ 0.0578,  0.1540,  0.0324, -0.0190,  0.3519, -0.1628, -0.0778, -0.0087,\n",
      "         -0.1223],\n",
      "        [-0.0873, -0.0648, -0.1227, -0.2229, -0.0033, -0.0227,  0.3058, -0.0082,\n",
      "         -0.0497],\n",
      "        [-0.0400,  0.1266,  0.1241, -0.3309,  0.1733, -0.3258, -0.0017,  0.6174,\n",
      "          0.0939],\n",
      "        [-0.2831, -0.0202, -0.1806,  0.2106, -0.1322, -0.0717, -0.0626, -0.1465,\n",
      "         -0.2483],\n",
      "        [ 0.1609,  0.3404, -0.0530, -0.1968,  0.0241,  0.1433, -0.2470,  0.0834,\n",
      "         -0.0443],\n",
      "        [-0.3049, -0.0074, -0.0639,  0.1076, -0.2262, -0.1963, -0.1341, -0.1769,\n",
      "          0.1136],\n",
      "        [ 0.1446,  0.3508, -0.1359,  0.1058, -0.0066,  0.1511,  0.1298,  0.1451,\n",
      "         -0.3806],\n",
      "        [-0.1051, -0.2810, -0.1945,  0.3069,  0.0602,  0.2203, -0.2521, -0.2621,\n",
      "          0.1207],\n",
      "        [-0.0776, -0.2327,  0.1572,  0.1368,  0.0923, -0.2334,  0.0234, -0.2348,\n",
      "         -0.2707]], requires_grad=True)\n",
      "Parameter containing:\n",
      "tensor([-0.1795,  0.0698, -0.4232, -0.0508, -0.2520,  0.1955,  0.0873, -0.2975,\n",
      "        -0.1310,  0.1304,  0.3428,  0.0978,  0.1189, -0.0348, -0.0482],\n",
      "       requires_grad=True)\n",
      "Parameter containing:\n",
      "tensor([[ 0.7636,  0.4756,  0.6343, -0.1556, -0.5627, -0.0603, -0.3393, -0.0471,\n",
      "         -0.7517,  0.1944,  0.0769,  0.1190,  0.4011,  0.1513,  0.2271]],\n",
      "       requires_grad=True)\n",
      "Parameter containing:\n",
      "tensor([-0.1068], requires_grad=True)\n",
      "Parameter containing:\n",
      "tensor([[[[-0.5498, -0.1706, -0.5649],\n",
      "          [-0.3288, -0.0165, -0.3457],\n",
      "          [-0.5398, -0.1751, -0.5449]]]], requires_grad=True)\n",
      "Parameter containing:\n",
      "tensor([0.6877], requires_grad=True)\n"
     ]
    }
   ],
   "source": [
    "for p in model.parameters():\n",
    "    print(p)"
   ]
  },
  {
   "cell_type": "markdown",
   "metadata": {},
   "source": [
    "## 2 channels"
   ]
  },
  {
   "cell_type": "code",
   "execution_count": 5,
   "metadata": {},
   "outputs": [
    {
     "name": "stderr",
     "output_type": "stream",
     "text": [
      "  1%|          | 1/100 [00:08<14:14,  8.63s/it]"
     ]
    },
    {
     "name": "stdout",
     "output_type": "stream",
     "text": [
      "No interaction MI: Loss 0.0015777573\n"
     ]
    },
    {
     "name": "stderr",
     "output_type": "stream",
     "text": [
      "\r",
      "  2%|▏         | 2/100 [00:16<13:44,  8.42s/it]"
     ]
    },
    {
     "name": "stdout",
     "output_type": "stream",
     "text": [
      "No interaction MI: Loss 0.0011266284\n"
     ]
    },
    {
     "name": "stderr",
     "output_type": "stream",
     "text": [
      "\r",
      "  3%|▎         | 3/100 [00:24<13:23,  8.29s/it]"
     ]
    },
    {
     "name": "stdout",
     "output_type": "stream",
     "text": [
      "No interaction MI: Loss 0.0015241783\n"
     ]
    },
    {
     "name": "stderr",
     "output_type": "stream",
     "text": [
      "\r",
      "  4%|▍         | 4/100 [00:32<13:13,  8.26s/it]"
     ]
    },
    {
     "name": "stdout",
     "output_type": "stream",
     "text": [
      "No interaction MI: Loss 0.0010597985\n"
     ]
    },
    {
     "name": "stderr",
     "output_type": "stream",
     "text": [
      "\r",
      "  5%|▌         | 5/100 [00:41<13:19,  8.41s/it]"
     ]
    },
    {
     "name": "stdout",
     "output_type": "stream",
     "text": [
      "No interaction MI: Loss 0.0011695474\n"
     ]
    },
    {
     "name": "stderr",
     "output_type": "stream",
     "text": [
      "\r",
      "  6%|▌         | 6/100 [00:49<12:55,  8.25s/it]"
     ]
    },
    {
     "name": "stdout",
     "output_type": "stream",
     "text": [
      "No interaction MI: Loss 0.0015885122\n"
     ]
    },
    {
     "name": "stderr",
     "output_type": "stream",
     "text": [
      "\r",
      "  7%|▋         | 7/100 [00:57<12:40,  8.18s/it]"
     ]
    },
    {
     "name": "stdout",
     "output_type": "stream",
     "text": [
      "No interaction MI: Loss 0.0016809497\n"
     ]
    },
    {
     "name": "stderr",
     "output_type": "stream",
     "text": [
      "\r",
      "  8%|▊         | 8/100 [01:05<12:27,  8.13s/it]"
     ]
    },
    {
     "name": "stdout",
     "output_type": "stream",
     "text": [
      "No interaction MI: Loss 0.0016332753\n"
     ]
    },
    {
     "name": "stderr",
     "output_type": "stream",
     "text": [
      "\r",
      "  9%|▉         | 9/100 [01:13<12:14,  8.07s/it]"
     ]
    },
    {
     "name": "stdout",
     "output_type": "stream",
     "text": [
      "No interaction MI: Loss 0.0016189292\n"
     ]
    },
    {
     "name": "stderr",
     "output_type": "stream",
     "text": [
      "\r",
      " 10%|█         | 10/100 [01:21<12:01,  8.02s/it]"
     ]
    },
    {
     "name": "stdout",
     "output_type": "stream",
     "text": [
      "No interaction MI: Loss 0.000974942\n"
     ]
    },
    {
     "name": "stderr",
     "output_type": "stream",
     "text": [
      "\r",
      " 11%|█         | 11/100 [01:29<12:02,  8.11s/it]"
     ]
    },
    {
     "name": "stdout",
     "output_type": "stream",
     "text": [
      "No interaction MI: Loss 0.0016813334\n"
     ]
    },
    {
     "name": "stderr",
     "output_type": "stream",
     "text": [
      "\r",
      " 12%|█▏        | 12/100 [01:37<11:51,  8.09s/it]"
     ]
    },
    {
     "name": "stdout",
     "output_type": "stream",
     "text": [
      "No interaction MI: Loss 0.0014321562\n"
     ]
    },
    {
     "name": "stderr",
     "output_type": "stream",
     "text": [
      "\r",
      " 13%|█▎        | 13/100 [01:46<11:58,  8.26s/it]"
     ]
    },
    {
     "name": "stdout",
     "output_type": "stream",
     "text": [
      "No interaction MI: Loss 0.0010317359\n"
     ]
    },
    {
     "name": "stderr",
     "output_type": "stream",
     "text": [
      "\r",
      " 14%|█▍        | 14/100 [01:55<12:15,  8.55s/it]"
     ]
    },
    {
     "name": "stdout",
     "output_type": "stream",
     "text": [
      "No interaction MI: Loss 0.001021482\n"
     ]
    },
    {
     "name": "stderr",
     "output_type": "stream",
     "text": [
      "\r",
      " 15%|█▌        | 15/100 [02:04<12:21,  8.73s/it]"
     ]
    },
    {
     "name": "stdout",
     "output_type": "stream",
     "text": [
      "No interaction MI: Loss 0.0010697525\n"
     ]
    },
    {
     "name": "stderr",
     "output_type": "stream",
     "text": [
      "\r",
      " 16%|█▌        | 16/100 [02:13<12:28,  8.91s/it]"
     ]
    },
    {
     "name": "stdout",
     "output_type": "stream",
     "text": [
      "No interaction MI: Loss 0.0009996034\n"
     ]
    },
    {
     "name": "stderr",
     "output_type": "stream",
     "text": [
      "\r",
      " 17%|█▋        | 17/100 [02:23<12:30,  9.04s/it]"
     ]
    },
    {
     "name": "stdout",
     "output_type": "stream",
     "text": [
      "No interaction MI: Loss 0.001931563\n"
     ]
    },
    {
     "name": "stderr",
     "output_type": "stream",
     "text": [
      "\r",
      " 18%|█▊        | 18/100 [02:32<12:28,  9.12s/it]"
     ]
    },
    {
     "name": "stdout",
     "output_type": "stream",
     "text": [
      "No interaction MI: Loss 0.0009673927\n"
     ]
    },
    {
     "name": "stderr",
     "output_type": "stream",
     "text": [
      "\r",
      " 19%|█▉        | 19/100 [02:41<12:21,  9.15s/it]"
     ]
    },
    {
     "name": "stdout",
     "output_type": "stream",
     "text": [
      "No interaction MI: Loss 0.0008722581\n"
     ]
    },
    {
     "name": "stderr",
     "output_type": "stream",
     "text": [
      "\r",
      " 20%|██        | 20/100 [02:51<12:12,  9.16s/it]"
     ]
    },
    {
     "name": "stdout",
     "output_type": "stream",
     "text": [
      "No interaction MI: Loss 0.0015033968\n"
     ]
    },
    {
     "name": "stderr",
     "output_type": "stream",
     "text": [
      "\r",
      " 21%|██        | 21/100 [03:00<12:08,  9.22s/it]"
     ]
    },
    {
     "name": "stdout",
     "output_type": "stream",
     "text": [
      "No interaction MI: Loss 0.0018826313\n"
     ]
    },
    {
     "name": "stderr",
     "output_type": "stream",
     "text": [
      "\r",
      " 22%|██▏       | 22/100 [03:09<12:01,  9.25s/it]"
     ]
    },
    {
     "name": "stdout",
     "output_type": "stream",
     "text": [
      "No interaction MI: Loss 0.001702236\n"
     ]
    },
    {
     "name": "stderr",
     "output_type": "stream",
     "text": [
      "\r",
      " 23%|██▎       | 23/100 [03:19<11:55,  9.29s/it]"
     ]
    },
    {
     "name": "stdout",
     "output_type": "stream",
     "text": [
      "No interaction MI: Loss 0.0008808691\n"
     ]
    },
    {
     "name": "stderr",
     "output_type": "stream",
     "text": [
      "\r",
      " 24%|██▍       | 24/100 [03:28<11:41,  9.23s/it]"
     ]
    },
    {
     "name": "stdout",
     "output_type": "stream",
     "text": [
      "No interaction MI: Loss 0.0014981795\n"
     ]
    },
    {
     "name": "stderr",
     "output_type": "stream",
     "text": [
      "\r",
      " 25%|██▌       | 25/100 [03:37<11:33,  9.25s/it]"
     ]
    },
    {
     "name": "stdout",
     "output_type": "stream",
     "text": [
      "No interaction MI: Loss 0.0011151601\n"
     ]
    },
    {
     "name": "stderr",
     "output_type": "stream",
     "text": [
      "\r",
      " 26%|██▌       | 26/100 [03:46<11:24,  9.25s/it]"
     ]
    },
    {
     "name": "stdout",
     "output_type": "stream",
     "text": [
      "No interaction MI: Loss 0.0014994685\n"
     ]
    },
    {
     "name": "stderr",
     "output_type": "stream",
     "text": [
      "\r",
      " 27%|██▋       | 27/100 [03:55<11:12,  9.22s/it]"
     ]
    },
    {
     "name": "stdout",
     "output_type": "stream",
     "text": [
      "No interaction MI: Loss 0.0016303994\n"
     ]
    },
    {
     "name": "stderr",
     "output_type": "stream",
     "text": [
      "\r",
      " 28%|██▊       | 28/100 [04:05<11:04,  9.23s/it]"
     ]
    },
    {
     "name": "stdout",
     "output_type": "stream",
     "text": [
      "No interaction MI: Loss 0.0012019109\n"
     ]
    },
    {
     "name": "stderr",
     "output_type": "stream",
     "text": [
      "\r",
      " 29%|██▉       | 29/100 [04:14<10:57,  9.26s/it]"
     ]
    },
    {
     "name": "stdout",
     "output_type": "stream",
     "text": [
      "No interaction MI: Loss 0.00081690773\n"
     ]
    },
    {
     "name": "stderr",
     "output_type": "stream",
     "text": [
      "\r",
      " 30%|███       | 30/100 [04:23<10:53,  9.34s/it]"
     ]
    },
    {
     "name": "stdout",
     "output_type": "stream",
     "text": [
      "No interaction MI: Loss 0.0009142924\n"
     ]
    },
    {
     "name": "stderr",
     "output_type": "stream",
     "text": [
      "\r",
      " 31%|███       | 31/100 [04:33<10:41,  9.30s/it]"
     ]
    },
    {
     "name": "stdout",
     "output_type": "stream",
     "text": [
      "No interaction MI: Loss 0.0008808598\n"
     ]
    },
    {
     "name": "stderr",
     "output_type": "stream",
     "text": [
      "\r",
      " 32%|███▏      | 32/100 [04:42<10:30,  9.27s/it]"
     ]
    },
    {
     "name": "stdout",
     "output_type": "stream",
     "text": [
      "No interaction MI: Loss 0.0015492681\n"
     ]
    },
    {
     "name": "stderr",
     "output_type": "stream",
     "text": [
      "\r",
      " 33%|███▎      | 33/100 [04:51<10:26,  9.35s/it]"
     ]
    },
    {
     "name": "stdout",
     "output_type": "stream",
     "text": [
      "No interaction MI: Loss 0.0006835554\n"
     ]
    },
    {
     "name": "stderr",
     "output_type": "stream",
     "text": [
      "\r",
      " 34%|███▍      | 34/100 [05:01<10:15,  9.33s/it]"
     ]
    },
    {
     "name": "stdout",
     "output_type": "stream",
     "text": [
      "No interaction MI: Loss 0.0015430711\n"
     ]
    },
    {
     "name": "stderr",
     "output_type": "stream",
     "text": [
      "\r",
      " 35%|███▌      | 35/100 [05:10<10:05,  9.32s/it]"
     ]
    },
    {
     "name": "stdout",
     "output_type": "stream",
     "text": [
      "No interaction MI: Loss 0.0013779607\n"
     ]
    },
    {
     "name": "stderr",
     "output_type": "stream",
     "text": [
      "\r",
      " 36%|███▌      | 36/100 [05:19<09:55,  9.31s/it]"
     ]
    },
    {
     "name": "stdout",
     "output_type": "stream",
     "text": [
      "No interaction MI: Loss 0.0008797031\n"
     ]
    },
    {
     "name": "stderr",
     "output_type": "stream",
     "text": [
      "\r",
      " 37%|███▋      | 37/100 [05:29<09:44,  9.28s/it]"
     ]
    },
    {
     "name": "stdout",
     "output_type": "stream",
     "text": [
      "No interaction MI: Loss 0.0009291563\n"
     ]
    },
    {
     "name": "stderr",
     "output_type": "stream",
     "text": [
      "\r",
      " 38%|███▊      | 38/100 [05:38<09:40,  9.37s/it]"
     ]
    },
    {
     "name": "stdout",
     "output_type": "stream",
     "text": [
      "No interaction MI: Loss 0.001000328\n"
     ]
    },
    {
     "name": "stderr",
     "output_type": "stream",
     "text": [
      "\r",
      " 39%|███▉      | 39/100 [05:47<09:26,  9.29s/it]"
     ]
    },
    {
     "name": "stdout",
     "output_type": "stream",
     "text": [
      "No interaction MI: Loss 0.0008029267\n"
     ]
    },
    {
     "name": "stderr",
     "output_type": "stream",
     "text": [
      "\r",
      " 40%|████      | 40/100 [05:56<09:16,  9.27s/it]"
     ]
    },
    {
     "name": "stdout",
     "output_type": "stream",
     "text": [
      "No interaction MI: Loss 0.0009141918\n"
     ]
    },
    {
     "name": "stderr",
     "output_type": "stream",
     "text": [
      "\r",
      " 41%|████      | 41/100 [06:06<09:06,  9.26s/it]"
     ]
    },
    {
     "name": "stdout",
     "output_type": "stream",
     "text": [
      "No interaction MI: Loss 0.0014674645\n"
     ]
    },
    {
     "name": "stderr",
     "output_type": "stream",
     "text": [
      "\r",
      " 42%|████▏     | 42/100 [06:15<08:55,  9.23s/it]"
     ]
    },
    {
     "name": "stdout",
     "output_type": "stream",
     "text": [
      "No interaction MI: Loss 0.00090965815\n"
     ]
    },
    {
     "name": "stderr",
     "output_type": "stream",
     "text": [
      "\r",
      " 43%|████▎     | 43/100 [06:24<08:48,  9.28s/it]"
     ]
    },
    {
     "name": "stdout",
     "output_type": "stream",
     "text": [
      "No interaction MI: Loss 0.0013000127\n"
     ]
    },
    {
     "name": "stderr",
     "output_type": "stream",
     "text": [
      "\r",
      " 44%|████▍     | 44/100 [06:34<08:42,  9.33s/it]"
     ]
    },
    {
     "name": "stdout",
     "output_type": "stream",
     "text": [
      "No interaction MI: Loss 0.0010123886\n"
     ]
    },
    {
     "name": "stderr",
     "output_type": "stream",
     "text": [
      "\r",
      " 45%|████▌     | 45/100 [06:43<08:30,  9.27s/it]"
     ]
    },
    {
     "name": "stdout",
     "output_type": "stream",
     "text": [
      "No interaction MI: Loss 0.0005600881\n"
     ]
    },
    {
     "name": "stderr",
     "output_type": "stream",
     "text": [
      "\r",
      " 46%|████▌     | 46/100 [06:52<08:21,  9.29s/it]"
     ]
    },
    {
     "name": "stdout",
     "output_type": "stream",
     "text": [
      "No interaction MI: Loss 0.0010033436\n"
     ]
    },
    {
     "name": "stderr",
     "output_type": "stream",
     "text": [
      "\r",
      " 47%|████▋     | 47/100 [07:02<08:14,  9.33s/it]"
     ]
    },
    {
     "name": "stdout",
     "output_type": "stream",
     "text": [
      "No interaction MI: Loss 0.0009187348\n"
     ]
    },
    {
     "name": "stderr",
     "output_type": "stream",
     "text": [
      "\r",
      " 48%|████▊     | 48/100 [07:11<08:02,  9.27s/it]"
     ]
    },
    {
     "name": "stdout",
     "output_type": "stream",
     "text": [
      "No interaction MI: Loss 0.0007217992\n"
     ]
    },
    {
     "name": "stderr",
     "output_type": "stream",
     "text": [
      "\r",
      " 49%|████▉     | 49/100 [07:20<07:52,  9.26s/it]"
     ]
    },
    {
     "name": "stdout",
     "output_type": "stream",
     "text": [
      "No interaction MI: Loss 0.00084428117\n"
     ]
    },
    {
     "name": "stderr",
     "output_type": "stream",
     "text": [
      "\r",
      " 50%|█████     | 50/100 [07:29<07:45,  9.32s/it]"
     ]
    },
    {
     "name": "stdout",
     "output_type": "stream",
     "text": [
      "No interaction MI: Loss 0.0012327265\n"
     ]
    },
    {
     "name": "stderr",
     "output_type": "stream",
     "text": [
      "\r",
      " 51%|█████     | 51/100 [07:39<07:34,  9.28s/it]"
     ]
    },
    {
     "name": "stdout",
     "output_type": "stream",
     "text": [
      "No interaction MI: Loss 0.00075898133\n"
     ]
    },
    {
     "name": "stderr",
     "output_type": "stream",
     "text": [
      "\r",
      " 52%|█████▏    | 52/100 [07:48<07:25,  9.28s/it]"
     ]
    },
    {
     "name": "stdout",
     "output_type": "stream",
     "text": [
      "No interaction MI: Loss 0.00091532804\n"
     ]
    },
    {
     "name": "stderr",
     "output_type": "stream",
     "text": [
      "\r",
      " 53%|█████▎    | 53/100 [07:57<07:15,  9.26s/it]"
     ]
    },
    {
     "name": "stdout",
     "output_type": "stream",
     "text": [
      "No interaction MI: Loss 0.0012499113\n"
     ]
    },
    {
     "name": "stderr",
     "output_type": "stream",
     "text": [
      "\r",
      " 54%|█████▍    | 54/100 [08:06<07:06,  9.28s/it]"
     ]
    },
    {
     "name": "stdout",
     "output_type": "stream",
     "text": [
      "No interaction MI: Loss 0.0011884831\n"
     ]
    },
    {
     "name": "stderr",
     "output_type": "stream",
     "text": [
      "\r",
      " 55%|█████▌    | 55/100 [08:16<06:55,  9.23s/it]"
     ]
    },
    {
     "name": "stdout",
     "output_type": "stream",
     "text": [
      "No interaction MI: Loss 0.0007104557\n"
     ]
    },
    {
     "name": "stderr",
     "output_type": "stream",
     "text": [
      "\r",
      " 56%|█████▌    | 56/100 [08:25<06:46,  9.25s/it]"
     ]
    },
    {
     "name": "stdout",
     "output_type": "stream",
     "text": [
      "No interaction MI: Loss 0.0008182619\n"
     ]
    },
    {
     "name": "stderr",
     "output_type": "stream",
     "text": [
      "\r",
      " 57%|█████▋    | 57/100 [08:34<06:39,  9.28s/it]"
     ]
    },
    {
     "name": "stdout",
     "output_type": "stream",
     "text": [
      "No interaction MI: Loss 0.00088130124\n"
     ]
    },
    {
     "name": "stderr",
     "output_type": "stream",
     "text": [
      "\r",
      " 58%|█████▊    | 58/100 [08:43<06:28,  9.25s/it]"
     ]
    },
    {
     "name": "stdout",
     "output_type": "stream",
     "text": [
      "No interaction MI: Loss 0.00095279515\n"
     ]
    },
    {
     "name": "stderr",
     "output_type": "stream",
     "text": [
      "\r",
      " 59%|█████▉    | 59/100 [08:53<06:19,  9.25s/it]"
     ]
    },
    {
     "name": "stdout",
     "output_type": "stream",
     "text": [
      "No interaction MI: Loss 0.0012682527\n"
     ]
    },
    {
     "name": "stderr",
     "output_type": "stream",
     "text": [
      "\r",
      " 60%|██████    | 60/100 [09:02<06:12,  9.31s/it]"
     ]
    },
    {
     "name": "stdout",
     "output_type": "stream",
     "text": [
      "No interaction MI: Loss 0.0006467905\n"
     ]
    },
    {
     "name": "stderr",
     "output_type": "stream",
     "text": [
      "\r",
      " 61%|██████    | 61/100 [09:11<06:00,  9.25s/it]"
     ]
    },
    {
     "name": "stdout",
     "output_type": "stream",
     "text": [
      "No interaction MI: Loss 0.0008542724\n"
     ]
    },
    {
     "name": "stderr",
     "output_type": "stream",
     "text": [
      "\r",
      " 62%|██████▏   | 62/100 [09:20<05:52,  9.27s/it]"
     ]
    },
    {
     "name": "stdout",
     "output_type": "stream",
     "text": [
      "No interaction MI: Loss 0.0008967221\n"
     ]
    },
    {
     "name": "stderr",
     "output_type": "stream",
     "text": [
      "\r",
      " 63%|██████▎   | 63/100 [09:30<05:44,  9.32s/it]"
     ]
    },
    {
     "name": "stdout",
     "output_type": "stream",
     "text": [
      "No interaction MI: Loss 0.0012221206\n"
     ]
    },
    {
     "name": "stderr",
     "output_type": "stream",
     "text": [
      "\r",
      " 64%|██████▍   | 64/100 [09:39<05:33,  9.27s/it]"
     ]
    },
    {
     "name": "stdout",
     "output_type": "stream",
     "text": [
      "No interaction MI: Loss 0.00083648786\n"
     ]
    },
    {
     "name": "stderr",
     "output_type": "stream",
     "text": [
      "\r",
      " 65%|██████▌   | 65/100 [09:48<05:24,  9.26s/it]"
     ]
    },
    {
     "name": "stdout",
     "output_type": "stream",
     "text": [
      "No interaction MI: Loss 0.0009782072\n"
     ]
    },
    {
     "name": "stderr",
     "output_type": "stream",
     "text": [
      "\r",
      " 66%|██████▌   | 66/100 [09:58<05:15,  9.29s/it]"
     ]
    },
    {
     "name": "stdout",
     "output_type": "stream",
     "text": [
      "No interaction MI: Loss 0.00071375817\n"
     ]
    },
    {
     "name": "stderr",
     "output_type": "stream",
     "text": [
      "\r",
      " 67%|██████▋   | 67/100 [10:07<05:05,  9.27s/it]"
     ]
    },
    {
     "name": "stdout",
     "output_type": "stream",
     "text": [
      "No interaction MI: Loss 0.001056971\n"
     ]
    },
    {
     "name": "stderr",
     "output_type": "stream",
     "text": [
      "\r",
      " 68%|██████▊   | 68/100 [10:16<04:57,  9.30s/it]"
     ]
    },
    {
     "name": "stdout",
     "output_type": "stream",
     "text": [
      "No interaction MI: Loss 0.00071725994\n"
     ]
    },
    {
     "name": "stderr",
     "output_type": "stream",
     "text": [
      "\r",
      " 69%|██████▉   | 69/100 [10:25<04:47,  9.28s/it]"
     ]
    },
    {
     "name": "stdout",
     "output_type": "stream",
     "text": [
      "No interaction MI: Loss 0.0010700952\n"
     ]
    },
    {
     "name": "stderr",
     "output_type": "stream",
     "text": [
      "\r",
      " 70%|███████   | 70/100 [10:35<04:40,  9.34s/it]"
     ]
    },
    {
     "name": "stdout",
     "output_type": "stream",
     "text": [
      "No interaction MI: Loss 0.0011492968\n"
     ]
    },
    {
     "name": "stderr",
     "output_type": "stream",
     "text": [
      "\r",
      " 71%|███████   | 71/100 [10:44<04:28,  9.26s/it]"
     ]
    },
    {
     "name": "stdout",
     "output_type": "stream",
     "text": [
      "No interaction MI: Loss 0.0004730206\n"
     ]
    },
    {
     "name": "stderr",
     "output_type": "stream",
     "text": [
      "\r",
      " 72%|███████▏  | 72/100 [10:53<04:18,  9.22s/it]"
     ]
    },
    {
     "name": "stdout",
     "output_type": "stream",
     "text": [
      "No interaction MI: Loss 0.0006664526\n"
     ]
    },
    {
     "name": "stderr",
     "output_type": "stream",
     "text": [
      "\r",
      " 73%|███████▎  | 73/100 [11:02<04:09,  9.26s/it]"
     ]
    },
    {
     "name": "stdout",
     "output_type": "stream",
     "text": [
      "No interaction MI: Loss 0.0006780457\n"
     ]
    },
    {
     "name": "stderr",
     "output_type": "stream",
     "text": [
      "\r",
      " 74%|███████▍  | 74/100 [11:12<04:00,  9.23s/it]"
     ]
    },
    {
     "name": "stdout",
     "output_type": "stream",
     "text": [
      "No interaction MI: Loss 0.0007652845\n"
     ]
    },
    {
     "name": "stderr",
     "output_type": "stream",
     "text": [
      "\r",
      " 75%|███████▌  | 75/100 [11:21<03:51,  9.25s/it]"
     ]
    },
    {
     "name": "stdout",
     "output_type": "stream",
     "text": [
      "No interaction MI: Loss 0.00090928935\n"
     ]
    },
    {
     "name": "stderr",
     "output_type": "stream",
     "text": [
      "\r",
      " 76%|███████▌  | 76/100 [11:31<03:44,  9.35s/it]"
     ]
    },
    {
     "name": "stdout",
     "output_type": "stream",
     "text": [
      "No interaction MI: Loss 0.0012036245\n"
     ]
    },
    {
     "name": "stderr",
     "output_type": "stream",
     "text": [
      "\r",
      " 77%|███████▋  | 77/100 [11:40<03:36,  9.41s/it]"
     ]
    },
    {
     "name": "stdout",
     "output_type": "stream",
     "text": [
      "No interaction MI: Loss 0.00093575753\n"
     ]
    },
    {
     "name": "stderr",
     "output_type": "stream",
     "text": [
      "\r",
      " 78%|███████▊  | 78/100 [11:49<03:25,  9.33s/it]"
     ]
    },
    {
     "name": "stdout",
     "output_type": "stream",
     "text": [
      "No interaction MI: Loss 0.00084299967\n"
     ]
    },
    {
     "name": "stderr",
     "output_type": "stream",
     "text": [
      "\r",
      " 79%|███████▉  | 79/100 [11:58<03:14,  9.28s/it]"
     ]
    },
    {
     "name": "stdout",
     "output_type": "stream",
     "text": [
      "No interaction MI: Loss 0.0012761243\n"
     ]
    },
    {
     "name": "stderr",
     "output_type": "stream",
     "text": [
      "\r",
      " 80%|████████  | 80/100 [12:08<03:06,  9.32s/it]"
     ]
    },
    {
     "name": "stdout",
     "output_type": "stream",
     "text": [
      "No interaction MI: Loss 0.0015273821\n"
     ]
    },
    {
     "name": "stderr",
     "output_type": "stream",
     "text": [
      "\r",
      " 81%|████████  | 81/100 [12:17<02:56,  9.31s/it]"
     ]
    },
    {
     "name": "stdout",
     "output_type": "stream",
     "text": [
      "No interaction MI: Loss 0.00066546723\n"
     ]
    },
    {
     "name": "stderr",
     "output_type": "stream",
     "text": [
      "\r",
      " 82%|████████▏ | 82/100 [12:26<02:47,  9.30s/it]"
     ]
    },
    {
     "name": "stdout",
     "output_type": "stream",
     "text": [
      "No interaction MI: Loss 0.00062205456\n"
     ]
    },
    {
     "name": "stderr",
     "output_type": "stream",
     "text": [
      "\r",
      " 83%|████████▎ | 83/100 [12:36<02:37,  9.25s/it]"
     ]
    },
    {
     "name": "stdout",
     "output_type": "stream",
     "text": [
      "No interaction MI: Loss 0.0008448381\n"
     ]
    },
    {
     "name": "stderr",
     "output_type": "stream",
     "text": [
      "\r",
      " 84%|████████▍ | 84/100 [12:45<02:27,  9.23s/it]"
     ]
    },
    {
     "name": "stdout",
     "output_type": "stream",
     "text": [
      "No interaction MI: Loss 0.0006670449\n"
     ]
    },
    {
     "name": "stderr",
     "output_type": "stream",
     "text": [
      "\r",
      " 85%|████████▌ | 85/100 [12:54<02:18,  9.21s/it]"
     ]
    },
    {
     "name": "stdout",
     "output_type": "stream",
     "text": [
      "No interaction MI: Loss 0.00056129135\n"
     ]
    },
    {
     "name": "stderr",
     "output_type": "stream",
     "text": [
      "\r",
      " 86%|████████▌ | 86/100 [13:03<02:09,  9.24s/it]"
     ]
    },
    {
     "name": "stdout",
     "output_type": "stream",
     "text": [
      "No interaction MI: Loss 0.0008078478\n"
     ]
    },
    {
     "name": "stderr",
     "output_type": "stream",
     "text": [
      "\r",
      " 87%|████████▋ | 87/100 [13:12<01:59,  9.22s/it]"
     ]
    },
    {
     "name": "stdout",
     "output_type": "stream",
     "text": [
      "No interaction MI: Loss 0.0012504961\n"
     ]
    },
    {
     "name": "stderr",
     "output_type": "stream",
     "text": [
      "\r",
      " 88%|████████▊ | 88/100 [13:22<01:50,  9.25s/it]"
     ]
    },
    {
     "name": "stdout",
     "output_type": "stream",
     "text": [
      "No interaction MI: Loss 0.0012835786\n"
     ]
    },
    {
     "name": "stderr",
     "output_type": "stream",
     "text": [
      "\r",
      " 89%|████████▉ | 89/100 [13:31<01:42,  9.28s/it]"
     ]
    },
    {
     "name": "stdout",
     "output_type": "stream",
     "text": [
      "No interaction MI: Loss 0.00062575005\n"
     ]
    },
    {
     "name": "stderr",
     "output_type": "stream",
     "text": [
      "\r",
      " 90%|█████████ | 90/100 [13:41<01:33,  9.35s/it]"
     ]
    },
    {
     "name": "stdout",
     "output_type": "stream",
     "text": [
      "No interaction MI: Loss 0.00053877383\n"
     ]
    },
    {
     "name": "stderr",
     "output_type": "stream",
     "text": [
      "\r",
      " 91%|█████████ | 91/100 [13:50<01:24,  9.35s/it]"
     ]
    },
    {
     "name": "stdout",
     "output_type": "stream",
     "text": [
      "No interaction MI: Loss 0.00091586076\n"
     ]
    },
    {
     "name": "stderr",
     "output_type": "stream",
     "text": [
      "\r",
      " 92%|█████████▏| 92/100 [13:59<01:14,  9.32s/it]"
     ]
    },
    {
     "name": "stdout",
     "output_type": "stream",
     "text": [
      "No interaction MI: Loss 0.0011179298\n"
     ]
    },
    {
     "name": "stderr",
     "output_type": "stream",
     "text": [
      "\r",
      " 93%|█████████▎| 93/100 [14:08<01:05,  9.31s/it]"
     ]
    },
    {
     "name": "stdout",
     "output_type": "stream",
     "text": [
      "No interaction MI: Loss 0.00071695074\n"
     ]
    },
    {
     "name": "stderr",
     "output_type": "stream",
     "text": [
      "\r",
      " 94%|█████████▍| 94/100 [14:18<00:55,  9.33s/it]"
     ]
    },
    {
     "name": "stdout",
     "output_type": "stream",
     "text": [
      "No interaction MI: Loss 0.000880491\n"
     ]
    },
    {
     "name": "stderr",
     "output_type": "stream",
     "text": [
      "\r",
      " 95%|█████████▌| 95/100 [14:27<00:46,  9.31s/it]"
     ]
    },
    {
     "name": "stdout",
     "output_type": "stream",
     "text": [
      "No interaction MI: Loss 0.00071799755\n"
     ]
    },
    {
     "name": "stderr",
     "output_type": "stream",
     "text": [
      "\r",
      " 96%|█████████▌| 96/100 [14:36<00:37,  9.29s/it]"
     ]
    },
    {
     "name": "stdout",
     "output_type": "stream",
     "text": [
      "No interaction MI: Loss 0.00078080967\n"
     ]
    },
    {
     "name": "stderr",
     "output_type": "stream",
     "text": [
      "\r",
      " 97%|█████████▋| 97/100 [14:46<00:28,  9.34s/it]"
     ]
    },
    {
     "name": "stdout",
     "output_type": "stream",
     "text": [
      "No interaction MI: Loss 0.0005612541\n"
     ]
    },
    {
     "name": "stderr",
     "output_type": "stream",
     "text": [
      "\r",
      " 98%|█████████▊| 98/100 [14:55<00:18,  9.31s/it]"
     ]
    },
    {
     "name": "stdout",
     "output_type": "stream",
     "text": [
      "No interaction MI: Loss 0.0011970364\n"
     ]
    },
    {
     "name": "stderr",
     "output_type": "stream",
     "text": [
      "\r",
      " 99%|█████████▉| 99/100 [15:04<00:09,  9.32s/it]"
     ]
    },
    {
     "name": "stdout",
     "output_type": "stream",
     "text": [
      "No interaction MI: Loss 0.0010131188\n"
     ]
    },
    {
     "name": "stderr",
     "output_type": "stream",
     "text": [
      "100%|██████████| 100/100 [15:14<00:00,  9.14s/it]"
     ]
    },
    {
     "name": "stdout",
     "output_type": "stream",
     "text": [
      "No interaction MI: Loss 0.00062070414\n"
     ]
    },
    {
     "name": "stderr",
     "output_type": "stream",
     "text": [
      "\n"
     ]
    }
   ],
   "source": [
    "from glob import glob\n",
    "import matplotlib.pyplot as plt\n",
    "from tqdm import tqdm\n",
    "import numpy as np\n",
    "arrs = []\n",
    "# for arr in tqdm(glob(\"../data_2187_1571810501/*\")[2500:5000]):\n",
    "#     z = np.load(arr)['arr_0']\n",
    "#     x, y = np.random.randint(2187, size=2)\n",
    "#     z = np.pad(z, pad_width=27, mode='wrap')[x:(x+27), y:(y+27)]\n",
    "#     arrs.append(z)\n",
    "# arrs = np.stack(arrs)\n",
    "\n",
    "arrs = np.load(\"./ising27x27from2187x2187.npy\")[:, None, :, :]\n",
    "arrs = np.pad(arrs, [(0, 0), (0, 0), (9, 9), (9, 9)], mode='wrap') \n",
    "\n",
    "import torch\n",
    "from torch.autograd import Variable\n",
    "import torch.nn as nn\n",
    "import torch.nn.functional as F\n",
    "S=9\n",
    "H=15\n",
    "n_epoch = 100\n",
    "data_size = 20000\n",
    "def pad_circular(x, pad):\n",
    "    \"\"\"\n",
    "    function inspired by https://github.com/pytorch/pytorch/issues/3858\n",
    "    :param x: shape [H, W]\n",
    "    :param pad: int >= 0\n",
    "    :return:\n",
    "    \"\"\"\n",
    "    x = torch.cat([x, x[:, 0:pad, :]], dim=1)\n",
    "    x = torch.cat([x, x[:, :, 0:pad]], dim=2)\n",
    "    x = torch.cat([x[:, -2 * pad:-pad, :], x], dim=1)\n",
    "    x = torch.cat([x[:, :, -2 * pad:-pad], x], dim=2)\n",
    "\n",
    "    return x\n",
    "\n",
    "class Net(nn.Module):\n",
    "    def __init__(self, out_channels = 1, filter_size = 3):\n",
    "        super(Net, self).__init__()\n",
    "        self.first_channel_MI_net = [nn.Linear(1, S), nn.Linear(S, S), nn.Linear(S, H), \n",
    "                                nn.Linear(1, S), nn.Linear(S, S), nn.Linear(S, H), nn.Linear(H, 1)]\n",
    "        self.second_channel_MI_net = [nn.Linear(1, S), nn.Linear(S, S), nn.Linear(S, H), \n",
    "                                 nn.Linear(1, S), nn.Linear(S, S), nn.Linear(S, H), nn.Linear(H, 1)]\n",
    "        self.interaction_channel_MI_net = [nn.Linear(1, S), nn.Linear(S, S), nn.Linear(S, H), \n",
    "                                      nn.Linear(1, S), nn.Linear(S, S), nn.Linear(S, H), nn.Linear(H, 1)]\n",
    "\n",
    "        \n",
    "        self.conv1 = nn.Conv2d(1, out_channels, filter_size, padding=0, stride = filter_size)\n",
    "        \n",
    "        \n",
    "    def MI_net(self, x, y, channel_MI_net):\n",
    "        self.x_fc1, self.x_fc2, self.x_fc3, self.y_fc1, self.y_fc2, self.y_fc3, self.fc3 = channel_MI_net\n",
    "        inter_x = F.relu(self.x_fc1(x))\n",
    "        inter_x = inter_x + F.relu(self.x_fc2(inter_x))\n",
    "        inter_x = self.x_fc3(inter_x)\n",
    "        \n",
    "        inter_y = F.relu(self.y_fc1(y))\n",
    "        inter_y = inter_y + F.relu(self.y_fc2(inter_y))\n",
    "        inter_y = self.y_fc3(inter_y)\n",
    "        \n",
    "        \n",
    "        h1 = F.relu(inter_x + inter_y)\n",
    "        h2 = self.fc3(h1)\n",
    "        return h2  \n",
    "    \n",
    "    def compute_channel_MI(self, channel_rectangle, channel_MI_net):\n",
    "        # separate rectangle into 2 patches of shape 3x3 \n",
    "        patch1 = channel_rectangle[:, 0].reshape(-1, 1)\n",
    "        patch2 = channel_rectangle[:, 1].reshape(-1, 1)\n",
    "        patch2_shuffled = patch2[torch.randperm(patch2.shape[0])]\n",
    "        \n",
    "        # compute MI of channel\n",
    "        pred_xy = self.MI_net(patch1, patch2, channel_MI_net)\n",
    "        pred_x_y = self.MI_net(patch1, patch2_shuffled, channel_MI_net)\n",
    "        MI = torch.mean(pred_xy) - torch.log(torch.mean(torch.exp(pred_x_y)))\n",
    "        return MI\n",
    "    \n",
    "    def forward(self, x):\n",
    "        # get 9x9 model from 27x27 data: random crop\n",
    "        i, j = np.random.randint(9, size = 2) \n",
    "        x = x[:, :, i:(i+9),j:(j+9)]\n",
    "        \n",
    "        # coarse grain 9x9 model to get 3x3 model\n",
    "        x = (self.conv1(x))\n",
    "        channel0_rectangle = []\n",
    "        channel1_rectangle = []\n",
    "        # get a random 1x2 rectangle\n",
    "        for data in x:\n",
    "            i, j = np.random.randint(3, size = 2) \n",
    "            channels = pad_circular(data, 2)[:, i, j:(j+2)]\n",
    "            channel0_rectangle.append(channels[0] )\n",
    "            channel1_rectangle.append(channels[1] )\n",
    "        channel0_rectangle = torch.stack(channel0_rectangle)\n",
    "        channel1_rectangle = torch.stack(channel1_rectangle)\n",
    "        first_channel_MI = self.compute_channel_MI(channel0_rectangle, self.first_channel_MI_net)\n",
    "        second_channel_MI = self.compute_channel_MI(channel1_rectangle, self.second_channel_MI_net)\n",
    "#         v = torch.cat([channel0_rectangle[:, 0].reshape(-1, 1), channel1_rectangle[:, 0].reshape(-1, 1)], dim=1)\n",
    "#         print(v.shape)\n",
    "#         interaction_rectangle = torch.cat([channel0_rectangle[:, 0], channel1_rectangle[:, 0]], dim=1)\n",
    "#         print(channel0_rectangle[:, 0])\n",
    "#         print(channel1_rectangle[:, 0])\n",
    "#         print(interaction_rectangle)\n",
    "#         first_second_channel_MI = self.compute_channel_MI(interaction_rectangle, interaction_channel_MI_net)\n",
    "        \n",
    "        \n",
    "        \n",
    "        return -(first_channel_MI + second_channel_MI)\n",
    "        \n",
    "class IsingDataset(torch.utils.data.Dataset):\n",
    "    'Characterizes a dataset for PyTorch'\n",
    "    def __init__(self, arrs):\n",
    "        'Initialization'\n",
    "        self.arrs = torch.Tensor(arrs)\n",
    "\n",
    "    def __len__(self):\n",
    "        'Denotes the total number of samples'\n",
    "        return len(self.arrs)\n",
    "\n",
    "    def __getitem__(self, index):\n",
    "        'Generates one sample of data'\n",
    "        # Select sample\n",
    "        return self.arrs[index] \n",
    "    \n",
    "# Generators\n",
    "# Parameters\n",
    "params = {'batch_size': 256*4,\n",
    "          'shuffle': True,\n",
    "          'num_workers': 6}\n",
    "training_set = IsingDataset(arrs)\n",
    "training_generator = torch.utils.data.DataLoader(training_set, **params)\n",
    "\n",
    "model = Net(out_channels = 2)\n",
    "optimizer = torch.optim.SGD(model.parameters(), lr=0.002, momentum=0.9)\n",
    "plot_loss = []\n",
    "for epoch in tqdm(range(n_epoch)):\n",
    "    \n",
    "    for batch_id, x in enumerate(training_generator):\n",
    "        loss = model(x)\n",
    "        plot_loss.append(loss.data.numpy())\n",
    "        model.zero_grad()\n",
    "        loss.backward()\n",
    "        optimizer.step()\n",
    "    print(\"No interaction MI: Loss\", loss.data.numpy())\n",
    "\n",
    "        \n",
    "        \n",
    "        "
   ]
  },
  {
   "cell_type": "code",
   "execution_count": 6,
   "metadata": {},
   "outputs": [
    {
     "name": "stdout",
     "output_type": "stream",
     "text": [
      "Parameter containing:\n",
      "tensor([[[[ 0.3215,  0.1172, -0.1963],\n",
      "          [-0.0865,  0.2060,  0.2958],\n",
      "          [-0.2056, -0.0784, -0.2051]]],\n",
      "\n",
      "\n",
      "        [[[ 0.0890, -0.1398,  0.2501],\n",
      "          [ 0.1001, -0.1484,  0.2637],\n",
      "          [-0.2974, -0.2091, -0.0277]]]], requires_grad=True)\n",
      "Parameter containing:\n",
      "tensor([0.2827, 0.1990], requires_grad=True)\n",
      "Parameter containing:\n",
      "tensor([[ 0.4847],\n",
      "        [ 0.6630],\n",
      "        [-0.5311],\n",
      "        [ 0.2933],\n",
      "        [ 0.6452],\n",
      "        [ 0.9871],\n",
      "        [-0.5071],\n",
      "        [-0.6231],\n",
      "        [-0.6702]], requires_grad=True)\n",
      "Parameter containing:\n",
      "tensor([ 0.6844,  0.3854,  0.4396,  0.1202, -0.1184, -0.3358,  0.2033, -0.1880,\n",
      "         0.2205], requires_grad=True)\n",
      "Parameter containing:\n",
      "tensor([[ 0.1848, -0.0814,  0.1124, -0.1723,  0.2275,  0.0995, -0.2310,  0.0296,\n",
      "         -0.2039],\n",
      "        [ 0.0424,  0.2221,  0.0723, -0.1759,  0.2035, -0.3062, -0.0058, -0.2853,\n",
      "          0.0090],\n",
      "        [-0.2294, -0.0172, -0.1518, -0.1226, -0.2163,  0.0220,  0.2555,  0.0200,\n",
      "          0.0373],\n",
      "        [-0.1961, -0.1017,  0.2541, -0.1738,  0.2650, -0.0089,  0.3211, -0.0617,\n",
      "         -0.2817],\n",
      "        [-0.0487, -0.1400,  0.1346, -0.1108, -0.2732, -0.1828,  0.2662, -0.0914,\n",
      "         -0.1503],\n",
      "        [-0.0604, -0.0949, -0.1150, -0.1958, -0.1089, -0.2181,  0.0428,  0.0852,\n",
      "          0.1515],\n",
      "        [-0.1616,  0.1183,  0.0573, -0.1900,  0.3124, -0.0469, -0.1201,  0.2494,\n",
      "         -0.0796],\n",
      "        [-0.0475, -0.2924,  0.2865, -0.0174, -0.1209,  0.1219,  0.3308, -0.1239,\n",
      "         -0.1861],\n",
      "        [-0.0521, -0.2923, -0.1098, -0.1736,  0.2697,  0.2241, -0.2280, -0.2675,\n",
      "         -0.2707]], requires_grad=True)\n",
      "Parameter containing:\n",
      "tensor([-0.1882,  0.2326, -0.2910,  0.2431, -0.2421, -0.1432,  0.2428, -0.2547,\n",
      "         0.2692], requires_grad=True)\n",
      "Parameter containing:\n",
      "tensor([[-0.3026,  0.0383, -0.1123,  0.0203, -0.2290,  0.2603,  0.3096, -0.1482,\n",
      "          0.2667],\n",
      "        [ 0.1184,  0.0835, -0.2648,  0.1859,  0.0132,  0.1820, -0.0580, -0.0092,\n",
      "          0.2724],\n",
      "        [-0.2622, -0.0185,  0.3104,  0.0439,  0.1391,  0.1722,  0.2569,  0.3303,\n",
      "         -0.1278],\n",
      "        [-0.1608,  0.0061,  0.0682,  0.1057, -0.0810,  0.2755, -0.0812, -0.3050,\n",
      "         -0.1417],\n",
      "        [-0.1780,  0.0036,  0.2075,  0.2943, -0.0381, -0.1171,  0.2971,  0.1200,\n",
      "         -0.2109],\n",
      "        [ 0.2279, -0.1157,  0.3131, -0.0790,  0.0127, -0.1375,  0.2438,  0.2291,\n",
      "         -0.0457],\n",
      "        [-0.1042, -0.1364, -0.1325, -0.0725,  0.2286, -0.3015,  0.0424, -0.2903,\n",
      "          0.3065],\n",
      "        [ 0.1838,  0.1795, -0.0835, -0.1116,  0.2499,  0.2615, -0.2207, -0.2391,\n",
      "         -0.2815],\n",
      "        [ 0.1446,  0.3204,  0.1825,  0.0407, -0.1794,  0.2439, -0.3140,  0.0106,\n",
      "          0.2948],\n",
      "        [-0.0827, -0.1454, -0.1727, -0.0025,  0.2313,  0.2009,  0.2787,  0.0467,\n",
      "         -0.0052],\n",
      "        [-0.0317,  0.2685,  0.1657,  0.2269,  0.1200,  0.0374,  0.3276,  0.2090,\n",
      "          0.0019],\n",
      "        [ 0.3193, -0.0595, -0.2993,  0.2044,  0.2445, -0.2868, -0.3249, -0.1469,\n",
      "         -0.0098],\n",
      "        [-0.1830,  0.1759,  0.2950,  0.0205, -0.2149, -0.2663, -0.2889,  0.3013,\n",
      "          0.3055],\n",
      "        [ 0.2114,  0.1901,  0.0779,  0.3122, -0.1185,  0.3096,  0.1912,  0.1675,\n",
      "         -0.1156],\n",
      "        [-0.0420,  0.2996,  0.0019, -0.1210, -0.1298, -0.3331,  0.2728, -0.2752,\n",
      "          0.1401]], requires_grad=True)\n",
      "Parameter containing:\n",
      "tensor([ 0.1606,  0.2375,  0.0971, -0.2519,  0.1448,  0.1199,  0.2770,  0.0186,\n",
      "         0.2635, -0.0326,  0.2737, -0.0825, -0.0903, -0.0516, -0.2229],\n",
      "       requires_grad=True)\n",
      "Parameter containing:\n",
      "tensor([[ 0.1768],\n",
      "        [-0.0313],\n",
      "        [-0.4377],\n",
      "        [-0.8697],\n",
      "        [-0.2024],\n",
      "        [ 0.6123],\n",
      "        [-0.1084],\n",
      "        [ 0.7363],\n",
      "        [ 0.3943]], requires_grad=True)\n",
      "Parameter containing:\n",
      "tensor([ 0.1488, -0.0523, -0.6456,  0.1900, -0.5908,  0.2664,  0.7625, -0.2393,\n",
      "        -0.1717], requires_grad=True)\n",
      "Parameter containing:\n",
      "tensor([[ 0.2548,  0.0652,  0.2389,  0.0711, -0.1795, -0.0248, -0.1906, -0.2842,\n",
      "          0.1724],\n",
      "        [-0.1267,  0.3135, -0.0917, -0.3254, -0.2742, -0.0822,  0.2305, -0.1793,\n",
      "          0.0427],\n",
      "        [ 0.0888, -0.1546, -0.3321,  0.0537, -0.1441,  0.2554, -0.1553, -0.1904,\n",
      "          0.2445],\n",
      "        [-0.0452,  0.1806, -0.0315, -0.0175, -0.1814, -0.2649,  0.2146, -0.1319,\n",
      "          0.0068],\n",
      "        [ 0.1909,  0.2655,  0.1800, -0.0031, -0.3298,  0.0610,  0.1754,  0.1606,\n",
      "          0.0670],\n",
      "        [-0.1971, -0.1834,  0.0542, -0.2635, -0.0992, -0.0657, -0.3125,  0.0448,\n",
      "          0.2229],\n",
      "        [-0.1672,  0.2702, -0.2261, -0.3269, -0.2993, -0.2282,  0.3194,  0.2096,\n",
      "         -0.3149],\n",
      "        [-0.0414, -0.0209, -0.1193,  0.3015,  0.3158,  0.0826,  0.3139,  0.1597,\n",
      "          0.0068],\n",
      "        [-0.1532,  0.0593, -0.1795,  0.0856,  0.1539, -0.0361,  0.0433,  0.0197,\n",
      "          0.2240]], requires_grad=True)\n",
      "Parameter containing:\n",
      "tensor([-0.0084,  0.2703,  0.1536, -0.0865, -0.0956, -0.0989,  0.3062,  0.0550,\n",
      "        -0.1053], requires_grad=True)\n",
      "Parameter containing:\n",
      "tensor([[-0.3215, -0.3038, -0.0040, -0.2352, -0.0949, -0.0444, -0.0920,  0.0762,\n",
      "         -0.1323],\n",
      "        [ 0.0360, -0.0921,  0.2331,  0.0815, -0.2850,  0.1869,  0.0956, -0.0266,\n",
      "          0.0768],\n",
      "        [-0.0297,  0.0202,  0.0878, -0.1628,  0.1582,  0.1907,  0.3040, -0.2172,\n",
      "         -0.2812],\n",
      "        [ 0.0374, -0.2816, -0.3319, -0.2488,  0.0087,  0.0140,  0.3191, -0.2571,\n",
      "          0.1007],\n",
      "        [-0.0846, -0.2858,  0.2006,  0.1259, -0.0673,  0.3150, -0.1917,  0.2230,\n",
      "          0.1580],\n",
      "        [ 0.1157, -0.3266, -0.2842, -0.0031, -0.0754,  0.1723, -0.0184, -0.1649,\n",
      "          0.1013],\n",
      "        [-0.1770,  0.1263,  0.1402,  0.2890, -0.1471, -0.2326, -0.0319, -0.2204,\n",
      "          0.2954],\n",
      "        [ 0.2577, -0.1197, -0.3169,  0.1177, -0.2624,  0.2665, -0.0787,  0.1212,\n",
      "         -0.3328],\n",
      "        [-0.0134, -0.2275, -0.2289,  0.2679, -0.2439,  0.1669,  0.1322,  0.1007,\n",
      "         -0.2688],\n",
      "        [ 0.2056, -0.1059, -0.1028,  0.3290, -0.2341, -0.0906,  0.1678, -0.1416,\n",
      "          0.3044],\n",
      "        [ 0.0216, -0.0302,  0.1011, -0.2168,  0.2596, -0.3036,  0.1328, -0.2961,\n",
      "          0.2279],\n",
      "        [-0.2145, -0.1658,  0.0284, -0.1283,  0.1987,  0.1022,  0.0874,  0.0616,\n",
      "         -0.1490],\n",
      "        [-0.3018,  0.1537,  0.2880,  0.2879,  0.0127, -0.3116,  0.1863, -0.2600,\n",
      "          0.0527],\n",
      "        [-0.1866,  0.1695, -0.1977,  0.2061, -0.2762, -0.0603,  0.1725, -0.2403,\n",
      "          0.2829],\n",
      "        [-0.3150, -0.1789,  0.2946, -0.0475, -0.1840, -0.1860, -0.2690, -0.2872,\n",
      "         -0.3052]], requires_grad=True)\n",
      "Parameter containing:\n",
      "tensor([-0.2468, -0.3181,  0.2000, -0.1746,  0.2185,  0.2302, -0.2139, -0.2829,\n",
      "        -0.0281,  0.0501,  0.0708,  0.3135,  0.2287, -0.0651, -0.0854],\n",
      "       requires_grad=True)\n",
      "Parameter containing:\n",
      "tensor([[-0.2003,  0.1839, -0.0023, -0.0114, -0.2112, -0.0171, -0.0651,  0.1468,\n",
      "          0.2155,  0.0840, -0.1249,  0.1061, -0.0387, -0.0542, -0.0893]],\n",
      "       requires_grad=True)\n",
      "Parameter containing:\n",
      "tensor([0.2112], requires_grad=True)\n"
     ]
    }
   ],
   "source": [
    "for p in model.parameters():\n",
    "    print(p)"
   ]
  },
  {
   "cell_type": "code",
   "execution_count": 7,
   "metadata": {},
   "outputs": [
    {
     "data": {
      "text/plain": [
       "[<matplotlib.lines.Line2D at 0x11330b400>]"
      ]
     },
     "execution_count": 7,
     "metadata": {},
     "output_type": "execute_result"
    },
    {
     "data": {
      "image/png": "[encoded data removed]",
      "text/plain": [
       "<Figure size 432x288 with 1 Axes>"
      ]
     },
     "metadata": {
      "needs_background": "light"
     },
     "output_type": "display_data"
    }
   ],
   "source": [
    "plt.plot(plot_loss)"
   ]
  },
  {
   "cell_type": "code",
   "execution_count": null,
   "metadata": {},
   "outputs": [],
   "source": []
  }
 ],
 "metadata": {
  "kernelspec": {
   "display_name": "Python (Renormalization)",
   "language": "python",
   "name": "renormalization"
  },
  "language_info": {
   "codemirror_mode": {
    "name": "ipython",
    "version": 3
   },
   "file_extension": ".py",
   "mimetype": "text/x-python",
   "name": "python",
   "nbconvert_exporter": "python",
   "pygments_lexer": "ipython3",
   "version": "3.7.3"
  }
 },
 "nbformat": 4,
 "nbformat_minor": 2
}
